{
 "cells": [
  {
   "cell_type": "markdown",
   "metadata": {},
   "source": [
    "# Análisis y visualización de datos con python\n",
    "# 3. Limpieza de datos\n",
    "\n",
    "La limpieza de datos es el proceso de identificar, corregir o eliminar datos incorrectos, incompletos, irrelevantes o duplicados en un conjunto de datos. La limpieza de datos es importante para garantizar la precisión y la calidad de los datos y evitar errores en el análisis posterior. Algunas técnicas comunes de limpieza de datos incluyen la eliminación de valores atípicos, la eliminación de valores faltantes, la corrección de errores tipográficos y la eliminación de duplicados.\n",
    "\n",
    "Empezaremos cargando los datos."
   ]
  },
  {
   "cell_type": "code",
   "execution_count": 1,
   "metadata": {},
   "outputs": [
    {
     "data": {
      "text/html": [
       "<div>\n",
       "<style scoped>\n",
       "    .dataframe tbody tr th:only-of-type {\n",
       "        vertical-align: middle;\n",
       "    }\n",
       "\n",
       "    .dataframe tbody tr th {\n",
       "        vertical-align: top;\n",
       "    }\n",
       "\n",
       "    .dataframe thead th {\n",
       "        text-align: right;\n",
       "    }\n",
       "</style>\n",
       "<table border=\"1\" class=\"dataframe\">\n",
       "  <thead>\n",
       "    <tr style=\"text-align: right;\">\n",
       "      <th></th>\n",
       "      <th>Estado_origen</th>\n",
       "      <th>Municipio_origen</th>\n",
       "      <th>Panteón_origen</th>\n",
       "      <th>Estatus_FC</th>\n",
       "      <th>Fecha_inhumación</th>\n",
       "      <th>Fecha_defunción</th>\n",
       "      <th>Fecha_exhumación</th>\n",
       "      <th>Restos_tipo</th>\n",
       "      <th>Sexo</th>\n",
       "      <th>Edad</th>\n",
       "      <th>Conocido_Desconocido</th>\n",
       "      <th>Primer apellido</th>\n",
       "      <th>Segundo Apellido</th>\n",
       "      <th>Nombre(s)</th>\n",
       "      <th>Nombre completo</th>\n",
       "      <th>Institución_origen</th>\n",
       "      <th>Rdoc</th>\n",
       "      <th>Marca_temporal</th>\n",
       "      <th>Datos alternativos</th>\n",
       "    </tr>\n",
       "    <tr>\n",
       "      <th>ID</th>\n",
       "      <th></th>\n",
       "      <th></th>\n",
       "      <th></th>\n",
       "      <th></th>\n",
       "      <th></th>\n",
       "      <th></th>\n",
       "      <th></th>\n",
       "      <th></th>\n",
       "      <th></th>\n",
       "      <th></th>\n",
       "      <th></th>\n",
       "      <th></th>\n",
       "      <th></th>\n",
       "      <th></th>\n",
       "      <th></th>\n",
       "      <th></th>\n",
       "      <th></th>\n",
       "      <th></th>\n",
       "      <th></th>\n",
       "    </tr>\n",
       "  </thead>\n",
       "  <tbody>\n",
       "    <tr>\n",
       "      <th>XX-P001</th>\n",
       "      <td>Ciudad de México</td>\n",
       "      <td>Miguel Hidalgo</td>\n",
       "      <td>Panteón Civil de Dolores</td>\n",
       "      <td>Inhumación</td>\n",
       "      <td>2019-01-30</td>\n",
       "      <td>2018-03-04 00:00:00</td>\n",
       "      <td>NaT</td>\n",
       "      <td>Restos cremados</td>\n",
       "      <td>Masculino</td>\n",
       "      <td>55</td>\n",
       "      <td>Desconocido</td>\n",
       "      <td>NaN</td>\n",
       "      <td>NaN</td>\n",
       "      <td>NaN</td>\n",
       "      <td></td>\n",
       "      <td>UNIVERSIDAD WESTHILL - FACULTAD DE MEDICINA</td>\n",
       "      <td>Sí</td>\n",
       "      <td>2020-03-23</td>\n",
       "      <td>NaN</td>\n",
       "    </tr>\n",
       "    <tr>\n",
       "      <th>XX-P002</th>\n",
       "      <td>Ciudad de México</td>\n",
       "      <td>Miguel Hidalgo</td>\n",
       "      <td>Panteón Civil de Dolores</td>\n",
       "      <td>Inhumación</td>\n",
       "      <td>2019-01-26</td>\n",
       "      <td>2018-12-12 00:00:00</td>\n",
       "      <td>NaT</td>\n",
       "      <td>Cadáver</td>\n",
       "      <td>Masculino</td>\n",
       "      <td>NaN</td>\n",
       "      <td>Desconocido</td>\n",
       "      <td>NaN</td>\n",
       "      <td>NaN</td>\n",
       "      <td>NaN</td>\n",
       "      <td></td>\n",
       "      <td>INSTITUTO DE CIENCIAS FORENSES - TRIBUNAL SUPE...</td>\n",
       "      <td>Sí</td>\n",
       "      <td>2020-03-23</td>\n",
       "      <td>NaN</td>\n",
       "    </tr>\n",
       "    <tr>\n",
       "      <th>XX-P003</th>\n",
       "      <td>Ciudad de México</td>\n",
       "      <td>Miguel Hidalgo</td>\n",
       "      <td>Panteón Civil de Dolores</td>\n",
       "      <td>Inhumación</td>\n",
       "      <td>2019-01-26</td>\n",
       "      <td>2018-12-13 00:00:00</td>\n",
       "      <td>NaT</td>\n",
       "      <td>Cadáver</td>\n",
       "      <td>Masculino</td>\n",
       "      <td>NaN</td>\n",
       "      <td>Conocido</td>\n",
       "      <td>Cruz</td>\n",
       "      <td>Lucero</td>\n",
       "      <td>Alberto</td>\n",
       "      <td>Alberto Cruz Lucero</td>\n",
       "      <td>INSTITUTO DE CIENCIAS FORENSES - TRIBUNAL SUPE...</td>\n",
       "      <td>Sí</td>\n",
       "      <td>2020-03-23</td>\n",
       "      <td>NaN</td>\n",
       "    </tr>\n",
       "    <tr>\n",
       "      <th>XX-P004</th>\n",
       "      <td>Ciudad de México</td>\n",
       "      <td>Miguel Hidalgo</td>\n",
       "      <td>Panteón Civil de Dolores</td>\n",
       "      <td>Inhumación</td>\n",
       "      <td>2019-01-26</td>\n",
       "      <td>2018-12-14 00:00:00</td>\n",
       "      <td>NaT</td>\n",
       "      <td>Cadáver</td>\n",
       "      <td>Masculino</td>\n",
       "      <td>NaN</td>\n",
       "      <td>Desconocido</td>\n",
       "      <td>NaN</td>\n",
       "      <td>NaN</td>\n",
       "      <td>NaN</td>\n",
       "      <td></td>\n",
       "      <td>INSTITUTO DE CIENCIAS FORENSES - TRIBUNAL SUPE...</td>\n",
       "      <td>Sí</td>\n",
       "      <td>2020-03-23</td>\n",
       "      <td>NaN</td>\n",
       "    </tr>\n",
       "    <tr>\n",
       "      <th>XX-P005</th>\n",
       "      <td>Ciudad de México</td>\n",
       "      <td>Miguel Hidalgo</td>\n",
       "      <td>Panteón Civil de Dolores</td>\n",
       "      <td>Inhumación</td>\n",
       "      <td>2019-01-26</td>\n",
       "      <td>2018-12-18 00:00:00</td>\n",
       "      <td>NaT</td>\n",
       "      <td>Cadáver</td>\n",
       "      <td>Masculino</td>\n",
       "      <td>NaN</td>\n",
       "      <td>Desconocido</td>\n",
       "      <td>NaN</td>\n",
       "      <td>NaN</td>\n",
       "      <td>NaN</td>\n",
       "      <td></td>\n",
       "      <td>INSTITUTO DE CIENCIAS FORENSES - TRIBUNAL SUPE...</td>\n",
       "      <td>Sí</td>\n",
       "      <td>2020-03-23</td>\n",
       "      <td>NaN</td>\n",
       "    </tr>\n",
       "  </tbody>\n",
       "</table>\n",
       "</div>"
      ],
      "text/plain": [
       "            Estado_origen Municipio_origen            Panteón_origen  \\\n",
       "ID                                                                     \n",
       "XX-P001  Ciudad de México   Miguel Hidalgo  Panteón Civil de Dolores   \n",
       "XX-P002  Ciudad de México   Miguel Hidalgo  Panteón Civil de Dolores   \n",
       "XX-P003  Ciudad de México   Miguel Hidalgo  Panteón Civil de Dolores   \n",
       "XX-P004  Ciudad de México   Miguel Hidalgo  Panteón Civil de Dolores   \n",
       "XX-P005  Ciudad de México   Miguel Hidalgo  Panteón Civil de Dolores   \n",
       "\n",
       "         Estatus_FC Fecha_inhumación      Fecha_defunción Fecha_exhumación  \\\n",
       "ID                                                                           \n",
       "XX-P001  Inhumación       2019-01-30  2018-03-04 00:00:00              NaT   \n",
       "XX-P002  Inhumación       2019-01-26  2018-12-12 00:00:00              NaT   \n",
       "XX-P003  Inhumación       2019-01-26  2018-12-13 00:00:00              NaT   \n",
       "XX-P004  Inhumación       2019-01-26  2018-12-14 00:00:00              NaT   \n",
       "XX-P005  Inhumación       2019-01-26  2018-12-18 00:00:00              NaT   \n",
       "\n",
       "             Restos_tipo       Sexo Edad Conocido_Desconocido Primer apellido  \\\n",
       "ID                                                                              \n",
       "XX-P001  Restos cremados  Masculino   55          Desconocido             NaN   \n",
       "XX-P002          Cadáver  Masculino  NaN          Desconocido             NaN   \n",
       "XX-P003          Cadáver  Masculino  NaN             Conocido            Cruz   \n",
       "XX-P004          Cadáver  Masculino  NaN          Desconocido             NaN   \n",
       "XX-P005          Cadáver  Masculino  NaN          Desconocido             NaN   \n",
       "\n",
       "        Segundo Apellido Nombre(s)      Nombre completo  \\\n",
       "ID                                                        \n",
       "XX-P001              NaN       NaN                        \n",
       "XX-P002              NaN       NaN                        \n",
       "XX-P003           Lucero   Alberto  Alberto Cruz Lucero   \n",
       "XX-P004              NaN       NaN                        \n",
       "XX-P005              NaN       NaN                        \n",
       "\n",
       "                                        Institución_origen Rdoc  \\\n",
       "ID                                                                \n",
       "XX-P001        UNIVERSIDAD WESTHILL - FACULTAD DE MEDICINA   Sí   \n",
       "XX-P002  INSTITUTO DE CIENCIAS FORENSES - TRIBUNAL SUPE...   Sí   \n",
       "XX-P003  INSTITUTO DE CIENCIAS FORENSES - TRIBUNAL SUPE...   Sí   \n",
       "XX-P004  INSTITUTO DE CIENCIAS FORENSES - TRIBUNAL SUPE...   Sí   \n",
       "XX-P005  INSTITUTO DE CIENCIAS FORENSES - TRIBUNAL SUPE...   Sí   \n",
       "\n",
       "        Marca_temporal  Datos alternativos  \n",
       "ID                                          \n",
       "XX-P001     2020-03-23                 NaN  \n",
       "XX-P002     2020-03-23                 NaN  \n",
       "XX-P003     2020-03-23                 NaN  \n",
       "XX-P004     2020-03-23                 NaN  \n",
       "XX-P005     2020-03-23                 NaN  "
      ]
     },
     "execution_count": 1,
     "metadata": {},
     "output_type": "execute_result"
    }
   ],
   "source": [
    "import pandas as pd\n",
    "\n",
    "file_mfc = 'data_raw/Modulo-de-Fosas-Comunes_actualizacion24nov2022_VD.xlsx'\n",
    "df = pd.read_excel(file_mfc, sheet_name=\"MFC\", nrows=1000, index_col='ID' )\n",
    "df.head()"
   ]
  },
  {
   "cell_type": "markdown",
   "metadata": {},
   "source": [
    "Una consideración importante es si se modificara la columna original o se generará una columna nueva con los datos limpios. Qué opción se escoge depende de varios factores, cómo el tamaño de la tabla o si nos interesa conservar la información original. En este tutorial crearemos columnas nuevas para poder contrastar los cambios y al final quitaremos las que no nos interesen."
   ]
  },
  {
   "cell_type": "markdown",
   "metadata": {
    "tags": []
   },
   "source": [
    "## 3.1 Tipos de datos\n",
    "\n",
    "Cómo vimos anteriormente hay varios tipos de datos como: texto, númerico, fecha, etc.\n",
    "De manera automática pandas infiere el tipo de datos al leer el archivo, de una manera muy similar a como Excel interpreta si un dato es texto o numérico.\n",
    "\n",
    "Los tipos de datos de pandas son:\n",
    "* `object`: texto o mezcla de varios tipos de datos, este es el tipo de dato por defecto\n",
    "* `category`: información categórica, similar a Factors en R\n",
    "* `int64`: números enteros\n",
    "* `float64`: números con punto decimal\n",
    "* `bool`: valores verdadero o falso\n",
    "* `datetime64`: fechas\n",
    "* `timedelta[ns]`: diferencias de tiempo\n",
    "\n",
    "Podemos ver los tipos de datos inferidos usando la opción `.dtypes`."
   ]
  },
  {
   "cell_type": "code",
   "execution_count": 2,
   "metadata": {
    "tags": []
   },
   "outputs": [
    {
     "data": {
      "text/plain": [
       "Estado_origen                   object\n",
       "Municipio_origen                object\n",
       "Panteón_origen                  object\n",
       "Estatus_FC                      object\n",
       "Fecha_inhumación        datetime64[ns]\n",
       "Fecha_defunción                 object\n",
       "Fecha_exhumación        datetime64[ns]\n",
       "Restos_tipo                     object\n",
       "Sexo                            object\n",
       "Edad                            object\n",
       "Conocido_Desconocido            object\n",
       "Primer apellido                 object\n",
       "Segundo Apellido                object\n",
       "Nombre(s)                       object\n",
       "Nombre completo                 object\n",
       "Institución_origen              object\n",
       "Rdoc                            object\n",
       "Marca_temporal          datetime64[ns]\n",
       "Datos alternativos             float64\n",
       "dtype: object"
      ]
     },
     "execution_count": 2,
     "metadata": {},
     "output_type": "execute_result"
    }
   ],
   "source": [
    "df.dtypes"
   ]
  },
  {
   "cell_type": "markdown",
   "metadata": {},
   "source": [
    "Dependiendo del tipo de dato se pueden hacer diferentes operaciones y hay tipos de limpieza específica.\n",
    "\n",
    "Cómo vimos en la definición de datos ordenados o tidy data idealmente cada tabla tendrá solo datos de un tipo. Esto es para facilitar las operaciones. Si esto no es posible es importante que una columna o variable tenga datos de un solo tipo, ya que esto puede generar errores.\n",
    "\n",
    "Por ejemplo, si tratamos de obtener el promedio de las edades nos genera un error de `ValueError`, ya que hay valores de texto `str` y número `int` mezclados, además de datos faltantes."
   ]
  },
  {
   "cell_type": "code",
   "execution_count": 3,
   "metadata": {
    "tags": []
   },
   "outputs": [
    {
     "data": {
      "text/plain": [
       "array([55, nan, '19 semanas', '12 semanas', 31, 18, 39, 35, 74, 26,\n",
       "       '36 semanas', '15 semanas', 83, 89, 64, 78, 73, 81, 75, 60, 63, 27,\n",
       "       45, 40, 38, 25, 90, 42, 77, 70, 47, 32, '20 semanas', 76, 84, 87,\n",
       "       66, 68, 94, 71, 92, 49, 69, 50, 80, 28, 37, 30, 20, '<17',\n",
       "       '26 semanas', 34, 65, 86, 67, 58, 52, 85, '21 semanas',\n",
       "       '17.6 semanas', '9 semanas', '33 semanas', 46, 22, '26.8 semanas',\n",
       "       '22 semanas', 54, 33, 48, 53, 44, 57, 72, 41, 79, '29 semanas', 51,\n",
       "       82, '67-82', 88, 36, 96, 62, 91, '13 semanas', '5 semanas',\n",
       "       '11 semanas', '1 mes', '25 semanas', '26-32 semanas', '14 semanas',\n",
       "       15, '40 semanas', '24 semanas', 24, 29, 13, 6, '23 semanas', 101,\n",
       "       93, 59, 19, '13.7 semanas', 61, 97, '86-87', 95, 17, 16, 23, 21,\n",
       "       '18 semanas', 56, '30 semanas', 11, 5, '30-40', 1], dtype=object)"
      ]
     },
     "execution_count": 3,
     "metadata": {},
     "output_type": "execute_result"
    }
   ],
   "source": [
    "df['Edad'].unique()"
   ]
  },
  {
   "cell_type": "markdown",
   "metadata": {},
   "source": [
    "Existen varias formas de fijar el tipo de datos, una de ellas es usar la opción `dtype` al leer el dataframe. Esta opción puede recibir un solo tipo de datos o un diccionarió de tipos de datos.\n",
    "\n",
    "Por ejemplo, podemos leer toda la tabla cómo texto usando `dtype='str'`, lo cual obligará a ciertos tipos de datos como fechas o números a aparecer cómo texto. Hacer esto es una buena opción con los profiles iniciales cuando hay columnas que no se leen correctamente.\n",
    "\n",
    "También se puede pasar un diccionario marcando el tipo de datos de cada columna específicamente. Sin embargo, si los datos no están limpios se pueden generar errores de lectura. Esta opción es ideal ya que los datos están limpios"
   ]
  },
  {
   "cell_type": "code",
   "execution_count": 4,
   "metadata": {
    "tags": []
   },
   "outputs": [
    {
     "data": {
      "text/html": [
       "<div>\n",
       "<style scoped>\n",
       "    .dataframe tbody tr th:only-of-type {\n",
       "        vertical-align: middle;\n",
       "    }\n",
       "\n",
       "    .dataframe tbody tr th {\n",
       "        vertical-align: top;\n",
       "    }\n",
       "\n",
       "    .dataframe thead th {\n",
       "        text-align: right;\n",
       "    }\n",
       "</style>\n",
       "<table border=\"1\" class=\"dataframe\">\n",
       "  <thead>\n",
       "    <tr style=\"text-align: right;\">\n",
       "      <th></th>\n",
       "      <th>Estado_origen</th>\n",
       "      <th>Municipio_origen</th>\n",
       "      <th>Panteón_origen</th>\n",
       "      <th>Estatus_FC</th>\n",
       "      <th>Fecha_inhumación</th>\n",
       "      <th>Fecha_defunción</th>\n",
       "      <th>Fecha_exhumación</th>\n",
       "      <th>Restos_tipo</th>\n",
       "      <th>Sexo</th>\n",
       "      <th>Edad</th>\n",
       "      <th>Conocido_Desconocido</th>\n",
       "      <th>Primer apellido</th>\n",
       "      <th>Segundo Apellido</th>\n",
       "      <th>Nombre(s)</th>\n",
       "      <th>Nombre completo</th>\n",
       "      <th>Institución_origen</th>\n",
       "      <th>Rdoc</th>\n",
       "      <th>Marca_temporal</th>\n",
       "      <th>Datos alternativos</th>\n",
       "    </tr>\n",
       "    <tr>\n",
       "      <th>ID</th>\n",
       "      <th></th>\n",
       "      <th></th>\n",
       "      <th></th>\n",
       "      <th></th>\n",
       "      <th></th>\n",
       "      <th></th>\n",
       "      <th></th>\n",
       "      <th></th>\n",
       "      <th></th>\n",
       "      <th></th>\n",
       "      <th></th>\n",
       "      <th></th>\n",
       "      <th></th>\n",
       "      <th></th>\n",
       "      <th></th>\n",
       "      <th></th>\n",
       "      <th></th>\n",
       "      <th></th>\n",
       "      <th></th>\n",
       "    </tr>\n",
       "  </thead>\n",
       "  <tbody>\n",
       "    <tr>\n",
       "      <th>XX-P001</th>\n",
       "      <td>Ciudad de México</td>\n",
       "      <td>Miguel Hidalgo</td>\n",
       "      <td>Panteón Civil de Dolores</td>\n",
       "      <td>Inhumación</td>\n",
       "      <td>2019-01-30 00:00:00</td>\n",
       "      <td>2018-03-04 00:00:00</td>\n",
       "      <td>NaN</td>\n",
       "      <td>Restos cremados</td>\n",
       "      <td>Masculino</td>\n",
       "      <td>55</td>\n",
       "      <td>Desconocido</td>\n",
       "      <td>NaN</td>\n",
       "      <td>NaN</td>\n",
       "      <td>NaN</td>\n",
       "      <td></td>\n",
       "      <td>UNIVERSIDAD WESTHILL - FACULTAD DE MEDICINA</td>\n",
       "      <td>Sí</td>\n",
       "      <td>2020-03-23 00:00:00</td>\n",
       "      <td>NaN</td>\n",
       "    </tr>\n",
       "    <tr>\n",
       "      <th>XX-P002</th>\n",
       "      <td>Ciudad de México</td>\n",
       "      <td>Miguel Hidalgo</td>\n",
       "      <td>Panteón Civil de Dolores</td>\n",
       "      <td>Inhumación</td>\n",
       "      <td>2019-01-26 00:00:00</td>\n",
       "      <td>2018-12-12 00:00:00</td>\n",
       "      <td>NaN</td>\n",
       "      <td>Cadáver</td>\n",
       "      <td>Masculino</td>\n",
       "      <td>NaN</td>\n",
       "      <td>Desconocido</td>\n",
       "      <td>NaN</td>\n",
       "      <td>NaN</td>\n",
       "      <td>NaN</td>\n",
       "      <td></td>\n",
       "      <td>INSTITUTO DE CIENCIAS FORENSES - TRIBUNAL SUPE...</td>\n",
       "      <td>Sí</td>\n",
       "      <td>2020-03-23 00:00:00</td>\n",
       "      <td>NaN</td>\n",
       "    </tr>\n",
       "    <tr>\n",
       "      <th>XX-P003</th>\n",
       "      <td>Ciudad de México</td>\n",
       "      <td>Miguel Hidalgo</td>\n",
       "      <td>Panteón Civil de Dolores</td>\n",
       "      <td>Inhumación</td>\n",
       "      <td>2019-01-26 00:00:00</td>\n",
       "      <td>2018-12-13 00:00:00</td>\n",
       "      <td>NaN</td>\n",
       "      <td>Cadáver</td>\n",
       "      <td>Masculino</td>\n",
       "      <td>NaN</td>\n",
       "      <td>Conocido</td>\n",
       "      <td>Cruz</td>\n",
       "      <td>Lucero</td>\n",
       "      <td>Alberto</td>\n",
       "      <td>Alberto Cruz Lucero</td>\n",
       "      <td>INSTITUTO DE CIENCIAS FORENSES - TRIBUNAL SUPE...</td>\n",
       "      <td>Sí</td>\n",
       "      <td>2020-03-23 00:00:00</td>\n",
       "      <td>NaN</td>\n",
       "    </tr>\n",
       "    <tr>\n",
       "      <th>XX-P004</th>\n",
       "      <td>Ciudad de México</td>\n",
       "      <td>Miguel Hidalgo</td>\n",
       "      <td>Panteón Civil de Dolores</td>\n",
       "      <td>Inhumación</td>\n",
       "      <td>2019-01-26 00:00:00</td>\n",
       "      <td>2018-12-14 00:00:00</td>\n",
       "      <td>NaN</td>\n",
       "      <td>Cadáver</td>\n",
       "      <td>Masculino</td>\n",
       "      <td>NaN</td>\n",
       "      <td>Desconocido</td>\n",
       "      <td>NaN</td>\n",
       "      <td>NaN</td>\n",
       "      <td>NaN</td>\n",
       "      <td></td>\n",
       "      <td>INSTITUTO DE CIENCIAS FORENSES - TRIBUNAL SUPE...</td>\n",
       "      <td>Sí</td>\n",
       "      <td>2020-03-23 00:00:00</td>\n",
       "      <td>NaN</td>\n",
       "    </tr>\n",
       "    <tr>\n",
       "      <th>XX-P005</th>\n",
       "      <td>Ciudad de México</td>\n",
       "      <td>Miguel Hidalgo</td>\n",
       "      <td>Panteón Civil de Dolores</td>\n",
       "      <td>Inhumación</td>\n",
       "      <td>2019-01-26 00:00:00</td>\n",
       "      <td>2018-12-18 00:00:00</td>\n",
       "      <td>NaN</td>\n",
       "      <td>Cadáver</td>\n",
       "      <td>Masculino</td>\n",
       "      <td>NaN</td>\n",
       "      <td>Desconocido</td>\n",
       "      <td>NaN</td>\n",
       "      <td>NaN</td>\n",
       "      <td>NaN</td>\n",
       "      <td></td>\n",
       "      <td>INSTITUTO DE CIENCIAS FORENSES - TRIBUNAL SUPE...</td>\n",
       "      <td>Sí</td>\n",
       "      <td>2020-03-23 00:00:00</td>\n",
       "      <td>NaN</td>\n",
       "    </tr>\n",
       "  </tbody>\n",
       "</table>\n",
       "</div>"
      ],
      "text/plain": [
       "            Estado_origen Municipio_origen            Panteón_origen  \\\n",
       "ID                                                                     \n",
       "XX-P001  Ciudad de México   Miguel Hidalgo  Panteón Civil de Dolores   \n",
       "XX-P002  Ciudad de México   Miguel Hidalgo  Panteón Civil de Dolores   \n",
       "XX-P003  Ciudad de México   Miguel Hidalgo  Panteón Civil de Dolores   \n",
       "XX-P004  Ciudad de México   Miguel Hidalgo  Panteón Civil de Dolores   \n",
       "XX-P005  Ciudad de México   Miguel Hidalgo  Panteón Civil de Dolores   \n",
       "\n",
       "         Estatus_FC     Fecha_inhumación      Fecha_defunción  \\\n",
       "ID                                                              \n",
       "XX-P001  Inhumación  2019-01-30 00:00:00  2018-03-04 00:00:00   \n",
       "XX-P002  Inhumación  2019-01-26 00:00:00  2018-12-12 00:00:00   \n",
       "XX-P003  Inhumación  2019-01-26 00:00:00  2018-12-13 00:00:00   \n",
       "XX-P004  Inhumación  2019-01-26 00:00:00  2018-12-14 00:00:00   \n",
       "XX-P005  Inhumación  2019-01-26 00:00:00  2018-12-18 00:00:00   \n",
       "\n",
       "        Fecha_exhumación      Restos_tipo       Sexo Edad  \\\n",
       "ID                                                          \n",
       "XX-P001              NaN  Restos cremados  Masculino   55   \n",
       "XX-P002              NaN          Cadáver  Masculino  NaN   \n",
       "XX-P003              NaN          Cadáver  Masculino  NaN   \n",
       "XX-P004              NaN          Cadáver  Masculino  NaN   \n",
       "XX-P005              NaN          Cadáver  Masculino  NaN   \n",
       "\n",
       "        Conocido_Desconocido Primer apellido Segundo Apellido Nombre(s)  \\\n",
       "ID                                                                        \n",
       "XX-P001          Desconocido             NaN              NaN       NaN   \n",
       "XX-P002          Desconocido             NaN              NaN       NaN   \n",
       "XX-P003             Conocido            Cruz           Lucero   Alberto   \n",
       "XX-P004          Desconocido             NaN              NaN       NaN   \n",
       "XX-P005          Desconocido             NaN              NaN       NaN   \n",
       "\n",
       "             Nombre completo  \\\n",
       "ID                             \n",
       "XX-P001                        \n",
       "XX-P002                        \n",
       "XX-P003  Alberto Cruz Lucero   \n",
       "XX-P004                        \n",
       "XX-P005                        \n",
       "\n",
       "                                        Institución_origen Rdoc  \\\n",
       "ID                                                                \n",
       "XX-P001        UNIVERSIDAD WESTHILL - FACULTAD DE MEDICINA   Sí   \n",
       "XX-P002  INSTITUTO DE CIENCIAS FORENSES - TRIBUNAL SUPE...   Sí   \n",
       "XX-P003  INSTITUTO DE CIENCIAS FORENSES - TRIBUNAL SUPE...   Sí   \n",
       "XX-P004  INSTITUTO DE CIENCIAS FORENSES - TRIBUNAL SUPE...   Sí   \n",
       "XX-P005  INSTITUTO DE CIENCIAS FORENSES - TRIBUNAL SUPE...   Sí   \n",
       "\n",
       "              Marca_temporal Datos alternativos  \n",
       "ID                                               \n",
       "XX-P001  2020-03-23 00:00:00                NaN  \n",
       "XX-P002  2020-03-23 00:00:00                NaN  \n",
       "XX-P003  2020-03-23 00:00:00                NaN  \n",
       "XX-P004  2020-03-23 00:00:00                NaN  \n",
       "XX-P005  2020-03-23 00:00:00                NaN  "
      ]
     },
     "execution_count": 4,
     "metadata": {},
     "output_type": "execute_result"
    }
   ],
   "source": [
    "df = pd.read_excel(file_mfc, sheet_name=\"MFC\", nrows=1000, index_col='ID', dtype='str' )\n",
    "df.head()"
   ]
  },
  {
   "cell_type": "markdown",
   "metadata": {},
   "source": [
    "Los tipos de datos aparecen cómo object"
   ]
  },
  {
   "cell_type": "code",
   "execution_count": 5,
   "metadata": {
    "tags": []
   },
   "outputs": [
    {
     "data": {
      "text/plain": [
       "Estado_origen           object\n",
       "Municipio_origen        object\n",
       "Panteón_origen          object\n",
       "Estatus_FC              object\n",
       "Fecha_inhumación        object\n",
       "Fecha_defunción         object\n",
       "Fecha_exhumación        object\n",
       "Restos_tipo             object\n",
       "Sexo                    object\n",
       "Edad                    object\n",
       "Conocido_Desconocido    object\n",
       "Primer apellido         object\n",
       "Segundo Apellido        object\n",
       "Nombre(s)               object\n",
       "Nombre completo         object\n",
       "Institución_origen      object\n",
       "Rdoc                    object\n",
       "Marca_temporal          object\n",
       "Datos alternativos      object\n",
       "dtype: object"
      ]
     },
     "execution_count": 5,
     "metadata": {},
     "output_type": "execute_result"
    }
   ],
   "source": [
    "df.dtypes"
   ]
  },
  {
   "cell_type": "markdown",
   "metadata": {},
   "source": [
    "Los números de `Edad` aparecen entre comillas ya que son texto."
   ]
  },
  {
   "cell_type": "code",
   "execution_count": 6,
   "metadata": {
    "tags": []
   },
   "outputs": [
    {
     "data": {
      "text/plain": [
       "array(['55', nan, '19 semanas', '12 semanas', '31', '18', '39', '35',\n",
       "       '74', '26', '36 semanas', '15 semanas', '83', '89', '64', '78',\n",
       "       '73', '81', '75', '60', '63', '27', '45', '40', '38', '25', '90',\n",
       "       '42', '77', '70', '47', '32', '20 semanas', '76', '84', '87', '66',\n",
       "       '68', '94', '71', '92', '49', '69', '50', '80', '28', '37', '30',\n",
       "       '20', '<17', '26 semanas', '34', '65', '86', '67', '58', '52',\n",
       "       '85', '21 semanas', '17.6 semanas', '9 semanas', '33 semanas',\n",
       "       '46', '22', '26.8 semanas', '22 semanas', '54', '33', '48', '53',\n",
       "       '44', '57', '72', '41', '79', '29 semanas', '51', '82', '67-82',\n",
       "       '88', '36', '96', '62', '91', '13 semanas', '5 semanas',\n",
       "       '11 semanas', '1 mes', '25 semanas', '26-32 semanas', '14 semanas',\n",
       "       '15', '40 semanas', '24 semanas', '24', '29', '13', '6',\n",
       "       '23 semanas', '101', '93', '59', '19', '13.7 semanas', '61', '97',\n",
       "       '86-87', '95', '17', '16', '23', '21', '18 semanas', '56',\n",
       "       '30 semanas', '11', '5', '30-40', '1'], dtype=object)"
      ]
     },
     "execution_count": 6,
     "metadata": {},
     "output_type": "execute_result"
    }
   ],
   "source": [
    "df['Edad'].unique()"
   ]
  },
  {
   "cell_type": "markdown",
   "metadata": {},
   "source": [
    "Otra opción es convertir el tipo de dato columna por columna usando comandos como `.as_type` `.to_numeric` o `.to_datetime`.\n",
    "\n",
    "![Función as_type](./images/pandas_astype.png)\n",
    "\n",
    "Explicaremos esto con más detalle adelante."
   ]
  },
  {
   "cell_type": "markdown",
   "metadata": {},
   "source": [
    "## 3.2 Eliminación de observaciones y variables\n",
    "\n",
    "Es posible que no todos los datos contenidos en el conjunto de datos sean de interes. Eliminarlos facilita el análisis y eficientiza el uso de memoria.\n",
    "\n",
    "Podemos eliminar filas o columnas si:\n",
    "* Baja variabilidad, por ejemplo una columna donde todos los valores son iguales\n",
    "* Información repetida, por ejemplo filas idénticas\n",
    "* Existe una gran cantidad de datos faltantes\n",
    "* Información no relevante para el análisis.\n",
    "\n",
    "Mucha de esta información se puede obtener del diccionario de datos y el profile."
   ]
  },
  {
   "cell_type": "markdown",
   "metadata": {},
   "source": [
    "Por ejemplo, en el subconjunto que estamos usando las columnas 'Estado_origen', 'Municipio_origen', 'Panteón_origen' tienen un solo valor, por lo que las eliminaremos\n",
    "\n",
    "Podemos quitar las columnas usando el comando `.drop(axis=1)`. Si lo que queremos es quitar filas, se puede hacer de una manera similar, poniendo los nombres de las filas entre corchetes y usando el paramentro `axis=0`.\n",
    "\n",
    "Para guardar estas modificaciones debemos de actualizar el dataframe"
   ]
  },
  {
   "cell_type": "code",
   "execution_count": 7,
   "metadata": {
    "tags": []
   },
   "outputs": [
    {
     "data": {
      "text/html": [
       "<div>\n",
       "<style scoped>\n",
       "    .dataframe tbody tr th:only-of-type {\n",
       "        vertical-align: middle;\n",
       "    }\n",
       "\n",
       "    .dataframe tbody tr th {\n",
       "        vertical-align: top;\n",
       "    }\n",
       "\n",
       "    .dataframe thead th {\n",
       "        text-align: right;\n",
       "    }\n",
       "</style>\n",
       "<table border=\"1\" class=\"dataframe\">\n",
       "  <thead>\n",
       "    <tr style=\"text-align: right;\">\n",
       "      <th></th>\n",
       "      <th>Estatus_FC</th>\n",
       "      <th>Fecha_inhumación</th>\n",
       "      <th>Fecha_defunción</th>\n",
       "      <th>Fecha_exhumación</th>\n",
       "      <th>Restos_tipo</th>\n",
       "      <th>Sexo</th>\n",
       "      <th>Edad</th>\n",
       "      <th>Conocido_Desconocido</th>\n",
       "      <th>Primer apellido</th>\n",
       "      <th>Segundo Apellido</th>\n",
       "      <th>Nombre(s)</th>\n",
       "      <th>Nombre completo</th>\n",
       "      <th>Institución_origen</th>\n",
       "      <th>Rdoc</th>\n",
       "      <th>Marca_temporal</th>\n",
       "      <th>Datos alternativos</th>\n",
       "    </tr>\n",
       "    <tr>\n",
       "      <th>ID</th>\n",
       "      <th></th>\n",
       "      <th></th>\n",
       "      <th></th>\n",
       "      <th></th>\n",
       "      <th></th>\n",
       "      <th></th>\n",
       "      <th></th>\n",
       "      <th></th>\n",
       "      <th></th>\n",
       "      <th></th>\n",
       "      <th></th>\n",
       "      <th></th>\n",
       "      <th></th>\n",
       "      <th></th>\n",
       "      <th></th>\n",
       "      <th></th>\n",
       "    </tr>\n",
       "  </thead>\n",
       "  <tbody>\n",
       "    <tr>\n",
       "      <th>XX-P001</th>\n",
       "      <td>Inhumación</td>\n",
       "      <td>2019-01-30 00:00:00</td>\n",
       "      <td>2018-03-04 00:00:00</td>\n",
       "      <td>NaN</td>\n",
       "      <td>Restos cremados</td>\n",
       "      <td>Masculino</td>\n",
       "      <td>55</td>\n",
       "      <td>Desconocido</td>\n",
       "      <td>NaN</td>\n",
       "      <td>NaN</td>\n",
       "      <td>NaN</td>\n",
       "      <td></td>\n",
       "      <td>UNIVERSIDAD WESTHILL - FACULTAD DE MEDICINA</td>\n",
       "      <td>Sí</td>\n",
       "      <td>2020-03-23 00:00:00</td>\n",
       "      <td>NaN</td>\n",
       "    </tr>\n",
       "    <tr>\n",
       "      <th>XX-P002</th>\n",
       "      <td>Inhumación</td>\n",
       "      <td>2019-01-26 00:00:00</td>\n",
       "      <td>2018-12-12 00:00:00</td>\n",
       "      <td>NaN</td>\n",
       "      <td>Cadáver</td>\n",
       "      <td>Masculino</td>\n",
       "      <td>NaN</td>\n",
       "      <td>Desconocido</td>\n",
       "      <td>NaN</td>\n",
       "      <td>NaN</td>\n",
       "      <td>NaN</td>\n",
       "      <td></td>\n",
       "      <td>INSTITUTO DE CIENCIAS FORENSES - TRIBUNAL SUPE...</td>\n",
       "      <td>Sí</td>\n",
       "      <td>2020-03-23 00:00:00</td>\n",
       "      <td>NaN</td>\n",
       "    </tr>\n",
       "    <tr>\n",
       "      <th>XX-P003</th>\n",
       "      <td>Inhumación</td>\n",
       "      <td>2019-01-26 00:00:00</td>\n",
       "      <td>2018-12-13 00:00:00</td>\n",
       "      <td>NaN</td>\n",
       "      <td>Cadáver</td>\n",
       "      <td>Masculino</td>\n",
       "      <td>NaN</td>\n",
       "      <td>Conocido</td>\n",
       "      <td>Cruz</td>\n",
       "      <td>Lucero</td>\n",
       "      <td>Alberto</td>\n",
       "      <td>Alberto Cruz Lucero</td>\n",
       "      <td>INSTITUTO DE CIENCIAS FORENSES - TRIBUNAL SUPE...</td>\n",
       "      <td>Sí</td>\n",
       "      <td>2020-03-23 00:00:00</td>\n",
       "      <td>NaN</td>\n",
       "    </tr>\n",
       "    <tr>\n",
       "      <th>XX-P004</th>\n",
       "      <td>Inhumación</td>\n",
       "      <td>2019-01-26 00:00:00</td>\n",
       "      <td>2018-12-14 00:00:00</td>\n",
       "      <td>NaN</td>\n",
       "      <td>Cadáver</td>\n",
       "      <td>Masculino</td>\n",
       "      <td>NaN</td>\n",
       "      <td>Desconocido</td>\n",
       "      <td>NaN</td>\n",
       "      <td>NaN</td>\n",
       "      <td>NaN</td>\n",
       "      <td></td>\n",
       "      <td>INSTITUTO DE CIENCIAS FORENSES - TRIBUNAL SUPE...</td>\n",
       "      <td>Sí</td>\n",
       "      <td>2020-03-23 00:00:00</td>\n",
       "      <td>NaN</td>\n",
       "    </tr>\n",
       "    <tr>\n",
       "      <th>XX-P005</th>\n",
       "      <td>Inhumación</td>\n",
       "      <td>2019-01-26 00:00:00</td>\n",
       "      <td>2018-12-18 00:00:00</td>\n",
       "      <td>NaN</td>\n",
       "      <td>Cadáver</td>\n",
       "      <td>Masculino</td>\n",
       "      <td>NaN</td>\n",
       "      <td>Desconocido</td>\n",
       "      <td>NaN</td>\n",
       "      <td>NaN</td>\n",
       "      <td>NaN</td>\n",
       "      <td></td>\n",
       "      <td>INSTITUTO DE CIENCIAS FORENSES - TRIBUNAL SUPE...</td>\n",
       "      <td>Sí</td>\n",
       "      <td>2020-03-23 00:00:00</td>\n",
       "      <td>NaN</td>\n",
       "    </tr>\n",
       "  </tbody>\n",
       "</table>\n",
       "</div>"
      ],
      "text/plain": [
       "         Estatus_FC     Fecha_inhumación      Fecha_defunción  \\\n",
       "ID                                                              \n",
       "XX-P001  Inhumación  2019-01-30 00:00:00  2018-03-04 00:00:00   \n",
       "XX-P002  Inhumación  2019-01-26 00:00:00  2018-12-12 00:00:00   \n",
       "XX-P003  Inhumación  2019-01-26 00:00:00  2018-12-13 00:00:00   \n",
       "XX-P004  Inhumación  2019-01-26 00:00:00  2018-12-14 00:00:00   \n",
       "XX-P005  Inhumación  2019-01-26 00:00:00  2018-12-18 00:00:00   \n",
       "\n",
       "        Fecha_exhumación      Restos_tipo       Sexo Edad  \\\n",
       "ID                                                          \n",
       "XX-P001              NaN  Restos cremados  Masculino   55   \n",
       "XX-P002              NaN          Cadáver  Masculino  NaN   \n",
       "XX-P003              NaN          Cadáver  Masculino  NaN   \n",
       "XX-P004              NaN          Cadáver  Masculino  NaN   \n",
       "XX-P005              NaN          Cadáver  Masculino  NaN   \n",
       "\n",
       "        Conocido_Desconocido Primer apellido Segundo Apellido Nombre(s)  \\\n",
       "ID                                                                        \n",
       "XX-P001          Desconocido             NaN              NaN       NaN   \n",
       "XX-P002          Desconocido             NaN              NaN       NaN   \n",
       "XX-P003             Conocido            Cruz           Lucero   Alberto   \n",
       "XX-P004          Desconocido             NaN              NaN       NaN   \n",
       "XX-P005          Desconocido             NaN              NaN       NaN   \n",
       "\n",
       "             Nombre completo  \\\n",
       "ID                             \n",
       "XX-P001                        \n",
       "XX-P002                        \n",
       "XX-P003  Alberto Cruz Lucero   \n",
       "XX-P004                        \n",
       "XX-P005                        \n",
       "\n",
       "                                        Institución_origen Rdoc  \\\n",
       "ID                                                                \n",
       "XX-P001        UNIVERSIDAD WESTHILL - FACULTAD DE MEDICINA   Sí   \n",
       "XX-P002  INSTITUTO DE CIENCIAS FORENSES - TRIBUNAL SUPE...   Sí   \n",
       "XX-P003  INSTITUTO DE CIENCIAS FORENSES - TRIBUNAL SUPE...   Sí   \n",
       "XX-P004  INSTITUTO DE CIENCIAS FORENSES - TRIBUNAL SUPE...   Sí   \n",
       "XX-P005  INSTITUTO DE CIENCIAS FORENSES - TRIBUNAL SUPE...   Sí   \n",
       "\n",
       "              Marca_temporal Datos alternativos  \n",
       "ID                                               \n",
       "XX-P001  2020-03-23 00:00:00                NaN  \n",
       "XX-P002  2020-03-23 00:00:00                NaN  \n",
       "XX-P003  2020-03-23 00:00:00                NaN  \n",
       "XX-P004  2020-03-23 00:00:00                NaN  \n",
       "XX-P005  2020-03-23 00:00:00                NaN  "
      ]
     },
     "execution_count": 7,
     "metadata": {},
     "output_type": "execute_result"
    }
   ],
   "source": [
    "df = df.drop( ['Estado_origen', 'Municipio_origen', 'Panteón_origen'], axis=1)\n",
    "df.head()"
   ]
  },
  {
   "cell_type": "markdown",
   "metadata": {},
   "source": [
    "Para determinar filas duplicadas usamos el comando `duplicated()`."
   ]
  },
  {
   "cell_type": "code",
   "execution_count": 8,
   "metadata": {
    "tags": []
   },
   "outputs": [
    {
     "data": {
      "text/html": [
       "<div>\n",
       "<style scoped>\n",
       "    .dataframe tbody tr th:only-of-type {\n",
       "        vertical-align: middle;\n",
       "    }\n",
       "\n",
       "    .dataframe tbody tr th {\n",
       "        vertical-align: top;\n",
       "    }\n",
       "\n",
       "    .dataframe thead th {\n",
       "        text-align: right;\n",
       "    }\n",
       "</style>\n",
       "<table border=\"1\" class=\"dataframe\">\n",
       "  <thead>\n",
       "    <tr style=\"text-align: right;\">\n",
       "      <th></th>\n",
       "      <th>Estatus_FC</th>\n",
       "      <th>Fecha_inhumación</th>\n",
       "      <th>Fecha_defunción</th>\n",
       "      <th>Fecha_exhumación</th>\n",
       "      <th>Restos_tipo</th>\n",
       "      <th>Sexo</th>\n",
       "      <th>Edad</th>\n",
       "      <th>Conocido_Desconocido</th>\n",
       "      <th>Primer apellido</th>\n",
       "      <th>Segundo Apellido</th>\n",
       "      <th>Nombre(s)</th>\n",
       "      <th>Nombre completo</th>\n",
       "      <th>Institución_origen</th>\n",
       "      <th>Rdoc</th>\n",
       "      <th>Marca_temporal</th>\n",
       "      <th>Datos alternativos</th>\n",
       "    </tr>\n",
       "    <tr>\n",
       "      <th>ID</th>\n",
       "      <th></th>\n",
       "      <th></th>\n",
       "      <th></th>\n",
       "      <th></th>\n",
       "      <th></th>\n",
       "      <th></th>\n",
       "      <th></th>\n",
       "      <th></th>\n",
       "      <th></th>\n",
       "      <th></th>\n",
       "      <th></th>\n",
       "      <th></th>\n",
       "      <th></th>\n",
       "      <th></th>\n",
       "      <th></th>\n",
       "      <th></th>\n",
       "    </tr>\n",
       "  </thead>\n",
       "  <tbody>\n",
       "    <tr>\n",
       "      <th>XX-P010</th>\n",
       "      <td>Inhumación</td>\n",
       "      <td>2019-01-26 00:00:00</td>\n",
       "      <td>2018-12-18 00:00:00</td>\n",
       "      <td>NaN</td>\n",
       "      <td>Cadáver</td>\n",
       "      <td>Masculino</td>\n",
       "      <td>NaN</td>\n",
       "      <td>Desconocido</td>\n",
       "      <td>NaN</td>\n",
       "      <td>NaN</td>\n",
       "      <td>NaN</td>\n",
       "      <td></td>\n",
       "      <td>INSTITUTO DE CIENCIAS FORENSES - TRIBUNAL SUPE...</td>\n",
       "      <td>Sí</td>\n",
       "      <td>2020-03-23 00:00:00</td>\n",
       "      <td>NaN</td>\n",
       "    </tr>\n",
       "    <tr>\n",
       "      <th>XX-P011</th>\n",
       "      <td>Inhumación</td>\n",
       "      <td>2019-01-26 00:00:00</td>\n",
       "      <td>2018-12-18 00:00:00</td>\n",
       "      <td>NaN</td>\n",
       "      <td>Cadáver</td>\n",
       "      <td>Masculino</td>\n",
       "      <td>NaN</td>\n",
       "      <td>Desconocido</td>\n",
       "      <td>NaN</td>\n",
       "      <td>NaN</td>\n",
       "      <td>NaN</td>\n",
       "      <td></td>\n",
       "      <td>INSTITUTO DE CIENCIAS FORENSES - TRIBUNAL SUPE...</td>\n",
       "      <td>Sí</td>\n",
       "      <td>2020-03-23 00:00:00</td>\n",
       "      <td>NaN</td>\n",
       "    </tr>\n",
       "    <tr>\n",
       "      <th>XX-P016</th>\n",
       "      <td>Inhumación</td>\n",
       "      <td>2019-01-26 00:00:00</td>\n",
       "      <td>2018-12-23 00:00:00</td>\n",
       "      <td>NaN</td>\n",
       "      <td>Cadáver</td>\n",
       "      <td>Masculino</td>\n",
       "      <td>NaN</td>\n",
       "      <td>Desconocido</td>\n",
       "      <td>NaN</td>\n",
       "      <td>NaN</td>\n",
       "      <td>NaN</td>\n",
       "      <td></td>\n",
       "      <td>INSTITUTO DE CIENCIAS FORENSES - TRIBUNAL SUPE...</td>\n",
       "      <td>Sí</td>\n",
       "      <td>2020-03-23 00:00:00</td>\n",
       "      <td>NaN</td>\n",
       "    </tr>\n",
       "    <tr>\n",
       "      <th>XX-P032</th>\n",
       "      <td>Inhumación</td>\n",
       "      <td>2019-01-19 00:00:00</td>\n",
       "      <td>2018-12-04 00:00:00</td>\n",
       "      <td>NaN</td>\n",
       "      <td>Cadáver</td>\n",
       "      <td>Masculino</td>\n",
       "      <td>NaN</td>\n",
       "      <td>Desconocido</td>\n",
       "      <td>NaN</td>\n",
       "      <td>NaN</td>\n",
       "      <td>NaN</td>\n",
       "      <td></td>\n",
       "      <td>INSTITUTO DE CIENCIAS FORENSES - TRIBUNAL SUPE...</td>\n",
       "      <td>Sí</td>\n",
       "      <td>2020-03-23 00:00:00</td>\n",
       "      <td>NaN</td>\n",
       "    </tr>\n",
       "    <tr>\n",
       "      <th>XX-P041</th>\n",
       "      <td>Inhumación</td>\n",
       "      <td>2019-01-19 00:00:00</td>\n",
       "      <td>2018-12-09 00:00:00</td>\n",
       "      <td>NaN</td>\n",
       "      <td>Cadáver</td>\n",
       "      <td>Masculino</td>\n",
       "      <td>NaN</td>\n",
       "      <td>Desconocido</td>\n",
       "      <td>NaN</td>\n",
       "      <td>NaN</td>\n",
       "      <td>NaN</td>\n",
       "      <td></td>\n",
       "      <td>INSTITUTO DE CIENCIAS FORENSES - TRIBUNAL SUPE...</td>\n",
       "      <td>Sí</td>\n",
       "      <td>2020-03-23 00:00:00</td>\n",
       "      <td>NaN</td>\n",
       "    </tr>\n",
       "    <tr>\n",
       "      <th>XX-P043</th>\n",
       "      <td>Inhumación</td>\n",
       "      <td>2019-01-19 00:00:00</td>\n",
       "      <td>2018-12-09 00:00:00</td>\n",
       "      <td>NaN</td>\n",
       "      <td>Cadáver</td>\n",
       "      <td>Masculino</td>\n",
       "      <td>NaN</td>\n",
       "      <td>Desconocido</td>\n",
       "      <td>NaN</td>\n",
       "      <td>NaN</td>\n",
       "      <td>NaN</td>\n",
       "      <td></td>\n",
       "      <td>INSTITUTO DE CIENCIAS FORENSES - TRIBUNAL SUPE...</td>\n",
       "      <td>Sí</td>\n",
       "      <td>2020-03-23 00:00:00</td>\n",
       "      <td>NaN</td>\n",
       "    </tr>\n",
       "    <tr>\n",
       "      <th>XX-P065</th>\n",
       "      <td>Inhumación</td>\n",
       "      <td>2019-01-12 00:00:00</td>\n",
       "      <td>2018-12-01 00:00:00</td>\n",
       "      <td>NaN</td>\n",
       "      <td>Cadáver</td>\n",
       "      <td>Masculino</td>\n",
       "      <td>NaN</td>\n",
       "      <td>Desconocido</td>\n",
       "      <td>NaN</td>\n",
       "      <td>NaN</td>\n",
       "      <td>NaN</td>\n",
       "      <td></td>\n",
       "      <td>INSTITUTO DE CIENCIAS FORENSES - TRIBUNAL SUPE...</td>\n",
       "      <td>Sí</td>\n",
       "      <td>2020-03-24 00:00:00</td>\n",
       "      <td>NaN</td>\n",
       "    </tr>\n",
       "    <tr>\n",
       "      <th>XX-P066</th>\n",
       "      <td>Inhumación</td>\n",
       "      <td>2019-01-12 00:00:00</td>\n",
       "      <td>2018-12-01 00:00:00</td>\n",
       "      <td>NaN</td>\n",
       "      <td>Cadáver</td>\n",
       "      <td>Masculino</td>\n",
       "      <td>NaN</td>\n",
       "      <td>Desconocido</td>\n",
       "      <td>NaN</td>\n",
       "      <td>NaN</td>\n",
       "      <td>NaN</td>\n",
       "      <td></td>\n",
       "      <td>INSTITUTO DE CIENCIAS FORENSES - TRIBUNAL SUPE...</td>\n",
       "      <td>Sí</td>\n",
       "      <td>2020-03-24 00:00:00</td>\n",
       "      <td>NaN</td>\n",
       "    </tr>\n",
       "    <tr>\n",
       "      <th>XX-P151</th>\n",
       "      <td>Inhumación</td>\n",
       "      <td>2018-11-24 00:00:00</td>\n",
       "      <td>2018-10-08 00:00:00</td>\n",
       "      <td>NaN</td>\n",
       "      <td>Cadáver</td>\n",
       "      <td>Masculino</td>\n",
       "      <td>NaN</td>\n",
       "      <td>Desconocido</td>\n",
       "      <td>NaN</td>\n",
       "      <td>NaN</td>\n",
       "      <td>NaN</td>\n",
       "      <td></td>\n",
       "      <td>INSTITUTO DE CIENCIAS FORENSES - TRIBUNAL SUPE...</td>\n",
       "      <td>Sí</td>\n",
       "      <td>2020-03-24 00:00:00</td>\n",
       "      <td>NaN</td>\n",
       "    </tr>\n",
       "    <tr>\n",
       "      <th>XX-P166</th>\n",
       "      <td>Inhumación</td>\n",
       "      <td>2018-11-24 00:00:00</td>\n",
       "      <td>2018-10-27 00:00:00</td>\n",
       "      <td>NaN</td>\n",
       "      <td>Cadáver</td>\n",
       "      <td>Masculino</td>\n",
       "      <td>NaN</td>\n",
       "      <td>Desconocido</td>\n",
       "      <td>NaN</td>\n",
       "      <td>NaN</td>\n",
       "      <td>NaN</td>\n",
       "      <td></td>\n",
       "      <td>INSTITUTO DE CIENCIAS FORENSES - TRIBUNAL SUPE...</td>\n",
       "      <td>Sí</td>\n",
       "      <td>2020-03-24 00:00:00</td>\n",
       "      <td>NaN</td>\n",
       "    </tr>\n",
       "  </tbody>\n",
       "</table>\n",
       "</div>"
      ],
      "text/plain": [
       "         Estatus_FC     Fecha_inhumación      Fecha_defunción  \\\n",
       "ID                                                              \n",
       "XX-P010  Inhumación  2019-01-26 00:00:00  2018-12-18 00:00:00   \n",
       "XX-P011  Inhumación  2019-01-26 00:00:00  2018-12-18 00:00:00   \n",
       "XX-P016  Inhumación  2019-01-26 00:00:00  2018-12-23 00:00:00   \n",
       "XX-P032  Inhumación  2019-01-19 00:00:00  2018-12-04 00:00:00   \n",
       "XX-P041  Inhumación  2019-01-19 00:00:00  2018-12-09 00:00:00   \n",
       "XX-P043  Inhumación  2019-01-19 00:00:00  2018-12-09 00:00:00   \n",
       "XX-P065  Inhumación  2019-01-12 00:00:00  2018-12-01 00:00:00   \n",
       "XX-P066  Inhumación  2019-01-12 00:00:00  2018-12-01 00:00:00   \n",
       "XX-P151  Inhumación  2018-11-24 00:00:00  2018-10-08 00:00:00   \n",
       "XX-P166  Inhumación  2018-11-24 00:00:00  2018-10-27 00:00:00   \n",
       "\n",
       "        Fecha_exhumación Restos_tipo       Sexo Edad Conocido_Desconocido  \\\n",
       "ID                                                                          \n",
       "XX-P010              NaN     Cadáver  Masculino  NaN          Desconocido   \n",
       "XX-P011              NaN     Cadáver  Masculino  NaN          Desconocido   \n",
       "XX-P016              NaN     Cadáver  Masculino  NaN          Desconocido   \n",
       "XX-P032              NaN     Cadáver  Masculino  NaN          Desconocido   \n",
       "XX-P041              NaN     Cadáver  Masculino  NaN          Desconocido   \n",
       "XX-P043              NaN     Cadáver  Masculino  NaN          Desconocido   \n",
       "XX-P065              NaN     Cadáver  Masculino  NaN          Desconocido   \n",
       "XX-P066              NaN     Cadáver  Masculino  NaN          Desconocido   \n",
       "XX-P151              NaN     Cadáver  Masculino  NaN          Desconocido   \n",
       "XX-P166              NaN     Cadáver  Masculino  NaN          Desconocido   \n",
       "\n",
       "        Primer apellido Segundo Apellido Nombre(s) Nombre completo  \\\n",
       "ID                                                                   \n",
       "XX-P010             NaN              NaN       NaN                   \n",
       "XX-P011             NaN              NaN       NaN                   \n",
       "XX-P016             NaN              NaN       NaN                   \n",
       "XX-P032             NaN              NaN       NaN                   \n",
       "XX-P041             NaN              NaN       NaN                   \n",
       "XX-P043             NaN              NaN       NaN                   \n",
       "XX-P065             NaN              NaN       NaN                   \n",
       "XX-P066             NaN              NaN       NaN                   \n",
       "XX-P151             NaN              NaN       NaN                   \n",
       "XX-P166             NaN              NaN       NaN                   \n",
       "\n",
       "                                        Institución_origen Rdoc  \\\n",
       "ID                                                                \n",
       "XX-P010  INSTITUTO DE CIENCIAS FORENSES - TRIBUNAL SUPE...   Sí   \n",
       "XX-P011  INSTITUTO DE CIENCIAS FORENSES - TRIBUNAL SUPE...   Sí   \n",
       "XX-P016  INSTITUTO DE CIENCIAS FORENSES - TRIBUNAL SUPE...   Sí   \n",
       "XX-P032  INSTITUTO DE CIENCIAS FORENSES - TRIBUNAL SUPE...   Sí   \n",
       "XX-P041  INSTITUTO DE CIENCIAS FORENSES - TRIBUNAL SUPE...   Sí   \n",
       "XX-P043  INSTITUTO DE CIENCIAS FORENSES - TRIBUNAL SUPE...   Sí   \n",
       "XX-P065  INSTITUTO DE CIENCIAS FORENSES - TRIBUNAL SUPE...   Sí   \n",
       "XX-P066  INSTITUTO DE CIENCIAS FORENSES - TRIBUNAL SUPE...   Sí   \n",
       "XX-P151  INSTITUTO DE CIENCIAS FORENSES - TRIBUNAL SUPE...   Sí   \n",
       "XX-P166  INSTITUTO DE CIENCIAS FORENSES - TRIBUNAL SUPE...   Sí   \n",
       "\n",
       "              Marca_temporal Datos alternativos  \n",
       "ID                                               \n",
       "XX-P010  2020-03-23 00:00:00                NaN  \n",
       "XX-P011  2020-03-23 00:00:00                NaN  \n",
       "XX-P016  2020-03-23 00:00:00                NaN  \n",
       "XX-P032  2020-03-23 00:00:00                NaN  \n",
       "XX-P041  2020-03-23 00:00:00                NaN  \n",
       "XX-P043  2020-03-23 00:00:00                NaN  \n",
       "XX-P065  2020-03-24 00:00:00                NaN  \n",
       "XX-P066  2020-03-24 00:00:00                NaN  \n",
       "XX-P151  2020-03-24 00:00:00                NaN  \n",
       "XX-P166  2020-03-24 00:00:00                NaN  "
      ]
     },
     "execution_count": 8,
     "metadata": {},
     "output_type": "execute_result"
    }
   ],
   "source": [
    "df[ df.duplicated() ]"
   ]
  },
  {
   "cell_type": "markdown",
   "metadata": {},
   "source": [
    "Podemos ver que hay un número de filas que tienen datos duplicados, es decir, que todos los datos se parecen. \n",
    "En este caso todos son `Desconocidos` y tienen identificadores distintos, por lo que lo mas probable es que no sean duplicados de verdad, sino un caso de registros indistinguibles por la falta de información.\n",
    "\n",
    "En caso de querer quitarlos se pueden quitar usando el comando `drop_duplicates()`, el cual incluye opciones para determinar cual de los duplicados conservar.\n"
   ]
  },
  {
   "cell_type": "markdown",
   "metadata": {},
   "source": [
    "Otra razón para quitar datos es por que hay una gran cantidad de faltantes. El comando `dropna()` sirve para quitar estas filas (`axis=0`) o columnas (`axis=1`).\n",
    "Existen varias opciones:\n",
    "\n",
    "* `how='any'` quita las filas o columnas donde hay al menos un nan, este parametró es el default\n",
    "* `how='all'` quita las filas o columnas donde todos son nan\n",
    "* `thresh=numero` quita las filas o columnas con más de cierto número de nans, esto es útil para detectar automáticamente columnas donde faltan muchos datos\n",
    "\n",
    "Quitemos las columnas donde todos los valores son nan, en este caso 'Datos alternativos':"
   ]
  },
  {
   "cell_type": "code",
   "execution_count": 9,
   "metadata": {
    "tags": []
   },
   "outputs": [
    {
     "data": {
      "text/html": [
       "<div>\n",
       "<style scoped>\n",
       "    .dataframe tbody tr th:only-of-type {\n",
       "        vertical-align: middle;\n",
       "    }\n",
       "\n",
       "    .dataframe tbody tr th {\n",
       "        vertical-align: top;\n",
       "    }\n",
       "\n",
       "    .dataframe thead th {\n",
       "        text-align: right;\n",
       "    }\n",
       "</style>\n",
       "<table border=\"1\" class=\"dataframe\">\n",
       "  <thead>\n",
       "    <tr style=\"text-align: right;\">\n",
       "      <th></th>\n",
       "      <th>Estatus_FC</th>\n",
       "      <th>Fecha_inhumación</th>\n",
       "      <th>Fecha_defunción</th>\n",
       "      <th>Fecha_exhumación</th>\n",
       "      <th>Restos_tipo</th>\n",
       "      <th>Sexo</th>\n",
       "      <th>Edad</th>\n",
       "      <th>Conocido_Desconocido</th>\n",
       "      <th>Primer apellido</th>\n",
       "      <th>Segundo Apellido</th>\n",
       "      <th>Nombre(s)</th>\n",
       "      <th>Nombre completo</th>\n",
       "      <th>Institución_origen</th>\n",
       "      <th>Rdoc</th>\n",
       "      <th>Marca_temporal</th>\n",
       "    </tr>\n",
       "    <tr>\n",
       "      <th>ID</th>\n",
       "      <th></th>\n",
       "      <th></th>\n",
       "      <th></th>\n",
       "      <th></th>\n",
       "      <th></th>\n",
       "      <th></th>\n",
       "      <th></th>\n",
       "      <th></th>\n",
       "      <th></th>\n",
       "      <th></th>\n",
       "      <th></th>\n",
       "      <th></th>\n",
       "      <th></th>\n",
       "      <th></th>\n",
       "      <th></th>\n",
       "    </tr>\n",
       "  </thead>\n",
       "  <tbody>\n",
       "    <tr>\n",
       "      <th>XX-P001</th>\n",
       "      <td>Inhumación</td>\n",
       "      <td>2019-01-30 00:00:00</td>\n",
       "      <td>2018-03-04 00:00:00</td>\n",
       "      <td>NaN</td>\n",
       "      <td>Restos cremados</td>\n",
       "      <td>Masculino</td>\n",
       "      <td>55</td>\n",
       "      <td>Desconocido</td>\n",
       "      <td>NaN</td>\n",
       "      <td>NaN</td>\n",
       "      <td>NaN</td>\n",
       "      <td></td>\n",
       "      <td>UNIVERSIDAD WESTHILL - FACULTAD DE MEDICINA</td>\n",
       "      <td>Sí</td>\n",
       "      <td>2020-03-23 00:00:00</td>\n",
       "    </tr>\n",
       "    <tr>\n",
       "      <th>XX-P002</th>\n",
       "      <td>Inhumación</td>\n",
       "      <td>2019-01-26 00:00:00</td>\n",
       "      <td>2018-12-12 00:00:00</td>\n",
       "      <td>NaN</td>\n",
       "      <td>Cadáver</td>\n",
       "      <td>Masculino</td>\n",
       "      <td>NaN</td>\n",
       "      <td>Desconocido</td>\n",
       "      <td>NaN</td>\n",
       "      <td>NaN</td>\n",
       "      <td>NaN</td>\n",
       "      <td></td>\n",
       "      <td>INSTITUTO DE CIENCIAS FORENSES - TRIBUNAL SUPE...</td>\n",
       "      <td>Sí</td>\n",
       "      <td>2020-03-23 00:00:00</td>\n",
       "    </tr>\n",
       "    <tr>\n",
       "      <th>XX-P003</th>\n",
       "      <td>Inhumación</td>\n",
       "      <td>2019-01-26 00:00:00</td>\n",
       "      <td>2018-12-13 00:00:00</td>\n",
       "      <td>NaN</td>\n",
       "      <td>Cadáver</td>\n",
       "      <td>Masculino</td>\n",
       "      <td>NaN</td>\n",
       "      <td>Conocido</td>\n",
       "      <td>Cruz</td>\n",
       "      <td>Lucero</td>\n",
       "      <td>Alberto</td>\n",
       "      <td>Alberto Cruz Lucero</td>\n",
       "      <td>INSTITUTO DE CIENCIAS FORENSES - TRIBUNAL SUPE...</td>\n",
       "      <td>Sí</td>\n",
       "      <td>2020-03-23 00:00:00</td>\n",
       "    </tr>\n",
       "    <tr>\n",
       "      <th>XX-P004</th>\n",
       "      <td>Inhumación</td>\n",
       "      <td>2019-01-26 00:00:00</td>\n",
       "      <td>2018-12-14 00:00:00</td>\n",
       "      <td>NaN</td>\n",
       "      <td>Cadáver</td>\n",
       "      <td>Masculino</td>\n",
       "      <td>NaN</td>\n",
       "      <td>Desconocido</td>\n",
       "      <td>NaN</td>\n",
       "      <td>NaN</td>\n",
       "      <td>NaN</td>\n",
       "      <td></td>\n",
       "      <td>INSTITUTO DE CIENCIAS FORENSES - TRIBUNAL SUPE...</td>\n",
       "      <td>Sí</td>\n",
       "      <td>2020-03-23 00:00:00</td>\n",
       "    </tr>\n",
       "    <tr>\n",
       "      <th>XX-P005</th>\n",
       "      <td>Inhumación</td>\n",
       "      <td>2019-01-26 00:00:00</td>\n",
       "      <td>2018-12-18 00:00:00</td>\n",
       "      <td>NaN</td>\n",
       "      <td>Cadáver</td>\n",
       "      <td>Masculino</td>\n",
       "      <td>NaN</td>\n",
       "      <td>Desconocido</td>\n",
       "      <td>NaN</td>\n",
       "      <td>NaN</td>\n",
       "      <td>NaN</td>\n",
       "      <td></td>\n",
       "      <td>INSTITUTO DE CIENCIAS FORENSES - TRIBUNAL SUPE...</td>\n",
       "      <td>Sí</td>\n",
       "      <td>2020-03-23 00:00:00</td>\n",
       "    </tr>\n",
       "  </tbody>\n",
       "</table>\n",
       "</div>"
      ],
      "text/plain": [
       "         Estatus_FC     Fecha_inhumación      Fecha_defunción  \\\n",
       "ID                                                              \n",
       "XX-P001  Inhumación  2019-01-30 00:00:00  2018-03-04 00:00:00   \n",
       "XX-P002  Inhumación  2019-01-26 00:00:00  2018-12-12 00:00:00   \n",
       "XX-P003  Inhumación  2019-01-26 00:00:00  2018-12-13 00:00:00   \n",
       "XX-P004  Inhumación  2019-01-26 00:00:00  2018-12-14 00:00:00   \n",
       "XX-P005  Inhumación  2019-01-26 00:00:00  2018-12-18 00:00:00   \n",
       "\n",
       "        Fecha_exhumación      Restos_tipo       Sexo Edad  \\\n",
       "ID                                                          \n",
       "XX-P001              NaN  Restos cremados  Masculino   55   \n",
       "XX-P002              NaN          Cadáver  Masculino  NaN   \n",
       "XX-P003              NaN          Cadáver  Masculino  NaN   \n",
       "XX-P004              NaN          Cadáver  Masculino  NaN   \n",
       "XX-P005              NaN          Cadáver  Masculino  NaN   \n",
       "\n",
       "        Conocido_Desconocido Primer apellido Segundo Apellido Nombre(s)  \\\n",
       "ID                                                                        \n",
       "XX-P001          Desconocido             NaN              NaN       NaN   \n",
       "XX-P002          Desconocido             NaN              NaN       NaN   \n",
       "XX-P003             Conocido            Cruz           Lucero   Alberto   \n",
       "XX-P004          Desconocido             NaN              NaN       NaN   \n",
       "XX-P005          Desconocido             NaN              NaN       NaN   \n",
       "\n",
       "             Nombre completo  \\\n",
       "ID                             \n",
       "XX-P001                        \n",
       "XX-P002                        \n",
       "XX-P003  Alberto Cruz Lucero   \n",
       "XX-P004                        \n",
       "XX-P005                        \n",
       "\n",
       "                                        Institución_origen Rdoc  \\\n",
       "ID                                                                \n",
       "XX-P001        UNIVERSIDAD WESTHILL - FACULTAD DE MEDICINA   Sí   \n",
       "XX-P002  INSTITUTO DE CIENCIAS FORENSES - TRIBUNAL SUPE...   Sí   \n",
       "XX-P003  INSTITUTO DE CIENCIAS FORENSES - TRIBUNAL SUPE...   Sí   \n",
       "XX-P004  INSTITUTO DE CIENCIAS FORENSES - TRIBUNAL SUPE...   Sí   \n",
       "XX-P005  INSTITUTO DE CIENCIAS FORENSES - TRIBUNAL SUPE...   Sí   \n",
       "\n",
       "              Marca_temporal  \n",
       "ID                            \n",
       "XX-P001  2020-03-23 00:00:00  \n",
       "XX-P002  2020-03-23 00:00:00  \n",
       "XX-P003  2020-03-23 00:00:00  \n",
       "XX-P004  2020-03-23 00:00:00  \n",
       "XX-P005  2020-03-23 00:00:00  "
      ]
     },
     "execution_count": 9,
     "metadata": {},
     "output_type": "execute_result"
    }
   ],
   "source": [
    "df = df.dropna( axis=1, how='all' )\n",
    "df.head()"
   ]
  },
  {
   "cell_type": "markdown",
   "metadata": {},
   "source": [
    "## 3.3 Valores faltantes\n",
    "\n",
    "Un valor faltante es un valor que falta o está incompleto en un conjunto de datos. A menudo, los valores faltantes se deben a errores de entrada de datos, fallas en la recolección de datos o problemas técnicos. Los valores faltantes pueden aparecer como espacios en blanco, ceros, letras u otros caracteres. La presencia de valores faltantes en un conjunto de datos puede afectar la precisión y la calidad del análisis de los datos, por lo que es importante identificarlos y manejarlos adecuadamente durante la limpieza y el preprocesamiento de los datos.\n",
    "\n",
    "Por ejemplo, la columna de 'Fecha_exhumación' tiene 99.9% de datos faltantes. \n",
    "Esta columna es un caso interesante, ya que contiene información del unico caso de exhumación de nuestro subconjunto de datos. Podríamos quitarla dada la cantidad de datos faltantes, pero antes de eso es importante ver la fila asociada."
   ]
  },
  {
   "cell_type": "code",
   "execution_count": 10,
   "metadata": {
    "tags": []
   },
   "outputs": [
    {
     "data": {
      "text/html": [
       "<div>\n",
       "<style scoped>\n",
       "    .dataframe tbody tr th:only-of-type {\n",
       "        vertical-align: middle;\n",
       "    }\n",
       "\n",
       "    .dataframe tbody tr th {\n",
       "        vertical-align: top;\n",
       "    }\n",
       "\n",
       "    .dataframe thead th {\n",
       "        text-align: right;\n",
       "    }\n",
       "</style>\n",
       "<table border=\"1\" class=\"dataframe\">\n",
       "  <thead>\n",
       "    <tr style=\"text-align: right;\">\n",
       "      <th></th>\n",
       "      <th>Estatus_FC</th>\n",
       "      <th>Fecha_inhumación</th>\n",
       "      <th>Fecha_defunción</th>\n",
       "      <th>Fecha_exhumación</th>\n",
       "      <th>Restos_tipo</th>\n",
       "      <th>Sexo</th>\n",
       "      <th>Edad</th>\n",
       "      <th>Conocido_Desconocido</th>\n",
       "      <th>Primer apellido</th>\n",
       "      <th>Segundo Apellido</th>\n",
       "      <th>Nombre(s)</th>\n",
       "      <th>Nombre completo</th>\n",
       "      <th>Institución_origen</th>\n",
       "      <th>Rdoc</th>\n",
       "      <th>Marca_temporal</th>\n",
       "    </tr>\n",
       "    <tr>\n",
       "      <th>ID</th>\n",
       "      <th></th>\n",
       "      <th></th>\n",
       "      <th></th>\n",
       "      <th></th>\n",
       "      <th></th>\n",
       "      <th></th>\n",
       "      <th></th>\n",
       "      <th></th>\n",
       "      <th></th>\n",
       "      <th></th>\n",
       "      <th></th>\n",
       "      <th></th>\n",
       "      <th></th>\n",
       "      <th></th>\n",
       "      <th></th>\n",
       "    </tr>\n",
       "  </thead>\n",
       "  <tbody>\n",
       "    <tr>\n",
       "      <th>XX-P331</th>\n",
       "      <td>Exhumación</td>\n",
       "      <td>2019-03-02 00:00:00</td>\n",
       "      <td>2019-01-18 00:00:00</td>\n",
       "      <td>2020-03-31 00:00:00</td>\n",
       "      <td>Cadáver</td>\n",
       "      <td>Femenino</td>\n",
       "      <td>NaN</td>\n",
       "      <td>Conocido</td>\n",
       "      <td>Lopez</td>\n",
       "      <td>Gonzalez</td>\n",
       "      <td>Samara Judith</td>\n",
       "      <td>Samara Judith Lopez Gonzalez</td>\n",
       "      <td>INSTITUTO DE CIENCIAS FORENSES - TRIBUNAL SUPE...</td>\n",
       "      <td>Sí</td>\n",
       "      <td>2020-03-27 18:16:02</td>\n",
       "    </tr>\n",
       "  </tbody>\n",
       "</table>\n",
       "</div>"
      ],
      "text/plain": [
       "         Estatus_FC     Fecha_inhumación      Fecha_defunción  \\\n",
       "ID                                                              \n",
       "XX-P331  Exhumación  2019-03-02 00:00:00  2019-01-18 00:00:00   \n",
       "\n",
       "            Fecha_exhumación Restos_tipo      Sexo Edad Conocido_Desconocido  \\\n",
       "ID                                                                             \n",
       "XX-P331  2020-03-31 00:00:00     Cadáver  Femenino  NaN             Conocido   \n",
       "\n",
       "        Primer apellido Segundo Apellido      Nombre(s)  \\\n",
       "ID                                                        \n",
       "XX-P331           Lopez         Gonzalez  Samara Judith   \n",
       "\n",
       "                      Nombre completo  \\\n",
       "ID                                      \n",
       "XX-P331  Samara Judith Lopez Gonzalez   \n",
       "\n",
       "                                        Institución_origen Rdoc  \\\n",
       "ID                                                                \n",
       "XX-P331  INSTITUTO DE CIENCIAS FORENSES - TRIBUNAL SUPE...   Sí   \n",
       "\n",
       "              Marca_temporal  \n",
       "ID                            \n",
       "XX-P331  2020-03-27 18:16:02  "
      ]
     },
     "execution_count": 10,
     "metadata": {},
     "output_type": "execute_result"
    }
   ],
   "source": [
    "df[ df['Fecha_exhumación'].notna() ]"
   ]
  },
  {
   "cell_type": "markdown",
   "metadata": {},
   "source": [
    "En este caso es importante considerar que tipo de análisis nos interesa hacer y que información es necesaria.\n",
    "\n",
    "Por ejemplo, si nos interesa las exhumaciones debemos de conservar la columna. Si nos interesan solo los cadaveres presentes en la fosa común se recomienda quitar la columna y la fila, ya que el cadaver ha sido removido. Sin embargo, si nos interesan las inhumanciones se debé de conservar la fila aunque se quite la columna, ya que el registro es tanto de una inhumación como de una exhumación. \n",
    "En general, es importante revisar los datos y tener claras las preguntas para tomar decisiones sobre la limpieza y análisis.\n",
    "\n",
    "En este caso quitaremos las columnas con demasiados nan's, por ejemplo, dejaremos aquellas que tengan al menos 50 valores validos, lo cual debe de quitar 'Fecha_exhumación'"
   ]
  },
  {
   "cell_type": "code",
   "execution_count": 11,
   "metadata": {
    "tags": []
   },
   "outputs": [
    {
     "data": {
      "text/html": [
       "<div>\n",
       "<style scoped>\n",
       "    .dataframe tbody tr th:only-of-type {\n",
       "        vertical-align: middle;\n",
       "    }\n",
       "\n",
       "    .dataframe tbody tr th {\n",
       "        vertical-align: top;\n",
       "    }\n",
       "\n",
       "    .dataframe thead th {\n",
       "        text-align: right;\n",
       "    }\n",
       "</style>\n",
       "<table border=\"1\" class=\"dataframe\">\n",
       "  <thead>\n",
       "    <tr style=\"text-align: right;\">\n",
       "      <th></th>\n",
       "      <th>Estatus_FC</th>\n",
       "      <th>Fecha_inhumación</th>\n",
       "      <th>Fecha_defunción</th>\n",
       "      <th>Restos_tipo</th>\n",
       "      <th>Sexo</th>\n",
       "      <th>Edad</th>\n",
       "      <th>Conocido_Desconocido</th>\n",
       "      <th>Primer apellido</th>\n",
       "      <th>Segundo Apellido</th>\n",
       "      <th>Nombre(s)</th>\n",
       "      <th>Nombre completo</th>\n",
       "      <th>Institución_origen</th>\n",
       "      <th>Rdoc</th>\n",
       "      <th>Marca_temporal</th>\n",
       "    </tr>\n",
       "    <tr>\n",
       "      <th>ID</th>\n",
       "      <th></th>\n",
       "      <th></th>\n",
       "      <th></th>\n",
       "      <th></th>\n",
       "      <th></th>\n",
       "      <th></th>\n",
       "      <th></th>\n",
       "      <th></th>\n",
       "      <th></th>\n",
       "      <th></th>\n",
       "      <th></th>\n",
       "      <th></th>\n",
       "      <th></th>\n",
       "      <th></th>\n",
       "    </tr>\n",
       "  </thead>\n",
       "  <tbody>\n",
       "    <tr>\n",
       "      <th>XX-P001</th>\n",
       "      <td>Inhumación</td>\n",
       "      <td>2019-01-30 00:00:00</td>\n",
       "      <td>2018-03-04 00:00:00</td>\n",
       "      <td>Restos cremados</td>\n",
       "      <td>Masculino</td>\n",
       "      <td>55</td>\n",
       "      <td>Desconocido</td>\n",
       "      <td>NaN</td>\n",
       "      <td>NaN</td>\n",
       "      <td>NaN</td>\n",
       "      <td></td>\n",
       "      <td>UNIVERSIDAD WESTHILL - FACULTAD DE MEDICINA</td>\n",
       "      <td>Sí</td>\n",
       "      <td>2020-03-23 00:00:00</td>\n",
       "    </tr>\n",
       "    <tr>\n",
       "      <th>XX-P002</th>\n",
       "      <td>Inhumación</td>\n",
       "      <td>2019-01-26 00:00:00</td>\n",
       "      <td>2018-12-12 00:00:00</td>\n",
       "      <td>Cadáver</td>\n",
       "      <td>Masculino</td>\n",
       "      <td>NaN</td>\n",
       "      <td>Desconocido</td>\n",
       "      <td>NaN</td>\n",
       "      <td>NaN</td>\n",
       "      <td>NaN</td>\n",
       "      <td></td>\n",
       "      <td>INSTITUTO DE CIENCIAS FORENSES - TRIBUNAL SUPE...</td>\n",
       "      <td>Sí</td>\n",
       "      <td>2020-03-23 00:00:00</td>\n",
       "    </tr>\n",
       "    <tr>\n",
       "      <th>XX-P003</th>\n",
       "      <td>Inhumación</td>\n",
       "      <td>2019-01-26 00:00:00</td>\n",
       "      <td>2018-12-13 00:00:00</td>\n",
       "      <td>Cadáver</td>\n",
       "      <td>Masculino</td>\n",
       "      <td>NaN</td>\n",
       "      <td>Conocido</td>\n",
       "      <td>Cruz</td>\n",
       "      <td>Lucero</td>\n",
       "      <td>Alberto</td>\n",
       "      <td>Alberto Cruz Lucero</td>\n",
       "      <td>INSTITUTO DE CIENCIAS FORENSES - TRIBUNAL SUPE...</td>\n",
       "      <td>Sí</td>\n",
       "      <td>2020-03-23 00:00:00</td>\n",
       "    </tr>\n",
       "    <tr>\n",
       "      <th>XX-P004</th>\n",
       "      <td>Inhumación</td>\n",
       "      <td>2019-01-26 00:00:00</td>\n",
       "      <td>2018-12-14 00:00:00</td>\n",
       "      <td>Cadáver</td>\n",
       "      <td>Masculino</td>\n",
       "      <td>NaN</td>\n",
       "      <td>Desconocido</td>\n",
       "      <td>NaN</td>\n",
       "      <td>NaN</td>\n",
       "      <td>NaN</td>\n",
       "      <td></td>\n",
       "      <td>INSTITUTO DE CIENCIAS FORENSES - TRIBUNAL SUPE...</td>\n",
       "      <td>Sí</td>\n",
       "      <td>2020-03-23 00:00:00</td>\n",
       "    </tr>\n",
       "    <tr>\n",
       "      <th>XX-P005</th>\n",
       "      <td>Inhumación</td>\n",
       "      <td>2019-01-26 00:00:00</td>\n",
       "      <td>2018-12-18 00:00:00</td>\n",
       "      <td>Cadáver</td>\n",
       "      <td>Masculino</td>\n",
       "      <td>NaN</td>\n",
       "      <td>Desconocido</td>\n",
       "      <td>NaN</td>\n",
       "      <td>NaN</td>\n",
       "      <td>NaN</td>\n",
       "      <td></td>\n",
       "      <td>INSTITUTO DE CIENCIAS FORENSES - TRIBUNAL SUPE...</td>\n",
       "      <td>Sí</td>\n",
       "      <td>2020-03-23 00:00:00</td>\n",
       "    </tr>\n",
       "  </tbody>\n",
       "</table>\n",
       "</div>"
      ],
      "text/plain": [
       "         Estatus_FC     Fecha_inhumación      Fecha_defunción  \\\n",
       "ID                                                              \n",
       "XX-P001  Inhumación  2019-01-30 00:00:00  2018-03-04 00:00:00   \n",
       "XX-P002  Inhumación  2019-01-26 00:00:00  2018-12-12 00:00:00   \n",
       "XX-P003  Inhumación  2019-01-26 00:00:00  2018-12-13 00:00:00   \n",
       "XX-P004  Inhumación  2019-01-26 00:00:00  2018-12-14 00:00:00   \n",
       "XX-P005  Inhumación  2019-01-26 00:00:00  2018-12-18 00:00:00   \n",
       "\n",
       "             Restos_tipo       Sexo Edad Conocido_Desconocido Primer apellido  \\\n",
       "ID                                                                              \n",
       "XX-P001  Restos cremados  Masculino   55          Desconocido             NaN   \n",
       "XX-P002          Cadáver  Masculino  NaN          Desconocido             NaN   \n",
       "XX-P003          Cadáver  Masculino  NaN             Conocido            Cruz   \n",
       "XX-P004          Cadáver  Masculino  NaN          Desconocido             NaN   \n",
       "XX-P005          Cadáver  Masculino  NaN          Desconocido             NaN   \n",
       "\n",
       "        Segundo Apellido Nombre(s)      Nombre completo  \\\n",
       "ID                                                        \n",
       "XX-P001              NaN       NaN                        \n",
       "XX-P002              NaN       NaN                        \n",
       "XX-P003           Lucero   Alberto  Alberto Cruz Lucero   \n",
       "XX-P004              NaN       NaN                        \n",
       "XX-P005              NaN       NaN                        \n",
       "\n",
       "                                        Institución_origen Rdoc  \\\n",
       "ID                                                                \n",
       "XX-P001        UNIVERSIDAD WESTHILL - FACULTAD DE MEDICINA   Sí   \n",
       "XX-P002  INSTITUTO DE CIENCIAS FORENSES - TRIBUNAL SUPE...   Sí   \n",
       "XX-P003  INSTITUTO DE CIENCIAS FORENSES - TRIBUNAL SUPE...   Sí   \n",
       "XX-P004  INSTITUTO DE CIENCIAS FORENSES - TRIBUNAL SUPE...   Sí   \n",
       "XX-P005  INSTITUTO DE CIENCIAS FORENSES - TRIBUNAL SUPE...   Sí   \n",
       "\n",
       "              Marca_temporal  \n",
       "ID                            \n",
       "XX-P001  2020-03-23 00:00:00  \n",
       "XX-P002  2020-03-23 00:00:00  \n",
       "XX-P003  2020-03-23 00:00:00  \n",
       "XX-P004  2020-03-23 00:00:00  \n",
       "XX-P005  2020-03-23 00:00:00  "
      ]
     },
     "execution_count": 11,
     "metadata": {},
     "output_type": "execute_result"
    }
   ],
   "source": [
    "df = df.dropna(thresh=50, axis=1)\n",
    "df.head()"
   ]
  },
  {
   "cell_type": "markdown",
   "metadata": {},
   "source": [
    "Para determinar si debemos de quitar filas por nan en primer lugar hay que análizar la cantidad de faltantes y su distribución.\n",
    "\n",
    "**Nota** Explicación del comando\n",
    "```\n",
    "df.isna()         <-- determinar si las celdas son na\n",
    "  .sum(axis=1)    <-- sumar los faltantes por fila\n",
    "  .value_counts() <-- contar cuantas veces aparece cada número\n",
    "  .sort_index()   <-- ordenar por el indice, que en este caso es el número de faltantes\n",
    "```\n"
   ]
  },
  {
   "cell_type": "code",
   "execution_count": 12,
   "metadata": {
    "tags": []
   },
   "outputs": [
    {
     "data": {
      "text/plain": [
       "0    395\n",
       "1    130\n",
       "2     26\n",
       "3    164\n",
       "4    285\n",
       "dtype: int64"
      ]
     },
     "execution_count": 12,
     "metadata": {},
     "output_type": "execute_result"
    }
   ],
   "source": [
    "df.isna().sum(axis=1).value_counts().sort_index()"
   ]
  },
  {
   "cell_type": "markdown",
   "metadata": {},
   "source": [
    "Cómo podemos ver hay 285 filas donde faltan 4 valores, lo cual es poco menos de la mitad. Revisemos estas filas."
   ]
  },
  {
   "cell_type": "code",
   "execution_count": 13,
   "metadata": {
    "tags": []
   },
   "outputs": [
    {
     "data": {
      "text/html": [
       "<div>\n",
       "<style scoped>\n",
       "    .dataframe tbody tr th:only-of-type {\n",
       "        vertical-align: middle;\n",
       "    }\n",
       "\n",
       "    .dataframe tbody tr th {\n",
       "        vertical-align: top;\n",
       "    }\n",
       "\n",
       "    .dataframe thead th {\n",
       "        text-align: right;\n",
       "    }\n",
       "</style>\n",
       "<table border=\"1\" class=\"dataframe\">\n",
       "  <thead>\n",
       "    <tr style=\"text-align: right;\">\n",
       "      <th></th>\n",
       "      <th>Estatus_FC</th>\n",
       "      <th>Fecha_inhumación</th>\n",
       "      <th>Fecha_defunción</th>\n",
       "      <th>Restos_tipo</th>\n",
       "      <th>Sexo</th>\n",
       "      <th>Edad</th>\n",
       "      <th>Conocido_Desconocido</th>\n",
       "      <th>Primer apellido</th>\n",
       "      <th>Segundo Apellido</th>\n",
       "      <th>Nombre(s)</th>\n",
       "      <th>Nombre completo</th>\n",
       "      <th>Institución_origen</th>\n",
       "      <th>Rdoc</th>\n",
       "      <th>Marca_temporal</th>\n",
       "    </tr>\n",
       "    <tr>\n",
       "      <th>ID</th>\n",
       "      <th></th>\n",
       "      <th></th>\n",
       "      <th></th>\n",
       "      <th></th>\n",
       "      <th></th>\n",
       "      <th></th>\n",
       "      <th></th>\n",
       "      <th></th>\n",
       "      <th></th>\n",
       "      <th></th>\n",
       "      <th></th>\n",
       "      <th></th>\n",
       "      <th></th>\n",
       "      <th></th>\n",
       "    </tr>\n",
       "  </thead>\n",
       "  <tbody>\n",
       "    <tr>\n",
       "      <th>XX-P002</th>\n",
       "      <td>Inhumación</td>\n",
       "      <td>2019-01-26 00:00:00</td>\n",
       "      <td>2018-12-12 00:00:00</td>\n",
       "      <td>Cadáver</td>\n",
       "      <td>Masculino</td>\n",
       "      <td>NaN</td>\n",
       "      <td>Desconocido</td>\n",
       "      <td>NaN</td>\n",
       "      <td>NaN</td>\n",
       "      <td>NaN</td>\n",
       "      <td></td>\n",
       "      <td>INSTITUTO DE CIENCIAS FORENSES - TRIBUNAL SUPE...</td>\n",
       "      <td>Sí</td>\n",
       "      <td>2020-03-23 00:00:00</td>\n",
       "    </tr>\n",
       "    <tr>\n",
       "      <th>XX-P004</th>\n",
       "      <td>Inhumación</td>\n",
       "      <td>2019-01-26 00:00:00</td>\n",
       "      <td>2018-12-14 00:00:00</td>\n",
       "      <td>Cadáver</td>\n",
       "      <td>Masculino</td>\n",
       "      <td>NaN</td>\n",
       "      <td>Desconocido</td>\n",
       "      <td>NaN</td>\n",
       "      <td>NaN</td>\n",
       "      <td>NaN</td>\n",
       "      <td></td>\n",
       "      <td>INSTITUTO DE CIENCIAS FORENSES - TRIBUNAL SUPE...</td>\n",
       "      <td>Sí</td>\n",
       "      <td>2020-03-23 00:00:00</td>\n",
       "    </tr>\n",
       "    <tr>\n",
       "      <th>XX-P005</th>\n",
       "      <td>Inhumación</td>\n",
       "      <td>2019-01-26 00:00:00</td>\n",
       "      <td>2018-12-18 00:00:00</td>\n",
       "      <td>Cadáver</td>\n",
       "      <td>Masculino</td>\n",
       "      <td>NaN</td>\n",
       "      <td>Desconocido</td>\n",
       "      <td>NaN</td>\n",
       "      <td>NaN</td>\n",
       "      <td>NaN</td>\n",
       "      <td></td>\n",
       "      <td>INSTITUTO DE CIENCIAS FORENSES - TRIBUNAL SUPE...</td>\n",
       "      <td>Sí</td>\n",
       "      <td>2020-03-23 00:00:00</td>\n",
       "    </tr>\n",
       "    <tr>\n",
       "      <th>XX-P006</th>\n",
       "      <td>Inhumación</td>\n",
       "      <td>2019-01-26 00:00:00</td>\n",
       "      <td>2018-12-16 00:00:00</td>\n",
       "      <td>Cadáver</td>\n",
       "      <td>Masculino</td>\n",
       "      <td>NaN</td>\n",
       "      <td>Desconocido</td>\n",
       "      <td>NaN</td>\n",
       "      <td>NaN</td>\n",
       "      <td>NaN</td>\n",
       "      <td></td>\n",
       "      <td>INSTITUTO DE CIENCIAS FORENSES - TRIBUNAL SUPE...</td>\n",
       "      <td>Sí</td>\n",
       "      <td>2020-03-23 00:00:00</td>\n",
       "    </tr>\n",
       "    <tr>\n",
       "      <th>XX-P008</th>\n",
       "      <td>Inhumación</td>\n",
       "      <td>2019-01-26 00:00:00</td>\n",
       "      <td>2019-12-17 00:00:00</td>\n",
       "      <td>Cadáver</td>\n",
       "      <td>Masculino</td>\n",
       "      <td>NaN</td>\n",
       "      <td>Desconocido</td>\n",
       "      <td>NaN</td>\n",
       "      <td>NaN</td>\n",
       "      <td>NaN</td>\n",
       "      <td></td>\n",
       "      <td>INSTITUTO DE CIENCIAS FORENSES - TRIBUNAL SUPE...</td>\n",
       "      <td>Sí</td>\n",
       "      <td>2020-03-23 00:00:00</td>\n",
       "    </tr>\n",
       "    <tr>\n",
       "      <th>...</th>\n",
       "      <td>...</td>\n",
       "      <td>...</td>\n",
       "      <td>...</td>\n",
       "      <td>...</td>\n",
       "      <td>...</td>\n",
       "      <td>...</td>\n",
       "      <td>...</td>\n",
       "      <td>...</td>\n",
       "      <td>...</td>\n",
       "      <td>...</td>\n",
       "      <td>...</td>\n",
       "      <td>...</td>\n",
       "      <td>...</td>\n",
       "      <td>...</td>\n",
       "    </tr>\n",
       "    <tr>\n",
       "      <th>XX-P966</th>\n",
       "      <td>Inhumación</td>\n",
       "      <td>2018-07-14 00:00:00</td>\n",
       "      <td>2018-06-16 00:00:00</td>\n",
       "      <td>Cadáver</td>\n",
       "      <td>Masculino</td>\n",
       "      <td>NaN</td>\n",
       "      <td>Desconocido</td>\n",
       "      <td>NaN</td>\n",
       "      <td>NaN</td>\n",
       "      <td>NaN</td>\n",
       "      <td></td>\n",
       "      <td>INSTITUTO DE CIENCIAS FORENSES - TRIBUNAL SUPE...</td>\n",
       "      <td>Sí</td>\n",
       "      <td>2020-04-06 15:10:58.895000</td>\n",
       "    </tr>\n",
       "    <tr>\n",
       "      <th>XX-P967</th>\n",
       "      <td>Inhumación</td>\n",
       "      <td>2018-07-14 00:00:00</td>\n",
       "      <td>2017-08-08 00:00:00</td>\n",
       "      <td>Cadáver</td>\n",
       "      <td>Femenino</td>\n",
       "      <td>NaN</td>\n",
       "      <td>Desconocido</td>\n",
       "      <td>NaN</td>\n",
       "      <td>NaN</td>\n",
       "      <td>NaN</td>\n",
       "      <td></td>\n",
       "      <td>INSTITUTO DE CIENCIAS FORENSES - TRIBUNAL SUPE...</td>\n",
       "      <td>Sí</td>\n",
       "      <td>2020-04-06 15:14:11.685000</td>\n",
       "    </tr>\n",
       "    <tr>\n",
       "      <th>XX-P974</th>\n",
       "      <td>Inhumación</td>\n",
       "      <td>2018-07-14 00:00:00</td>\n",
       "      <td>S/D</td>\n",
       "      <td>Restos humanos</td>\n",
       "      <td>Indeterminado</td>\n",
       "      <td>NaN</td>\n",
       "      <td>Desconocido</td>\n",
       "      <td>NaN</td>\n",
       "      <td>NaN</td>\n",
       "      <td>NaN</td>\n",
       "      <td></td>\n",
       "      <td>INSTITUTO DE CIENCIAS FORENSES - TRIBUNAL SUPE...</td>\n",
       "      <td>Sí</td>\n",
       "      <td>2020-04-06 18:51:06.834000</td>\n",
       "    </tr>\n",
       "    <tr>\n",
       "      <th>XX-P998</th>\n",
       "      <td>Inhumación</td>\n",
       "      <td>2018-09-01 00:00:00</td>\n",
       "      <td>2018-08-18 00:00:00</td>\n",
       "      <td>Cadáver</td>\n",
       "      <td>Masculino</td>\n",
       "      <td>NaN</td>\n",
       "      <td>Desconocido</td>\n",
       "      <td>NaN</td>\n",
       "      <td>NaN</td>\n",
       "      <td>NaN</td>\n",
       "      <td></td>\n",
       "      <td>INSTITUTO DE CIENCIAS FORENSES - TRIBUNAL SUPE...</td>\n",
       "      <td>Sí</td>\n",
       "      <td>2020-04-06 21:30:12.169000</td>\n",
       "    </tr>\n",
       "    <tr>\n",
       "      <th>XX-P1000</th>\n",
       "      <td>Inhumación</td>\n",
       "      <td>2018-09-01 00:00:00</td>\n",
       "      <td>2018-05-29 00:00:00</td>\n",
       "      <td>Cadáver</td>\n",
       "      <td>Masculino</td>\n",
       "      <td>NaN</td>\n",
       "      <td>Desconocido</td>\n",
       "      <td>NaN</td>\n",
       "      <td>NaN</td>\n",
       "      <td>NaN</td>\n",
       "      <td></td>\n",
       "      <td>INSTITUTO DE CIENCIAS FORENSES - TRIBUNAL SUPE...</td>\n",
       "      <td>Sí</td>\n",
       "      <td>2020-04-06 21:35:23.157000</td>\n",
       "    </tr>\n",
       "  </tbody>\n",
       "</table>\n",
       "<p>285 rows × 14 columns</p>\n",
       "</div>"
      ],
      "text/plain": [
       "          Estatus_FC     Fecha_inhumación      Fecha_defunción  \\\n",
       "ID                                                               \n",
       "XX-P002   Inhumación  2019-01-26 00:00:00  2018-12-12 00:00:00   \n",
       "XX-P004   Inhumación  2019-01-26 00:00:00  2018-12-14 00:00:00   \n",
       "XX-P005   Inhumación  2019-01-26 00:00:00  2018-12-18 00:00:00   \n",
       "XX-P006   Inhumación  2019-01-26 00:00:00  2018-12-16 00:00:00   \n",
       "XX-P008   Inhumación  2019-01-26 00:00:00  2019-12-17 00:00:00   \n",
       "...              ...                  ...                  ...   \n",
       "XX-P966   Inhumación  2018-07-14 00:00:00  2018-06-16 00:00:00   \n",
       "XX-P967   Inhumación  2018-07-14 00:00:00  2017-08-08 00:00:00   \n",
       "XX-P974   Inhumación  2018-07-14 00:00:00                  S/D   \n",
       "XX-P998   Inhumación  2018-09-01 00:00:00  2018-08-18 00:00:00   \n",
       "XX-P1000  Inhumación  2018-09-01 00:00:00  2018-05-29 00:00:00   \n",
       "\n",
       "             Restos_tipo           Sexo Edad Conocido_Desconocido  \\\n",
       "ID                                                                  \n",
       "XX-P002          Cadáver      Masculino  NaN          Desconocido   \n",
       "XX-P004          Cadáver      Masculino  NaN          Desconocido   \n",
       "XX-P005          Cadáver      Masculino  NaN          Desconocido   \n",
       "XX-P006          Cadáver      Masculino  NaN          Desconocido   \n",
       "XX-P008          Cadáver      Masculino  NaN          Desconocido   \n",
       "...                  ...            ...  ...                  ...   \n",
       "XX-P966          Cadáver      Masculino  NaN          Desconocido   \n",
       "XX-P967          Cadáver       Femenino  NaN          Desconocido   \n",
       "XX-P974   Restos humanos  Indeterminado  NaN          Desconocido   \n",
       "XX-P998          Cadáver      Masculino  NaN          Desconocido   \n",
       "XX-P1000         Cadáver      Masculino  NaN          Desconocido   \n",
       "\n",
       "         Primer apellido Segundo Apellido Nombre(s) Nombre completo  \\\n",
       "ID                                                                    \n",
       "XX-P002              NaN              NaN       NaN                   \n",
       "XX-P004              NaN              NaN       NaN                   \n",
       "XX-P005              NaN              NaN       NaN                   \n",
       "XX-P006              NaN              NaN       NaN                   \n",
       "XX-P008              NaN              NaN       NaN                   \n",
       "...                  ...              ...       ...             ...   \n",
       "XX-P966              NaN              NaN       NaN                   \n",
       "XX-P967              NaN              NaN       NaN                   \n",
       "XX-P974              NaN              NaN       NaN                   \n",
       "XX-P998              NaN              NaN       NaN                   \n",
       "XX-P1000             NaN              NaN       NaN                   \n",
       "\n",
       "                                         Institución_origen Rdoc  \\\n",
       "ID                                                                 \n",
       "XX-P002   INSTITUTO DE CIENCIAS FORENSES - TRIBUNAL SUPE...   Sí   \n",
       "XX-P004   INSTITUTO DE CIENCIAS FORENSES - TRIBUNAL SUPE...   Sí   \n",
       "XX-P005   INSTITUTO DE CIENCIAS FORENSES - TRIBUNAL SUPE...   Sí   \n",
       "XX-P006   INSTITUTO DE CIENCIAS FORENSES - TRIBUNAL SUPE...   Sí   \n",
       "XX-P008   INSTITUTO DE CIENCIAS FORENSES - TRIBUNAL SUPE...   Sí   \n",
       "...                                                     ...  ...   \n",
       "XX-P966   INSTITUTO DE CIENCIAS FORENSES - TRIBUNAL SUPE...   Sí   \n",
       "XX-P967   INSTITUTO DE CIENCIAS FORENSES - TRIBUNAL SUPE...   Sí   \n",
       "XX-P974   INSTITUTO DE CIENCIAS FORENSES - TRIBUNAL SUPE...   Sí   \n",
       "XX-P998   INSTITUTO DE CIENCIAS FORENSES - TRIBUNAL SUPE...   Sí   \n",
       "XX-P1000  INSTITUTO DE CIENCIAS FORENSES - TRIBUNAL SUPE...   Sí   \n",
       "\n",
       "                      Marca_temporal  \n",
       "ID                                    \n",
       "XX-P002          2020-03-23 00:00:00  \n",
       "XX-P004          2020-03-23 00:00:00  \n",
       "XX-P005          2020-03-23 00:00:00  \n",
       "XX-P006          2020-03-23 00:00:00  \n",
       "XX-P008          2020-03-23 00:00:00  \n",
       "...                              ...  \n",
       "XX-P966   2020-04-06 15:10:58.895000  \n",
       "XX-P967   2020-04-06 15:14:11.685000  \n",
       "XX-P974   2020-04-06 18:51:06.834000  \n",
       "XX-P998   2020-04-06 21:30:12.169000  \n",
       "XX-P1000  2020-04-06 21:35:23.157000  \n",
       "\n",
       "[285 rows x 14 columns]"
      ]
     },
     "execution_count": 13,
     "metadata": {},
     "output_type": "execute_result"
    }
   ],
   "source": [
    "df[ df.isna().sum(axis=1)>=4 ]"
   ]
  },
  {
   "cell_type": "markdown",
   "metadata": {},
   "source": [
    "3.3 Valores faltantes\n",
    "\n",
    "En este "
   ]
  },
  {
   "cell_type": "markdown",
   "metadata": {},
   "source": [
    "En este caso son desconocidos donde no se sabe la edad, por lo que no es necesario quitarlas."
   ]
  },
  {
   "cell_type": "markdown",
   "metadata": {
    "tags": []
   },
   "source": [
    "## Limpieza de texto\n",
    "\n",
    "En este conjunto las columnas de texto son:\n",
    "* 'Primer apellido'\n",
    "* 'Segundo Apellido'\n",
    "* 'Nombre(s)'\n",
    "* 'Nombre completo'\n",
    "* 'Rdoc'\n",
    "* 'Datos alternativos'\n",
    "\n",
    "Dependiendo del tipo de dato se pueden hacer diferentes operaciones. Por ejemplo, se puede pasar a mayusculas un texto pero no un número, se puede obtener el año de una fecha pero no de un texto\n",
    "\n",
    "Por ejemplo, pensemos que queremos que las instituciones de origen no esten todas en mayusculas, sino solo la primera letra de la palabra.\n",
    "\n",
    "Para hacer esto seleccionaremos la columna de interes, y luego aplicaremos la función `.str.title()`. \n",
    "\n",
    "**Nota**: existen varias funciones para mayusculas y minusculas como `.upper()`, `.lower()`, `.capitalize()` y `.title()`"
   ]
  },
  {
   "cell_type": "code",
   "execution_count": 3,
   "metadata": {
    "tags": []
   },
   "outputs": [
    {
     "data": {
      "text/plain": [
       "ID\n",
       "XX-P001           Universidad Westhill - Facultad De Medicina\n",
       "XX-P002     Instituto De Ciencias Forenses - Tribunal Supe...\n",
       "XX-P003     Instituto De Ciencias Forenses - Tribunal Supe...\n",
       "XX-P004     Instituto De Ciencias Forenses - Tribunal Supe...\n",
       "XX-P005     Instituto De Ciencias Forenses - Tribunal Supe...\n",
       "                                  ...                        \n",
       "XX-P996     Universidad Nacional Autónoma De México - Facu...\n",
       "XX-P997     Universidad Nacional Autónoma De México - Facu...\n",
       "XX-P998     Instituto De Ciencias Forenses - Tribunal Supe...\n",
       "XX-P999     Instituto De Ciencias Forenses - Tribunal Supe...\n",
       "XX-P1000    Instituto De Ciencias Forenses - Tribunal Supe...\n",
       "Name: Institución_origen, Length: 1000, dtype: object"
      ]
     },
     "execution_count": 3,
     "metadata": {},
     "output_type": "execute_result"
    }
   ],
   "source": [
    "df['Institución_origen'].str.title()"
   ]
  },
  {
   "cell_type": "markdown",
   "metadata": {},
   "source": [
    "Podemos realizar más operaciones sobre esta selección, por ejemplo ordenar alfabeticamente obtener los valores únicos para obtener una lista de nombres propios."
   ]
  },
  {
   "cell_type": "code",
   "execution_count": 4,
   "metadata": {
    "tags": []
   },
   "outputs": [
    {
     "data": {
      "text/plain": [
       "array(['Centro Cultural Universitario Justo Sierra',\n",
       "       'Escuela De Medicina Saint Luke',\n",
       "       'Institución De Asistencia Privada - Escuela Libre De Homeopatía De México',\n",
       "       'Instituto De Ciencias Forenses - Tribunal Superior De Justicia De La Ciudad De México',\n",
       "       'Instituto Politécnico Nacional - Escuela Nacional De Medicina Y Homeopatía',\n",
       "       'Procuraduría General De La República',\n",
       "       'Secretaría De La Defensa Nacional - Escuela Militar De Medicina',\n",
       "       'The American British Cowdray Medical Center La.P.',\n",
       "       'Universidad Anáhuac - Facultad De Ciencias De La Salud',\n",
       "       'Universidad Nacional Autónoma De México - Facultad De Medicina',\n",
       "       'Universidad Popular Autónoma Del Estado De Puebla',\n",
       "       'Universidad Tominaga Nakamoto S.C. Escuela De Medicina Ciencias Básicas',\n",
       "       'Universidad Westhill - Facultad De Medicina'], dtype=object)"
      ]
     },
     "execution_count": 4,
     "metadata": {},
     "output_type": "execute_result"
    }
   ],
   "source": [
    "df['Institución_origen'].str.title().sort_values().unique()"
   ]
  },
  {
   "cell_type": "markdown",
   "metadata": {},
   "source": [
    "Existen funciones que no se encuentran en pandas pero que pueden ser utiles. Por ejemplo, para ejemploquitar los acentos es posible con la función `unidecode`, la cual es parte de la biblioteca `unidecode`."
   ]
  },
  {
   "cell_type": "code",
   "execution_count": 5,
   "metadata": {
    "tags": []
   },
   "outputs": [
    {
     "data": {
      "text/plain": [
       "'Mexico'"
      ]
     },
     "execution_count": 5,
     "metadata": {},
     "output_type": "execute_result"
    }
   ],
   "source": [
    "from unidecode import unidecode\n",
    "unidecode('México')"
   ]
  },
  {
   "cell_type": "markdown",
   "metadata": {},
   "source": [
    "Podemos aplicar esta función a toda la columna"
   ]
  },
  {
   "cell_type": "code",
   "execution_count": 6,
   "metadata": {
    "tags": []
   },
   "outputs": [
    {
     "data": {
      "text/plain": [
       "ID\n",
       "XX-P001           UNIVERSIDAD WESTHILL - FACULTAD DE MEDICINA\n",
       "XX-P002     INSTITUTO DE CIENCIAS FORENSES - TRIBUNAL SUPE...\n",
       "XX-P003     INSTITUTO DE CIENCIAS FORENSES - TRIBUNAL SUPE...\n",
       "XX-P004     INSTITUTO DE CIENCIAS FORENSES - TRIBUNAL SUPE...\n",
       "XX-P005     INSTITUTO DE CIENCIAS FORENSES - TRIBUNAL SUPE...\n",
       "                                  ...                        \n",
       "XX-P996     UNIVERSIDAD NACIONAL AUTONOMA DE MEXICO - FACU...\n",
       "XX-P997     UNIVERSIDAD NACIONAL AUTONOMA DE MEXICO - FACU...\n",
       "XX-P998     INSTITUTO DE CIENCIAS FORENSES - TRIBUNAL SUPE...\n",
       "XX-P999     INSTITUTO DE CIENCIAS FORENSES - TRIBUNAL SUPE...\n",
       "XX-P1000    INSTITUTO DE CIENCIAS FORENSES - TRIBUNAL SUPE...\n",
       "Name: Institución_origen, Length: 1000, dtype: object"
      ]
     },
     "execution_count": 6,
     "metadata": {},
     "output_type": "execute_result"
    }
   ],
   "source": [
    "df['Institución_origen'].apply(unidecode)"
   ]
  },
  {
   "cell_type": "markdown",
   "metadata": {},
   "source": [
    "Además, podemos aplicar varias funciones juntas."
   ]
  },
  {
   "cell_type": "code",
   "execution_count": 7,
   "metadata": {
    "tags": []
   },
   "outputs": [
    {
     "data": {
      "text/plain": [
       "ID\n",
       "XX-P001           Universidad Westhill - Facultad De Medicina\n",
       "XX-P002     Instituto De Ciencias Forenses - Tribunal Supe...\n",
       "XX-P003     Instituto De Ciencias Forenses - Tribunal Supe...\n",
       "XX-P004     Instituto De Ciencias Forenses - Tribunal Supe...\n",
       "XX-P005     Instituto De Ciencias Forenses - Tribunal Supe...\n",
       "                                  ...                        \n",
       "XX-P996     Universidad Nacional Autonoma De Mexico - Facu...\n",
       "XX-P997     Universidad Nacional Autonoma De Mexico - Facu...\n",
       "XX-P998     Instituto De Ciencias Forenses - Tribunal Supe...\n",
       "XX-P999     Instituto De Ciencias Forenses - Tribunal Supe...\n",
       "XX-P1000    Instituto De Ciencias Forenses - Tribunal Supe...\n",
       "Name: Institución_origen, Length: 1000, dtype: object"
      ]
     },
     "execution_count": 7,
     "metadata": {},
     "output_type": "execute_result"
    }
   ],
   "source": [
    "df['Institución_origen'].str.title().apply(unidecode)"
   ]
  },
  {
   "cell_type": "markdown",
   "metadata": {},
   "source": [
    "Sin embargo, al aplicar esta función a la columna `Nombre(s)` genera un error `AttributeError: 'float' object has no attribute 'encode'`. \n",
    "\n",
    "Esto se debe a que la columna incluye valores vacios, los cuales son de tipo `float`, por lo tanto la función `unidecode` se confunde, ya que los números no tienen acentos. \n",
    "\n",
    "Resolver este tipo de problemas es parte de la limpieza de datos y se verá mas adelante."
   ]
  },
  {
   "cell_type": "code",
   "execution_count": 8,
   "metadata": {
    "tags": []
   },
   "outputs": [
    {
     "ename": "AttributeError",
     "evalue": "'float' object has no attribute 'encode'",
     "output_type": "error",
     "traceback": [
      "\u001b[0;31m---------------------------------------------------------------------------\u001b[0m",
      "\u001b[0;31mAttributeError\u001b[0m                            Traceback (most recent call last)",
      "Cell \u001b[0;32mIn[8], line 1\u001b[0m\n\u001b[0;32m----> 1\u001b[0m \u001b[43mdf\u001b[49m\u001b[43m[\u001b[49m\u001b[38;5;124;43m'\u001b[39;49m\u001b[38;5;124;43mNombre(s)\u001b[39;49m\u001b[38;5;124;43m'\u001b[39;49m\u001b[43m]\u001b[49m\u001b[38;5;241;43m.\u001b[39;49m\u001b[43mapply\u001b[49m\u001b[43m(\u001b[49m\u001b[43m \u001b[49m\u001b[43munidecode\u001b[49m\u001b[43m \u001b[49m\u001b[43m)\u001b[49m\n",
      "File \u001b[0;32m~/anaconda3/envs/CursoPandas2023/lib/python3.10/site-packages/pandas/core/series.py:4771\u001b[0m, in \u001b[0;36mSeries.apply\u001b[0;34m(self, func, convert_dtype, args, **kwargs)\u001b[0m\n\u001b[1;32m   4661\u001b[0m \u001b[38;5;28;01mdef\u001b[39;00m \u001b[38;5;21mapply\u001b[39m(\n\u001b[1;32m   4662\u001b[0m     \u001b[38;5;28mself\u001b[39m,\n\u001b[1;32m   4663\u001b[0m     func: AggFuncType,\n\u001b[0;32m   (...)\u001b[0m\n\u001b[1;32m   4666\u001b[0m     \u001b[38;5;241m*\u001b[39m\u001b[38;5;241m*\u001b[39mkwargs,\n\u001b[1;32m   4667\u001b[0m ) \u001b[38;5;241m-\u001b[39m\u001b[38;5;241m>\u001b[39m DataFrame \u001b[38;5;241m|\u001b[39m Series:\n\u001b[1;32m   4668\u001b[0m     \u001b[38;5;124;03m\"\"\"\u001b[39;00m\n\u001b[1;32m   4669\u001b[0m \u001b[38;5;124;03m    Invoke function on values of Series.\u001b[39;00m\n\u001b[1;32m   4670\u001b[0m \n\u001b[0;32m   (...)\u001b[0m\n\u001b[1;32m   4769\u001b[0m \u001b[38;5;124;03m    dtype: float64\u001b[39;00m\n\u001b[1;32m   4770\u001b[0m \u001b[38;5;124;03m    \"\"\"\u001b[39;00m\n\u001b[0;32m-> 4771\u001b[0m     \u001b[38;5;28;01mreturn\u001b[39;00m \u001b[43mSeriesApply\u001b[49m\u001b[43m(\u001b[49m\u001b[38;5;28;43mself\u001b[39;49m\u001b[43m,\u001b[49m\u001b[43m \u001b[49m\u001b[43mfunc\u001b[49m\u001b[43m,\u001b[49m\u001b[43m \u001b[49m\u001b[43mconvert_dtype\u001b[49m\u001b[43m,\u001b[49m\u001b[43m \u001b[49m\u001b[43margs\u001b[49m\u001b[43m,\u001b[49m\u001b[43m \u001b[49m\u001b[43mkwargs\u001b[49m\u001b[43m)\u001b[49m\u001b[38;5;241;43m.\u001b[39;49m\u001b[43mapply\u001b[49m\u001b[43m(\u001b[49m\u001b[43m)\u001b[49m\n",
      "File \u001b[0;32m~/anaconda3/envs/CursoPandas2023/lib/python3.10/site-packages/pandas/core/apply.py:1123\u001b[0m, in \u001b[0;36mSeriesApply.apply\u001b[0;34m(self)\u001b[0m\n\u001b[1;32m   1120\u001b[0m     \u001b[38;5;28;01mreturn\u001b[39;00m \u001b[38;5;28mself\u001b[39m\u001b[38;5;241m.\u001b[39mapply_str()\n\u001b[1;32m   1122\u001b[0m \u001b[38;5;66;03m# self.f is Callable\u001b[39;00m\n\u001b[0;32m-> 1123\u001b[0m \u001b[38;5;28;01mreturn\u001b[39;00m \u001b[38;5;28;43mself\u001b[39;49m\u001b[38;5;241;43m.\u001b[39;49m\u001b[43mapply_standard\u001b[49m\u001b[43m(\u001b[49m\u001b[43m)\u001b[49m\n",
      "File \u001b[0;32m~/anaconda3/envs/CursoPandas2023/lib/python3.10/site-packages/pandas/core/apply.py:1174\u001b[0m, in \u001b[0;36mSeriesApply.apply_standard\u001b[0;34m(self)\u001b[0m\n\u001b[1;32m   1172\u001b[0m     \u001b[38;5;28;01melse\u001b[39;00m:\n\u001b[1;32m   1173\u001b[0m         values \u001b[38;5;241m=\u001b[39m obj\u001b[38;5;241m.\u001b[39mastype(\u001b[38;5;28mobject\u001b[39m)\u001b[38;5;241m.\u001b[39m_values\n\u001b[0;32m-> 1174\u001b[0m         mapped \u001b[38;5;241m=\u001b[39m \u001b[43mlib\u001b[49m\u001b[38;5;241;43m.\u001b[39;49m\u001b[43mmap_infer\u001b[49m\u001b[43m(\u001b[49m\n\u001b[1;32m   1175\u001b[0m \u001b[43m            \u001b[49m\u001b[43mvalues\u001b[49m\u001b[43m,\u001b[49m\n\u001b[1;32m   1176\u001b[0m \u001b[43m            \u001b[49m\u001b[43mf\u001b[49m\u001b[43m,\u001b[49m\n\u001b[1;32m   1177\u001b[0m \u001b[43m            \u001b[49m\u001b[43mconvert\u001b[49m\u001b[38;5;241;43m=\u001b[39;49m\u001b[38;5;28;43mself\u001b[39;49m\u001b[38;5;241;43m.\u001b[39;49m\u001b[43mconvert_dtype\u001b[49m\u001b[43m,\u001b[49m\n\u001b[1;32m   1178\u001b[0m \u001b[43m        \u001b[49m\u001b[43m)\u001b[49m\n\u001b[1;32m   1180\u001b[0m \u001b[38;5;28;01mif\u001b[39;00m \u001b[38;5;28mlen\u001b[39m(mapped) \u001b[38;5;129;01mand\u001b[39;00m \u001b[38;5;28misinstance\u001b[39m(mapped[\u001b[38;5;241m0\u001b[39m], ABCSeries):\n\u001b[1;32m   1181\u001b[0m     \u001b[38;5;66;03m# GH#43986 Need to do list(mapped) in order to get treated as nested\u001b[39;00m\n\u001b[1;32m   1182\u001b[0m     \u001b[38;5;66;03m#  See also GH#25959 regarding EA support\u001b[39;00m\n\u001b[1;32m   1183\u001b[0m     \u001b[38;5;28;01mreturn\u001b[39;00m obj\u001b[38;5;241m.\u001b[39m_constructor_expanddim(\u001b[38;5;28mlist\u001b[39m(mapped), index\u001b[38;5;241m=\u001b[39mobj\u001b[38;5;241m.\u001b[39mindex)\n",
      "File \u001b[0;32m~/anaconda3/envs/CursoPandas2023/lib/python3.10/site-packages/pandas/_libs/lib.pyx:2924\u001b[0m, in \u001b[0;36mpandas._libs.lib.map_infer\u001b[0;34m()\u001b[0m\n",
      "File \u001b[0;32m~/anaconda3/envs/CursoPandas2023/lib/python3.10/site-packages/unidecode/__init__.py:66\u001b[0m, in \u001b[0;36munidecode_expect_ascii\u001b[0;34m(string, errors, replace_str)\u001b[0m\n\u001b[1;32m     64\u001b[0m _warn_if_not_unicode(string)\n\u001b[1;32m     65\u001b[0m \u001b[38;5;28;01mtry\u001b[39;00m:\n\u001b[0;32m---> 66\u001b[0m     bytestring \u001b[38;5;241m=\u001b[39m \u001b[43mstring\u001b[49m\u001b[38;5;241;43m.\u001b[39;49m\u001b[43mencode\u001b[49m(\u001b[38;5;124m'\u001b[39m\u001b[38;5;124mASCII\u001b[39m\u001b[38;5;124m'\u001b[39m)\n\u001b[1;32m     67\u001b[0m \u001b[38;5;28;01mexcept\u001b[39;00m \u001b[38;5;167;01mUnicodeEncodeError\u001b[39;00m:\n\u001b[1;32m     68\u001b[0m     \u001b[38;5;28;01mpass\u001b[39;00m\n",
      "\u001b[0;31mAttributeError\u001b[0m: 'float' object has no attribute 'encode'"
     ]
    }
   ],
   "source": [
    "df['Nombre(s)'].apply( unidecode )"
   ]
  },
  {
   "cell_type": "markdown",
   "metadata": {},
   "source": [
    "Dejo aqui una posible solución sin explicación (por el momento)."
   ]
  },
  {
   "cell_type": "code",
   "execution_count": null,
   "metadata": {
    "tags": []
   },
   "outputs": [],
   "source": [
    "df['Nombre(s)'].apply( lambda s: unidecode(s) if type(s)==str  else s )"
   ]
  },
  {
   "cell_type": "markdown",
   "metadata": {
    "jp-MarkdownHeadingCollapsed": true,
    "tags": []
   },
   "source": [
    "### Categoria\n",
    "\n",
    "En general se considera que un dato es categorico cuando hay pocas posibilidades definidas. Una aproximación rápida es que tenga menos de diez opciones de texto. Sin embargo esta no es una regla dura, por ejemplo el catálogo del INEGI de Estados, Municipios y Localidades tiene miles de opciones.\n",
    "\n",
    "Podemos convertir una columna de tipo `object` a `category` con la función `.astype(\"category\")`. \n",
    "\n",
    "En este ejemplo caso reescribiremos la columna para poder realizar varias operaciones."
   ]
  },
  {
   "cell_type": "code",
   "execution_count": null,
   "metadata": {
    "tags": []
   },
   "outputs": [],
   "source": [
    "df['Restos_tipo'] = df['Restos_tipo'].astype(\"category\")\n",
    "df['Restos_tipo']"
   ]
  },
  {
   "cell_type": "markdown",
   "metadata": {},
   "source": [
    "Podemos ver que el tipo a cambiado"
   ]
  },
  {
   "cell_type": "code",
   "execution_count": null,
   "metadata": {
    "tags": []
   },
   "outputs": [],
   "source": [
    "df.dtypes"
   ]
  },
  {
   "cell_type": "markdown",
   "metadata": {},
   "source": [
    "Una ventaja de usar `category` es que permite definir un orden diferente al alfabético o numérico. Por ejemplo, definamos un orden especial para el tipo de restos."
   ]
  },
  {
   "cell_type": "code",
   "execution_count": null,
   "metadata": {
    "tags": []
   },
   "outputs": [],
   "source": [
    "from pandas.api.types import CategoricalDtype\n",
    "\n",
    "restos_categorias = 'Feto', 'Restos humanos', 'Miembros', 'Restos óseos', 'Restos cremados', 'Cadáver'\n",
    "restos_categorias = CategoricalDtype(categories=restos_categorias, ordered=True)\n",
    "df['Restos_tipo'] = df['Restos_tipo'].astype( restos_categorias )\n",
    "df['Restos_tipo']"
   ]
  },
  {
   "cell_type": "markdown",
   "metadata": {},
   "source": [
    "Ahora si ordenamos por categoria apareceran primero los Fetos y al final los Cadáveres."
   ]
  },
  {
   "cell_type": "code",
   "execution_count": null,
   "metadata": {
    "tags": []
   },
   "outputs": [],
   "source": [
    "df.sort_values(by='Restos_tipo')"
   ]
  },
  {
   "cell_type": "markdown",
   "metadata": {},
   "source": [
    "### Números\n",
    "\n",
    "Existen dos tipos de datos númericos, enteros y flotantes. Los dos se comportan de forma muy similar.\n",
    "\n",
    "En este conjunto de datos la columna `Edad` contiene numeros, sin embargo su tipo es `object` ya que hay edades como \"18 semanas\" que corresponden a fetos y neonatos."
   ]
  },
  {
   "cell_type": "code",
   "execution_count": null,
   "metadata": {
    "tags": []
   },
   "outputs": [],
   "source": [
    "df['Edad'].str.upper()"
   ]
  },
  {
   "cell_type": "code",
   "execution_count": null,
   "metadata": {
    "tags": []
   },
   "outputs": [],
   "source": [
    "df['Fecha_inhumación'].dt.year"
   ]
  },
  {
   "cell_type": "markdown",
   "metadata": {},
   "source": [
    "En caso de duda pandas asigna el tipo de dato object e infiere celda por celda el tipo de dato específico."
   ]
  },
  {
   "cell_type": "code",
   "execution_count": null,
   "metadata": {
    "tags": []
   },
   "outputs": [],
   "source": [
    "df['Datos alternativos'].unique()"
   ]
  },
  {
   "cell_type": "markdown",
   "metadata": {},
   "source": [
    "## 3.5 Tipos de datos\n",
    "\n",
    "Cómo vimos en la sección anterior hay varios tipos de datos como: texto, númerico, fecha, etc.\n",
    "De manera automática pandas infiere el tipo de datos al leer el archivo, de una manera muy similar a como Excel interpreta si un dato es texto o numérico.\n",
    "\n",
    "Los tipos de datos de pandas son:\n",
    "* `object`: texto o mezcla de varios tipos de datos, este es el tipo de dato por defecto\n",
    "* `category`: información categórica, similar a Factors en R\n",
    "* `int64`: números enteros\n",
    "* `float64`: números con punto decimal\n",
    "* `bool`: valores verdadero o falso\n",
    "* `datetime64`: fechas\n",
    "* `timedelta[ns]`: diferencias de tiempo\n",
    "\n",
    "Podemos ver los tipos de datos inferidos usando la opción `.dtypes`."
   ]
  },
  {
   "cell_type": "code",
   "execution_count": null,
   "metadata": {
    "tags": []
   },
   "outputs": [],
   "source": [
    "df.dtypes"
   ]
  },
  {
   "cell_type": "markdown",
   "metadata": {
    "tags": []
   },
   "source": [
    "### Texto\n",
    "\n",
    "Dependiendo del tipo de dato se pueden hacer diferentes operaciones. Por ejemplo, se puede pasar a mayusculas un texto pero no un número, se puede obtener el año de una fecha pero no de un texto\n",
    "\n",
    "Por ejemplo, pensemos que queremos que las instituciones de origen no esten todas en mayusculas, sino solo la primera letra de la palabra.\n",
    "\n",
    "Para hacer esto seleccionaremos la columna de interes, y luego aplicaremos la función `.str.title()`. \n",
    "\n",
    "**Nota**: existen varias funciones para mayusculas y minusculas como `.upper()`, `.lower()`, `.capitalize()` y `.title()`"
   ]
  },
  {
   "cell_type": "code",
   "execution_count": null,
   "metadata": {
    "tags": []
   },
   "outputs": [],
   "source": [
    "df['Institución_origen'].str.title()"
   ]
  },
  {
   "cell_type": "markdown",
   "metadata": {},
   "source": [
    "Podemos realizar más operaciones sobre esta selección, por ejemplo ordenar alfabeticamente obtener los valores únicos para obtener una lista de nombres propios."
   ]
  },
  {
   "cell_type": "code",
   "execution_count": null,
   "metadata": {
    "tags": []
   },
   "outputs": [],
   "source": [
    "df['Institución_origen'].str.title().sort_values().unique()"
   ]
  },
  {
   "cell_type": "markdown",
   "metadata": {},
   "source": [
    "Existen funciones que no se encuentran en pandas pero que pueden ser utiles. Por ejemplo, para ejemploquitar los acentos es posible con la función `unidecode`, la cual es parte de la biblioteca `unidecode`."
   ]
  },
  {
   "cell_type": "code",
   "execution_count": null,
   "metadata": {
    "tags": []
   },
   "outputs": [],
   "source": [
    "from unidecode import unidecode\n",
    "unidecode('México')"
   ]
  },
  {
   "cell_type": "markdown",
   "metadata": {},
   "source": [
    "Podemos aplicar esta función a toda la columna"
   ]
  },
  {
   "cell_type": "code",
   "execution_count": null,
   "metadata": {
    "tags": []
   },
   "outputs": [],
   "source": [
    "df['Institución_origen'].apply(unidecode)"
   ]
  },
  {
   "cell_type": "markdown",
   "metadata": {},
   "source": [
    "Además, podemos aplicar varias funciones juntas."
   ]
  },
  {
   "cell_type": "code",
   "execution_count": null,
   "metadata": {
    "tags": []
   },
   "outputs": [],
   "source": [
    "df['Institución_origen'].str.title().apply(unidecode)"
   ]
  },
  {
   "cell_type": "markdown",
   "metadata": {},
   "source": [
    "Sin embargo, al aplicar esta función a la columna `Nombre(s)` genera un error `AttributeError: 'float' object has no attribute 'encode'`. \n",
    "\n",
    "Esto se debe a que la columna incluye valores vacios, los cuales son de tipo `float`, por lo tanto la función `unidecode` se confunde, ya que los números no tienen acentos. \n",
    "\n",
    "Resolver este tipo de problemas es parte de la limpieza de datos y se verá mas adelante."
   ]
  },
  {
   "cell_type": "code",
   "execution_count": null,
   "metadata": {
    "tags": []
   },
   "outputs": [],
   "source": [
    "df['Nombre(s)'].apply( unidecode )"
   ]
  },
  {
   "cell_type": "markdown",
   "metadata": {},
   "source": [
    "Dejo aqui una posible solución sin explicación (por el momento)."
   ]
  },
  {
   "cell_type": "code",
   "execution_count": null,
   "metadata": {
    "tags": []
   },
   "outputs": [],
   "source": [
    "df['Nombre(s)'].apply( lambda s: unidecode(s) if type(s)==str  else s )"
   ]
  },
  {
   "cell_type": "markdown",
   "metadata": {
    "jp-MarkdownHeadingCollapsed": true,
    "tags": []
   },
   "source": [
    "### Categoria\n",
    "\n",
    "En general se considera que un dato es categorico cuando hay pocas posibilidades definidas. Una aproximación rápida es que tenga menos de diez opciones de texto. Sin embargo esta no es una regla dura, por ejemplo el catálogo del INEGI de Estados, Municipios y Localidades tiene miles de opciones.\n",
    "\n",
    "Podemos convertir una columna de tipo `object` a `category` con la función `.astype(\"category\")`. \n",
    "\n",
    "En este ejemplo caso reescribiremos la columna para poder realizar varias operaciones."
   ]
  },
  {
   "cell_type": "code",
   "execution_count": null,
   "metadata": {
    "tags": []
   },
   "outputs": [],
   "source": [
    "df['Restos_tipo'] = df['Restos_tipo'].astype(\"category\")\n",
    "df['Restos_tipo']"
   ]
  },
  {
   "cell_type": "markdown",
   "metadata": {},
   "source": [
    "Podemos ver que el tipo a cambiado"
   ]
  },
  {
   "cell_type": "code",
   "execution_count": null,
   "metadata": {
    "tags": []
   },
   "outputs": [],
   "source": [
    "df.dtypes"
   ]
  },
  {
   "cell_type": "markdown",
   "metadata": {},
   "source": [
    "Una ventaja de usar `category` es que permite definir un orden diferente al alfabético o numérico. Por ejemplo, definamos un orden especial para el tipo de restos."
   ]
  },
  {
   "cell_type": "code",
   "execution_count": null,
   "metadata": {
    "tags": []
   },
   "outputs": [],
   "source": [
    "from pandas.api.types import CategoricalDtype\n",
    "\n",
    "restos_categorias = 'Feto', 'Restos humanos', 'Miembros', 'Restos óseos', 'Restos cremados', 'Cadáver'\n",
    "restos_categorias = CategoricalDtype(categories=restos_categorias, ordered=True)\n",
    "df['Restos_tipo'] = df['Restos_tipo'].astype( restos_categorias )\n",
    "df['Restos_tipo']"
   ]
  },
  {
   "cell_type": "markdown",
   "metadata": {},
   "source": [
    "Ahora si ordenamos por categoria apareceran primero los Fetos y al final los Cadáveres."
   ]
  },
  {
   "cell_type": "code",
   "execution_count": null,
   "metadata": {
    "tags": []
   },
   "outputs": [],
   "source": [
    "df.sort_values(by='Restos_tipo')"
   ]
  },
  {
   "cell_type": "markdown",
   "metadata": {},
   "source": [
    "### Números\n",
    "\n",
    "Existen dos tipos de datos númericos, enteros y flotantes. Los dos se comportan de forma muy similar.\n",
    "\n",
    "En este conjunto de datos la columna `Edad` contiene numeros, sin embargo su tipo es `object` ya que hay edades como \"18 semanas\" que corresponden a fetos y neonatos."
   ]
  },
  {
   "cell_type": "code",
   "execution_count": null,
   "metadata": {
    "tags": []
   },
   "outputs": [],
   "source": [
    "df['Edad'].str.upper()"
   ]
  },
  {
   "cell_type": "code",
   "execution_count": null,
   "metadata": {
    "tags": []
   },
   "outputs": [],
   "source": [
    "df['Fecha_inhumación'].dt.year"
   ]
  },
  {
   "cell_type": "markdown",
   "metadata": {},
   "source": [
    "En caso de duda pandas asigna el tipo de dato object e infiere celda por celda el tipo de dato específico."
   ]
  },
  {
   "cell_type": "code",
   "execution_count": null,
   "metadata": {
    "tags": []
   },
   "outputs": [],
   "source": [
    "df['Datos alternativos'].unique()"
   ]
  },
  {
   "cell_type": "code",
   "execution_count": null,
   "metadata": {},
   "outputs": [],
   "source": [
    "import pandas as pd\n",
    "from numpy import nan\n",
    "\n",
    "df_vic = pd.read_csv('data-raw/denuncias-victimas-pgj.csv')"
   ]
  },
  {
   "cell_type": "markdown",
   "metadata": {},
   "source": [
    "### 3.4 Limpieza de datos\n",
    "\n",
    "Generalmente, los conjuntos de datos contienen errores o incluyen datos que no son utiles para los análisis. Durante la limpieza de datos se detectan y corrigen datos incorrectos. Además, en este paso se quitan los datos que no se usaran en el análisis. \n",
    "\n",
    "En este caso haremos una serie de correciones:\n",
    "* Quitar columnas\n",
    "* Cambiar tipos de datos\n",
    "* Modificar campos de texto\n",
    "* Eliminar datos fuera de rango\n",
    "* Datos faltantes\n",
    "* Guardar datos"
   ]
  },
  {
   "cell_type": "markdown",
   "metadata": {},
   "source": []
  },
  {
   "cell_type": "code",
   "execution_count": null,
   "metadata": {},
   "outputs": [],
   "source": [
    "df_vic = df_vic.drop(['idCarpeta', 'Año_hecho', 'Mes_hecho', 'ClasificacionDelito', 'lon', 'lat'], axis=1)\n",
    "df_vic.columns = ['delito', 'categoria_delito', 'fecha_hechos', \n",
    "                  'Sexo', 'Edad', 'TipoPersona', 'CalidadJuridica', 'Geopoint']\n",
    "df_vic.head()"
   ]
  },
  {
   "cell_type": "markdown",
   "metadata": {},
   "source": [
    "#### Cambiar tipos de datos\n",
    "\n",
    "Como ya vimos exiten varios tipos de datos. En partícular en este conjunto de datos, tenemos dos columnas de fechas, y si revisamos a que tipo de dato pertenecen usando el comando _dtype_ ,podemos observar que pandas las identificó como texto, lo cual dificulta trabajar con ellas. Si cambiamos estas columnas a tipo _datetime_, podemos usar las operaciones definidas para este tipo de datos. Haremos lo anterior empleando el comando _to_datetime_. Debido a que nos interesa guardar la transformación, es importante recordar hacer la asignación con _=_."
   ]
  },
  {
   "cell_type": "code",
   "execution_count": null,
   "metadata": {},
   "outputs": [],
   "source": [
    "df_vic['fecha_hechos'] = pd.to_datetime(df_vic['fecha_hechos'])"
   ]
  },
  {
   "cell_type": "markdown",
   "metadata": {},
   "source": [
    "Usando este tipo de dato ahora es posible seleccionar por año, mes, día, hora y minuto usando los comandos:\n",
    "\n",
    "* columna.dt.year\n",
    "* columna.dt.month\n",
    "* columna.dt.day\n",
    "* columna.dt.hour\n",
    "* columna.dt.minute"
   ]
  },
  {
   "cell_type": "code",
   "execution_count": null,
   "metadata": {},
   "outputs": [],
   "source": [
    "df_vic['fecha_hechos'].dt.hour"
   ]
  },
  {
   "cell_type": "markdown",
   "metadata": {},
   "source": [
    "Esto nos permite ver los delitos cometidos después de las 8pm. Para lograrlo usaremos _.dt.hour_ y el subsetting que ya hemos visto con anterioridad."
   ]
  },
  {
   "cell_type": "code",
   "execution_count": null,
   "metadata": {},
   "outputs": [],
   "source": [
    "df_vic[df_vic['fecha_hechos'].dt.hour>=20]"
   ]
  },
  {
   "cell_type": "markdown",
   "metadata": {},
   "source": [
    "#### Modificar campos de texto\n",
    "\n",
    "Cuando todas las columnas de texto están con mayúsculas, como en el grupo de datos con el que estamos trabajando, puede dificultarse la lectura. En este caso, vamos a cambiar el texto de mayúsculas de los delitos usando el comando _.capitalize()_, es decir este comando dejará la primera letra en mayúscula y todas las demás en minúscula. En el caso de las alcaldías y fiscalias usaremos _.title()_, con el fin de que la primera letra de todas las palabras sea mayúscula."
   ]
  },
  {
   "cell_type": "code",
   "execution_count": null,
   "metadata": {},
   "outputs": [],
   "source": [
    "df_vic['delito'] =           df_vic['delito'].str.capitalize()\n",
    "df_vic['categoria_delito'] = df_vic['categoria_delito'].str.capitalize()\n",
    "df_vic['TipoPersona'] =      df_vic['TipoPersona'].str.capitalize()\n",
    "df_vic['CalidadJuridica'] =  df_vic['CalidadJuridica'].str.capitalize()\n",
    "df_vic.tail()"
   ]
  },
  {
   "cell_type": "markdown",
   "metadata": {},
   "source": [
    "#### Datos faltantes\n",
    "\n",
    "Si revisamos los datos podemos ver que hay varios casos donde nos faltan datos, en especial en \"Sexo\" y \"Edad\"."
   ]
  },
  {
   "cell_type": "code",
   "execution_count": null,
   "metadata": {},
   "outputs": [],
   "source": [
    "df_vic.count()"
   ]
  },
  {
   "cell_type": "markdown",
   "metadata": {},
   "source": [
    "En el caso de \"Sexo\" podemos ver que en algunos casos se reporta que este \"No se especifica\" mientras que en otros se deja vacio, es decir, con NaN."
   ]
  },
  {
   "cell_type": "code",
   "execution_count": null,
   "metadata": {},
   "outputs": [],
   "source": [
    "df_vic['Sexo'].value_counts(dropna=False)"
   ]
  },
  {
   "cell_type": "markdown",
   "metadata": {},
   "source": [
    "En este caso vamos a remplazar todos los \"NaN\" por \"No se especifica\" usando el comando _.fillna()_"
   ]
  },
  {
   "cell_type": "code",
   "execution_count": null,
   "metadata": {},
   "outputs": [],
   "source": [
    "df_vic['Sexo'] = df_vic['Sexo'].fillna(\"No se especifica\")\n",
    "df_vic['Sexo'].value_counts(dropna=False)"
   ]
  },
  {
   "cell_type": "markdown",
   "metadata": {},
   "source": [
    "#### Datos fuera de rango\n",
    "\n",
    "__Fecha__\n",
    "\n",
    "En el caso de este conjunto de datos tenemos las carpetas que se crearon entre 2016 y 2019. Sin embargo, esto no significa que todos los delitos hayan sido cometidos durante este periodo de tiempo. Para visualizarlo vamos a contar cuántas carpetas hay por año usando _.dt.year_ y _.value_counts()_."
   ]
  },
  {
   "cell_type": "code",
   "execution_count": null,
   "metadata": {},
   "outputs": [],
   "source": [
    "df_vic['fecha_hechos'].dt.year.value_counts()"
   ]
  },
  {
   "cell_type": "markdown",
   "metadata": {},
   "source": [
    "En este caso podemos ver que hay carpetas sobre delitos cometidos en 1964. Para nuestro análisis vamos a quitar todas las carpetas que sean sobre hechos anteriores al 2016. Es decir, dejaremos unicamente las carpetas cuyo año sea mayor o igual a 2016."
   ]
  },
  {
   "cell_type": "code",
   "execution_count": null,
   "metadata": {},
   "outputs": [],
   "source": [
    "df_vic = df_vic[df_vic['fecha_hechos'].dt.year>=2016]"
   ]
  },
  {
   "cell_type": "markdown",
   "metadata": {},
   "source": [
    "__Edad__\n",
    "\n",
    "En el caso de la edad podemos recordar que hay una persona que tiene una edad de 258 años. Probablemente este sea un error de captura, ya que es la única persona reportada de mas de cién años. \n",
    "En este caso vamos a poner un críterio para manejar problemas similares a futuro, si la persona tiene mas de cién años remplazaremos su edad por nan. \n",
    "Para lograr esto seleccionaremos todas las celdas de personas de mas de cién años que están en la columna Edad con _.loc[]_ y remplazaremos estos valores por NaN. \n",
    "Esto debé de cambiar la edad máxima de nuestros datos."
   ]
  },
  {
   "cell_type": "code",
   "execution_count": null,
   "metadata": {},
   "outputs": [],
   "source": [
    "df_vic.loc[df_vic['Edad']>=100,'Edad'] = nan\n",
    "df_vic['Edad'].max()"
   ]
  },
  {
   "cell_type": "markdown",
   "metadata": {},
   "source": [
    "Otra cuestión que cabe destacar es que hay una gran cantidad de víctimas con edad de cero años. Este es un problema de la captura de los datos, ya que muchas veces, cuando no se conoce la edad de la víctima se pone un cero, lo cual se puede confundir con casos donde la víctima es un menor de edad. Sin embargo, en este caso es imposible corregir este error, por lo que dejaremos los datos como están, pero tendremos cuidado de esto durante el análisis."
   ]
  },
  {
   "cell_type": "code",
   "execution_count": null,
   "metadata": {},
   "outputs": [],
   "source": [
    "df_vic[df_vic['Edad']==0]"
   ]
  },
  {
   "cell_type": "markdown",
   "metadata": {},
   "source": [
    "__Categorias y delitos__\n",
    "\n",
    "En el pandas_profiling vimos que la gran mayoría de los delitos eran \"de bajo impacto\" o \"hecho no delictivo\". Quitar estos delitos nos permitiria simplificar el análisis, además de ocupar menos memoria. \n",
    "\n",
    "En primer lugar debemos revisar que tipo de delitos están en estas clasificaciones revisando los datos.\n",
    "\n",
    "Para lograrlo:\n",
    "* Encontrar todos los delitos que pertenezcan a las clasificaciones de interes usando _.isin()_\n",
    "* Seleccionar las filas de interes y la columna de delitos con _.loc[]_\n",
    "* Obtener los unicos con _.unique()_"
   ]
  },
  {
   "cell_type": "code",
   "execution_count": null,
   "metadata": {},
   "outputs": [],
   "source": [
    "cat_interes = [\"Delito de bajo impacto\", \"Hecho no delictivo\"]\n",
    "del_bajo_impacto = df_vic.loc[df_vic['categoria_delito'].isin(cat_interes), \"delito\"]\n",
    "del_bajo_impacto.unique()"
   ]
  },
  {
   "cell_type": "markdown",
   "metadata": {},
   "source": [
    "Para ver los delitos de \"alto impacto\" usaremos exactamente el mismo método, solo que agregaremos una negación _~_ al selector de filas."
   ]
  },
  {
   "cell_type": "code",
   "execution_count": null,
   "metadata": {},
   "outputs": [],
   "source": [
    "cat_interes = [\"Delito de bajo impacto\", \"Hecho no delictivo\"]\n",
    "del_alto_impacto = df_vic.loc[~df_vic['categoria_delito'].isin(cat_interes), \"delito\"]\n",
    "del_alto_impacto.unique()"
   ]
  },
  {
   "cell_type": "markdown",
   "metadata": {},
   "source": [
    "Quitar los delitos de bajo impacto implica que nos concentramos en los que más afectan a la población, tales como: robo, secuestro y homicidio. No obstante, al mismo tiempo implica ignorar la forma de contacto con la violencia más común dentro de la población. La decisión de ignorar datos siempre debé de tomarse tomando en cuenta las implicaciones.\n",
    "\n",
    "En este caso, para simplificar los análisis quitaremos los delitos de bajo impacto y los hechos no delictivos. \n",
    "\n",
    "Con la finalidad de quitar los delitos que no nos interesan aplicaremos una modificación del comando _isin()_. En el comando anterior vimos los delitos en la lista, para seleccionar los delitos que no están en la lista agregaremos _~_ al inicio del comando, lo cual representa una negación."
   ]
  },
  {
   "cell_type": "code",
   "execution_count": null,
   "metadata": {},
   "outputs": [],
   "source": [
    "df_vic = df_vic.loc[~df_vic['categoria_delito'].isin(['Delito de bajo impacto','Hecho no delictivo'])]"
   ]
  },
  {
   "cell_type": "markdown",
   "metadata": {},
   "source": [
    "Después, de estas transformaciones nuestros datos son menos."
   ]
  },
  {
   "cell_type": "code",
   "execution_count": null,
   "metadata": {},
   "outputs": [],
   "source": [
    "df_vic.shape"
   ]
  },
  {
   "cell_type": "markdown",
   "metadata": {},
   "source": [
    "__Tipo de persona y cálidad jurídica__\n",
    "\n",
    "Una pregunta que podemos hacernos es si hay una relación entre el tipo de persona y la calidad juridica. \n",
    "\n",
    "Para verificar esto nos centraremos en análizar solo esas dos filas y usaremos el comando _.drop_duplicates()_, el cual quita todas las filas repetidas. En primer lugar seleccionaremos las dos columnas que nos interesan ('TipoPersona' y 'CalidadJuridica'), para después quitar todos los duplicados y comparar si siempre coinciden.\n",
    "\n",
    "En este ocasión no vamos a guardar el resultado, solo veremos lo que sucede sin modificar los datos, y a partir de eso tomaremos una decisión."
   ]
  },
  {
   "cell_type": "code",
   "execution_count": null,
   "metadata": {},
   "outputs": [],
   "source": [
    "df_vic[['TipoPersona', 'CalidadJuridica']].drop_duplicates()"
   ]
  },
  {
   "cell_type": "markdown",
   "metadata": {},
   "source": [
    "Podemos apreciar que no hay relación entre el tipo de persona y la calidad jurídica, por lo que ambas columnas nos proporcionan información relevante y dejaremos ambas. \n",
    "Este es un ejemplo de por que es importante revisar y entender los datos antes de modificarlos, ya que no siempre las transformaciones que hacemos durante el proceso de limpieza son adecuadas o necesarias.\n",
    "\n",
    "Sin embargo, como podemos ver la Calidad Juridica tiene categorias que son equivalente como \"Cadaver y Fallecido\" o que podrían ser absorvidas en categorías mas grandes como \"Menor víctima\", \"Victima  niño\" y \"Lesionado  adolescente\". En este caso vamos a tratar de simplificar las categorias lo mas posible, en gran parte por que no todos los menores de edad vienen categorizados como \"Menor víctima\", lo cual puede causar errores en nuestros análisis posteriores."
   ]
  },
  {
   "cell_type": "code",
   "execution_count": null,
   "metadata": {},
   "outputs": [],
   "source": [
    "df_vic['CalidadJuridica'].value_counts()"
   ]
  },
  {
   "cell_type": "markdown",
   "metadata": {},
   "source": [
    "El comando _replace_ toma un diccionario de python para hacer una lista de remplazo. Por ejemplo, para remplazar las categorías en las que dectamos error usaremos el siguiente dicionario de remplazo. Recuerda que los diccionarios usar _:_ para unir los pares de llave:valor y _,_ para separa los pares."
   ]
  },
  {
   "cell_type": "code",
   "execution_count": null,
   "metadata": {},
   "outputs": [],
   "source": [
    "remplazo = {\"Fallecido\":\"Cadaver\",\n",
    "            \"Menor víctima\":\"Victima\",\n",
    "            \"Victima  niño\":\"Victima\",\n",
    "            \"Lesionado  adolescente\":\"Lesionado\"}\n",
    "df_vic['CalidadJuridica'] = df_vic['CalidadJuridica'].replace(remplazo)\n",
    "\n",
    "df_vic['CalidadJuridica'].value_counts()"
   ]
  },
  {
   "cell_type": "markdown",
   "metadata": {},
   "source": [
    "Ahora las categorias juridicas que detectamos han sido sustituidas y llas víctimas se han sumado a sus nuevas categorias. Sin embargo, todas las mcategorias que no estaban en el diccionario de remplazo quedaron exactamente igual. Este metodo puede ser muy costoso cuando se quieren hacer muchos remplazos, ya que tendriamos que crear un diccionario con todas las opciones que deseamos remplazar. \n",
    "\n",
    "Una opción en esos casos es el comando _.map()_. El comando map remplaza solo los datos que están en el diccionario y llena todos aquellos que no están con NaN."
   ]
  },
  {
   "cell_type": "markdown",
   "metadata": {},
   "source": [
    "#### Guardar datos\n",
    "\n",
    "Es posible guardar los datos limpios que hemos obtenido de varias formas, podemos guardarlos como csv o excel usando los comandos _.to_csv_ y _.to_excel_. Estos formatos tienen la ventaja de que son faciles de compartir. \n",
    "\n",
    "Nosotros guardaremos los datos limpios en la carpeta _data_clean_ como un csv, debido a que el tamaño de la base de datos es grande, puede ser complicado para manipularla en excel. Sin embargo, es posible abrir archivos csv usando excel.\n",
    "\n",
    "Es muy importante no rescribir los datos originales y tratar de tener una carpeta para cada parte del proceso de análisis, para evitar perder información y poder reproducir confiablemente nuestros análisis."
   ]
  },
  {
   "cell_type": "code",
   "execution_count": null,
   "metadata": {},
   "outputs": [],
   "source": [
    "df_vic.to_csv('./data-clean/VictimasPgjCdmx-AltoImpacto.csv', index=False)"
   ]
  },
  {
   "cell_type": "markdown",
   "metadata": {},
   "source": [
    "Una desventaja de guardar los archivos usando csv o excel, es que podemos perder el formato y los tipos de datos. Esto es importante sobretodo para tipos de datos como _datetime_. Una opción es guardar nuestros datos en un formato que sea facilmente interpretable para python, aunque este no se pueda trabajar con excel."
   ]
  },
  {
   "cell_type": "code",
   "execution_count": null,
   "metadata": {},
   "outputs": [],
   "source": [
    "from joblib import dump\n",
    "\n",
    "with open('./data-clean/VictimasPgjCdmx-AltoImpacto.pkl', 'wb') as f:\n",
    "    dump(df_vic, f)"
   ]
  },
  {
   "cell_type": "markdown",
   "metadata": {},
   "source": [
    "#### Ejercicio 5\n",
    "\n",
    "Revisa el archivo [CP-EjemploLimpiezaCarpetas](./extras/CP-EjemploLimpiezaCarpetas.ipynb) que se encuentra en la sección de extras. Este archivo realiza una limpieza similar para el conjunto de datos de las carpetas. Escribe que hace cada uno de los pasos y da las razones por las cuales se hacen."
   ]
  },
  {
   "cell_type": "code",
   "execution_count": null,
   "metadata": {},
   "outputs": [],
   "source": []
  },
  {
   "cell_type": "code",
   "execution_count": null,
   "metadata": {},
   "outputs": [],
   "source": []
  },
  {
   "cell_type": "code",
   "execution_count": null,
   "metadata": {},
   "outputs": [],
   "source": []
  },
  {
   "cell_type": "code",
   "execution_count": null,
   "metadata": {},
   "outputs": [],
   "source": []
  },
  {
   "cell_type": "code",
   "execution_count": null,
   "metadata": {},
   "outputs": [],
   "source": []
  },
  {
   "cell_type": "code",
   "execution_count": null,
   "metadata": {},
   "outputs": [],
   "source": []
  },
  {
   "cell_type": "code",
   "execution_count": null,
   "metadata": {},
   "outputs": [],
   "source": []
  },
  {
   "cell_type": "code",
   "execution_count": null,
   "metadata": {},
   "outputs": [],
   "source": []
  },
  {
   "cell_type": "code",
   "execution_count": null,
   "metadata": {},
   "outputs": [],
   "source": []
  },
  {
   "cell_type": "code",
   "execution_count": null,
   "metadata": {
    "tags": []
   },
   "outputs": [],
   "source": [
    "\n",
    "1. Escribe tres formas en las que te gustaría ordenar los datos.\n",
    "2. Obten las tablas ordenadas, en caso de no poder hacerlo indica que datos te harían falta."
   ]
  }
 ],
 "metadata": {
  "kernelspec": {
   "display_name": "Python 3 (ipykernel)",
   "language": "python",
   "name": "python3"
  },
  "language_info": {
   "codemirror_mode": {
    "name": "ipython",
    "version": 3
   },
   "file_extension": ".py",
   "mimetype": "text/x-python",
   "name": "python",
   "nbconvert_exporter": "python",
   "pygments_lexer": "ipython3",
   "version": "3.10.9"
  }
 },
 "nbformat": 4,
 "nbformat_minor": 4
}
