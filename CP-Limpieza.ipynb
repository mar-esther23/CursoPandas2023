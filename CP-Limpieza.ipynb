{
 "cells": [
  {
   "cell_type": "markdown",
   "metadata": {},
   "source": [
    "# Análisis y visualización de datos abiertos con python\n",
    "\n",
    "\n",
    "El objetivo de este tutorial es analizar dos conjuntos de datos abiertos de la Ciudad de México (Carpetas de investigación PGJ y Víctimas en carpetas de investigación PGJ) usando las herramientas del lenguaje de programación python. El participante aprenderá a usar las biblioteca pandas y otras bibliotecas, para cargar, estructurar, obtener estadísticas básicas y graficar los datos. Además, el participante aplicará metodologías y criterios de análisis y visualización de datos, que le permitan generar conclusiones sobre los conjuntos de datos analizados.\n",
    "\n",
    "\n",
    "1. [Introducción a python](./CP-Introduccion.ipynb)\n",
    "2. [Exploración de datos](./CP-Exploracion.ipynb)\n",
    "3. __Limpieza de datos__\n",
    "    1. Pasos de un análisis de datos\n",
    "    2. Operaciones comunes de limpieza\n",
    "        * Quitar columnas (drop, select)\n",
    "        * Cambiar tipos de datos (datetime)\n",
    "        * Modificar campos de texto (replace, title, unidecode)\n",
    "        * Datos faltantes (fillna)\n",
    "        * Eliminar datos fuera de rango (map, replace)\n",
    "    5. Guardar datos\n",
    "        * Excel y csv\n",
    "        * pickle\n",
    "4. [Gráficación básica](./CP-AnalisisGraficas.ipynb)\n",
    "5. [Análisis de datos](./CP-AnalisisGraficas.ipynb)\n",
    "6. Extras\n"
   ]
  },
  {
   "cell_type": "markdown",
   "metadata": {},
   "source": [
    "<a id='Obtencion'></a>"
   ]
  },
  {
   "cell_type": "markdown",
   "metadata": {},
   "source": [
    "<a id='Obtencion'></a>\n",
    "## 3. Limpieza de datos\n",
    "\n",
    "### 3.1 Pasos de un análisis de datos\n",
    "\n",
    "Un análisis de datos es un proceso que lleva varios pasos. \n",
    "\n",
    "En primer lugar es importante entender los datos, es decir saber su origen y qué representan. Este paso es fundamental, ya que de poco sirve hacer un análisis complejo que no tenga utilidad con respecto a los datos que estamos análizando.\n",
    "\n",
    "Una vez que se entiende de que tratan los datos se necesita determinar las características del conjunto de datos. Esto generalmente implica saber cuántos son, qué tipos, la distribución de los datos, obtener medidas estadísticas básicas, etc.\n",
    "\n",
    "Después, se lleva a cabo una limpieza. Este proceso es generalmente el que toma más tiempo. Este paso es iterativo, conforme vamos conociendo más acerca de los datos, puede ser necesario hacer nuevas limpiezas o modificaciones. Para evitar errores es importante guardar los datos originales y documentar todas las transformaciones que se vayan haciendo a los datos y las razones de tales cambios.\n",
    "\n",
    "El análisis de datos puede conllevar varias actividades como transformar los datos, resumirmos, unirlos con otros conjuntos de datos y finalmente visualizarlos. "
   ]
  },
  {
   "cell_type": "code",
   "execution_count": 1,
   "metadata": {},
   "outputs": [],
   "source": [
    "from os import chdir, getcwd\n",
    "chdir(getcwd())"
   ]
  },
  {
   "cell_type": "code",
   "execution_count": 2,
   "metadata": {},
   "outputs": [],
   "source": [
    "import pandas as pd\n",
    "from numpy import nan\n",
    "\n",
    "df_vic = pd.read_csv('data-raw/denuncias-victimas-pgj.csv')"
   ]
  },
  {
   "cell_type": "markdown",
   "metadata": {},
   "source": [
    "### 3.4 Limpieza de datos\n",
    "\n",
    "Generalmente, los conjuntos de datos contienen errores o incluyen datos que no son utiles para los análisis. Durante la limpieza de datos se detectan y corrigen datos incorrectos. Además, en este paso se quitan los datos que no se usaran en el análisis. \n",
    "\n",
    "En este caso haremos una serie de correciones:\n",
    "* Quitar columnas\n",
    "* Cambiar tipos de datos\n",
    "* Modificar campos de texto\n",
    "* Eliminar datos fuera de rango\n",
    "* Datos faltantes\n",
    "* Guardar datos"
   ]
  },
  {
   "cell_type": "markdown",
   "metadata": {},
   "source": [
    "#### Quitar columnas\n",
    "\n",
    "Podemos quitar las columnas usando el comando _.drop()_. En este caso quitamos las columas que tienen información redundante (año, mes, coordenadas) o que no nos interesan en este momento (agencia, unidad_investigacion, colonia, calle). Para quitar columnas se debe de agregar el parametro _axis=1_. Si lo que queremos es quitar filas, se puede hacer de una manera similar, poniendo los nombres de las filas entre corchetes y usando el paramentro _axis=0_. \n",
    "\n",
    "Para guardar este paso de limpieza es muy importante rescribir los valores de la variable."
   ]
  },
  {
   "cell_type": "code",
   "execution_count": 3,
   "metadata": {},
   "outputs": [
    {
     "data": {
      "text/html": [
       "<div>\n",
       "<style scoped>\n",
       "    .dataframe tbody tr th:only-of-type {\n",
       "        vertical-align: middle;\n",
       "    }\n",
       "\n",
       "    .dataframe tbody tr th {\n",
       "        vertical-align: top;\n",
       "    }\n",
       "\n",
       "    .dataframe thead th {\n",
       "        text-align: right;\n",
       "    }\n",
       "</style>\n",
       "<table border=\"1\" class=\"dataframe\">\n",
       "  <thead>\n",
       "    <tr style=\"text-align: right;\">\n",
       "      <th></th>\n",
       "      <th>delito</th>\n",
       "      <th>categoria_delito</th>\n",
       "      <th>fecha_hechos</th>\n",
       "      <th>Sexo</th>\n",
       "      <th>Edad</th>\n",
       "      <th>TipoPersona</th>\n",
       "      <th>CalidadJuridica</th>\n",
       "      <th>Geopoint</th>\n",
       "    </tr>\n",
       "  </thead>\n",
       "  <tbody>\n",
       "    <tr>\n",
       "      <td>0</td>\n",
       "      <td>NARCOMENUDEO POSESION SIMPLE</td>\n",
       "      <td>DELITO DE BAJO IMPACTO</td>\n",
       "      <td>2019-05-01 16:30:00</td>\n",
       "      <td>NaN</td>\n",
       "      <td>NaN</td>\n",
       "      <td>MORAL</td>\n",
       "      <td>VICTIMA</td>\n",
       "      <td>19.3283464986,-99.0407749002</td>\n",
       "    </tr>\n",
       "    <tr>\n",
       "      <td>1</td>\n",
       "      <td>ROBO A NEGOCIO SIN VIOLENCIA</td>\n",
       "      <td>DELITO DE BAJO IMPACTO</td>\n",
       "      <td>2019-03-28 10:00:00</td>\n",
       "      <td>Masculino</td>\n",
       "      <td>NaN</td>\n",
       "      <td>FISICA</td>\n",
       "      <td>VICTIMA Y DENUNCIANTE</td>\n",
       "      <td>19.4020752972,-99.1525710006</td>\n",
       "    </tr>\n",
       "    <tr>\n",
       "      <td>2</td>\n",
       "      <td>ROBO A NEGOCIO SIN VIOLENCIA</td>\n",
       "      <td>DELITO DE BAJO IMPACTO</td>\n",
       "      <td>2019-03-28 10:00:00</td>\n",
       "      <td>NaN</td>\n",
       "      <td>NaN</td>\n",
       "      <td>MORAL</td>\n",
       "      <td>VICTIMA</td>\n",
       "      <td>19.4020752972,-99.1525710006</td>\n",
       "    </tr>\n",
       "    <tr>\n",
       "      <td>3</td>\n",
       "      <td>ROBO A NEGOCIO SIN VIOLENCIA</td>\n",
       "      <td>DELITO DE BAJO IMPACTO</td>\n",
       "      <td>2019-05-01 13:30:00</td>\n",
       "      <td>NaN</td>\n",
       "      <td>NaN</td>\n",
       "      <td>MORAL</td>\n",
       "      <td>VICTIMA</td>\n",
       "      <td>19.4349789028,-99.1470464003</td>\n",
       "    </tr>\n",
       "    <tr>\n",
       "      <td>4</td>\n",
       "      <td>VIOLENCIA FAMILIAR</td>\n",
       "      <td>DELITO DE BAJO IMPACTO</td>\n",
       "      <td>2019-04-30 18:30:00</td>\n",
       "      <td>Femenino</td>\n",
       "      <td>36.0</td>\n",
       "      <td>FISICA</td>\n",
       "      <td>VICTIMA Y DENUNCIANTE</td>\n",
       "      <td>19.2571868053,-99.0817841843</td>\n",
       "    </tr>\n",
       "  </tbody>\n",
       "</table>\n",
       "</div>"
      ],
      "text/plain": [
       "                         delito        categoria_delito         fecha_hechos  \\\n",
       "0  NARCOMENUDEO POSESION SIMPLE  DELITO DE BAJO IMPACTO  2019-05-01 16:30:00   \n",
       "1  ROBO A NEGOCIO SIN VIOLENCIA  DELITO DE BAJO IMPACTO  2019-03-28 10:00:00   \n",
       "2  ROBO A NEGOCIO SIN VIOLENCIA  DELITO DE BAJO IMPACTO  2019-03-28 10:00:00   \n",
       "3  ROBO A NEGOCIO SIN VIOLENCIA  DELITO DE BAJO IMPACTO  2019-05-01 13:30:00   \n",
       "4            VIOLENCIA FAMILIAR  DELITO DE BAJO IMPACTO  2019-04-30 18:30:00   \n",
       "\n",
       "        Sexo  Edad TipoPersona        CalidadJuridica  \\\n",
       "0        NaN   NaN       MORAL                VICTIMA   \n",
       "1  Masculino   NaN      FISICA  VICTIMA Y DENUNCIANTE   \n",
       "2        NaN   NaN       MORAL                VICTIMA   \n",
       "3        NaN   NaN       MORAL                VICTIMA   \n",
       "4   Femenino  36.0      FISICA  VICTIMA Y DENUNCIANTE   \n",
       "\n",
       "                       Geopoint  \n",
       "0  19.3283464986,-99.0407749002  \n",
       "1  19.4020752972,-99.1525710006  \n",
       "2  19.4020752972,-99.1525710006  \n",
       "3  19.4349789028,-99.1470464003  \n",
       "4  19.2571868053,-99.0817841843  "
      ]
     },
     "execution_count": 3,
     "metadata": {},
     "output_type": "execute_result"
    }
   ],
   "source": [
    "df_vic = df_vic.drop(['idCarpeta', 'Año_hecho', 'Mes_hecho', 'ClasificacionDelito', 'lon', 'lat'], axis=1)\n",
    "df_vic.columns = ['delito', 'categoria_delito', 'fecha_hechos', \n",
    "                  'Sexo', 'Edad', 'TipoPersona', 'CalidadJuridica', 'Geopoint']\n",
    "df_vic.head()"
   ]
  },
  {
   "cell_type": "markdown",
   "metadata": {},
   "source": [
    "#### Cambiar tipos de datos\n",
    "\n",
    "Como ya vimos exiten varios tipos de datos. En partícular en este conjunto de datos, tenemos dos columnas de fechas, y si revisamos a que tipo de dato pertenecen usando el comando _dtype_ ,podemos observar que pandas las identificó como texto, lo cual dificulta trabajar con ellas. Si cambiamos estas columnas a tipo _datetime_, podemos usar las operaciones definidas para este tipo de datos. Haremos lo anterior empleando el comando _to_datetime_. Debido a que nos interesa guardar la transformación, es importante recordar hacer la asignación con _=_."
   ]
  },
  {
   "cell_type": "code",
   "execution_count": 4,
   "metadata": {},
   "outputs": [],
   "source": [
    "df_vic['fecha_hechos'] = pd.to_datetime(df_vic['fecha_hechos'])"
   ]
  },
  {
   "cell_type": "markdown",
   "metadata": {},
   "source": [
    "Usando este tipo de dato ahora es posible seleccionar por año, mes, día, hora y minuto usando los comandos:\n",
    "\n",
    "* columna.dt.year\n",
    "* columna.dt.month\n",
    "* columna.dt.day\n",
    "* columna.dt.hour\n",
    "* columna.dt.minute"
   ]
  },
  {
   "cell_type": "code",
   "execution_count": 5,
   "metadata": {},
   "outputs": [
    {
     "data": {
      "text/plain": [
       "0         16.0\n",
       "1         10.0\n",
       "2         10.0\n",
       "3         13.0\n",
       "4         18.0\n",
       "          ... \n",
       "145865     3.0\n",
       "145866     4.0\n",
       "145867     5.0\n",
       "145868     4.0\n",
       "145869     7.0\n",
       "Name: fecha_hechos, Length: 145870, dtype: float64"
      ]
     },
     "execution_count": 5,
     "metadata": {},
     "output_type": "execute_result"
    }
   ],
   "source": [
    "df_vic['fecha_hechos'].dt.hour"
   ]
  },
  {
   "cell_type": "markdown",
   "metadata": {},
   "source": [
    "Esto nos permite ver los delitos cometidos después de las 8pm. Para lograrlo usaremos _.dt.hour_ y el subsetting que ya hemos visto con anterioridad."
   ]
  },
  {
   "cell_type": "code",
   "execution_count": 6,
   "metadata": {},
   "outputs": [
    {
     "data": {
      "text/html": [
       "<div>\n",
       "<style scoped>\n",
       "    .dataframe tbody tr th:only-of-type {\n",
       "        vertical-align: middle;\n",
       "    }\n",
       "\n",
       "    .dataframe tbody tr th {\n",
       "        vertical-align: top;\n",
       "    }\n",
       "\n",
       "    .dataframe thead th {\n",
       "        text-align: right;\n",
       "    }\n",
       "</style>\n",
       "<table border=\"1\" class=\"dataframe\">\n",
       "  <thead>\n",
       "    <tr style=\"text-align: right;\">\n",
       "      <th></th>\n",
       "      <th>delito</th>\n",
       "      <th>categoria_delito</th>\n",
       "      <th>fecha_hechos</th>\n",
       "      <th>Sexo</th>\n",
       "      <th>Edad</th>\n",
       "      <th>TipoPersona</th>\n",
       "      <th>CalidadJuridica</th>\n",
       "      <th>Geopoint</th>\n",
       "    </tr>\n",
       "  </thead>\n",
       "  <tbody>\n",
       "    <tr>\n",
       "      <td>13</td>\n",
       "      <td>ROBO A TRANSEUNTE EN VIA PUBLICA SIN VIOLENCIA</td>\n",
       "      <td>ROBO A TRANSEUNTE EN VÍA PÚBLICA CON Y SIN VIO...</td>\n",
       "      <td>2019-04-24 20:20:00</td>\n",
       "      <td>Masculino</td>\n",
       "      <td>26.0</td>\n",
       "      <td>FISICA</td>\n",
       "      <td>VICTIMA Y DENUNCIANTE</td>\n",
       "      <td>19.4201584349,-99.0700393867</td>\n",
       "    </tr>\n",
       "    <tr>\n",
       "      <td>26</td>\n",
       "      <td>ABUSO SEXUAL</td>\n",
       "      <td>DELITO DE BAJO IMPACTO</td>\n",
       "      <td>2019-04-30 22:00:00</td>\n",
       "      <td>Femenino</td>\n",
       "      <td>20.0</td>\n",
       "      <td>FISICA</td>\n",
       "      <td>VICTIMA Y DENUNCIANTE</td>\n",
       "      <td>19.3240315026,-99.1169818999</td>\n",
       "    </tr>\n",
       "    <tr>\n",
       "      <td>27</td>\n",
       "      <td>SUSTRACCION DE MENORES</td>\n",
       "      <td>DELITO DE BAJO IMPACTO</td>\n",
       "      <td>2019-04-30 21:30:00</td>\n",
       "      <td>Femenino</td>\n",
       "      <td>14.0</td>\n",
       "      <td>FISICA</td>\n",
       "      <td>VICTIMA</td>\n",
       "      <td>19.4027156981,-99.0793629997</td>\n",
       "    </tr>\n",
       "    <tr>\n",
       "      <td>34</td>\n",
       "      <td>ROBO DE MOTOCICLETA SIN VIOLENCIA</td>\n",
       "      <td>ROBO DE VEHÍCULO CON Y SIN VIOLENCIA</td>\n",
       "      <td>2019-04-30 23:00:00</td>\n",
       "      <td>Femenino</td>\n",
       "      <td>35.0</td>\n",
       "      <td>FISICA</td>\n",
       "      <td>VICTIMA Y DENUNCIANTE</td>\n",
       "      <td>19.377112689,-99.053766085</td>\n",
       "    </tr>\n",
       "    <tr>\n",
       "      <td>41</td>\n",
       "      <td>ROBO DE VEHICULO DE SERVICIO PARTICULAR CON VI...</td>\n",
       "      <td>ROBO DE VEHÍCULO CON Y SIN VIOLENCIA</td>\n",
       "      <td>2019-04-30 22:00:00</td>\n",
       "      <td>Femenino</td>\n",
       "      <td>NaN</td>\n",
       "      <td>FISICA</td>\n",
       "      <td>VICTIMA</td>\n",
       "      <td>NaN</td>\n",
       "    </tr>\n",
       "    <tr>\n",
       "      <td>...</td>\n",
       "      <td>...</td>\n",
       "      <td>...</td>\n",
       "      <td>...</td>\n",
       "      <td>...</td>\n",
       "      <td>...</td>\n",
       "      <td>...</td>\n",
       "      <td>...</td>\n",
       "      <td>...</td>\n",
       "    </tr>\n",
       "    <tr>\n",
       "      <td>145856</td>\n",
       "      <td>TENTATIVA DE VIOLACION</td>\n",
       "      <td>DELITO DE BAJO IMPACTO</td>\n",
       "      <td>2019-09-19 22:20:00</td>\n",
       "      <td>Femenino</td>\n",
       "      <td>37.0</td>\n",
       "      <td>FISICA</td>\n",
       "      <td>VICTIMA Y DENUNCIANTE</td>\n",
       "      <td>19.3563799373,-99.2877924663</td>\n",
       "    </tr>\n",
       "    <tr>\n",
       "      <td>145857</td>\n",
       "      <td>VIOLENCIA FAMILIAR</td>\n",
       "      <td>DELITO DE BAJO IMPACTO</td>\n",
       "      <td>2019-09-19 22:50:00</td>\n",
       "      <td>Masculino</td>\n",
       "      <td>23.0</td>\n",
       "      <td>FISICA</td>\n",
       "      <td>VICTIMA Y DENUNCIANTE</td>\n",
       "      <td>19.4861320884,-99.0851386999</td>\n",
       "    </tr>\n",
       "    <tr>\n",
       "      <td>145859</td>\n",
       "      <td>ROBO DE VEHICULO DE SERVICIO PARTICULAR SIN VI...</td>\n",
       "      <td>ROBO DE VEHÍCULO CON Y SIN VIOLENCIA</td>\n",
       "      <td>2019-09-19 22:20:00</td>\n",
       "      <td>Masculino</td>\n",
       "      <td>42.0</td>\n",
       "      <td>FISICA</td>\n",
       "      <td>VICTIMA Y DENUNCIANTE</td>\n",
       "      <td>19.3281515772,-99.1480473403</td>\n",
       "    </tr>\n",
       "    <tr>\n",
       "      <td>145860</td>\n",
       "      <td>VIOLENCIA FAMILIAR</td>\n",
       "      <td>DELITO DE BAJO IMPACTO</td>\n",
       "      <td>2019-09-19 22:50:00</td>\n",
       "      <td>Masculino</td>\n",
       "      <td>51.0</td>\n",
       "      <td>FISICA</td>\n",
       "      <td>VICTIMA Y DENUNCIANTE</td>\n",
       "      <td>19.4848701405,-99.0844488098</td>\n",
       "    </tr>\n",
       "    <tr>\n",
       "      <td>145862</td>\n",
       "      <td>DAÑO EN PROPIEDAD AJENA CULPOSA POR TRÁNSITO V...</td>\n",
       "      <td>DELITO DE BAJO IMPACTO</td>\n",
       "      <td>2019-09-19 22:40:00</td>\n",
       "      <td>Masculino</td>\n",
       "      <td>NaN</td>\n",
       "      <td>FISICA</td>\n",
       "      <td>VICTIMA Y DENUNCIANTE</td>\n",
       "      <td>19.4836297304,-99.1884910301</td>\n",
       "    </tr>\n",
       "  </tbody>\n",
       "</table>\n",
       "<p>25157 rows × 8 columns</p>\n",
       "</div>"
      ],
      "text/plain": [
       "                                                   delito  \\\n",
       "13         ROBO A TRANSEUNTE EN VIA PUBLICA SIN VIOLENCIA   \n",
       "26                                           ABUSO SEXUAL   \n",
       "27                                 SUSTRACCION DE MENORES   \n",
       "34                      ROBO DE MOTOCICLETA SIN VIOLENCIA   \n",
       "41      ROBO DE VEHICULO DE SERVICIO PARTICULAR CON VI...   \n",
       "...                                                   ...   \n",
       "145856                             TENTATIVA DE VIOLACION   \n",
       "145857                                 VIOLENCIA FAMILIAR   \n",
       "145859  ROBO DE VEHICULO DE SERVICIO PARTICULAR SIN VI...   \n",
       "145860                                 VIOLENCIA FAMILIAR   \n",
       "145862  DAÑO EN PROPIEDAD AJENA CULPOSA POR TRÁNSITO V...   \n",
       "\n",
       "                                         categoria_delito        fecha_hechos  \\\n",
       "13      ROBO A TRANSEUNTE EN VÍA PÚBLICA CON Y SIN VIO... 2019-04-24 20:20:00   \n",
       "26                                 DELITO DE BAJO IMPACTO 2019-04-30 22:00:00   \n",
       "27                                 DELITO DE BAJO IMPACTO 2019-04-30 21:30:00   \n",
       "34                   ROBO DE VEHÍCULO CON Y SIN VIOLENCIA 2019-04-30 23:00:00   \n",
       "41                   ROBO DE VEHÍCULO CON Y SIN VIOLENCIA 2019-04-30 22:00:00   \n",
       "...                                                   ...                 ...   \n",
       "145856                             DELITO DE BAJO IMPACTO 2019-09-19 22:20:00   \n",
       "145857                             DELITO DE BAJO IMPACTO 2019-09-19 22:50:00   \n",
       "145859               ROBO DE VEHÍCULO CON Y SIN VIOLENCIA 2019-09-19 22:20:00   \n",
       "145860                             DELITO DE BAJO IMPACTO 2019-09-19 22:50:00   \n",
       "145862                             DELITO DE BAJO IMPACTO 2019-09-19 22:40:00   \n",
       "\n",
       "             Sexo  Edad TipoPersona        CalidadJuridica  \\\n",
       "13      Masculino  26.0      FISICA  VICTIMA Y DENUNCIANTE   \n",
       "26       Femenino  20.0      FISICA  VICTIMA Y DENUNCIANTE   \n",
       "27       Femenino  14.0      FISICA                VICTIMA   \n",
       "34       Femenino  35.0      FISICA  VICTIMA Y DENUNCIANTE   \n",
       "41       Femenino   NaN      FISICA                VICTIMA   \n",
       "...           ...   ...         ...                    ...   \n",
       "145856   Femenino  37.0      FISICA  VICTIMA Y DENUNCIANTE   \n",
       "145857  Masculino  23.0      FISICA  VICTIMA Y DENUNCIANTE   \n",
       "145859  Masculino  42.0      FISICA  VICTIMA Y DENUNCIANTE   \n",
       "145860  Masculino  51.0      FISICA  VICTIMA Y DENUNCIANTE   \n",
       "145862  Masculino   NaN      FISICA  VICTIMA Y DENUNCIANTE   \n",
       "\n",
       "                            Geopoint  \n",
       "13      19.4201584349,-99.0700393867  \n",
       "26      19.3240315026,-99.1169818999  \n",
       "27      19.4027156981,-99.0793629997  \n",
       "34        19.377112689,-99.053766085  \n",
       "41                               NaN  \n",
       "...                              ...  \n",
       "145856  19.3563799373,-99.2877924663  \n",
       "145857  19.4861320884,-99.0851386999  \n",
       "145859  19.3281515772,-99.1480473403  \n",
       "145860  19.4848701405,-99.0844488098  \n",
       "145862  19.4836297304,-99.1884910301  \n",
       "\n",
       "[25157 rows x 8 columns]"
      ]
     },
     "execution_count": 6,
     "metadata": {},
     "output_type": "execute_result"
    }
   ],
   "source": [
    "df_vic[df_vic['fecha_hechos'].dt.hour>=20]"
   ]
  },
  {
   "cell_type": "markdown",
   "metadata": {},
   "source": [
    "#### Modificar campos de texto\n",
    "\n",
    "Cuando todas las columnas de texto están con mayúsculas, como en el grupo de datos con el que estamos trabajando, puede dificultarse la lectura. En este caso, vamos a cambiar el texto de mayúsculas de los delitos usando el comando _.capitalize()_, es decir este comando dejará la primera letra en mayúscula y todas las demás en minúscula. En el caso de las alcaldías y fiscalias usaremos _.title()_, con el fin de que la primera letra de todas las palabras sea mayúscula."
   ]
  },
  {
   "cell_type": "code",
   "execution_count": 7,
   "metadata": {},
   "outputs": [
    {
     "data": {
      "text/html": [
       "<div>\n",
       "<style scoped>\n",
       "    .dataframe tbody tr th:only-of-type {\n",
       "        vertical-align: middle;\n",
       "    }\n",
       "\n",
       "    .dataframe tbody tr th {\n",
       "        vertical-align: top;\n",
       "    }\n",
       "\n",
       "    .dataframe thead th {\n",
       "        text-align: right;\n",
       "    }\n",
       "</style>\n",
       "<table border=\"1\" class=\"dataframe\">\n",
       "  <thead>\n",
       "    <tr style=\"text-align: right;\">\n",
       "      <th></th>\n",
       "      <th>delito</th>\n",
       "      <th>categoria_delito</th>\n",
       "      <th>fecha_hechos</th>\n",
       "      <th>Sexo</th>\n",
       "      <th>Edad</th>\n",
       "      <th>TipoPersona</th>\n",
       "      <th>CalidadJuridica</th>\n",
       "      <th>Geopoint</th>\n",
       "    </tr>\n",
       "  </thead>\n",
       "  <tbody>\n",
       "    <tr>\n",
       "      <td>145865</td>\n",
       "      <td>Lesiones culposas por caida de vehículo en mov...</td>\n",
       "      <td>Delito de bajo impacto</td>\n",
       "      <td>2019-09-20 03:30:00</td>\n",
       "      <td>Masculino</td>\n",
       "      <td>42.0</td>\n",
       "      <td>Fisica</td>\n",
       "      <td>Lesionado</td>\n",
       "      <td>19.3443909603,-99.0279509938</td>\n",
       "    </tr>\n",
       "    <tr>\n",
       "      <td>145866</td>\n",
       "      <td>Robo a transeunte en via publica con violencia</td>\n",
       "      <td>Robo a transeunte en vía pública con y sin vio...</td>\n",
       "      <td>2019-09-20 04:30:00</td>\n",
       "      <td>Masculino</td>\n",
       "      <td>45.0</td>\n",
       "      <td>Fisica</td>\n",
       "      <td>Victima y denunciante</td>\n",
       "      <td>19.3061992087,-98.9656925188</td>\n",
       "    </tr>\n",
       "    <tr>\n",
       "      <td>145867</td>\n",
       "      <td>Perdida de la vida por suicidio</td>\n",
       "      <td>Hecho no delictivo</td>\n",
       "      <td>2019-09-20 05:00:00</td>\n",
       "      <td>Masculino</td>\n",
       "      <td>33.0</td>\n",
       "      <td>Fisica</td>\n",
       "      <td>Cadaver</td>\n",
       "      <td>19.4102934856,-99.1622807104</td>\n",
       "    </tr>\n",
       "    <tr>\n",
       "      <td>145868</td>\n",
       "      <td>Homicidio por arma blanca</td>\n",
       "      <td>Homicidio doloso</td>\n",
       "      <td>2019-09-20 04:00:00</td>\n",
       "      <td>Masculino</td>\n",
       "      <td>27.0</td>\n",
       "      <td>Fisica</td>\n",
       "      <td>Cadaver</td>\n",
       "      <td>19.3223447722,-99.0427655635</td>\n",
       "    </tr>\n",
       "    <tr>\n",
       "      <td>145869</td>\n",
       "      <td>Lesiones culposas</td>\n",
       "      <td>Delito de bajo impacto</td>\n",
       "      <td>2019-09-18 07:20:00</td>\n",
       "      <td>Femenino</td>\n",
       "      <td>5.0</td>\n",
       "      <td>Fisica</td>\n",
       "      <td>Lesionado</td>\n",
       "      <td>NaN</td>\n",
       "    </tr>\n",
       "  </tbody>\n",
       "</table>\n",
       "</div>"
      ],
      "text/plain": [
       "                                                   delito  \\\n",
       "145865  Lesiones culposas por caida de vehículo en mov...   \n",
       "145866     Robo a transeunte en via publica con violencia   \n",
       "145867                    Perdida de la vida por suicidio   \n",
       "145868                          Homicidio por arma blanca   \n",
       "145869                                  Lesiones culposas   \n",
       "\n",
       "                                         categoria_delito        fecha_hechos  \\\n",
       "145865                             Delito de bajo impacto 2019-09-20 03:30:00   \n",
       "145866  Robo a transeunte en vía pública con y sin vio... 2019-09-20 04:30:00   \n",
       "145867                                 Hecho no delictivo 2019-09-20 05:00:00   \n",
       "145868                                   Homicidio doloso 2019-09-20 04:00:00   \n",
       "145869                             Delito de bajo impacto 2019-09-18 07:20:00   \n",
       "\n",
       "             Sexo  Edad TipoPersona        CalidadJuridica  \\\n",
       "145865  Masculino  42.0      Fisica              Lesionado   \n",
       "145866  Masculino  45.0      Fisica  Victima y denunciante   \n",
       "145867  Masculino  33.0      Fisica                Cadaver   \n",
       "145868  Masculino  27.0      Fisica                Cadaver   \n",
       "145869   Femenino   5.0      Fisica              Lesionado   \n",
       "\n",
       "                            Geopoint  \n",
       "145865  19.3443909603,-99.0279509938  \n",
       "145866  19.3061992087,-98.9656925188  \n",
       "145867  19.4102934856,-99.1622807104  \n",
       "145868  19.3223447722,-99.0427655635  \n",
       "145869                           NaN  "
      ]
     },
     "execution_count": 7,
     "metadata": {},
     "output_type": "execute_result"
    }
   ],
   "source": [
    "df_vic['delito'] =           df_vic['delito'].str.capitalize()\n",
    "df_vic['categoria_delito'] = df_vic['categoria_delito'].str.capitalize()\n",
    "df_vic['TipoPersona'] =      df_vic['TipoPersona'].str.capitalize()\n",
    "df_vic['CalidadJuridica'] =  df_vic['CalidadJuridica'].str.capitalize()\n",
    "df_vic.tail()"
   ]
  },
  {
   "cell_type": "markdown",
   "metadata": {},
   "source": [
    "#### Datos faltantes\n",
    "\n",
    "Si revisamos los datos podemos ver que hay varios casos donde nos faltan datos, en especial en \"Sexo\" y \"Edad\"."
   ]
  },
  {
   "cell_type": "code",
   "execution_count": 8,
   "metadata": {},
   "outputs": [
    {
     "data": {
      "text/plain": [
       "delito              145870\n",
       "categoria_delito    145870\n",
       "fecha_hechos        145743\n",
       "Sexo                122063\n",
       "Edad                100547\n",
       "TipoPersona         144444\n",
       "CalidadJuridica     145870\n",
       "Geopoint            140143\n",
       "dtype: int64"
      ]
     },
     "execution_count": 8,
     "metadata": {},
     "output_type": "execute_result"
    }
   ],
   "source": [
    "df_vic.count()"
   ]
  },
  {
   "cell_type": "markdown",
   "metadata": {},
   "source": [
    "En el caso de \"Sexo\" podemos ver que en algunos casos se reporta que este \"No se especifica\" mientras que en otros se deja vacio, es decir, con NaN."
   ]
  },
  {
   "cell_type": "code",
   "execution_count": 9,
   "metadata": {},
   "outputs": [
    {
     "data": {
      "text/plain": [
       "Masculino           68288\n",
       "Femenino            53770\n",
       "NaN                 23807\n",
       "No se especifica        5\n",
       "Name: Sexo, dtype: int64"
      ]
     },
     "execution_count": 9,
     "metadata": {},
     "output_type": "execute_result"
    }
   ],
   "source": [
    "df_vic['Sexo'].value_counts(dropna=False)"
   ]
  },
  {
   "cell_type": "markdown",
   "metadata": {},
   "source": [
    "En este caso vamos a remplazar todos los \"NaN\" por \"No se especifica\" usando el comando _.fillna()_"
   ]
  },
  {
   "cell_type": "code",
   "execution_count": 10,
   "metadata": {},
   "outputs": [
    {
     "data": {
      "text/plain": [
       "Masculino           68288\n",
       "Femenino            53770\n",
       "No se especifica    23812\n",
       "Name: Sexo, dtype: int64"
      ]
     },
     "execution_count": 10,
     "metadata": {},
     "output_type": "execute_result"
    }
   ],
   "source": [
    "df_vic['Sexo'] = df_vic['Sexo'].fillna(\"No se especifica\")\n",
    "df_vic['Sexo'].value_counts(dropna=False)"
   ]
  },
  {
   "cell_type": "markdown",
   "metadata": {},
   "source": [
    "#### Datos fuera de rango\n",
    "\n",
    "__Fecha__\n",
    "\n",
    "En el caso de este conjunto de datos tenemos las carpetas que se crearon entre 2016 y 2019. Sin embargo, esto no significa que todos los delitos hayan sido cometidos durante este periodo de tiempo. Para visualizarlo vamos a contar cuántas carpetas hay por año usando _.dt.year_ y _.value_counts()_."
   ]
  },
  {
   "cell_type": "code",
   "execution_count": 11,
   "metadata": {},
   "outputs": [
    {
     "data": {
      "text/plain": [
       "2019.0    134611\n",
       "2018.0      8807\n",
       "2017.0       971\n",
       "2016.0       416\n",
       "2015.0       224\n",
       "2014.0       214\n",
       "2013.0        96\n",
       "2012.0        68\n",
       "2011.0        60\n",
       "2010.0        56\n",
       "2009.0        46\n",
       "2008.0        42\n",
       "2001.0        19\n",
       "2007.0        16\n",
       "2006.0        15\n",
       "2005.0        11\n",
       "2004.0        10\n",
       "1998.0         7\n",
       "2002.0         6\n",
       "2000.0         6\n",
       "2003.0         5\n",
       "1999.0         4\n",
       "1972.0         3\n",
       "1994.0         3\n",
       "1983.0         3\n",
       "1968.0         2\n",
       "1974.0         2\n",
       "1989.0         2\n",
       "1995.0         2\n",
       "1996.0         2\n",
       "1997.0         2\n",
       "1991.0         1\n",
       "1990.0         1\n",
       "1992.0         1\n",
       "1987.0         1\n",
       "1985.0         1\n",
       "1993.0         1\n",
       "1981.0         1\n",
       "1980.0         1\n",
       "1973.0         1\n",
       "1971.0         1\n",
       "1969.0         1\n",
       "1964.0         1\n",
       "Name: fecha_hechos, dtype: int64"
      ]
     },
     "execution_count": 11,
     "metadata": {},
     "output_type": "execute_result"
    }
   ],
   "source": [
    "df_vic['fecha_hechos'].dt.year.value_counts()"
   ]
  },
  {
   "cell_type": "markdown",
   "metadata": {},
   "source": [
    "En este caso podemos ver que hay carpetas sobre delitos cometidos en 1964. Para nuestro análisis vamos a quitar todas las carpetas que sean sobre hechos anteriores al 2016. Es decir, dejaremos unicamente las carpetas cuyo año sea mayor o igual a 2016."
   ]
  },
  {
   "cell_type": "code",
   "execution_count": 12,
   "metadata": {},
   "outputs": [],
   "source": [
    "df_vic = df_vic[df_vic['fecha_hechos'].dt.year>=2016]"
   ]
  },
  {
   "cell_type": "markdown",
   "metadata": {},
   "source": [
    "__Edad__\n",
    "\n",
    "En el caso de la edad podemos recordar que hay una persona que tiene una edad de 258 años. Probablemente este sea un error de captura, ya que es la única persona reportada de mas de cién años. \n",
    "En este caso vamos a poner un críterio para manejar problemas similares a futuro, si la persona tiene mas de cién años remplazaremos su edad por nan. \n",
    "Para lograr esto seleccionaremos todas las celdas de personas de mas de cién años que están en la columna Edad con _.loc[]_ y remplazaremos estos valores por NaN. \n",
    "Esto debé de cambiar la edad máxima de nuestros datos."
   ]
  },
  {
   "cell_type": "code",
   "execution_count": 13,
   "metadata": {},
   "outputs": [
    {
     "data": {
      "text/plain": [
       "99.0"
      ]
     },
     "execution_count": 13,
     "metadata": {},
     "output_type": "execute_result"
    }
   ],
   "source": [
    "df_vic.loc[df_vic['Edad']>=100,'Edad'] = nan\n",
    "df_vic['Edad'].max()"
   ]
  },
  {
   "cell_type": "markdown",
   "metadata": {},
   "source": [
    "Otra cuestión que cabe destacar es que hay una gran cantidad de víctimas con edad de cero años. Este es un problema de la captura de los datos, ya que muchas veces, cuando no se conoce la edad de la víctima se pone un cero, lo cual se puede confundir con casos donde la víctima es un menor de edad. Sin embargo, en este caso es imposible corregir este error, por lo que dejaremos los datos como están, pero tendremos cuidado de esto durante el análisis."
   ]
  },
  {
   "cell_type": "code",
   "execution_count": 14,
   "metadata": {},
   "outputs": [
    {
     "data": {
      "text/html": [
       "<div>\n",
       "<style scoped>\n",
       "    .dataframe tbody tr th:only-of-type {\n",
       "        vertical-align: middle;\n",
       "    }\n",
       "\n",
       "    .dataframe tbody tr th {\n",
       "        vertical-align: top;\n",
       "    }\n",
       "\n",
       "    .dataframe thead th {\n",
       "        text-align: right;\n",
       "    }\n",
       "</style>\n",
       "<table border=\"1\" class=\"dataframe\">\n",
       "  <thead>\n",
       "    <tr style=\"text-align: right;\">\n",
       "      <th></th>\n",
       "      <th>delito</th>\n",
       "      <th>categoria_delito</th>\n",
       "      <th>fecha_hechos</th>\n",
       "      <th>Sexo</th>\n",
       "      <th>Edad</th>\n",
       "      <th>TipoPersona</th>\n",
       "      <th>CalidadJuridica</th>\n",
       "      <th>Geopoint</th>\n",
       "    </tr>\n",
       "  </thead>\n",
       "  <tbody>\n",
       "    <tr>\n",
       "      <td>1858</td>\n",
       "      <td>Narcomenudeo posesion simple</td>\n",
       "      <td>Delito de bajo impacto</td>\n",
       "      <td>2019-05-10 22:45:00</td>\n",
       "      <td>No se especifica</td>\n",
       "      <td>0.0</td>\n",
       "      <td>Moral</td>\n",
       "      <td>Victima</td>\n",
       "      <td>19.3561934036,-99.3005525056</td>\n",
       "    </tr>\n",
       "    <tr>\n",
       "      <td>3280</td>\n",
       "      <td>Violencia familiar</td>\n",
       "      <td>Delito de bajo impacto</td>\n",
       "      <td>2019-07-30 12:00:00</td>\n",
       "      <td>Masculino</td>\n",
       "      <td>0.0</td>\n",
       "      <td>Fisica</td>\n",
       "      <td>Victima  niño</td>\n",
       "      <td>19.4918033156,-99.1217867298</td>\n",
       "    </tr>\n",
       "    <tr>\n",
       "      <td>3870</td>\n",
       "      <td>Aborto</td>\n",
       "      <td>Delito de bajo impacto</td>\n",
       "      <td>2019-09-23 20:30:00</td>\n",
       "      <td>No se especifica</td>\n",
       "      <td>0.0</td>\n",
       "      <td>Moral</td>\n",
       "      <td>Cadaver</td>\n",
       "      <td>19.552463053,-99.14245583</td>\n",
       "    </tr>\n",
       "    <tr>\n",
       "      <td>4383</td>\n",
       "      <td>Lesiones culposas por caida</td>\n",
       "      <td>Delito de bajo impacto</td>\n",
       "      <td>2019-09-27 01:25:00</td>\n",
       "      <td>Masculino</td>\n",
       "      <td>0.0</td>\n",
       "      <td>Fisica</td>\n",
       "      <td>Victima</td>\n",
       "      <td>NaN</td>\n",
       "    </tr>\n",
       "    <tr>\n",
       "      <td>4522</td>\n",
       "      <td>Violencia familiar</td>\n",
       "      <td>Delito de bajo impacto</td>\n",
       "      <td>2019-09-24 17:00:00</td>\n",
       "      <td>Femenino</td>\n",
       "      <td>0.0</td>\n",
       "      <td>Fisica</td>\n",
       "      <td>Victima</td>\n",
       "      <td>19.447493298,-99.1488042999</td>\n",
       "    </tr>\n",
       "    <tr>\n",
       "      <td>...</td>\n",
       "      <td>...</td>\n",
       "      <td>...</td>\n",
       "      <td>...</td>\n",
       "      <td>...</td>\n",
       "      <td>...</td>\n",
       "      <td>...</td>\n",
       "      <td>...</td>\n",
       "      <td>...</td>\n",
       "    </tr>\n",
       "    <tr>\n",
       "      <td>141086</td>\n",
       "      <td>Feminicidio</td>\n",
       "      <td>Homicidio doloso</td>\n",
       "      <td>2019-03-20 15:15:00</td>\n",
       "      <td>Femenino</td>\n",
       "      <td>0.0</td>\n",
       "      <td>Fisica</td>\n",
       "      <td>Cadaver</td>\n",
       "      <td>19.4690326848,-99.1543045098</td>\n",
       "    </tr>\n",
       "    <tr>\n",
       "      <td>141985</td>\n",
       "      <td>Corrupcion de menores</td>\n",
       "      <td>Delito de bajo impacto</td>\n",
       "      <td>2019-03-25 12:30:00</td>\n",
       "      <td>Femenino</td>\n",
       "      <td>0.0</td>\n",
       "      <td>Fisica</td>\n",
       "      <td>Victima</td>\n",
       "      <td>19.2810964993,-99.2028764017</td>\n",
       "    </tr>\n",
       "    <tr>\n",
       "      <td>142508</td>\n",
       "      <td>Denuncia de hechos</td>\n",
       "      <td>Hecho no delictivo</td>\n",
       "      <td>2019-03-27 19:11:00</td>\n",
       "      <td>No se especifica</td>\n",
       "      <td>0.0</td>\n",
       "      <td>Fisica</td>\n",
       "      <td>Victima</td>\n",
       "      <td>NaN</td>\n",
       "    </tr>\n",
       "    <tr>\n",
       "      <td>144459</td>\n",
       "      <td>Aborto</td>\n",
       "      <td>Delito de bajo impacto</td>\n",
       "      <td>2019-09-11 10:00:00</td>\n",
       "      <td>No se especifica</td>\n",
       "      <td>0.0</td>\n",
       "      <td>Moral</td>\n",
       "      <td>Cadaver</td>\n",
       "      <td>NaN</td>\n",
       "    </tr>\n",
       "    <tr>\n",
       "      <td>144986</td>\n",
       "      <td>Robo a negocio sin violencia</td>\n",
       "      <td>Delito de bajo impacto</td>\n",
       "      <td>2019-05-13 13:05:00</td>\n",
       "      <td>No se especifica</td>\n",
       "      <td>0.0</td>\n",
       "      <td>Moral</td>\n",
       "      <td>Victima</td>\n",
       "      <td>19.484093683,-99.1309421503</td>\n",
       "    </tr>\n",
       "  </tbody>\n",
       "</table>\n",
       "<p>521 rows × 8 columns</p>\n",
       "</div>"
      ],
      "text/plain": [
       "                              delito        categoria_delito  \\\n",
       "1858    Narcomenudeo posesion simple  Delito de bajo impacto   \n",
       "3280              Violencia familiar  Delito de bajo impacto   \n",
       "3870                          Aborto  Delito de bajo impacto   \n",
       "4383     Lesiones culposas por caida  Delito de bajo impacto   \n",
       "4522              Violencia familiar  Delito de bajo impacto   \n",
       "...                              ...                     ...   \n",
       "141086                   Feminicidio        Homicidio doloso   \n",
       "141985         Corrupcion de menores  Delito de bajo impacto   \n",
       "142508            Denuncia de hechos      Hecho no delictivo   \n",
       "144459                        Aborto  Delito de bajo impacto   \n",
       "144986  Robo a negocio sin violencia  Delito de bajo impacto   \n",
       "\n",
       "              fecha_hechos              Sexo  Edad TipoPersona  \\\n",
       "1858   2019-05-10 22:45:00  No se especifica   0.0       Moral   \n",
       "3280   2019-07-30 12:00:00         Masculino   0.0      Fisica   \n",
       "3870   2019-09-23 20:30:00  No se especifica   0.0       Moral   \n",
       "4383   2019-09-27 01:25:00         Masculino   0.0      Fisica   \n",
       "4522   2019-09-24 17:00:00          Femenino   0.0      Fisica   \n",
       "...                    ...               ...   ...         ...   \n",
       "141086 2019-03-20 15:15:00          Femenino   0.0      Fisica   \n",
       "141985 2019-03-25 12:30:00          Femenino   0.0      Fisica   \n",
       "142508 2019-03-27 19:11:00  No se especifica   0.0      Fisica   \n",
       "144459 2019-09-11 10:00:00  No se especifica   0.0       Moral   \n",
       "144986 2019-05-13 13:05:00  No se especifica   0.0       Moral   \n",
       "\n",
       "       CalidadJuridica                      Geopoint  \n",
       "1858           Victima  19.3561934036,-99.3005525056  \n",
       "3280     Victima  niño  19.4918033156,-99.1217867298  \n",
       "3870           Cadaver     19.552463053,-99.14245583  \n",
       "4383           Victima                           NaN  \n",
       "4522           Victima   19.447493298,-99.1488042999  \n",
       "...                ...                           ...  \n",
       "141086         Cadaver  19.4690326848,-99.1543045098  \n",
       "141985         Victima  19.2810964993,-99.2028764017  \n",
       "142508         Victima                           NaN  \n",
       "144459         Cadaver                           NaN  \n",
       "144986         Victima   19.484093683,-99.1309421503  \n",
       "\n",
       "[521 rows x 8 columns]"
      ]
     },
     "execution_count": 14,
     "metadata": {},
     "output_type": "execute_result"
    }
   ],
   "source": [
    "df_vic[df_vic['Edad']==0]"
   ]
  },
  {
   "cell_type": "markdown",
   "metadata": {},
   "source": [
    "__Categorias y delitos__\n",
    "\n",
    "En el pandas_profiling vimos que la gran mayoría de los delitos eran \"de bajo impacto\" o \"hecho no delictivo\". Quitar estos delitos nos permitiria simplificar el análisis, además de ocupar menos memoria. \n",
    "\n",
    "En primer lugar debemos revisar que tipo de delitos están en estas clasificaciones revisando los datos.\n",
    "\n",
    "Para lograrlo:\n",
    "* Encontrar todos los delitos que pertenezcan a las clasificaciones de interes usando _.isin()_\n",
    "* Seleccionar las filas de interes y la columna de delitos con _.loc[]_\n",
    "* Obtener los unicos con _.unique()_"
   ]
  },
  {
   "cell_type": "code",
   "execution_count": 15,
   "metadata": {},
   "outputs": [
    {
     "data": {
      "text/plain": [
       "array(['Narcomenudeo posesion simple', 'Robo a negocio sin violencia',\n",
       "       'Violencia familiar', 'Robo de objetos',\n",
       "       'Robo a casa habitacion sin violencia', 'Ddh fds',\n",
       "       'Falsificacion de titulos al portador y documentos de credito publico',\n",
       "       'Encubrimiento', 'Amenazas', 'Robo de documentos',\n",
       "       'Robo de objetos del interior de un vehiculo', 'Abuso sexual',\n",
       "       'Sustraccion de menores', 'Fraude', 'Robo de vehiculo de pedales',\n",
       "       'Narcomenudeo posesión con fines de venta, comercio y suministro',\n",
       "       'Abuso de confianza',\n",
       "       'Lesiones culposas por transito vehicular en colision',\n",
       "       'Lesiones intencionales por golpes',\n",
       "       'Secuestro express (para cometer robo o extorsión)',\n",
       "       'Perdida de la vida por otras causas', 'Personas extraviadas',\n",
       "       'Homicidio culposo por tránsito vehicular (colision)',\n",
       "       'Tentativa de suicidio', 'Robo de dinero',\n",
       "       'Robo a pasajero a bordo de transporte público con violencia',\n",
       "       'Robo de accesorios de auto', 'Usurpación de identidad',\n",
       "       'Homicidio culposo por tránsito vehicular (atropellado)',\n",
       "       'Privacion de la libertad personal', 'Robo de objetos a escuela',\n",
       "       'Despojo', 'Lesiones culposas por transito vehicular',\n",
       "       'Perdida de la vida por suicidio',\n",
       "       'Robo a pasajero a bordo de metrobus con violencia',\n",
       "       'Robo a pasajero / conductor de taxi con violencia',\n",
       "       'Daño en propiedad ajena culposa por tránsito vehicular a automovil',\n",
       "       'Robo de placa de automovil', 'Estupro', 'Corrupcion de menores',\n",
       "       'Lesiones intencionales por arma blanca', 'Trata de personas',\n",
       "       'Tentativa de extorsion',\n",
       "       'Ejercicio indebido del servidor publico',\n",
       "       'Robo a transeunte en negocio con violencia',\n",
       "       'La administracion de justicia', 'Discriminacion',\n",
       "       'Daño en propiedad ajena intencional',\n",
       "       'Robo a pasajero / conductor de vehiculo con violencia',\n",
       "       'Daño en propiedad ajena intencional a automovil',\n",
       "       'Tentativa de robo', 'Daño en propiedad ajena culposa',\n",
       "       'Lesiones culposas', 'Acoso sexual',\n",
       "       'Robo a transeunte de celular sin violencia',\n",
       "       'Contra funcionarios publicos', 'Portacion de arma de fuego',\n",
       "       'Lesiones culposas por caida', 'Cobranza ilegitima',\n",
       "       'Robo a pasajero a bordo de metrobus sin violencia', 'Extorsion',\n",
       "       'Abuso de autoridad', 'Lesiones culposas por quemaduras',\n",
       "       'Lesiones intencionales', 'Portacion arma/prohib.',\n",
       "       'Daño en propiedad ajena culposa por tránsito vehicular a bienes inmuebles',\n",
       "       'Pornografia infantil', 'Posesion de vehiculo robado',\n",
       "       'Allanamiento de morada', 'Tentativa de homicidio',\n",
       "       'Ddh incompetencia', 'Ddh relacionadas',\n",
       "       'Perdida de la vida por enfermedad',\n",
       "       'Daño en propiedad ajena intencional a bienes inmuebles',\n",
       "       'Falsificacion de documentos', 'Cohecho',\n",
       "       'Robo a pasajero a bordo de taxi sin violencia',\n",
       "       'Abandono de persona', 'Robo a pasajero en trolebus con violencia',\n",
       "       'Ddh otras materias', 'Delitos ambientales',\n",
       "       'Robo a pasajero en autobus foraneo sin violencia',\n",
       "       'Desaparicion forzada de personas', 'Tortura',\n",
       "       'Insolvencia alimentaria', 'Robo de arma',\n",
       "       'Robo a transeunte en parques y mercados con violencia',\n",
       "       'Daño en propiedad ajena intencional a casa habitacion',\n",
       "       'Negacion del servicio publico', 'Falsedad de declaraciones',\n",
       "       'Resistencia de particulares (se oponga o resista)',\n",
       "       'Perdida de la vida por accidente laboral',\n",
       "       'Robo a oficina pública sin violencia',\n",
       "       'Priv. ilegal de la lib. y robo de vehiculo',\n",
       "       'Peligro de contagio', 'Gestión ambiental', 'Denuncia de hechos',\n",
       "       'Ddh anonimas', 'Robo a transeunte de celular con violencia',\n",
       "       'Perdida de la vida por caida',\n",
       "       'Homicidio culposo fuera del d.f (colision)',\n",
       "       'Responsabilidad profesional', 'Desobedencia de particulares',\n",
       "       'Robo a pasajero a bordo de transporte público sin violencia',\n",
       "       'Lesiones culposas accidente laboral',\n",
       "       'Perdida de la vida por paro cardiaco', 'Uso de documento falso',\n",
       "       'Robo a transeunte en restaurant con violencia',\n",
       "       'Variacion de nombre o domicilio',\n",
       "       'Robo a pasajero en autobús foráneo con violencia', 'Aborto',\n",
       "       'Robo de animales', 'Difamacion',\n",
       "       'Robo a pasajero en rtp sin violencia',\n",
       "       'Disparos de arma de fuego', 'Maltrato animal', 'Ddh redes',\n",
       "       'Delitos de abogados patronos y litigantes',\n",
       "       'Lesiones culposas por caida de vehículo en movimiento',\n",
       "       'Robo de alhajas', 'Revelacion de secretos', 'Ddh frvt',\n",
       "       'Uso indebido de atribuciones y facultades',\n",
       "       'Ataque a las vias generales de comunicación',\n",
       "       'Daño en propiedad ajena intencional a negocio',\n",
       "       'Perdida de la vida por derrumbe',\n",
       "       'Perdida de la vida por congestion alcoholica',\n",
       "       'Daño en propiedad ajena intencional a vias de comunicacion',\n",
       "       'Ddh sin datos', 'Usurpacion de profesion',\n",
       "       'Perdida de la vida por quemadura',\n",
       "       'Tentativa de robo de vehiculo',\n",
       "       'Robo a pasajero en trolebus sin violencia',\n",
       "       'Operaciones con recursos de procedencia ilicita',\n",
       "       'Robo a casa habitacion y vehiculo sin violencia',\n",
       "       'Ddh oficio colaboracion', 'Perdida de la vida por precipitacion',\n",
       "       'Robo a pasajero en tren suburbano sin violencia',\n",
       "       'Quebrantamiento de sellos',\n",
       "       'Robo a sucursal bancaria (supermercado) sin violencia',\n",
       "       'Robo a pasajero en rtp con violencia',\n",
       "       'Violacion de correspondencia',\n",
       "       'Homicidio culposo por arma de fuego',\n",
       "       'Perdida de la vida por suicidio en el metro',\n",
       "       'Homicidio culposo fuera del d.f (atropellado)',\n",
       "       'Usurpacion de funciones', 'Perdida de la vida por intoxicacion',\n",
       "       'Ataque a las vias de comunicacion (daño a vias o medios de transporte)',\n",
       "       'Robo de fluidos', 'Lesiones intencionales y robo de vehiculo',\n",
       "       'Contaminación o residuos', 'Tentativa de violacion',\n",
       "       'Daño suelo (actividad, invasión o extracción)',\n",
       "       'Delitos electorales', 'Bigamia',\n",
       "       'Robo a pasajero en tren ligero con violencia', 'Exhortos',\n",
       "       'Inhumaciones y/o exhumaciones',\n",
       "       'Robo a pasajero en tren ligero sin violencia',\n",
       "       'Tentativa de fraude', 'Homicidio culposo por tránsito vehicular',\n",
       "       'Perdida de la vida por asfixia',\n",
       "       'Perdida de la vida por ahogamiento',\n",
       "       'Privacion de la libertad personal (realizar acto sexual)',\n",
       "       'Homicidio culposo por tránsito vehicular (caida)', 'Intimidacion',\n",
       "       'Trafico de influencia', 'Peculado',\n",
       "       'Daño en propiedad ajena culposa por tránsito vehicular a vias de comunicacion',\n",
       "       'Falsificacion de sellos, marcas, llaves y otros',\n",
       "       'Robo a negocio y vehiculo sin violencia',\n",
       "       'Uso indebido de condecoraciones uniformes e insignias',\n",
       "       'Explotación de menor o discapacitado',\n",
       "       'Perdida de la vida asfixia por alimentos/ liquidos',\n",
       "       'Robo a transeunte en terminal de pasajeros con violencia',\n",
       "       'Robo a transeunte en hotel con violencia', 'Ultrajes',\n",
       "       'Contra el estado civil', 'Regulación urbana', 'Homicidio culposo',\n",
       "       'Ddh cereso', 'Cambio de uso de suelo', 'Sabotaje',\n",
       "       'Intimidacion (evitar denuncia, aporte información o pruebas)',\n",
       "       'Oposicion a la obra publica', 'Enriquecimiento ilicito',\n",
       "       'Robo en interior de empresa (nomina) sin violencia',\n",
       "       'Robo a pasajero en ecobus con violencia',\n",
       "       'Robo a transeunte y vehiculo con violencia',\n",
       "       'Robo a pasajero en ecobus sin violencia', 'Evasion de presos',\n",
       "       'Calumnias', 'Otros delitos', 'Tala', 'Delitos contra la salud'],\n",
       "      dtype=object)"
      ]
     },
     "execution_count": 15,
     "metadata": {},
     "output_type": "execute_result"
    }
   ],
   "source": [
    "cat_interes = [\"Delito de bajo impacto\", \"Hecho no delictivo\"]\n",
    "del_bajo_impacto = df_vic.loc[df_vic['categoria_delito'].isin(cat_interes), \"delito\"]\n",
    "del_bajo_impacto.unique()"
   ]
  },
  {
   "cell_type": "markdown",
   "metadata": {},
   "source": [
    "Para ver los delitos de \"alto impacto\" usaremos exactamente el mismo método, solo que agregaremos una negación _~_ al selector de filas."
   ]
  },
  {
   "cell_type": "code",
   "execution_count": 16,
   "metadata": {},
   "outputs": [
    {
     "data": {
      "text/plain": [
       "array(['Robo a negocio con violencia',\n",
       "       'Robo a transeunte en via publica sin violencia',\n",
       "       'Robo a transeunte en via publica con violencia',\n",
       "       'Robo a pasajero a bordo de metro con violencia',\n",
       "       'Robo de vehiculo de servicio particular sin violencia',\n",
       "       'Robo de motocicleta sin violencia',\n",
       "       'Robo de vehiculo de servicio particular con violencia',\n",
       "       'Lesiones intencionales por arma de fuego',\n",
       "       'Homicidio por arma de fuego',\n",
       "       'Robo a pasajero a bordo de metro sin violencia',\n",
       "       'Robo de vehiculo de servicio público con violencia',\n",
       "       'Robo a pasajero a bordo de taxi con violencia',\n",
       "       'Robo de motocicleta con violencia',\n",
       "       'Robo a repartidor con violencia',\n",
       "       'Robo a casa habitacion con violencia',\n",
       "       'Robo a transeunte saliendo del banco con violencia',\n",
       "       'Homicidio por golpes',\n",
       "       'Robo a pasajero a bordo de pesero colectivo con violencia',\n",
       "       'Violacion', 'Robo de vehiculo de servicio oficial sin violencia',\n",
       "       'Robo a pasajero a bordo de pesero colectivo sin violencia',\n",
       "       'Homicidio por arma blanca', 'Robo a repartidor sin violencia',\n",
       "       'Robo a negocio y vehiculo con violencia',\n",
       "       'Robo de vehiculo de servicio público sin violencia',\n",
       "       'Robo a casa habitacion y vehiculo con violencia',\n",
       "       'Violacion equiparada',\n",
       "       'Robo a transeunte saliendo del cajero con violencia',\n",
       "       'Homicidios intencionales (otros)',\n",
       "       'Robo de maquinaria con violencia',\n",
       "       'Robo a repartidor y vehiculo con violencia', 'Plagio o secuestro',\n",
       "       'Feminicidio',\n",
       "       'Robo a transportista y vehiculo pesado con violencia',\n",
       "       'Violacion equiparada por conocido', 'Violacion tumultuaria',\n",
       "       'Robo de vehiculo de servicio de transporte sin violencia',\n",
       "       'Robo a transeunte en via publica (nomina) con violencia',\n",
       "       'Robo en interior de empresa (nomina) con violencia',\n",
       "       'Robo a sucursal bancaria (asalto bancario) con violencia',\n",
       "       'Robo de vehiculo de servicio oficial con violencia',\n",
       "       'Robo a transportista y vehiculo pesado sin violencia',\n",
       "       'Robo de vehiculo de servicio de transporte con violencia',\n",
       "       'Robo de maquinaria sin violencia',\n",
       "       'Robo a sucursal bancaria (supermercado) con violencia',\n",
       "       'Violacion tumultuaria equiparada', 'Homicidio por ahorcamiento',\n",
       "       'Violacion tumultuaria equiparada por conocido',\n",
       "       'Robo a oficina pública con violencia',\n",
       "       'Violacion equiparada y robo de vehiculo',\n",
       "       'Robo durante traslado de valores (nomina) con violencia',\n",
       "       'Robo a repartidor y vehiculo sin violencia'], dtype=object)"
      ]
     },
     "execution_count": 16,
     "metadata": {},
     "output_type": "execute_result"
    }
   ],
   "source": [
    "cat_interes = [\"Delito de bajo impacto\", \"Hecho no delictivo\"]\n",
    "del_alto_impacto = df_vic.loc[~df_vic['categoria_delito'].isin(cat_interes), \"delito\"]\n",
    "del_alto_impacto.unique()"
   ]
  },
  {
   "cell_type": "markdown",
   "metadata": {},
   "source": [
    "Quitar los delitos de bajo impacto implica que nos concentramos en los que más afectan a la población, tales como: robo, secuestro y homicidio. No obstante, al mismo tiempo implica ignorar la forma de contacto con la violencia más común dentro de la población. La decisión de ignorar datos siempre debé de tomarse tomando en cuenta las implicaciones.\n",
    "\n",
    "En este caso, para simplificar los análisis quitaremos los delitos de bajo impacto y los hechos no delictivos. \n",
    "\n",
    "Con la finalidad de quitar los delitos que no nos interesan aplicaremos una modificación del comando _isin()_. En el comando anterior vimos los delitos en la lista, para seleccionar los delitos que no están en la lista agregaremos _~_ al inicio del comando, lo cual representa una negación."
   ]
  },
  {
   "cell_type": "code",
   "execution_count": 17,
   "metadata": {},
   "outputs": [],
   "source": [
    "df_vic = df_vic.loc[~df_vic['categoria_delito'].isin(['Delito de bajo impacto','Hecho no delictivo'])]"
   ]
  },
  {
   "cell_type": "markdown",
   "metadata": {},
   "source": [
    "Después, de estas transformaciones nuestros datos son menos."
   ]
  },
  {
   "cell_type": "code",
   "execution_count": 18,
   "metadata": {},
   "outputs": [
    {
     "data": {
      "text/plain": [
       "(32168, 8)"
      ]
     },
     "execution_count": 18,
     "metadata": {},
     "output_type": "execute_result"
    }
   ],
   "source": [
    "df_vic.shape"
   ]
  },
  {
   "cell_type": "markdown",
   "metadata": {},
   "source": [
    "__Tipo de persona y cálidad jurídica__\n",
    "\n",
    "Una pregunta que podemos hacernos es si hay una relación entre el tipo de persona y la calidad juridica. \n",
    "\n",
    "Para verificar esto nos centraremos en análizar solo esas dos filas y usaremos el comando _.drop_duplicates()_, el cual quita todas las filas repetidas. En primer lugar seleccionaremos las dos columnas que nos interesan ('TipoPersona' y 'CalidadJuridica'), para después quitar todos los duplicados y comparar si siempre coinciden.\n",
    "\n",
    "En este ocasión no vamos a guardar el resultado, solo veremos lo que sucede sin modificar los datos, y a partir de eso tomaremos una decisión."
   ]
  },
  {
   "cell_type": "code",
   "execution_count": 19,
   "metadata": {},
   "outputs": [
    {
     "data": {
      "text/html": [
       "<div>\n",
       "<style scoped>\n",
       "    .dataframe tbody tr th:only-of-type {\n",
       "        vertical-align: middle;\n",
       "    }\n",
       "\n",
       "    .dataframe tbody tr th {\n",
       "        vertical-align: top;\n",
       "    }\n",
       "\n",
       "    .dataframe thead th {\n",
       "        text-align: right;\n",
       "    }\n",
       "</style>\n",
       "<table border=\"1\" class=\"dataframe\">\n",
       "  <thead>\n",
       "    <tr style=\"text-align: right;\">\n",
       "      <th></th>\n",
       "      <th>TipoPersona</th>\n",
       "      <th>CalidadJuridica</th>\n",
       "    </tr>\n",
       "  </thead>\n",
       "  <tbody>\n",
       "    <tr>\n",
       "      <td>12</td>\n",
       "      <td>Moral</td>\n",
       "      <td>Victima</td>\n",
       "    </tr>\n",
       "    <tr>\n",
       "      <td>13</td>\n",
       "      <td>Fisica</td>\n",
       "      <td>Victima y denunciante</td>\n",
       "    </tr>\n",
       "    <tr>\n",
       "      <td>41</td>\n",
       "      <td>Fisica</td>\n",
       "      <td>Victima</td>\n",
       "    </tr>\n",
       "    <tr>\n",
       "      <td>60</td>\n",
       "      <td>Fisica</td>\n",
       "      <td>Lesionado</td>\n",
       "    </tr>\n",
       "    <tr>\n",
       "      <td>64</td>\n",
       "      <td>Fisica</td>\n",
       "      <td>Cadaver</td>\n",
       "    </tr>\n",
       "    <tr>\n",
       "      <td>1247</td>\n",
       "      <td>NaN</td>\n",
       "      <td>Victima y denunciante</td>\n",
       "    </tr>\n",
       "    <tr>\n",
       "      <td>2153</td>\n",
       "      <td>NaN</td>\n",
       "      <td>Victima</td>\n",
       "    </tr>\n",
       "    <tr>\n",
       "      <td>6985</td>\n",
       "      <td>Moral</td>\n",
       "      <td>Victima y denunciante</td>\n",
       "    </tr>\n",
       "    <tr>\n",
       "      <td>8254</td>\n",
       "      <td>Moral</td>\n",
       "      <td>Cadaver</td>\n",
       "    </tr>\n",
       "    <tr>\n",
       "      <td>14580</td>\n",
       "      <td>Fisica</td>\n",
       "      <td>Fallecido</td>\n",
       "    </tr>\n",
       "    <tr>\n",
       "      <td>16821</td>\n",
       "      <td>Fisica</td>\n",
       "      <td>Lesionado  adolescente</td>\n",
       "    </tr>\n",
       "    <tr>\n",
       "      <td>32922</td>\n",
       "      <td>NaN</td>\n",
       "      <td>Lesionado</td>\n",
       "    </tr>\n",
       "    <tr>\n",
       "      <td>46321</td>\n",
       "      <td>NaN</td>\n",
       "      <td>Cadaver</td>\n",
       "    </tr>\n",
       "    <tr>\n",
       "      <td>46970</td>\n",
       "      <td>Fisica</td>\n",
       "      <td>Menor víctima</td>\n",
       "    </tr>\n",
       "    <tr>\n",
       "      <td>60129</td>\n",
       "      <td>Moral</td>\n",
       "      <td>Lesionado</td>\n",
       "    </tr>\n",
       "    <tr>\n",
       "      <td>64756</td>\n",
       "      <td>Fisica</td>\n",
       "      <td>Victima  niño</td>\n",
       "    </tr>\n",
       "  </tbody>\n",
       "</table>\n",
       "</div>"
      ],
      "text/plain": [
       "      TipoPersona         CalidadJuridica\n",
       "12          Moral                 Victima\n",
       "13         Fisica   Victima y denunciante\n",
       "41         Fisica                 Victima\n",
       "60         Fisica               Lesionado\n",
       "64         Fisica                 Cadaver\n",
       "1247          NaN   Victima y denunciante\n",
       "2153          NaN                 Victima\n",
       "6985        Moral   Victima y denunciante\n",
       "8254        Moral                 Cadaver\n",
       "14580      Fisica               Fallecido\n",
       "16821      Fisica  Lesionado  adolescente\n",
       "32922         NaN               Lesionado\n",
       "46321         NaN                 Cadaver\n",
       "46970      Fisica           Menor víctima\n",
       "60129       Moral               Lesionado\n",
       "64756      Fisica           Victima  niño"
      ]
     },
     "execution_count": 19,
     "metadata": {},
     "output_type": "execute_result"
    }
   ],
   "source": [
    "df_vic[['TipoPersona', 'CalidadJuridica']].drop_duplicates()"
   ]
  },
  {
   "cell_type": "markdown",
   "metadata": {},
   "source": [
    "Podemos apreciar que no hay relación entre el tipo de persona y la calidad jurídica, por lo que ambas columnas nos proporcionan información relevante y dejaremos ambas. \n",
    "Este es un ejemplo de por que es importante revisar y entender los datos antes de modificarlos, ya que no siempre las transformaciones que hacemos durante el proceso de limpieza son adecuadas o necesarias.\n",
    "\n",
    "Sin embargo, como podemos ver la Calidad Juridica tiene categorias que son equivalente como \"Cadaver y Fallecido\" o que podrían ser absorvidas en categorías mas grandes como \"Menor víctima\", \"Victima  niño\" y \"Lesionado  adolescente\". En este caso vamos a tratar de simplificar las categorias lo mas posible, en gran parte por que no todos los menores de edad vienen categorizados como \"Menor víctima\", lo cual puede causar errores en nuestros análisis posteriores."
   ]
  },
  {
   "cell_type": "code",
   "execution_count": 20,
   "metadata": {},
   "outputs": [
    {
     "data": {
      "text/plain": [
       "Victima y denunciante     22993\n",
       "Victima                    7008\n",
       "Cadaver                    1293\n",
       "Lesionado                   860\n",
       "Fallecido                     7\n",
       "Menor víctima                 3\n",
       "Victima  niño                 2\n",
       "Lesionado  adolescente        2\n",
       "Name: CalidadJuridica, dtype: int64"
      ]
     },
     "execution_count": 20,
     "metadata": {},
     "output_type": "execute_result"
    }
   ],
   "source": [
    "df_vic['CalidadJuridica'].value_counts()"
   ]
  },
  {
   "cell_type": "markdown",
   "metadata": {},
   "source": [
    "El comando _replace_ toma un diccionario de python para hacer una lista de remplazo. Por ejemplo, para remplazar las categorías en las que dectamos error usaremos el siguiente dicionario de remplazo. Recuerda que los diccionarios usar _:_ para unir los pares de llave:valor y _,_ para separa los pares."
   ]
  },
  {
   "cell_type": "code",
   "execution_count": 21,
   "metadata": {},
   "outputs": [
    {
     "data": {
      "text/plain": [
       "Victima y denunciante    22993\n",
       "Victima                   7013\n",
       "Cadaver                   1300\n",
       "Lesionado                  862\n",
       "Name: CalidadJuridica, dtype: int64"
      ]
     },
     "execution_count": 21,
     "metadata": {},
     "output_type": "execute_result"
    }
   ],
   "source": [
    "remplazo = {\"Fallecido\":\"Cadaver\",\n",
    "            \"Menor víctima\":\"Victima\",\n",
    "            \"Victima  niño\":\"Victima\",\n",
    "            \"Lesionado  adolescente\":\"Lesionado\"}\n",
    "df_vic['CalidadJuridica'] = df_vic['CalidadJuridica'].replace(remplazo)\n",
    "\n",
    "df_vic['CalidadJuridica'].value_counts()"
   ]
  },
  {
   "cell_type": "markdown",
   "metadata": {},
   "source": [
    "Ahora las categorias juridicas que detectamos han sido sustituidas y llas víctimas se han sumado a sus nuevas categorias. Sin embargo, todas las mcategorias que no estaban en el diccionario de remplazo quedaron exactamente igual. Este metodo puede ser muy costoso cuando se quieren hacer muchos remplazos, ya que tendriamos que crear un diccionario con todas las opciones que deseamos remplazar. \n",
    "\n",
    "Una opción en esos casos es el comando _.map()_. El comando map remplaza solo los datos que están en el diccionario y llena todos aquellos que no están con NaN."
   ]
  },
  {
   "cell_type": "markdown",
   "metadata": {},
   "source": [
    "#### Guardar datos\n",
    "\n",
    "Es posible guardar los datos limpios que hemos obtenido de varias formas, podemos guardarlos como csv o excel usando los comandos _.to_csv_ y _.to_excel_. Estos formatos tienen la ventaja de que son faciles de compartir. \n",
    "\n",
    "Nosotros guardaremos los datos limpios en la carpeta _data_clean_ como un csv, debido a que el tamaño de la base de datos es grande, puede ser complicado para manipularla en excel. Sin embargo, es posible abrir archivos csv usando excel.\n",
    "\n",
    "Es muy importante no rescribir los datos originales y tratar de tener una carpeta para cada parte del proceso de análisis, para evitar perder información y poder reproducir confiablemente nuestros análisis."
   ]
  },
  {
   "cell_type": "code",
   "execution_count": 23,
   "metadata": {},
   "outputs": [],
   "source": [
    "df_vic.to_csv('./data-clean/VictimasPgjCdmx-AltoImpacto.csv', index=False)"
   ]
  },
  {
   "cell_type": "markdown",
   "metadata": {},
   "source": [
    "Una desventaja de guardar los archivos usando csv o excel, es que podemos perder el formato y los tipos de datos. Esto es importante sobretodo para tipos de datos como _datetime_. Una opción es guardar nuestros datos en un formato que sea facilmente interpretable para python, aunque este no se pueda trabajar con excel."
   ]
  },
  {
   "cell_type": "code",
   "execution_count": 25,
   "metadata": {},
   "outputs": [],
   "source": [
    "from joblib import dump\n",
    "\n",
    "with open('./data-clean/VictimasPgjCdmx-AltoImpacto.pkl', 'wb') as f:\n",
    "    dump(df_vic, f)"
   ]
  },
  {
   "cell_type": "markdown",
   "metadata": {},
   "source": [
    "#### Ejercicio 5\n",
    "\n",
    "Revisa el archivo [CP-EjemploLimpiezaCarpetas](./extras/CP-EjemploLimpiezaCarpetas.ipynb) que se encuentra en la sección de extras. Este archivo realiza una limpieza similar para el conjunto de datos de las carpetas. Escribe que hace cada uno de los pasos y da las razones por las cuales se hacen."
   ]
  },
  {
   "cell_type": "code",
   "execution_count": null,
   "metadata": {},
   "outputs": [],
   "source": []
  },
  {
   "cell_type": "code",
   "execution_count": null,
   "metadata": {},
   "outputs": [],
   "source": []
  },
  {
   "cell_type": "code",
   "execution_count": null,
   "metadata": {},
   "outputs": [],
   "source": []
  },
  {
   "cell_type": "code",
   "execution_count": null,
   "metadata": {},
   "outputs": [],
   "source": []
  },
  {
   "cell_type": "markdown",
   "metadata": {},
   "source": [
    "## 3.5 Tipos de datos\n",
    "\n",
    "Cómo vimos en la sección anterior hay varios tipos de datos como: texto, númerico, fecha, etc.\n",
    "De manera automática pandas infiere el tipo de datos al leer el archivo, de una manera muy similar a como Excel interpreta si un dato es texto o numérico.\n",
    "\n",
    "Los tipos de datos de pandas son:\n",
    "* `object`: texto o mezcla de varios tipos de datos, este es el tipo de dato por defecto\n",
    "* `category`: información categórica, similar a Factors en R\n",
    "* `int64`: números enteros\n",
    "* `float64`: números con punto decimal\n",
    "* `bool`: valores verdadero o falso\n",
    "* `datetime64`: fechas\n",
    "* `timedelta[ns]`: diferencias de tiempo\n",
    "\n",
    "Podemos ver los tipos de datos inferidos usando la opción `.dtypes`."
   ]
  },
  {
   "cell_type": "code",
   "execution_count": 20,
   "metadata": {
    "tags": []
   },
   "outputs": [
    {
     "data": {
      "text/plain": [
       "ID                              object\n",
       "Estado_origen                   object\n",
       "Municipio_origen                object\n",
       "Panteón_origen                  object\n",
       "Estatus_FC                      object\n",
       "Fecha_inhumación        datetime64[ns]\n",
       "Fecha_defunción                 object\n",
       "Fecha_exhumación        datetime64[ns]\n",
       "Restos_tipo                     object\n",
       "Sexo                            object\n",
       "Edad                            object\n",
       "Conocido_Desconocido            object\n",
       "Primer apellido                 object\n",
       "Segundo Apellido                object\n",
       "Nombre(s)                       object\n",
       "Nombre completo                 object\n",
       "Institución_origen              object\n",
       "Rdoc                            object\n",
       "Marca_temporal          datetime64[ns]\n",
       "Datos alternativos             float64\n",
       "dtype: object"
      ]
     },
     "execution_count": 20,
     "metadata": {},
     "output_type": "execute_result"
    }
   ],
   "source": [
    "df.dtypes"
   ]
  },
  {
   "cell_type": "markdown",
   "metadata": {},
   "source": [
    "### Texto\n",
    "\n",
    "Dependiendo del tipo de dato se pueden hacer diferentes operaciones. Por ejemplo, se puede pasar a mayusculas un texto pero no un número, se puede obtener el año de una fecha pero no de un texto\n",
    "\n",
    "Por ejemplo, pensemos que queremos que las instituciones de origen no esten todas en mayusculas, sino solo la primera letra de la palabra.\n",
    "\n",
    "Para hacer esto seleccionaremos la columna de interes, y luego aplicaremos la función `.str.title()`. \n",
    "\n",
    "**Nota**: existen varias funciones para mayusculas y minusculas como `.upper()`, `.lower()`, `.capitalize()` y `.title()`"
   ]
  },
  {
   "cell_type": "code",
   "execution_count": 48,
   "metadata": {
    "tags": []
   },
   "outputs": [
    {
     "data": {
      "text/plain": [
       "0            Universidad Westhill - Facultad De Medicina\n",
       "1      Instituto De Ciencias Forenses - Tribunal Supe...\n",
       "2      Instituto De Ciencias Forenses - Tribunal Supe...\n",
       "3      Instituto De Ciencias Forenses - Tribunal Supe...\n",
       "4      Instituto De Ciencias Forenses - Tribunal Supe...\n",
       "                             ...                        \n",
       "995    Universidad Nacional Autónoma De México - Facu...\n",
       "996    Universidad Nacional Autónoma De México - Facu...\n",
       "997    Instituto De Ciencias Forenses - Tribunal Supe...\n",
       "998    Instituto De Ciencias Forenses - Tribunal Supe...\n",
       "999    Instituto De Ciencias Forenses - Tribunal Supe...\n",
       "Name: Institución_origen, Length: 1000, dtype: object"
      ]
     },
     "execution_count": 48,
     "metadata": {},
     "output_type": "execute_result"
    }
   ],
   "source": [
    "df['Institución_origen'].str.title()"
   ]
  },
  {
   "cell_type": "markdown",
   "metadata": {},
   "source": [
    "Podemos realizar más operaciones sobre esta selección, por ejemplo ordenar alfabeticamente obtener los valores únicos para obtener una lista de nombres propios."
   ]
  },
  {
   "cell_type": "code",
   "execution_count": 49,
   "metadata": {
    "tags": []
   },
   "outputs": [
    {
     "data": {
      "text/plain": [
       "array(['Centro Cultural Universitario Justo Sierra',\n",
       "       'Escuela De Medicina Saint Luke',\n",
       "       'Institución De Asistencia Privada - Escuela Libre De Homeopatía De México',\n",
       "       'Instituto De Ciencias Forenses - Tribunal Superior De Justicia De La Ciudad De México',\n",
       "       'Instituto Politécnico Nacional - Escuela Nacional De Medicina Y Homeopatía',\n",
       "       'Procuraduría General De La República',\n",
       "       'Secretaría De La Defensa Nacional - Escuela Militar De Medicina',\n",
       "       'The American British Cowdray Medical Center La.P.',\n",
       "       'Universidad Anáhuac - Facultad De Ciencias De La Salud',\n",
       "       'Universidad Nacional Autónoma De México - Facultad De Medicina',\n",
       "       'Universidad Popular Autónoma Del Estado De Puebla',\n",
       "       'Universidad Tominaga Nakamoto S.C. Escuela De Medicina Ciencias Básicas',\n",
       "       'Universidad Westhill - Facultad De Medicina'], dtype=object)"
      ]
     },
     "execution_count": 49,
     "metadata": {},
     "output_type": "execute_result"
    }
   ],
   "source": [
    "df['Institución_origen'].str.title().sort_values().unique()"
   ]
  },
  {
   "cell_type": "markdown",
   "metadata": {},
   "source": [
    "Existen funciones que no se encuentran en pandas pero que pueden ser utiles. Por ejemplo, para ejemploquitar los acentos es posible con la función `unidecode`, la cual es parte de la biblioteca `unidecode`."
   ]
  },
  {
   "cell_type": "code",
   "execution_count": 50,
   "metadata": {
    "tags": []
   },
   "outputs": [
    {
     "data": {
      "text/plain": [
       "'Mexico'"
      ]
     },
     "execution_count": 50,
     "metadata": {},
     "output_type": "execute_result"
    }
   ],
   "source": [
    "from unidecode import unidecode\n",
    "unidecode('México')"
   ]
  },
  {
   "cell_type": "markdown",
   "metadata": {},
   "source": [
    "Podemos aplicar esta función a toda la columna"
   ]
  },
  {
   "cell_type": "code",
   "execution_count": 51,
   "metadata": {
    "tags": []
   },
   "outputs": [
    {
     "data": {
      "text/plain": [
       "0            UNIVERSIDAD WESTHILL - FACULTAD DE MEDICINA\n",
       "1      INSTITUTO DE CIENCIAS FORENSES - TRIBUNAL SUPE...\n",
       "2      INSTITUTO DE CIENCIAS FORENSES - TRIBUNAL SUPE...\n",
       "3      INSTITUTO DE CIENCIAS FORENSES - TRIBUNAL SUPE...\n",
       "4      INSTITUTO DE CIENCIAS FORENSES - TRIBUNAL SUPE...\n",
       "                             ...                        \n",
       "995    UNIVERSIDAD NACIONAL AUTONOMA DE MEXICO - FACU...\n",
       "996    UNIVERSIDAD NACIONAL AUTONOMA DE MEXICO - FACU...\n",
       "997    INSTITUTO DE CIENCIAS FORENSES - TRIBUNAL SUPE...\n",
       "998    INSTITUTO DE CIENCIAS FORENSES - TRIBUNAL SUPE...\n",
       "999    INSTITUTO DE CIENCIAS FORENSES - TRIBUNAL SUPE...\n",
       "Name: Institución_origen, Length: 1000, dtype: object"
      ]
     },
     "execution_count": 51,
     "metadata": {},
     "output_type": "execute_result"
    }
   ],
   "source": [
    "df['Institución_origen'].apply(unidecode)"
   ]
  },
  {
   "cell_type": "markdown",
   "metadata": {},
   "source": [
    "Además, podemos aplicar varias funciones juntas."
   ]
  },
  {
   "cell_type": "code",
   "execution_count": 53,
   "metadata": {
    "tags": []
   },
   "outputs": [
    {
     "data": {
      "text/plain": [
       "0            Universidad Westhill - Facultad De Medicina\n",
       "1      Instituto De Ciencias Forenses - Tribunal Supe...\n",
       "2      Instituto De Ciencias Forenses - Tribunal Supe...\n",
       "3      Instituto De Ciencias Forenses - Tribunal Supe...\n",
       "4      Instituto De Ciencias Forenses - Tribunal Supe...\n",
       "                             ...                        \n",
       "995    Universidad Nacional Autonoma De Mexico - Facu...\n",
       "996    Universidad Nacional Autonoma De Mexico - Facu...\n",
       "997    Instituto De Ciencias Forenses - Tribunal Supe...\n",
       "998    Instituto De Ciencias Forenses - Tribunal Supe...\n",
       "999    Instituto De Ciencias Forenses - Tribunal Supe...\n",
       "Name: Institución_origen, Length: 1000, dtype: object"
      ]
     },
     "execution_count": 53,
     "metadata": {},
     "output_type": "execute_result"
    }
   ],
   "source": [
    "df['Institución_origen'].str.title().apply(unidecode)"
   ]
  },
  {
   "cell_type": "markdown",
   "metadata": {},
   "source": [
    "Sin embargo, al aplicar esta función a la columna `Nombre(s)` genera un error `AttributeError: 'float' object has no attribute 'encode'`. \n",
    "\n",
    "Esto se debe a que la columna incluye valores vacios, los cuales son de tipo `float`, por lo tanto la función `unidecode` se confunde, ya que los números no tienen acentos. \n",
    "\n",
    "Resolver este tipo de problemas es parte de la limpieza de datos y se verá mas adelante."
   ]
  },
  {
   "cell_type": "code",
   "execution_count": 54,
   "metadata": {
    "tags": []
   },
   "outputs": [
    {
     "ename": "AttributeError",
     "evalue": "'float' object has no attribute 'encode'",
     "output_type": "error",
     "traceback": [
      "\u001b[0;31m---------------------------------------------------------------------------\u001b[0m",
      "\u001b[0;31mAttributeError\u001b[0m                            Traceback (most recent call last)",
      "Cell \u001b[0;32mIn[54], line 1\u001b[0m\n\u001b[0;32m----> 1\u001b[0m \u001b[43mdf\u001b[49m\u001b[43m[\u001b[49m\u001b[38;5;124;43m'\u001b[39;49m\u001b[38;5;124;43mNombre(s)\u001b[39;49m\u001b[38;5;124;43m'\u001b[39;49m\u001b[43m]\u001b[49m\u001b[38;5;241;43m.\u001b[39;49m\u001b[43mapply\u001b[49m\u001b[43m(\u001b[49m\u001b[43m \u001b[49m\u001b[43munidecode\u001b[49m\u001b[43m \u001b[49m\u001b[43m)\u001b[49m\n",
      "File \u001b[0;32m~/anaconda3/envs/CursoPandas2023/lib/python3.10/site-packages/pandas/core/series.py:4771\u001b[0m, in \u001b[0;36mSeries.apply\u001b[0;34m(self, func, convert_dtype, args, **kwargs)\u001b[0m\n\u001b[1;32m   4661\u001b[0m \u001b[38;5;28;01mdef\u001b[39;00m \u001b[38;5;21mapply\u001b[39m(\n\u001b[1;32m   4662\u001b[0m     \u001b[38;5;28mself\u001b[39m,\n\u001b[1;32m   4663\u001b[0m     func: AggFuncType,\n\u001b[0;32m   (...)\u001b[0m\n\u001b[1;32m   4666\u001b[0m     \u001b[38;5;241m*\u001b[39m\u001b[38;5;241m*\u001b[39mkwargs,\n\u001b[1;32m   4667\u001b[0m ) \u001b[38;5;241m-\u001b[39m\u001b[38;5;241m>\u001b[39m DataFrame \u001b[38;5;241m|\u001b[39m Series:\n\u001b[1;32m   4668\u001b[0m \u001b[38;5;250m    \u001b[39m\u001b[38;5;124;03m\"\"\"\u001b[39;00m\n\u001b[1;32m   4669\u001b[0m \u001b[38;5;124;03m    Invoke function on values of Series.\u001b[39;00m\n\u001b[1;32m   4670\u001b[0m \n\u001b[0;32m   (...)\u001b[0m\n\u001b[1;32m   4769\u001b[0m \u001b[38;5;124;03m    dtype: float64\u001b[39;00m\n\u001b[1;32m   4770\u001b[0m \u001b[38;5;124;03m    \"\"\"\u001b[39;00m\n\u001b[0;32m-> 4771\u001b[0m     \u001b[38;5;28;01mreturn\u001b[39;00m \u001b[43mSeriesApply\u001b[49m\u001b[43m(\u001b[49m\u001b[38;5;28;43mself\u001b[39;49m\u001b[43m,\u001b[49m\u001b[43m \u001b[49m\u001b[43mfunc\u001b[49m\u001b[43m,\u001b[49m\u001b[43m \u001b[49m\u001b[43mconvert_dtype\u001b[49m\u001b[43m,\u001b[49m\u001b[43m \u001b[49m\u001b[43margs\u001b[49m\u001b[43m,\u001b[49m\u001b[43m \u001b[49m\u001b[43mkwargs\u001b[49m\u001b[43m)\u001b[49m\u001b[38;5;241;43m.\u001b[39;49m\u001b[43mapply\u001b[49m\u001b[43m(\u001b[49m\u001b[43m)\u001b[49m\n",
      "File \u001b[0;32m~/anaconda3/envs/CursoPandas2023/lib/python3.10/site-packages/pandas/core/apply.py:1123\u001b[0m, in \u001b[0;36mSeriesApply.apply\u001b[0;34m(self)\u001b[0m\n\u001b[1;32m   1120\u001b[0m     \u001b[38;5;28;01mreturn\u001b[39;00m \u001b[38;5;28mself\u001b[39m\u001b[38;5;241m.\u001b[39mapply_str()\n\u001b[1;32m   1122\u001b[0m \u001b[38;5;66;03m# self.f is Callable\u001b[39;00m\n\u001b[0;32m-> 1123\u001b[0m \u001b[38;5;28;01mreturn\u001b[39;00m \u001b[38;5;28;43mself\u001b[39;49m\u001b[38;5;241;43m.\u001b[39;49m\u001b[43mapply_standard\u001b[49m\u001b[43m(\u001b[49m\u001b[43m)\u001b[49m\n",
      "File \u001b[0;32m~/anaconda3/envs/CursoPandas2023/lib/python3.10/site-packages/pandas/core/apply.py:1174\u001b[0m, in \u001b[0;36mSeriesApply.apply_standard\u001b[0;34m(self)\u001b[0m\n\u001b[1;32m   1172\u001b[0m     \u001b[38;5;28;01melse\u001b[39;00m:\n\u001b[1;32m   1173\u001b[0m         values \u001b[38;5;241m=\u001b[39m obj\u001b[38;5;241m.\u001b[39mastype(\u001b[38;5;28mobject\u001b[39m)\u001b[38;5;241m.\u001b[39m_values\n\u001b[0;32m-> 1174\u001b[0m         mapped \u001b[38;5;241m=\u001b[39m \u001b[43mlib\u001b[49m\u001b[38;5;241;43m.\u001b[39;49m\u001b[43mmap_infer\u001b[49m\u001b[43m(\u001b[49m\n\u001b[1;32m   1175\u001b[0m \u001b[43m            \u001b[49m\u001b[43mvalues\u001b[49m\u001b[43m,\u001b[49m\n\u001b[1;32m   1176\u001b[0m \u001b[43m            \u001b[49m\u001b[43mf\u001b[49m\u001b[43m,\u001b[49m\n\u001b[1;32m   1177\u001b[0m \u001b[43m            \u001b[49m\u001b[43mconvert\u001b[49m\u001b[38;5;241;43m=\u001b[39;49m\u001b[38;5;28;43mself\u001b[39;49m\u001b[38;5;241;43m.\u001b[39;49m\u001b[43mconvert_dtype\u001b[49m\u001b[43m,\u001b[49m\n\u001b[1;32m   1178\u001b[0m \u001b[43m        \u001b[49m\u001b[43m)\u001b[49m\n\u001b[1;32m   1180\u001b[0m \u001b[38;5;28;01mif\u001b[39;00m \u001b[38;5;28mlen\u001b[39m(mapped) \u001b[38;5;129;01mand\u001b[39;00m \u001b[38;5;28misinstance\u001b[39m(mapped[\u001b[38;5;241m0\u001b[39m], ABCSeries):\n\u001b[1;32m   1181\u001b[0m     \u001b[38;5;66;03m# GH#43986 Need to do list(mapped) in order to get treated as nested\u001b[39;00m\n\u001b[1;32m   1182\u001b[0m     \u001b[38;5;66;03m#  See also GH#25959 regarding EA support\u001b[39;00m\n\u001b[1;32m   1183\u001b[0m     \u001b[38;5;28;01mreturn\u001b[39;00m obj\u001b[38;5;241m.\u001b[39m_constructor_expanddim(\u001b[38;5;28mlist\u001b[39m(mapped), index\u001b[38;5;241m=\u001b[39mobj\u001b[38;5;241m.\u001b[39mindex)\n",
      "File \u001b[0;32m~/anaconda3/envs/CursoPandas2023/lib/python3.10/site-packages/pandas/_libs/lib.pyx:2924\u001b[0m, in \u001b[0;36mpandas._libs.lib.map_infer\u001b[0;34m()\u001b[0m\n",
      "File \u001b[0;32m~/anaconda3/envs/CursoPandas2023/lib/python3.10/site-packages/unidecode/__init__.py:66\u001b[0m, in \u001b[0;36munidecode_expect_ascii\u001b[0;34m(string, errors, replace_str)\u001b[0m\n\u001b[1;32m     64\u001b[0m _warn_if_not_unicode(string)\n\u001b[1;32m     65\u001b[0m \u001b[38;5;28;01mtry\u001b[39;00m:\n\u001b[0;32m---> 66\u001b[0m     bytestring \u001b[38;5;241m=\u001b[39m \u001b[43mstring\u001b[49m\u001b[38;5;241;43m.\u001b[39;49m\u001b[43mencode\u001b[49m(\u001b[38;5;124m'\u001b[39m\u001b[38;5;124mASCII\u001b[39m\u001b[38;5;124m'\u001b[39m)\n\u001b[1;32m     67\u001b[0m \u001b[38;5;28;01mexcept\u001b[39;00m \u001b[38;5;167;01mUnicodeEncodeError\u001b[39;00m:\n\u001b[1;32m     68\u001b[0m     \u001b[38;5;28;01mpass\u001b[39;00m\n",
      "\u001b[0;31mAttributeError\u001b[0m: 'float' object has no attribute 'encode'"
     ]
    }
   ],
   "source": [
    "df['Nombre(s)'].apply( unidecode )"
   ]
  },
  {
   "cell_type": "markdown",
   "metadata": {},
   "source": [
    "Dejo aqui una posible solución sin explicación (por el momento)."
   ]
  },
  {
   "cell_type": "code",
   "execution_count": 60,
   "metadata": {
    "tags": []
   },
   "outputs": [
    {
     "data": {
      "text/plain": [
       "0              NaN\n",
       "1              NaN\n",
       "2          Alberto\n",
       "3              NaN\n",
       "4              NaN\n",
       "          ...     \n",
       "995         Sergio\n",
       "996    Juan Carlos\n",
       "997            NaN\n",
       "998            NaN\n",
       "999            NaN\n",
       "Name: Nombre(s), Length: 1000, dtype: object"
      ]
     },
     "execution_count": 60,
     "metadata": {},
     "output_type": "execute_result"
    }
   ],
   "source": [
    "df['Nombre(s)'].apply( lambda s: unidecode(s) if type(s)==str  else s )"
   ]
  },
  {
   "cell_type": "markdown",
   "metadata": {},
   "source": [
    "### Categoria\n",
    "\n",
    "En general se considera que un dato es categorico cuando hay pocas posibilidades definidas. Una aproximación rápida es que tenga menos de diez opciones de texto. Sin embargo esta no es una regla dura, por ejemplo el catálogo del INEGI de Estados, Municipios y Localidades tiene miles de opciones.\n",
    "\n",
    "Podemos convertir una columna de tipo `object` a `category` con la función `.astype(\"category\")`. \n",
    "\n",
    "En este ejemplo caso reescribiremos la columna para poder realizar varias operaciones."
   ]
  },
  {
   "cell_type": "code",
   "execution_count": 67,
   "metadata": {
    "tags": []
   },
   "outputs": [
    {
     "data": {
      "text/plain": [
       "0      Restos cremados\n",
       "1              Cadáver\n",
       "2              Cadáver\n",
       "3              Cadáver\n",
       "4              Cadáver\n",
       "            ...       \n",
       "995            Cadáver\n",
       "996            Cadáver\n",
       "997            Cadáver\n",
       "998            Cadáver\n",
       "999            Cadáver\n",
       "Name: Restos_tipo, Length: 1000, dtype: category\n",
       "Categories (6, object): ['Cadáver', 'Feto', 'Miembros', 'Restos cremados', 'Restos humanos', 'Restos óseos']"
      ]
     },
     "execution_count": 67,
     "metadata": {},
     "output_type": "execute_result"
    }
   ],
   "source": [
    "df['Restos_tipo'] = df['Restos_tipo'].astype(\"category\")\n",
    "df['Restos_tipo']"
   ]
  },
  {
   "cell_type": "markdown",
   "metadata": {},
   "source": [
    "Podemos ver que el tipo a cambiado"
   ]
  },
  {
   "cell_type": "code",
   "execution_count": 68,
   "metadata": {
    "tags": []
   },
   "outputs": [
    {
     "data": {
      "text/plain": [
       "ID                              object\n",
       "Estado_origen                   object\n",
       "Municipio_origen                object\n",
       "Panteón_origen                  object\n",
       "Estatus_FC                      object\n",
       "Fecha_inhumación        datetime64[ns]\n",
       "Fecha_defunción                 object\n",
       "Fecha_exhumación        datetime64[ns]\n",
       "Restos_tipo                   category\n",
       "Sexo                            object\n",
       "Edad                            object\n",
       "Conocido_Desconocido            object\n",
       "Primer apellido                 object\n",
       "Segundo Apellido                object\n",
       "Nombre(s)                       object\n",
       "Nombre completo                 object\n",
       "Institución_origen              object\n",
       "Rdoc                            object\n",
       "Marca_temporal          datetime64[ns]\n",
       "Datos alternativos             float64\n",
       "dtype: object"
      ]
     },
     "execution_count": 68,
     "metadata": {},
     "output_type": "execute_result"
    }
   ],
   "source": [
    "df.dtypes"
   ]
  },
  {
   "cell_type": "markdown",
   "metadata": {},
   "source": [
    "Una ventaja de usar `category` es que permite definir un orden diferente al alfabético o numérico. Por ejemplo, definamos un orden especial para el tipo de restos."
   ]
  },
  {
   "cell_type": "code",
   "execution_count": 72,
   "metadata": {
    "tags": []
   },
   "outputs": [
    {
     "data": {
      "text/plain": [
       "0      Restos cremados\n",
       "1              Cadáver\n",
       "2              Cadáver\n",
       "3              Cadáver\n",
       "4              Cadáver\n",
       "            ...       \n",
       "995            Cadáver\n",
       "996            Cadáver\n",
       "997            Cadáver\n",
       "998            Cadáver\n",
       "999            Cadáver\n",
       "Name: Restos_tipo, Length: 1000, dtype: category\n",
       "Categories (6, object): ['Feto' < 'Restos humanos' < 'Miembros' < 'Restos óseos' < 'Restos cremados' < 'Cadáver']"
      ]
     },
     "execution_count": 72,
     "metadata": {},
     "output_type": "execute_result"
    }
   ],
   "source": [
    "from pandas.api.types import CategoricalDtype\n",
    "\n",
    "restos_categorias = 'Feto', 'Restos humanos', 'Miembros', 'Restos óseos', 'Restos cremados', 'Cadáver'\n",
    "restos_categorias = CategoricalDtype(categories=restos_categorias, ordered=True)\n",
    "df['Restos_tipo'] = df['Restos_tipo'].astype( restos_categorias )\n",
    "df['Restos_tipo']"
   ]
  },
  {
   "cell_type": "markdown",
   "metadata": {},
   "source": [
    "Ahora si ordenamos por categoria apareceran primero los Fetos y al final los Cadáveres."
   ]
  },
  {
   "cell_type": "code",
   "execution_count": 73,
   "metadata": {
    "tags": []
   },
   "outputs": [
    {
     "data": {
      "text/html": [
       "<div>\n",
       "<style scoped>\n",
       "    .dataframe tbody tr th:only-of-type {\n",
       "        vertical-align: middle;\n",
       "    }\n",
       "\n",
       "    .dataframe tbody tr th {\n",
       "        vertical-align: top;\n",
       "    }\n",
       "\n",
       "    .dataframe thead th {\n",
       "        text-align: right;\n",
       "    }\n",
       "</style>\n",
       "<table border=\"1\" class=\"dataframe\">\n",
       "  <thead>\n",
       "    <tr style=\"text-align: right;\">\n",
       "      <th></th>\n",
       "      <th>ID</th>\n",
       "      <th>Estado_origen</th>\n",
       "      <th>Municipio_origen</th>\n",
       "      <th>Panteón_origen</th>\n",
       "      <th>Estatus_FC</th>\n",
       "      <th>Fecha_inhumación</th>\n",
       "      <th>Fecha_defunción</th>\n",
       "      <th>Fecha_exhumación</th>\n",
       "      <th>Restos_tipo</th>\n",
       "      <th>Sexo</th>\n",
       "      <th>Edad</th>\n",
       "      <th>Conocido_Desconocido</th>\n",
       "      <th>Primer apellido</th>\n",
       "      <th>Segundo Apellido</th>\n",
       "      <th>Nombre(s)</th>\n",
       "      <th>Nombre completo</th>\n",
       "      <th>Institución_origen</th>\n",
       "      <th>Rdoc</th>\n",
       "      <th>Marca_temporal</th>\n",
       "      <th>Datos alternativos</th>\n",
       "    </tr>\n",
       "  </thead>\n",
       "  <tbody>\n",
       "    <tr>\n",
       "      <th>492</th>\n",
       "      <td>XX-P493</td>\n",
       "      <td>Ciudad de México</td>\n",
       "      <td>Miguel Hidalgo</td>\n",
       "      <td>Panteón Civil de Dolores</td>\n",
       "      <td>Inhumación</td>\n",
       "      <td>2019-02-02</td>\n",
       "      <td>2019-01-12 00:00:00</td>\n",
       "      <td>NaT</td>\n",
       "      <td>Feto</td>\n",
       "      <td>Femenino</td>\n",
       "      <td>14 semanas</td>\n",
       "      <td>Conocido</td>\n",
       "      <td>NaN</td>\n",
       "      <td>NaN</td>\n",
       "      <td>NaN</td>\n",
       "      <td></td>\n",
       "      <td>INSTITUTO DE CIENCIAS FORENSES - TRIBUNAL SUPE...</td>\n",
       "      <td>Sí</td>\n",
       "      <td>2020-03-30 12:34:48.000</td>\n",
       "      <td>NaN</td>\n",
       "    </tr>\n",
       "    <tr>\n",
       "      <th>414</th>\n",
       "      <td>XX-P415</td>\n",
       "      <td>Ciudad de México</td>\n",
       "      <td>Miguel Hidalgo</td>\n",
       "      <td>Panteón Civil de Dolores</td>\n",
       "      <td>Inhumación</td>\n",
       "      <td>2019-05-25</td>\n",
       "      <td>2019-04-28 00:00:00</td>\n",
       "      <td>NaT</td>\n",
       "      <td>Feto</td>\n",
       "      <td>Masculino</td>\n",
       "      <td>NaN</td>\n",
       "      <td>Conocido</td>\n",
       "      <td>NaN</td>\n",
       "      <td>NaN</td>\n",
       "      <td>NaN</td>\n",
       "      <td></td>\n",
       "      <td>INSTITUTO DE CIENCIAS FORENSES - TRIBUNAL SUPE...</td>\n",
       "      <td>Sí</td>\n",
       "      <td>2020-03-30 10:48:58.000</td>\n",
       "      <td>NaN</td>\n",
       "    </tr>\n",
       "    <tr>\n",
       "      <th>795</th>\n",
       "      <td>XX-P796</td>\n",
       "      <td>Ciudad de México</td>\n",
       "      <td>Miguel Hidalgo</td>\n",
       "      <td>Panteón Civil de Dolores</td>\n",
       "      <td>Inhumación</td>\n",
       "      <td>2017-10-07</td>\n",
       "      <td>S/D</td>\n",
       "      <td>NaT</td>\n",
       "      <td>Feto</td>\n",
       "      <td>Masculino</td>\n",
       "      <td>18 semanas</td>\n",
       "      <td>Desconocido</td>\n",
       "      <td>NaN</td>\n",
       "      <td>NaN</td>\n",
       "      <td>NaN</td>\n",
       "      <td></td>\n",
       "      <td>INSTITUTO DE CIENCIAS FORENSES - TRIBUNAL SUPE...</td>\n",
       "      <td>Sí</td>\n",
       "      <td>2020-01-04 17:19:03.000</td>\n",
       "      <td>NaN</td>\n",
       "    </tr>\n",
       "    <tr>\n",
       "      <th>455</th>\n",
       "      <td>XX-P456</td>\n",
       "      <td>Ciudad de México</td>\n",
       "      <td>Miguel Hidalgo</td>\n",
       "      <td>Panteón Civil de Dolores</td>\n",
       "      <td>Inhumación</td>\n",
       "      <td>2019-05-04</td>\n",
       "      <td>2019-04-05 00:00:00</td>\n",
       "      <td>NaT</td>\n",
       "      <td>Feto</td>\n",
       "      <td>Indeterminado</td>\n",
       "      <td>14 semanas</td>\n",
       "      <td>Desconocido</td>\n",
       "      <td>NaN</td>\n",
       "      <td>NaN</td>\n",
       "      <td>NaN</td>\n",
       "      <td></td>\n",
       "      <td>INSTITUTO DE CIENCIAS FORENSES - TRIBUNAL SUPE...</td>\n",
       "      <td>Sí</td>\n",
       "      <td>2020-03-30 11:41:11.000</td>\n",
       "      <td>NaN</td>\n",
       "    </tr>\n",
       "    <tr>\n",
       "      <th>485</th>\n",
       "      <td>XX-P486</td>\n",
       "      <td>Ciudad de México</td>\n",
       "      <td>Miguel Hidalgo</td>\n",
       "      <td>Panteón Civil de Dolores</td>\n",
       "      <td>Inhumación</td>\n",
       "      <td>2019-02-02</td>\n",
       "      <td>2019-01-03 00:00:00</td>\n",
       "      <td>NaT</td>\n",
       "      <td>Feto</td>\n",
       "      <td>Masculino</td>\n",
       "      <td>13 semanas</td>\n",
       "      <td>Conocido</td>\n",
       "      <td>NaN</td>\n",
       "      <td>NaN</td>\n",
       "      <td>NaN</td>\n",
       "      <td></td>\n",
       "      <td>INSTITUTO DE CIENCIAS FORENSES - TRIBUNAL SUPE...</td>\n",
       "      <td>Sí</td>\n",
       "      <td>2020-03-30 12:26:44.000</td>\n",
       "      <td>NaN</td>\n",
       "    </tr>\n",
       "    <tr>\n",
       "      <th>...</th>\n",
       "      <td>...</td>\n",
       "      <td>...</td>\n",
       "      <td>...</td>\n",
       "      <td>...</td>\n",
       "      <td>...</td>\n",
       "      <td>...</td>\n",
       "      <td>...</td>\n",
       "      <td>...</td>\n",
       "      <td>...</td>\n",
       "      <td>...</td>\n",
       "      <td>...</td>\n",
       "      <td>...</td>\n",
       "      <td>...</td>\n",
       "      <td>...</td>\n",
       "      <td>...</td>\n",
       "      <td>...</td>\n",
       "      <td>...</td>\n",
       "      <td>...</td>\n",
       "      <td>...</td>\n",
       "      <td>...</td>\n",
       "    </tr>\n",
       "    <tr>\n",
       "      <th>241</th>\n",
       "      <td>XX-P242</td>\n",
       "      <td>Ciudad de México</td>\n",
       "      <td>Miguel Hidalgo</td>\n",
       "      <td>Panteón Civil de Dolores</td>\n",
       "      <td>Inhumación</td>\n",
       "      <td>2018-10-14</td>\n",
       "      <td>2017-12-18 00:00:00</td>\n",
       "      <td>NaT</td>\n",
       "      <td>Cadáver</td>\n",
       "      <td>Masculino</td>\n",
       "      <td>54</td>\n",
       "      <td>Conocido</td>\n",
       "      <td>Peña</td>\n",
       "      <td>Padilla</td>\n",
       "      <td>Alejandro</td>\n",
       "      <td>Alejandro Peña Padilla</td>\n",
       "      <td>UNIVERSIDAD NACIONAL AUTÓNOMA DE MÉXICO - FACU...</td>\n",
       "      <td>Sí</td>\n",
       "      <td>2020-03-24 00:00:00.000</td>\n",
       "      <td>NaN</td>\n",
       "    </tr>\n",
       "    <tr>\n",
       "      <th>240</th>\n",
       "      <td>XX-P241</td>\n",
       "      <td>Ciudad de México</td>\n",
       "      <td>Miguel Hidalgo</td>\n",
       "      <td>Panteón Civil de Dolores</td>\n",
       "      <td>Inhumación</td>\n",
       "      <td>2018-10-14</td>\n",
       "      <td>2017-12-17 00:00:00</td>\n",
       "      <td>NaT</td>\n",
       "      <td>Cadáver</td>\n",
       "      <td>Masculino</td>\n",
       "      <td>45</td>\n",
       "      <td>Desconocido</td>\n",
       "      <td>NaN</td>\n",
       "      <td>NaN</td>\n",
       "      <td>NaN</td>\n",
       "      <td></td>\n",
       "      <td>UNIVERSIDAD NACIONAL AUTÓNOMA DE MÉXICO - FACU...</td>\n",
       "      <td>Sí</td>\n",
       "      <td>2020-03-24 00:00:00.000</td>\n",
       "      <td>NaN</td>\n",
       "    </tr>\n",
       "    <tr>\n",
       "      <th>239</th>\n",
       "      <td>XX-P240</td>\n",
       "      <td>Ciudad de México</td>\n",
       "      <td>Miguel Hidalgo</td>\n",
       "      <td>Panteón Civil de Dolores</td>\n",
       "      <td>Inhumación</td>\n",
       "      <td>2018-10-14</td>\n",
       "      <td>2017-12-14 00:00:00</td>\n",
       "      <td>NaT</td>\n",
       "      <td>Cadáver</td>\n",
       "      <td>Masculino</td>\n",
       "      <td>60</td>\n",
       "      <td>Desconocido</td>\n",
       "      <td>NaN</td>\n",
       "      <td>NaN</td>\n",
       "      <td>NaN</td>\n",
       "      <td></td>\n",
       "      <td>UNIVERSIDAD NACIONAL AUTÓNOMA DE MÉXICO - FACU...</td>\n",
       "      <td>Sí</td>\n",
       "      <td>2020-03-24 00:00:00.000</td>\n",
       "      <td>NaN</td>\n",
       "    </tr>\n",
       "    <tr>\n",
       "      <th>211</th>\n",
       "      <td>XX-P212</td>\n",
       "      <td>Ciudad de México</td>\n",
       "      <td>Miguel Hidalgo</td>\n",
       "      <td>Panteón Civil de Dolores</td>\n",
       "      <td>Inhumación</td>\n",
       "      <td>2018-10-27</td>\n",
       "      <td>2018-09-19 00:00:00</td>\n",
       "      <td>NaT</td>\n",
       "      <td>Cadáver</td>\n",
       "      <td>Masculino</td>\n",
       "      <td>NaN</td>\n",
       "      <td>Conocido</td>\n",
       "      <td>Vargas</td>\n",
       "      <td>Rosas</td>\n",
       "      <td>Jesús</td>\n",
       "      <td>Jesús Vargas Rosas</td>\n",
       "      <td>INSTITUTO DE CIENCIAS FORENSES - TRIBUNAL SUPE...</td>\n",
       "      <td>Sí</td>\n",
       "      <td>2020-03-24 00:00:00.000</td>\n",
       "      <td>NaN</td>\n",
       "    </tr>\n",
       "    <tr>\n",
       "      <th>999</th>\n",
       "      <td>XX-P1000</td>\n",
       "      <td>Ciudad de México</td>\n",
       "      <td>Miguel Hidalgo</td>\n",
       "      <td>Panteón Civil de Dolores</td>\n",
       "      <td>Inhumación</td>\n",
       "      <td>2018-09-01</td>\n",
       "      <td>2018-05-29 00:00:00</td>\n",
       "      <td>NaT</td>\n",
       "      <td>Cadáver</td>\n",
       "      <td>Masculino</td>\n",
       "      <td>NaN</td>\n",
       "      <td>Desconocido</td>\n",
       "      <td>NaN</td>\n",
       "      <td>NaN</td>\n",
       "      <td>NaN</td>\n",
       "      <td></td>\n",
       "      <td>INSTITUTO DE CIENCIAS FORENSES - TRIBUNAL SUPE...</td>\n",
       "      <td>Sí</td>\n",
       "      <td>2020-04-06 21:35:23.157</td>\n",
       "      <td>NaN</td>\n",
       "    </tr>\n",
       "  </tbody>\n",
       "</table>\n",
       "<p>1000 rows × 20 columns</p>\n",
       "</div>"
      ],
      "text/plain": [
       "           ID     Estado_origen Municipio_origen            Panteón_origen  \\\n",
       "492   XX-P493  Ciudad de México   Miguel Hidalgo  Panteón Civil de Dolores   \n",
       "414   XX-P415  Ciudad de México   Miguel Hidalgo  Panteón Civil de Dolores   \n",
       "795   XX-P796  Ciudad de México   Miguel Hidalgo  Panteón Civil de Dolores   \n",
       "455   XX-P456  Ciudad de México   Miguel Hidalgo  Panteón Civil de Dolores   \n",
       "485   XX-P486  Ciudad de México   Miguel Hidalgo  Panteón Civil de Dolores   \n",
       "..        ...               ...              ...                       ...   \n",
       "241   XX-P242  Ciudad de México   Miguel Hidalgo  Panteón Civil de Dolores   \n",
       "240   XX-P241  Ciudad de México   Miguel Hidalgo  Panteón Civil de Dolores   \n",
       "239   XX-P240  Ciudad de México   Miguel Hidalgo  Panteón Civil de Dolores   \n",
       "211   XX-P212  Ciudad de México   Miguel Hidalgo  Panteón Civil de Dolores   \n",
       "999  XX-P1000  Ciudad de México   Miguel Hidalgo  Panteón Civil de Dolores   \n",
       "\n",
       "     Estatus_FC Fecha_inhumación      Fecha_defunción Fecha_exhumación  \\\n",
       "492  Inhumación       2019-02-02  2019-01-12 00:00:00              NaT   \n",
       "414  Inhumación       2019-05-25  2019-04-28 00:00:00              NaT   \n",
       "795  Inhumación       2017-10-07                  S/D              NaT   \n",
       "455  Inhumación       2019-05-04  2019-04-05 00:00:00              NaT   \n",
       "485  Inhumación       2019-02-02  2019-01-03 00:00:00              NaT   \n",
       "..          ...              ...                  ...              ...   \n",
       "241  Inhumación       2018-10-14  2017-12-18 00:00:00              NaT   \n",
       "240  Inhumación       2018-10-14  2017-12-17 00:00:00              NaT   \n",
       "239  Inhumación       2018-10-14  2017-12-14 00:00:00              NaT   \n",
       "211  Inhumación       2018-10-27  2018-09-19 00:00:00              NaT   \n",
       "999  Inhumación       2018-09-01  2018-05-29 00:00:00              NaT   \n",
       "\n",
       "    Restos_tipo           Sexo        Edad Conocido_Desconocido  \\\n",
       "492        Feto       Femenino  14 semanas             Conocido   \n",
       "414        Feto      Masculino         NaN             Conocido   \n",
       "795        Feto      Masculino  18 semanas          Desconocido   \n",
       "455        Feto  Indeterminado  14 semanas          Desconocido   \n",
       "485        Feto      Masculino  13 semanas             Conocido   \n",
       "..          ...            ...         ...                  ...   \n",
       "241     Cadáver      Masculino          54             Conocido   \n",
       "240     Cadáver      Masculino          45          Desconocido   \n",
       "239     Cadáver      Masculino          60          Desconocido   \n",
       "211     Cadáver      Masculino         NaN             Conocido   \n",
       "999     Cadáver      Masculino         NaN          Desconocido   \n",
       "\n",
       "    Primer apellido Segundo Apellido  Nombre(s)         Nombre completo  \\\n",
       "492             NaN              NaN        NaN                           \n",
       "414             NaN              NaN        NaN                           \n",
       "795             NaN              NaN        NaN                           \n",
       "455             NaN              NaN        NaN                           \n",
       "485             NaN              NaN        NaN                           \n",
       "..              ...              ...        ...                     ...   \n",
       "241            Peña          Padilla  Alejandro  Alejandro Peña Padilla   \n",
       "240             NaN              NaN        NaN                           \n",
       "239             NaN              NaN        NaN                           \n",
       "211          Vargas            Rosas      Jesús      Jesús Vargas Rosas   \n",
       "999             NaN              NaN        NaN                           \n",
       "\n",
       "                                    Institución_origen Rdoc  \\\n",
       "492  INSTITUTO DE CIENCIAS FORENSES - TRIBUNAL SUPE...   Sí   \n",
       "414  INSTITUTO DE CIENCIAS FORENSES - TRIBUNAL SUPE...   Sí   \n",
       "795  INSTITUTO DE CIENCIAS FORENSES - TRIBUNAL SUPE...   Sí   \n",
       "455  INSTITUTO DE CIENCIAS FORENSES - TRIBUNAL SUPE...   Sí   \n",
       "485  INSTITUTO DE CIENCIAS FORENSES - TRIBUNAL SUPE...   Sí   \n",
       "..                                                 ...  ...   \n",
       "241  UNIVERSIDAD NACIONAL AUTÓNOMA DE MÉXICO - FACU...   Sí   \n",
       "240  UNIVERSIDAD NACIONAL AUTÓNOMA DE MÉXICO - FACU...   Sí   \n",
       "239  UNIVERSIDAD NACIONAL AUTÓNOMA DE MÉXICO - FACU...   Sí   \n",
       "211  INSTITUTO DE CIENCIAS FORENSES - TRIBUNAL SUPE...   Sí   \n",
       "999  INSTITUTO DE CIENCIAS FORENSES - TRIBUNAL SUPE...   Sí   \n",
       "\n",
       "             Marca_temporal  Datos alternativos  \n",
       "492 2020-03-30 12:34:48.000                 NaN  \n",
       "414 2020-03-30 10:48:58.000                 NaN  \n",
       "795 2020-01-04 17:19:03.000                 NaN  \n",
       "455 2020-03-30 11:41:11.000                 NaN  \n",
       "485 2020-03-30 12:26:44.000                 NaN  \n",
       "..                      ...                 ...  \n",
       "241 2020-03-24 00:00:00.000                 NaN  \n",
       "240 2020-03-24 00:00:00.000                 NaN  \n",
       "239 2020-03-24 00:00:00.000                 NaN  \n",
       "211 2020-03-24 00:00:00.000                 NaN  \n",
       "999 2020-04-06 21:35:23.157                 NaN  \n",
       "\n",
       "[1000 rows x 20 columns]"
      ]
     },
     "execution_count": 73,
     "metadata": {},
     "output_type": "execute_result"
    }
   ],
   "source": [
    "df.sort_values(by='Restos_tipo')"
   ]
  },
  {
   "cell_type": "markdown",
   "metadata": {},
   "source": [
    "### Números\n",
    "\n",
    "Existen dos tipos de datos númericos, enteros y flotantes. Los dos se comportan de forma muy similar.\n",
    "\n",
    "En este conjunto de datos la columna `Edad` contiene numeros, sin embargo su tipo es `object` ya que hay edades como \"18 semanas\" que corresponden a fetos y neonatos."
   ]
  },
  {
   "cell_type": "code",
   "execution_count": 26,
   "metadata": {
    "tags": []
   },
   "outputs": [
    {
     "data": {
      "text/plain": [
       "0      NaN\n",
       "1      NaN\n",
       "2      NaN\n",
       "3      NaN\n",
       "4      NaN\n",
       "      ... \n",
       "995    NaN\n",
       "996    NaN\n",
       "997    NaN\n",
       "998    NaN\n",
       "999    NaN\n",
       "Name: Edad, Length: 1000, dtype: object"
      ]
     },
     "execution_count": 26,
     "metadata": {},
     "output_type": "execute_result"
    }
   ],
   "source": [
    "df['Edad'].str.upper()"
   ]
  },
  {
   "cell_type": "code",
   "execution_count": 22,
   "metadata": {
    "tags": []
   },
   "outputs": [
    {
     "data": {
      "text/plain": [
       "0      2019\n",
       "1      2019\n",
       "2      2019\n",
       "3      2019\n",
       "4      2019\n",
       "       ... \n",
       "995    2018\n",
       "996    2018\n",
       "997    2018\n",
       "998    2018\n",
       "999    2018\n",
       "Name: Fecha_inhumación, Length: 1000, dtype: int64"
      ]
     },
     "execution_count": 22,
     "metadata": {},
     "output_type": "execute_result"
    }
   ],
   "source": [
    "df['Fecha_inhumación'].dt.year"
   ]
  },
  {
   "cell_type": "markdown",
   "metadata": {},
   "source": [
    "En caso de duda pandas asigna el tipo de dato object e infiere celda por celda el tipo de dato específico."
   ]
  },
  {
   "cell_type": "code",
   "execution_count": 21,
   "metadata": {
    "tags": []
   },
   "outputs": [
    {
     "data": {
      "text/plain": [
       "array([nan])"
      ]
     },
     "execution_count": 21,
     "metadata": {},
     "output_type": "execute_result"
    }
   ],
   "source": [
    "df['Datos alternativos'].unique()"
   ]
  },
  {
   "cell_type": "code",
   "execution_count": null,
   "metadata": {},
   "outputs": [],
   "source": []
  },
  {
   "cell_type": "code",
   "execution_count": null,
   "metadata": {},
   "outputs": [],
   "source": []
  },
  {
   "cell_type": "code",
   "execution_count": null,
   "metadata": {},
   "outputs": [],
   "source": []
  },
  {
   "cell_type": "code",
   "execution_count": null,
   "metadata": {},
   "outputs": [],
   "source": []
  },
  {
   "cell_type": "code",
   "execution_count": null,
   "metadata": {},
   "outputs": [],
   "source": []
  },
  {
   "cell_type": "code",
   "execution_count": null,
   "metadata": {},
   "outputs": [],
   "source": [
    "\n",
    "1. Escribe tres formas en las que te gustaría ordenar los datos.\n",
    "2. Obten las tablas ordenadas, en caso de no poder hacerlo indica que datos te harían falta."
   ]
  }
 ],
 "metadata": {
  "kernelspec": {
   "display_name": "Python 3 (ipykernel)",
   "language": "python",
   "name": "python3"
  },
  "language_info": {
   "codemirror_mode": {
    "name": "ipython",
    "version": 3
   },
   "file_extension": ".py",
   "mimetype": "text/x-python",
   "name": "python",
   "nbconvert_exporter": "python",
   "pygments_lexer": "ipython3",
   "version": "3.10.9"
  }
 },
 "nbformat": 4,
 "nbformat_minor": 4
}
