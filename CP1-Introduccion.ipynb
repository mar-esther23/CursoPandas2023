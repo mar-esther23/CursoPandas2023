{
 "cells": [
  {
   "cell_type": "markdown",
   "metadata": {},
   "source": [
    "# Análisis y visualización de datos abiertos con python\n",
    "\n",
    "1. __Introducción a python__\n",
    "    1. [Jupyter notebooks](#notebooks)\n",
    "        * Crear o abrir carpetas y notebook\n",
    "        * Tipos de celdas\n",
    "        * Correr celdas y el kernel\n",
    "    2. [Introducción a python](#intropython)\n",
    "        * Valores, variables y tipos\n",
    "        * Operaciones y funciones\n",
    "        * Comentarios y errores\n",
    "        \n",
    "        \n",
    "        "
   ]
  },
  {
   "cell_type": "markdown",
   "metadata": {},
   "source": [
    "<a id='instalacion'></a>"
   ]
  },
  {
   "cell_type": "markdown",
   "metadata": {},
   "source": [
    "# 1. Introducción\n",
    "\n",
    "Bienvenido al tutorial de Análisis y Visualización de Datos Abiertos con Python. Este tutorial está diseñado para proporcionar una introducción práctica y en profundidad a la programación en Python y los notebooks de Anaconda. Durante el curso, aprenderás a manipular y visualizar datos de manera eficiente, utilizando herramientas y técnicas avanzadas. Al final del curso, esperamos que tengas las habilidades necesarias para realizar análisis de datos con confianza y en profundidad. ¡Comencemos!"
   ]
  },
  {
   "cell_type": "markdown",
   "metadata": {},
   "source": [
    "<a id='notebooks'></a>\n",
    "## 1.1 Jupyter Notebooks\n",
    "\n",
    "Un **Jupyter Notebook** es una herramienta poderosa que permite combinar texto, código y imágenes de manera interactiva en un solo documento. \n",
    "\n",
    "Antes de empezar cualquier proyecto, es importante **organizar bien los archivos**. Para ello, es recomendable crear una carpeta para el curso o proyecto. Jupyter incluye un gestor de archivos fácil de usar, desde el cual se puede abrir un notebook dando doble clic en él en el navegador de archivos de Jupyter.\n",
    "\n",
    "Para **crear un nuevo notebook**, se puede hacer clic en File -> New -> Notebook, y asegurarse de guardarlo en la carpeta correcta.\n",
    "\n",
    "Los Jupyter Notebooks están compuestos por **celdas**, que pueden ser de dos tipos: Markdown o Code. Las **celdas Markdown** permiten escribir texto en formato Markdown, mientras que las **celdas Code** permiten escribir código en el lenguaje de programación elegido. La salida generada por el código, como texto, tablas, imágenes, etc., también se mostrará en la celda Code.\n",
    "\n",
    "Para **ejecutar una celda**, se puede hacer clic en el botón Run o presionar Ctrl + Enter. Es importante tener en cuenta que el kernel del Jupyter Notebook muestra el estado de ejecución y el lenguaje de programación en la esquina superior derecha.\n",
    "\n",
    "### Ejercicio 1\n",
    "\n",
    "1. Cree una carpeta para este curso y abra el Jupyter Notebook\n",
    "2. Ejecute la siguiente celda y examine las diferentes partes de la celda."
   ]
  },
  {
   "cell_type": "code",
   "execution_count": 1,
   "metadata": {},
   "outputs": [
    {
     "name": "stdout",
     "output_type": "stream",
     "text": [
      "Hello world!\n"
     ]
    }
   ],
   "source": [
    "print(\"Hello world!\")"
   ]
  },
  {
   "cell_type": "markdown",
   "metadata": {
    "tags": []
   },
   "source": [
    "<a id='intropython'></a>\n",
    "## 1.2 Introducción a python\n",
    "\n",
    "### Valores, variables y tipos\n",
    "\n",
    "Algunas definiciones:\n",
    "\n",
    "* Valor: la medida o atributo real\n",
    "* Variable: una medida o atributo que puede cambiar\n",
    "\n",
    "Por ejemplo, cinco es un valor, pero a es una variable que puede tener cualquier valor, como 5."
   ]
  },
  {
   "cell_type": "markdown",
   "metadata": {},
   "source": [
    "5"
   ]
  },
  {
   "cell_type": "code",
   "execution_count": 2,
   "metadata": {},
   "outputs": [
    {
     "data": {
      "text/plain": [
       "5"
      ]
     },
     "execution_count": 2,
     "metadata": {},
     "output_type": "execute_result"
    }
   ],
   "source": [
    "a = 5\n",
    "a"
   ]
  },
  {
   "cell_type": "markdown",
   "metadata": {},
   "source": [
    "En Python existen diferentes tipos de datos, como números enteros, flotantes, texto y booleanos.\n",
    "\n",
    "Los números enteros se escriben sin decimales, mientras que los flotantes tienen decimales. El texto se escribe entre comillas simples o dobles. Los booleanos son verdadero o falso.\n",
    "\n",
    "* integer: número entero\n",
    "* float: número decimal\n",
    "* string: cadena de texto\n",
    "* boolean: verdadero o falos\n",
    "* None y nan: cuando no existe\n",
    "\n",
    "para saber el tipo de un valor usamos la función _type()_"
   ]
  },
  {
   "cell_type": "code",
   "execution_count": 3,
   "metadata": {},
   "outputs": [
    {
     "data": {
      "text/plain": [
       "(5, int)"
      ]
     },
     "execution_count": 3,
     "metadata": {},
     "output_type": "execute_result"
    }
   ],
   "source": [
    "a, type(a)"
   ]
  },
  {
   "cell_type": "code",
   "execution_count": 4,
   "metadata": {},
   "outputs": [
    {
     "data": {
      "text/plain": [
       "(5.1, float)"
      ]
     },
     "execution_count": 4,
     "metadata": {},
     "output_type": "execute_result"
    }
   ],
   "source": [
    "a = 5.1\n",
    "a, type(a)"
   ]
  },
  {
   "cell_type": "code",
   "execution_count": 5,
   "metadata": {},
   "outputs": [
    {
     "data": {
      "text/plain": [
       "('cinco', str)"
      ]
     },
     "execution_count": 5,
     "metadata": {},
     "output_type": "execute_result"
    }
   ],
   "source": [
    "a = \"cinco\"\n",
    "a, type(a)"
   ]
  },
  {
   "cell_type": "code",
   "execution_count": 6,
   "metadata": {},
   "outputs": [
    {
     "data": {
      "text/plain": [
       "(False, bool)"
      ]
     },
     "execution_count": 6,
     "metadata": {},
     "output_type": "execute_result"
    }
   ],
   "source": [
    "a = False\n",
    "a, type(a)"
   ]
  },
  {
   "cell_type": "markdown",
   "metadata": {},
   "source": [
    "None y nan se utilizan para representar cuando el valor \"no existe\" o \"no es un número\""
   ]
  },
  {
   "cell_type": "code",
   "execution_count": 7,
   "metadata": {},
   "outputs": [
    {
     "data": {
      "text/plain": [
       "(None, NoneType)"
      ]
     },
     "execution_count": 7,
     "metadata": {},
     "output_type": "execute_result"
    }
   ],
   "source": [
    "a = None\n",
    "a, type(a)"
   ]
  },
  {
   "cell_type": "code",
   "execution_count": 8,
   "metadata": {},
   "outputs": [
    {
     "data": {
      "text/plain": [
       "(nan, float)"
      ]
     },
     "execution_count": 8,
     "metadata": {},
     "output_type": "execute_result"
    }
   ],
   "source": [
    "from numpy import nan\n",
    "a = nan\n",
    "a, type(a)"
   ]
  },
  {
   "cell_type": "markdown",
   "metadata": {},
   "source": [
    "Además existen tipos que son colecciones de otros valores:\n",
    "* list: lista ordenada\n",
    "* dic: diccionario con llaves"
   ]
  },
  {
   "cell_type": "code",
   "execution_count": 9,
   "metadata": {},
   "outputs": [
    {
     "data": {
      "text/plain": [
       "([1, 2, 3, 4, 5, 6, 7, 8, 9, 0], list)"
      ]
     },
     "execution_count": 9,
     "metadata": {},
     "output_type": "execute_result"
    }
   ],
   "source": [
    "a = [1,2,3,4,5,6,7,8,9,0]\n",
    "a, type(a)"
   ]
  },
  {
   "cell_type": "markdown",
   "metadata": {},
   "source": [
    "Podemos acceder a las elementos de las listas por su posición. Las listas empiezan de cero. También podemos acceder a multiples elementos de la lista"
   ]
  },
  {
   "cell_type": "code",
   "execution_count": 10,
   "metadata": {},
   "outputs": [
    {
     "data": {
      "text/plain": [
       "1"
      ]
     },
     "execution_count": 10,
     "metadata": {},
     "output_type": "execute_result"
    }
   ],
   "source": [
    "a[0]"
   ]
  },
  {
   "cell_type": "code",
   "execution_count": 11,
   "metadata": {},
   "outputs": [
    {
     "data": {
      "text/plain": [
       "0"
      ]
     },
     "execution_count": 11,
     "metadata": {},
     "output_type": "execute_result"
    }
   ],
   "source": [
    "a[-1]"
   ]
  },
  {
   "cell_type": "code",
   "execution_count": 12,
   "metadata": {},
   "outputs": [
    {
     "data": {
      "text/plain": [
       "[3, 4, 5, 6]"
      ]
     },
     "execution_count": 12,
     "metadata": {},
     "output_type": "execute_result"
    }
   ],
   "source": [
    "a[2:6]"
   ]
  },
  {
   "cell_type": "code",
   "execution_count": 13,
   "metadata": {},
   "outputs": [
    {
     "data": {
      "text/plain": [
       "[5, 6, 7, 8, 9, 0]"
      ]
     },
     "execution_count": 13,
     "metadata": {},
     "output_type": "execute_result"
    }
   ],
   "source": [
    "a[4:]"
   ]
  },
  {
   "cell_type": "markdown",
   "metadata": {},
   "source": [
    "Las listas pueden contener valores de distintos tipos, incluyendo otras listas"
   ]
  },
  {
   "cell_type": "code",
   "execution_count": 14,
   "metadata": {},
   "outputs": [
    {
     "data": {
      "text/plain": [
       "([1, 2, 'tres', 4, ['cinco', 'five', '5', 'cinq', 5], 6, 'siete'], list)"
      ]
     },
     "execution_count": 14,
     "metadata": {},
     "output_type": "execute_result"
    }
   ],
   "source": [
    "a = [1,2, 'tres', 4, ['cinco','five', '5','cinq', 5], 6, 'siete']\n",
    "a, type(a)"
   ]
  },
  {
   "cell_type": "markdown",
   "metadata": {},
   "source": [
    "Los diccionarios son pares de números, tienen una llave y un valor. Podemos acceder al valor usando la llave."
   ]
  },
  {
   "cell_type": "code",
   "execution_count": 15,
   "metadata": {},
   "outputs": [
    {
     "data": {
      "text/plain": [
       "({'uno': 1, 'dos': 2, 'tres': 3, 'cuatro': 4, 'cinco': 5}, dict)"
      ]
     },
     "execution_count": 15,
     "metadata": {},
     "output_type": "execute_result"
    }
   ],
   "source": [
    "a = {'uno':1, 'dos':2, 'tres':3, 'cuatro':4, 'cinco':5}\n",
    "a, type(a)"
   ]
  },
  {
   "cell_type": "code",
   "execution_count": 16,
   "metadata": {},
   "outputs": [
    {
     "data": {
      "text/plain": [
       "3"
      ]
     },
     "execution_count": 16,
     "metadata": {},
     "output_type": "execute_result"
    }
   ],
   "source": [
    "a['tres']"
   ]
  },
  {
   "cell_type": "markdown",
   "metadata": {},
   "source": [
    "### Operaciones y funciones\n",
    "\n",
    "En Python se pueden realizar operaciones matemáticas, como suma, resta, multiplicación y división. También se pueden usar operadores de comparación, como igual a (==), menor que (<) y mayor que (>).\n",
    "\n",
    "Las operaciones y comparaciones se combinan para crear expresiones, que son evaluadas para producir un resultado."
   ]
  },
  {
   "cell_type": "code",
   "execution_count": 17,
   "metadata": {},
   "outputs": [
    {
     "data": {
      "text/plain": [
       "22"
      ]
     },
     "execution_count": 17,
     "metadata": {},
     "output_type": "execute_result"
    }
   ],
   "source": [
    "a = 5\n",
    "b = 17\n",
    "a + b"
   ]
  },
  {
   "cell_type": "markdown",
   "metadata": {},
   "source": [
    "Tambien podemos verificar si dos variables son iguales, diferentes, etc."
   ]
  },
  {
   "cell_type": "code",
   "execution_count": 18,
   "metadata": {},
   "outputs": [
    {
     "data": {
      "text/plain": [
       "False"
      ]
     },
     "execution_count": 18,
     "metadata": {},
     "output_type": "execute_result"
    }
   ],
   "source": [
    "a == b"
   ]
  },
  {
   "cell_type": "code",
   "execution_count": 19,
   "metadata": {},
   "outputs": [
    {
     "data": {
      "text/plain": [
       "True"
      ]
     },
     "execution_count": 19,
     "metadata": {},
     "output_type": "execute_result"
    }
   ],
   "source": [
    "a != b"
   ]
  },
  {
   "cell_type": "code",
   "execution_count": 20,
   "metadata": {},
   "outputs": [
    {
     "data": {
      "text/plain": [
       "False"
      ]
     },
     "execution_count": 20,
     "metadata": {},
     "output_type": "execute_result"
    }
   ],
   "source": [
    "a > b"
   ]
  },
  {
   "cell_type": "markdown",
   "metadata": {},
   "source": [
    "En el caso de las cadenas de texto existen funciones como unir, capitalizar, remplazar o quitar acentos"
   ]
  },
  {
   "cell_type": "code",
   "execution_count": 21,
   "metadata": {},
   "outputs": [
    {
     "data": {
      "text/plain": [
       "'foobar'"
      ]
     },
     "execution_count": 21,
     "metadata": {},
     "output_type": "execute_result"
    }
   ],
   "source": [
    "a = 'foo'\n",
    "b = 'bar'\n",
    "a+b"
   ]
  },
  {
   "cell_type": "code",
   "execution_count": 22,
   "metadata": {},
   "outputs": [
    {
     "data": {
      "text/plain": [
       "'foo bar'"
      ]
     },
     "execution_count": 22,
     "metadata": {},
     "output_type": "execute_result"
    }
   ],
   "source": [
    "' '.join([a,b])"
   ]
  },
  {
   "cell_type": "code",
   "execution_count": 23,
   "metadata": {},
   "outputs": [
    {
     "data": {
      "text/plain": [
       "'Foo'"
      ]
     },
     "execution_count": 23,
     "metadata": {},
     "output_type": "execute_result"
    }
   ],
   "source": [
    "a.capitalize()"
   ]
  },
  {
   "cell_type": "code",
   "execution_count": 24,
   "metadata": {},
   "outputs": [
    {
     "data": {
      "text/plain": [
       "'barggggg'"
      ]
     },
     "execution_count": 24,
     "metadata": {},
     "output_type": "execute_result"
    }
   ],
   "source": [
    "b.replace('ar','arggggg')"
   ]
  },
  {
   "cell_type": "markdown",
   "metadata": {},
   "source": [
    "No todas las funciones están en los paquetes básicos. Por ejemplo, quitar acentos esta en ´unidecode´, por lo cuál es necesario instalarlo e importarlo."
   ]
  },
  {
   "cell_type": "code",
   "execution_count": 25,
   "metadata": {},
   "outputs": [
    {
     "data": {
      "text/plain": [
       "'foo'"
      ]
     },
     "execution_count": 25,
     "metadata": {},
     "output_type": "execute_result"
    }
   ],
   "source": [
    "import unidecode\n",
    "a = 'foó'\n",
    "unidecode.unidecode(a)"
   ]
  },
  {
   "cell_type": "markdown",
   "metadata": {},
   "source": [
    "Una función toma una serie de argumentos y realiza una serie de pasos y regresa un resultado (generalmente). \n",
    "\n",
    "Podemos distinguir las funciones por que usan parentesis.\n",
    "* print('Hola mundo')\n",
    "* ' '.join(['a','b','c','d'])\n",
    "\n",
    "Los corchetes se usan para encontrar la posición dentro de una estructura de datos"
   ]
  },
  {
   "cell_type": "markdown",
   "metadata": {},
   "source": [
    "### Comentarios y errores\n",
    "\n",
    "Es importante documentar los pasos que seguimos dentro de un análisis, parte de esta documentación son los comentarios.\n",
    "\n",
    "Los comentarios son pequeños textos dentro del código que explican lo que este hace. Los comentarios empiezan con #."
   ]
  },
  {
   "cell_type": "code",
   "execution_count": 26,
   "metadata": {},
   "outputs": [
    {
     "data": {
      "text/plain": [
       "'foo'"
      ]
     },
     "execution_count": 26,
     "metadata": {},
     "output_type": "execute_result"
    }
   ],
   "source": [
    "# Importa la funcion unidecode para quitar acentos\n",
    "from unidecode import unidecode\n",
    "a = 'foó' #declara variable\n",
    "# Ejecuta la funcion\n",
    "unidecode(a)"
   ]
  },
  {
   "cell_type": "markdown",
   "metadata": {},
   "source": [
    "Cuando python no encuentra un problema puede levantar un warning o error. Un warning es una advertencia, mientras que un error implica que algo fallo. Estos se muestran como celdas rojas.\n",
    "\n",
    "Para leer un error es importante recordar:\n",
    "* La flecha verde indica en que linea se cometio el error\n",
    "* La última linea dice el resumen del error, esta linea es la que se googlea para buscar una solución"
   ]
  },
  {
   "cell_type": "code",
   "execution_count": 27,
   "metadata": {},
   "outputs": [
    {
     "ename": "KeyError",
     "evalue": "3",
     "output_type": "error",
     "traceback": [
      "\u001b[0;31m---------------------------------------------------------------------------\u001b[0m",
      "\u001b[0;31mKeyError\u001b[0m                                  Traceback (most recent call last)",
      "Input \u001b[0;32mIn [27]\u001b[0m, in \u001b[0;36m<cell line: 2>\u001b[0;34m()\u001b[0m\n\u001b[1;32m      1\u001b[0m a \u001b[38;5;241m=\u001b[39m {\u001b[38;5;124m'\u001b[39m\u001b[38;5;124muno\u001b[39m\u001b[38;5;124m'\u001b[39m:\u001b[38;5;241m1\u001b[39m, \u001b[38;5;124m'\u001b[39m\u001b[38;5;124mdos\u001b[39m\u001b[38;5;124m'\u001b[39m:\u001b[38;5;241m2\u001b[39m, \u001b[38;5;124m'\u001b[39m\u001b[38;5;124mtres\u001b[39m\u001b[38;5;124m'\u001b[39m:\u001b[38;5;241m3\u001b[39m, \u001b[38;5;124m'\u001b[39m\u001b[38;5;124mcuatro\u001b[39m\u001b[38;5;124m'\u001b[39m:\u001b[38;5;241m4\u001b[39m, \u001b[38;5;124m'\u001b[39m\u001b[38;5;124mcinco\u001b[39m\u001b[38;5;124m'\u001b[39m:\u001b[38;5;241m5\u001b[39m}\n\u001b[0;32m----> 2\u001b[0m \u001b[43ma\u001b[49m\u001b[43m[\u001b[49m\u001b[38;5;241;43m3\u001b[39;49m\u001b[43m]\u001b[49m\n",
      "\u001b[0;31mKeyError\u001b[0m: 3"
     ]
    }
   ],
   "source": [
    "a = {'uno':1, 'dos':2, 'tres':3, 'cuatro':4, 'cinco':5}\n",
    "a[3]"
   ]
  },
  {
   "cell_type": "markdown",
   "metadata": {},
   "source": [
    "### Ejercicio dos\n",
    "1. Crea una nueva celda de código\n",
    "2. Crea una lista con cinco elementos y guardala en una variable _b_\n",
    "3. Encuentra el primer, tercer y ultimo elemento\n",
    "4. En una celda nueva escribe una expresión que generé un error\n",
    "5. Reconoce cada uno de los elementos del mensaje de error\n",
    "6. Busca el error en google y explica que sucedió"
   ]
  }
 ],
 "metadata": {
  "kernelspec": {
   "display_name": "Python 3 (ipykernel)",
   "language": "python",
   "name": "python3"
  },
  "language_info": {
   "codemirror_mode": {
    "name": "ipython",
    "version": 3
   },
   "file_extension": ".py",
   "mimetype": "text/x-python",
   "name": "python",
   "nbconvert_exporter": "python",
   "pygments_lexer": "ipython3",
   "version": "3.10.4"
  }
 },
 "nbformat": 4,
 "nbformat_minor": 4
}
