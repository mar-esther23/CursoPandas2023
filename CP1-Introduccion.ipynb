{
 "cells": [
  {
   "cell_type": "markdown",
   "metadata": {},
   "source": [
    "# Análisis y visualización de datos abiertos con python\n",
    "# 1. Introducción a Python\n",
    "\n",
    "Bienvenido al curso de Análisis y Visualización de Datos Abiertos con Python. \n",
    "\n",
    "Durante el curso, aprenderás a manipular y visualizar datos de manera eficiente, utilizando herramientas y técnicas avanzadas. Al final del curso, esperamos que tengas las habilidades necesarias para realizar análisis de datos con confianza y en profundidad.\n",
    "\n",
    "Este tutorial está diseñado para aquellos interesados en el análisis de datos y la visualización, y que desean aprender cómo utilizar Python y Pandas para realizar esta tarea de manera efectiva. Aunque no se requiere experiencia previa en programación o análisis de datos, se recomienda tener un conocimiento básico de Excel y Python para aprovechar al máximo el tutorial.\n",
    "\n",
    "Este primer tutorial está diseñado para proporcionar una introducción práctica y en profundidad a la programación en Python y los notebooks de Anaconda.         \n",
    "        "
   ]
  },
  {
   "cell_type": "markdown",
   "metadata": {},
   "source": [
    "## 1.1 Python y Jupyter Notebooks\n",
    "\n",
    "**Python es un lenguaje de programación** interpretado, dinámico y de alto nivel, creado por Guido van Rossum en 1991. Es ampliamente utilizado en diversos campos, incluyendo la ciencia de datos, el desarrollo web, la inteligencia artificial y la automatización de tareas. Python es conocido por ser fácil de aprender y leer, y cuenta con una amplia variedad de bibliotecas y módulos que facilitan el desarrollo de aplicaciones y proyectos. Además, es un lenguaje multiplataforma, lo que significa que se puede utilizar en diferentes sistemas operativos como Windows, Mac y Linux.\n",
    "\n",
    "Para utilizar Python existen una serie de herramientas. En este curso nos centraremos es Anaconda y Notebooks.\n",
    "Un **Jupyter Notebook** es una aplicación web que permite crear y compartir documentos que contienen código, texto, visualizaciones y otros elementos interactivos. Los Jupyter Notebooks se usan comúnmente en la ciencia de datos y la programación para explorar y analizar datos, desarrollar y probar código y crear informes o presentaciones interactivas. \n",
    "\n",
    "\n",
    "\n",
    "Antes de empezar cualquier proyecto, es importante **organizar bien los archivos**. Para ello, es recomendable crear una carpeta para el curso o proyecto. Jupyter incluye un gestor de archivos fácil de usar, desde el cual se puede abrir un notebook dando doble clic en él en el navegador de archivos de Jupyter.\n",
    "\n",
    "Para **crear un nuevo notebook**, se puede hacer clic en File -> New -> Notebook, y asegurarse de guardarlo en la carpeta correcta.\n",
    "\n",
    "Los Jupyter Notebooks están compuestos por **celdas**, que pueden ser de dos tipos: Markdown o Code. Las **celdas Markdown** permiten escribir texto en formato Markdown, mientras que las **celdas Code** permiten escribir código en el lenguaje de programación elegido. La salida generada por el código, como texto, tablas, imágenes, etc., también se mostrará en la celda Code.\n",
    "\n",
    "Para **ejecutar una celda**, se puede hacer clic en el botón Run o presionar Ctrl + Enter. Es importante tener en cuenta que el kernel del Jupyter Notebook muestra el estado de ejecución y el lenguaje de programación en la esquina superior derecha..\n",
    "\n",
    "### Ejercicio 1\n",
    "\n",
    "1. Cree una carpeta para este curso\n",
    "2. Descarga este Jupyter Notebook y colocalo en la carpeta del curso\n",
    "3. Ejecuta la siguiente celda y examina las diferentes partes de la celda."
   ]
  },
  {
   "cell_type": "code",
   "execution_count": 1,
   "metadata": {},
   "outputs": [
    {
     "name": "stdout",
     "output_type": "stream",
     "text": [
      "Hello world!\n"
     ]
    }
   ],
   "source": [
    "print(\"Hello world!\")"
   ]
  },
  {
   "cell_type": "markdown",
   "metadata": {
    "tags": []
   },
   "source": [
    "## 1.2 Valores, variables y tipos\n",
    "\n",
    "Antes de empezar necesitamos algunas definiciones:\n",
    "\n",
    "* Valor: la medida o atributo real\n",
    "* Variable: una medida o atributo que puede cambiar\n",
    "\n",
    "Por ejemplo, cinco es un valor, pero a es una variable que puede tener cualquier valor, como 5."
   ]
  },
  {
   "cell_type": "markdown",
   "metadata": {},
   "source": [
    "5"
   ]
  },
  {
   "cell_type": "code",
   "execution_count": 2,
   "metadata": {},
   "outputs": [
    {
     "data": {
      "text/plain": [
       "5"
      ]
     },
     "execution_count": 2,
     "metadata": {},
     "output_type": "execute_result"
    }
   ],
   "source": [
    "a = 5\n",
    "a"
   ]
  },
  {
   "cell_type": "markdown",
   "metadata": {},
   "source": [
    "En Python existen diferentes tipos de datos, como números enteros, flotantes, texto y booleanos.\n",
    "\n",
    "Los números enteros se escriben sin decimales, mientras que los flotantes tienen decimales. El texto se escribe entre comillas simples o dobles. Los booleanos son verdadero o falso.\n",
    "\n",
    "* integer: número entero\n",
    "* float: número decimal\n",
    "* string: cadena de texto\n",
    "* boolean: verdadero o falos\n",
    "* None y nan: cuando no existe\n",
    "\n",
    "para saber el tipo de un valor usamos la función _type()_\n",
    "\n",
    "Por default el notebook nos muestra la salida de las instrucciones en la última linea de la celda sin necesidad de usar la intrucción `print`\n",
    "\n",
    "Asignemos a la variable `a` el valor entero `5`"
   ]
  },
  {
   "cell_type": "code",
   "execution_count": 3,
   "metadata": {},
   "outputs": [
    {
     "data": {
      "text/plain": [
       "(5, int)"
      ]
     },
     "execution_count": 3,
     "metadata": {},
     "output_type": "execute_result"
    }
   ],
   "source": [
    "a = 5\n",
    "a, type(a)"
   ]
  },
  {
   "cell_type": "markdown",
   "metadata": {},
   "source": [
    "Ahora, asignemos a la misma variable `a` el valor flotante `5.0`. Podemos ver que aunque la variable es la misma el tipo cambia."
   ]
  },
  {
   "cell_type": "code",
   "execution_count": 4,
   "metadata": {},
   "outputs": [
    {
     "data": {
      "text/plain": [
       "(5.0, float)"
      ]
     },
     "execution_count": 4,
     "metadata": {},
     "output_type": "execute_result"
    }
   ],
   "source": [
    "a = 5.0\n",
    "a, type(a)"
   ]
  },
  {
   "cell_type": "markdown",
   "metadata": {},
   "source": [
    "Tambien podemos asignar a `a` el texto `'cinco'`, marcando entre comillas que es un valor de texto. \n",
    "\n",
    "Cabe destacar que aunque para un humano el valor es el mismo, para la computadora son tres valores diferentes con distintas características. Tanto `5` como `5.0` son números y se pueden en usar operaciones matemáticas, aunque se representan diferenten en la memoria. \n",
    "Por otro lado `cinco` es un texto y se le aplican operaciones diferentes."
   ]
  },
  {
   "cell_type": "code",
   "execution_count": 5,
   "metadata": {
    "tags": []
   },
   "outputs": [
    {
     "data": {
      "text/plain": [
       "('cinco', str)"
      ]
     },
     "execution_count": 5,
     "metadata": {},
     "output_type": "execute_result"
    }
   ],
   "source": [
    "a = \"cinco\"\n",
    "a, type(a)"
   ]
  },
  {
   "cell_type": "markdown",
   "metadata": {
    "tags": []
   },
   "source": [
    "Otro tipo de datos son los Booleanos, los cuales pueden ser verdaderos o Falsos."
   ]
  },
  {
   "cell_type": "code",
   "execution_count": 6,
   "metadata": {
    "tags": []
   },
   "outputs": [
    {
     "data": {
      "text/plain": [
       "(False, bool)"
      ]
     },
     "execution_count": 6,
     "metadata": {},
     "output_type": "execute_result"
    }
   ],
   "source": [
    "a = False\n",
    "a, type(a)"
   ]
  },
  {
   "cell_type": "markdown",
   "metadata": {},
   "source": [
    "A veces necesitamos representar la falta de información. `None` y `nan` se utilizan para representar cuando el valor \"no existe\" o \"no es un número\""
   ]
  },
  {
   "cell_type": "code",
   "execution_count": 7,
   "metadata": {},
   "outputs": [
    {
     "data": {
      "text/plain": [
       "(None, NoneType)"
      ]
     },
     "execution_count": 7,
     "metadata": {},
     "output_type": "execute_result"
    }
   ],
   "source": [
    "a = None\n",
    "a, type(a)"
   ]
  },
  {
   "cell_type": "markdown",
   "metadata": {},
   "source": [
    "Python incluye una serie de herramientas por default, pero algunas mas especializadas se encuentran en bibliotecas especiales. Por ejemplo, `nan` o \"not a number\" es parte de biblioteca de operaciones matemáticas `numpy`.\n",
    "\n",
    "**NOTA:** Si vez el siguiente error o similar es necesario instalar paquetes adicionales para leer un archivo de formato Excel, ve el tutorial [Instalación e inicio con Anaconda](./CP0-Instalacion.md) con instrucciones al respecto."
   ]
  },
  {
   "cell_type": "code",
   "execution_count": 8,
   "metadata": {},
   "outputs": [
    {
     "data": {
      "text/plain": [
       "(nan, float)"
      ]
     },
     "execution_count": 8,
     "metadata": {},
     "output_type": "execute_result"
    }
   ],
   "source": [
    "from numpy import nan\n",
    "a = nan\n",
    "a, type(a)"
   ]
  },
  {
   "cell_type": "markdown",
   "metadata": {},
   "source": [
    "### Listas"
   ]
  },
  {
   "cell_type": "markdown",
   "metadata": {},
   "source": [
    "Además existen tipos que son colecciones de otros valores:\n",
    "* list: lista ordenada\n",
    "* dic: diccionario con llaves\n",
    "\n",
    "Primero definiremos una lista, en este caso usaremos una nueva variable llamada `l`"
   ]
  },
  {
   "cell_type": "code",
   "execution_count": 9,
   "metadata": {},
   "outputs": [
    {
     "data": {
      "text/plain": [
       "([1, 2, 3, 4, 5, 6, 7, 8, 9, 0], list)"
      ]
     },
     "execution_count": 9,
     "metadata": {},
     "output_type": "execute_result"
    }
   ],
   "source": [
    "l = [1,2,3,4,5,6,7,8,9,0]\n",
    "l, type(l)"
   ]
  },
  {
   "cell_type": "markdown",
   "metadata": {},
   "source": [
    "Podemos acceder a las elementos de las listas por su posición. Las listas empiezan de cero. "
   ]
  },
  {
   "cell_type": "code",
   "execution_count": 10,
   "metadata": {},
   "outputs": [
    {
     "data": {
      "text/plain": [
       "1"
      ]
     },
     "execution_count": 10,
     "metadata": {},
     "output_type": "execute_result"
    }
   ],
   "source": [
    "l[0]"
   ]
  },
  {
   "cell_type": "markdown",
   "metadata": {},
   "source": [
    "Se puede acceder a un elemento de una lista por su indice"
   ]
  },
  {
   "cell_type": "code",
   "execution_count": 11,
   "metadata": {},
   "outputs": [
    {
     "data": {
      "text/plain": [
       "4"
      ]
     },
     "execution_count": 11,
     "metadata": {},
     "output_type": "execute_result"
    }
   ],
   "source": [
    "l[3]"
   ]
  },
  {
   "cell_type": "markdown",
   "metadata": {},
   "source": [
    "El usar números negativos en el indice nos regresa el elemento contando del final hacia el principio"
   ]
  },
  {
   "cell_type": "code",
   "execution_count": 12,
   "metadata": {},
   "outputs": [
    {
     "data": {
      "text/plain": [
       "0"
      ]
     },
     "execution_count": 12,
     "metadata": {},
     "output_type": "execute_result"
    }
   ],
   "source": [
    "l[-1]"
   ]
  },
  {
   "cell_type": "markdown",
   "metadata": {},
   "source": [
    "También podemos acceder a multiples consecutivos elementos de la lista con el formato `inicio : final`. \n",
    "Nota que no se incluye el último número."
   ]
  },
  {
   "cell_type": "code",
   "execution_count": 13,
   "metadata": {},
   "outputs": [
    {
     "data": {
      "text/plain": [
       "[3, 4, 5, 6]"
      ]
     },
     "execution_count": 13,
     "metadata": {},
     "output_type": "execute_result"
    }
   ],
   "source": [
    "l[2:6]"
   ]
  },
  {
   "cell_type": "markdown",
   "metadata": {},
   "source": [
    "Si no se marca el final en automático se pone el resto de la lista"
   ]
  },
  {
   "cell_type": "code",
   "execution_count": 14,
   "metadata": {},
   "outputs": [
    {
     "data": {
      "text/plain": [
       "[5, 6, 7, 8, 9, 0]"
      ]
     },
     "execution_count": 14,
     "metadata": {},
     "output_type": "execute_result"
    }
   ],
   "source": [
    "l[4:]"
   ]
  },
  {
   "cell_type": "markdown",
   "metadata": {},
   "source": [
    "Las listas pueden contener valores de distintos tipos, incluyendo otras listas"
   ]
  },
  {
   "cell_type": "code",
   "execution_count": 15,
   "metadata": {
    "tags": []
   },
   "outputs": [
    {
     "data": {
      "text/plain": [
       "([1, 2, 'tres', 4, ['cinco', 'five', '5', 'cinq', 5], 6, 'siete'], list)"
      ]
     },
     "execution_count": 15,
     "metadata": {},
     "output_type": "execute_result"
    }
   ],
   "source": [
    "l = [1,2, 'tres', 4, ['cinco','five', '5','cinq', 5], 6, 'siete']\n",
    "l, type(l)"
   ]
  },
  {
   "cell_type": "markdown",
   "metadata": {},
   "source": [
    "### Diccionarios\n",
    "\n",
    "Los diccionarios son pares de números, tienen una llave y un valor. \n",
    "\n",
    "La llave debe de ser un tipo _inmutable_ como texto, número o Booleano."
   ]
  },
  {
   "cell_type": "code",
   "execution_count": 16,
   "metadata": {},
   "outputs": [
    {
     "data": {
      "text/plain": [
       "({'uno': 1, 'dos': 2, 'tres': 3, 'cuatro': 4, 'cinco': 5}, dict)"
      ]
     },
     "execution_count": 16,
     "metadata": {},
     "output_type": "execute_result"
    }
   ],
   "source": [
    "a = {'uno':1, 'dos':2, 'tres':3, 'cuatro':4, 'cinco':5}\n",
    "a, type(a)"
   ]
  },
  {
   "cell_type": "markdown",
   "metadata": {},
   "source": [
    "Se puede acceder al diccionario usando la llave."
   ]
  },
  {
   "cell_type": "code",
   "execution_count": 17,
   "metadata": {},
   "outputs": [
    {
     "data": {
      "text/plain": [
       "3"
      ]
     },
     "execution_count": 17,
     "metadata": {},
     "output_type": "execute_result"
    }
   ],
   "source": [
    "a['tres']"
   ]
  },
  {
   "cell_type": "markdown",
   "metadata": {},
   "source": [
    "## 1.3 Operaciones y funciones\n",
    "\n",
    "En Python se pueden realizar operaciones matemáticas, como suma, resta, multiplicación y división. También se pueden usar operadores de comparación, como igual a (==), menor que (<) y mayor que (>).\n",
    "\n",
    "Las operaciones y comparaciones se combinan para crear expresiones, que son evaluadas para producir un resultado.\n",
    "\n",
    "Una **función** toma una serie de argumentos y realiza una serie de pasos y regresa un resultado (generalmente). \n",
    "\n",
    "Podemos distinguir las funciones por que usan parentesis.\n",
    "* print('Hola mundo')\n",
    "* ' '.join(['a','b','c','d'])\n",
    "\n",
    "Los corchetes se usan para encontrar la posición dentro de una estructura de datos"
   ]
  },
  {
   "cell_type": "code",
   "execution_count": 18,
   "metadata": {},
   "outputs": [
    {
     "data": {
      "text/plain": [
       "22"
      ]
     },
     "execution_count": 18,
     "metadata": {},
     "output_type": "execute_result"
    }
   ],
   "source": [
    "a = 5\n",
    "b = 17\n",
    "a + b"
   ]
  },
  {
   "cell_type": "markdown",
   "metadata": {},
   "source": [
    "Tambien podemos verificar si dos variables son iguales con `==`"
   ]
  },
  {
   "cell_type": "code",
   "execution_count": 19,
   "metadata": {},
   "outputs": [
    {
     "data": {
      "text/plain": [
       "False"
      ]
     },
     "execution_count": 19,
     "metadata": {},
     "output_type": "execute_result"
    }
   ],
   "source": [
    "a == b"
   ]
  },
  {
   "cell_type": "markdown",
   "metadata": {},
   "source": [
    "Para diferencia se usa `!=`"
   ]
  },
  {
   "cell_type": "code",
   "execution_count": 20,
   "metadata": {},
   "outputs": [
    {
     "data": {
      "text/plain": [
       "True"
      ]
     },
     "execution_count": 20,
     "metadata": {},
     "output_type": "execute_result"
    }
   ],
   "source": [
    "a != b"
   ]
  },
  {
   "cell_type": "markdown",
   "metadata": {},
   "source": [
    "Además hay operaciones como mayor `>`, menor `<`, mayor o igual `>=` y menor o igual `<=`, "
   ]
  },
  {
   "cell_type": "code",
   "execution_count": 21,
   "metadata": {
    "tags": []
   },
   "outputs": [
    {
     "data": {
      "text/plain": [
       "False"
      ]
     },
     "execution_count": 21,
     "metadata": {},
     "output_type": "execute_result"
    }
   ],
   "source": [
    "a > b"
   ]
  },
  {
   "cell_type": "markdown",
   "metadata": {},
   "source": [
    "En el caso de las cadenas de texto existen funciones como unir, capitalizar, remplazar o quitar acentos"
   ]
  },
  {
   "cell_type": "code",
   "execution_count": 22,
   "metadata": {},
   "outputs": [
    {
     "data": {
      "text/plain": [
       "'foobar'"
      ]
     },
     "execution_count": 22,
     "metadata": {},
     "output_type": "execute_result"
    }
   ],
   "source": [
    "s = 'foo'\n",
    "t = 'bar'\n",
    "s+t"
   ]
  },
  {
   "cell_type": "markdown",
   "metadata": {},
   "source": [
    "Se pueden unir varios textos con otro texto"
   ]
  },
  {
   "cell_type": "code",
   "execution_count": 23,
   "metadata": {},
   "outputs": [
    {
     "data": {
      "text/plain": [
       "'foo-bar-bar-foo'"
      ]
     },
     "execution_count": 23,
     "metadata": {},
     "output_type": "execute_result"
    }
   ],
   "source": [
    "'-'.join([s,t,t,s])"
   ]
  },
  {
   "cell_type": "markdown",
   "metadata": {},
   "source": [
    "Se puede cambiar de mayusculas a minusculas de varias formas"
   ]
  },
  {
   "cell_type": "code",
   "execution_count": 24,
   "metadata": {},
   "outputs": [
    {
     "data": {
      "text/plain": [
       "'Foo'"
      ]
     },
     "execution_count": 24,
     "metadata": {},
     "output_type": "execute_result"
    }
   ],
   "source": [
    "s.capitalize()"
   ]
  },
  {
   "cell_type": "markdown",
   "metadata": {},
   "source": [
    "O se puede remplazar un texto específico por otro"
   ]
  },
  {
   "cell_type": "code",
   "execution_count": 25,
   "metadata": {},
   "outputs": [
    {
     "data": {
      "text/plain": [
       "'barggggg'"
      ]
     },
     "execution_count": 25,
     "metadata": {},
     "output_type": "execute_result"
    }
   ],
   "source": [
    "t.replace('ar','arggggg')"
   ]
  },
  {
   "cell_type": "markdown",
   "metadata": {},
   "source": [
    "No todas las funciones están en los paquetes básicos. Por ejemplo, quitar acentos esta en ´unidecode´, por lo cuál es necesario instalarlo e importarlo."
   ]
  },
  {
   "cell_type": "code",
   "execution_count": 26,
   "metadata": {
    "tags": []
   },
   "outputs": [
    {
     "data": {
      "text/plain": [
       "'foo'"
      ]
     },
     "execution_count": 26,
     "metadata": {},
     "output_type": "execute_result"
    }
   ],
   "source": [
    "import unidecode\n",
    "s = 'foó'\n",
    "unidecode.unidecode(s)"
   ]
  },
  {
   "cell_type": "markdown",
   "metadata": {},
   "source": [
    "## 1.4 Comentarios y errores\n",
    "\n",
    "Es importante documentar los pasos que seguimos dentro de un análisis, parte de esta documentación son los comentarios.\n",
    "\n",
    "Los comentarios son pequeños textos dentro del código que explican lo que este hace. Los comentarios empiezan con #."
   ]
  },
  {
   "cell_type": "code",
   "execution_count": 27,
   "metadata": {
    "tags": []
   },
   "outputs": [
    {
     "data": {
      "text/plain": [
       "'foo'"
      ]
     },
     "execution_count": 27,
     "metadata": {},
     "output_type": "execute_result"
    }
   ],
   "source": [
    "# Importa la funcion unidecode para quitar acentos\n",
    "from unidecode import unidecode\n",
    "a = 'foó' #declara variable\n",
    "unidecode(a) # ejecuta la funcion"
   ]
  },
  {
   "cell_type": "markdown",
   "metadata": {},
   "source": [
    "Cuando python no encuentra un problema puede levantar un warning o error. Un warning es una advertencia, mientras que un error implica que algo fallo. Estos se muestran como celdas rojas.\n",
    "\n",
    "Para leer un error es importante recordar:\n",
    "* La flecha verde indica en que linea se cometio el error\n",
    "* La última linea dice el resumen del error, esta linea es la que se googlea para buscar una solución"
   ]
  },
  {
   "cell_type": "code",
   "execution_count": 28,
   "metadata": {
    "tags": []
   },
   "outputs": [
    {
     "ename": "KeyError",
     "evalue": "3",
     "output_type": "error",
     "traceback": [
      "\u001b[0;31m---------------------------------------------------------------------------\u001b[0m",
      "\u001b[0;31mKeyError\u001b[0m                                  Traceback (most recent call last)",
      "Cell \u001b[0;32mIn[28], line 2\u001b[0m\n\u001b[1;32m      1\u001b[0m a \u001b[38;5;241m=\u001b[39m {\u001b[38;5;124m'\u001b[39m\u001b[38;5;124muno\u001b[39m\u001b[38;5;124m'\u001b[39m:\u001b[38;5;241m1\u001b[39m, \u001b[38;5;124m'\u001b[39m\u001b[38;5;124mdos\u001b[39m\u001b[38;5;124m'\u001b[39m:\u001b[38;5;241m2\u001b[39m, \u001b[38;5;124m'\u001b[39m\u001b[38;5;124mtres\u001b[39m\u001b[38;5;124m'\u001b[39m:\u001b[38;5;241m3\u001b[39m, \u001b[38;5;124m'\u001b[39m\u001b[38;5;124mcuatro\u001b[39m\u001b[38;5;124m'\u001b[39m:\u001b[38;5;241m4\u001b[39m, \u001b[38;5;124m'\u001b[39m\u001b[38;5;124mcinco\u001b[39m\u001b[38;5;124m'\u001b[39m:\u001b[38;5;241m5\u001b[39m}\n\u001b[0;32m----> 2\u001b[0m \u001b[43ma\u001b[49m\u001b[43m[\u001b[49m\u001b[38;5;241;43m3\u001b[39;49m\u001b[43m]\u001b[49m\n",
      "\u001b[0;31mKeyError\u001b[0m: 3"
     ]
    }
   ],
   "source": [
    "a = {'uno':1, 'dos':2, 'tres':3, 'cuatro':4, 'cinco':5}\n",
    "a[3]"
   ]
  },
  {
   "cell_type": "markdown",
   "metadata": {},
   "source": [
    "### Ejercicio 2\n",
    "1. Crea una nueva celda de código\n",
    "2. Crea una lista con cinco elementos y guardala en una variable _b_\n",
    "3. Encuentra el primer, tercer y ultimo elemento\n",
    "4. En una celda nueva escribe una expresión que generé un error\n",
    "5. Reconoce cada uno de los elementos del mensaje de error\n",
    "6. Busca el error en google y explica que sucedió"
   ]
  },
  {
   "cell_type": "markdown",
   "metadata": {},
   "source": [
    "**Gracias!**"
   ]
  }
 ],
 "metadata": {
  "kernelspec": {
   "display_name": "Python 3 (ipykernel)",
   "language": "python",
   "name": "python3"
  },
  "language_info": {
   "codemirror_mode": {
    "name": "ipython",
    "version": 3
   },
   "file_extension": ".py",
   "mimetype": "text/x-python",
   "name": "python",
   "nbconvert_exporter": "python",
   "pygments_lexer": "ipython3",
   "version": "3.10.9"
  }
 },
 "nbformat": 4,
 "nbformat_minor": 4
}
