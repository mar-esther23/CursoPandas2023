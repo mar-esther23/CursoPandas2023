{
 "cells": [
  {
   "cell_type": "markdown",
   "metadata": {
    "tags": []
   },
   "source": [
    "# Análisis y visualización de datos abiertos con python"
   ]
  },
  {
   "cell_type": "code",
   "execution_count": 1,
   "metadata": {
    "tags": []
   },
   "outputs": [
    {
     "data": {
      "text/html": [
       "<div>\n",
       "<style scoped>\n",
       "    .dataframe tbody tr th:only-of-type {\n",
       "        vertical-align: middle;\n",
       "    }\n",
       "\n",
       "    .dataframe tbody tr th {\n",
       "        vertical-align: top;\n",
       "    }\n",
       "\n",
       "    .dataframe thead th {\n",
       "        text-align: right;\n",
       "    }\n",
       "</style>\n",
       "<table border=\"1\" class=\"dataframe\">\n",
       "  <thead>\n",
       "    <tr style=\"text-align: right;\">\n",
       "      <th></th>\n",
       "      <th>Panteón_origen</th>\n",
       "      <th>Estatus_FC</th>\n",
       "      <th>Fecha_inhumación</th>\n",
       "      <th>Fecha_inhumación_diasemana</th>\n",
       "      <th>Fecha_inhumación_semanaaño</th>\n",
       "      <th>Fecha_defunción</th>\n",
       "      <th>Fecha_defunción_diasemana</th>\n",
       "      <th>Fecha_defunción_semanaaño</th>\n",
       "      <th>Restos_tipo</th>\n",
       "      <th>Sexo</th>\n",
       "      <th>Edad</th>\n",
       "      <th>Edad_años</th>\n",
       "      <th>Conocido_Desconocido</th>\n",
       "      <th>Primer_apellido</th>\n",
       "      <th>Segundo_Apellido</th>\n",
       "      <th>Nombres</th>\n",
       "      <th>Nombre_completo</th>\n",
       "      <th>Institución_origen</th>\n",
       "      <th>Tipo_institución_origen</th>\n",
       "    </tr>\n",
       "    <tr>\n",
       "      <th>ID</th>\n",
       "      <th></th>\n",
       "      <th></th>\n",
       "      <th></th>\n",
       "      <th></th>\n",
       "      <th></th>\n",
       "      <th></th>\n",
       "      <th></th>\n",
       "      <th></th>\n",
       "      <th></th>\n",
       "      <th></th>\n",
       "      <th></th>\n",
       "      <th></th>\n",
       "      <th></th>\n",
       "      <th></th>\n",
       "      <th></th>\n",
       "      <th></th>\n",
       "      <th></th>\n",
       "      <th></th>\n",
       "      <th></th>\n",
       "    </tr>\n",
       "  </thead>\n",
       "  <tbody>\n",
       "    <tr>\n",
       "      <th>XX-P996</th>\n",
       "      <td>Panteón Civil de Dolores</td>\n",
       "      <td>Inhumación</td>\n",
       "      <td>2018-09-01</td>\n",
       "      <td>Sábado</td>\n",
       "      <td>35</td>\n",
       "      <td>NaT</td>\n",
       "      <td>NaN</td>\n",
       "      <td>NaN</td>\n",
       "      <td>Cadáver</td>\n",
       "      <td>Masculino</td>\n",
       "      <td>42</td>\n",
       "      <td>42.0</td>\n",
       "      <td>Conocido</td>\n",
       "      <td>Flores</td>\n",
       "      <td>Rosette</td>\n",
       "      <td>Sergio</td>\n",
       "      <td>Sergio Flores Rosette</td>\n",
       "      <td>Universidad Nacional Autonoma De Mexico - Facu...</td>\n",
       "      <td>Escuela pública</td>\n",
       "    </tr>\n",
       "    <tr>\n",
       "      <th>XX-P997</th>\n",
       "      <td>Panteón Civil de Dolores</td>\n",
       "      <td>Inhumación</td>\n",
       "      <td>2018-09-01</td>\n",
       "      <td>Sábado</td>\n",
       "      <td>35</td>\n",
       "      <td>2017-10-27</td>\n",
       "      <td>Viernes</td>\n",
       "      <td>43.0</td>\n",
       "      <td>Cadáver</td>\n",
       "      <td>Masculino</td>\n",
       "      <td>64</td>\n",
       "      <td>64.0</td>\n",
       "      <td>Conocido</td>\n",
       "      <td>Juarez</td>\n",
       "      <td>Chavez</td>\n",
       "      <td>Juan Carlos</td>\n",
       "      <td>Juan Carlos Juarez Chavez</td>\n",
       "      <td>Universidad Nacional Autonoma De Mexico - Facu...</td>\n",
       "      <td>Escuela pública</td>\n",
       "    </tr>\n",
       "    <tr>\n",
       "      <th>XX-P998</th>\n",
       "      <td>Panteón Civil de Dolores</td>\n",
       "      <td>Inhumación</td>\n",
       "      <td>2018-09-01</td>\n",
       "      <td>Sábado</td>\n",
       "      <td>35</td>\n",
       "      <td>2018-08-18</td>\n",
       "      <td>Sábado</td>\n",
       "      <td>33.0</td>\n",
       "      <td>Cadáver</td>\n",
       "      <td>Masculino</td>\n",
       "      <td>NaN</td>\n",
       "      <td>NaN</td>\n",
       "      <td>Desconocido</td>\n",
       "      <td></td>\n",
       "      <td></td>\n",
       "      <td></td>\n",
       "      <td></td>\n",
       "      <td>Instituto De Ciencias Forenses - Tribunal Supe...</td>\n",
       "      <td>Institución judicial</td>\n",
       "    </tr>\n",
       "    <tr>\n",
       "      <th>XX-P999</th>\n",
       "      <td>Panteón Civil de Dolores</td>\n",
       "      <td>Inhumación</td>\n",
       "      <td>2018-09-01</td>\n",
       "      <td>Sábado</td>\n",
       "      <td>35</td>\n",
       "      <td>2018-05-22</td>\n",
       "      <td>Martes</td>\n",
       "      <td>21.0</td>\n",
       "      <td>Cadáver</td>\n",
       "      <td>Femenino</td>\n",
       "      <td>1</td>\n",
       "      <td>1.0</td>\n",
       "      <td>Desconocido</td>\n",
       "      <td></td>\n",
       "      <td></td>\n",
       "      <td></td>\n",
       "      <td></td>\n",
       "      <td>Instituto De Ciencias Forenses - Tribunal Supe...</td>\n",
       "      <td>Institución judicial</td>\n",
       "    </tr>\n",
       "    <tr>\n",
       "      <th>XX-P1000</th>\n",
       "      <td>Panteón Civil de Dolores</td>\n",
       "      <td>Inhumación</td>\n",
       "      <td>2018-09-01</td>\n",
       "      <td>Sábado</td>\n",
       "      <td>35</td>\n",
       "      <td>2018-05-29</td>\n",
       "      <td>Martes</td>\n",
       "      <td>22.0</td>\n",
       "      <td>Cadáver</td>\n",
       "      <td>Masculino</td>\n",
       "      <td>NaN</td>\n",
       "      <td>NaN</td>\n",
       "      <td>Desconocido</td>\n",
       "      <td></td>\n",
       "      <td></td>\n",
       "      <td></td>\n",
       "      <td></td>\n",
       "      <td>Instituto De Ciencias Forenses - Tribunal Supe...</td>\n",
       "      <td>Institución judicial</td>\n",
       "    </tr>\n",
       "  </tbody>\n",
       "</table>\n",
       "</div>"
      ],
      "text/plain": [
       "                    Panteón_origen  Estatus_FC Fecha_inhumación  \\\n",
       "ID                                                                \n",
       "XX-P996   Panteón Civil de Dolores  Inhumación       2018-09-01   \n",
       "XX-P997   Panteón Civil de Dolores  Inhumación       2018-09-01   \n",
       "XX-P998   Panteón Civil de Dolores  Inhumación       2018-09-01   \n",
       "XX-P999   Panteón Civil de Dolores  Inhumación       2018-09-01   \n",
       "XX-P1000  Panteón Civil de Dolores  Inhumación       2018-09-01   \n",
       "\n",
       "         Fecha_inhumación_diasemana  Fecha_inhumación_semanaaño  \\\n",
       "ID                                                                \n",
       "XX-P996                      Sábado                          35   \n",
       "XX-P997                      Sábado                          35   \n",
       "XX-P998                      Sábado                          35   \n",
       "XX-P999                      Sábado                          35   \n",
       "XX-P1000                     Sábado                          35   \n",
       "\n",
       "         Fecha_defunción Fecha_defunción_diasemana  Fecha_defunción_semanaaño  \\\n",
       "ID                                                                              \n",
       "XX-P996              NaT                       NaN                        NaN   \n",
       "XX-P997       2017-10-27                   Viernes                       43.0   \n",
       "XX-P998       2018-08-18                    Sábado                       33.0   \n",
       "XX-P999       2018-05-22                    Martes                       21.0   \n",
       "XX-P1000      2018-05-29                    Martes                       22.0   \n",
       "\n",
       "         Restos_tipo       Sexo Edad  Edad_años Conocido_Desconocido  \\\n",
       "ID                                                                     \n",
       "XX-P996      Cadáver  Masculino   42       42.0             Conocido   \n",
       "XX-P997      Cadáver  Masculino   64       64.0             Conocido   \n",
       "XX-P998      Cadáver  Masculino  NaN        NaN          Desconocido   \n",
       "XX-P999      Cadáver   Femenino    1        1.0          Desconocido   \n",
       "XX-P1000     Cadáver  Masculino  NaN        NaN          Desconocido   \n",
       "\n",
       "         Primer_apellido Segundo_Apellido      Nombres  \\\n",
       "ID                                                       \n",
       "XX-P996           Flores          Rosette       Sergio   \n",
       "XX-P997           Juarez           Chavez  Juan Carlos   \n",
       "XX-P998                                                  \n",
       "XX-P999                                                  \n",
       "XX-P1000                                                 \n",
       "\n",
       "                    Nombre_completo  \\\n",
       "ID                                    \n",
       "XX-P996       Sergio Flores Rosette   \n",
       "XX-P997   Juan Carlos Juarez Chavez   \n",
       "XX-P998                               \n",
       "XX-P999                               \n",
       "XX-P1000                              \n",
       "\n",
       "                                         Institución_origen  \\\n",
       "ID                                                            \n",
       "XX-P996   Universidad Nacional Autonoma De Mexico - Facu...   \n",
       "XX-P997   Universidad Nacional Autonoma De Mexico - Facu...   \n",
       "XX-P998   Instituto De Ciencias Forenses - Tribunal Supe...   \n",
       "XX-P999   Instituto De Ciencias Forenses - Tribunal Supe...   \n",
       "XX-P1000  Instituto De Ciencias Forenses - Tribunal Supe...   \n",
       "\n",
       "         Tipo_institución_origen  \n",
       "ID                                \n",
       "XX-P996          Escuela pública  \n",
       "XX-P997          Escuela pública  \n",
       "XX-P998     Institución judicial  \n",
       "XX-P999     Institución judicial  \n",
       "XX-P1000    Institución judicial  "
      ]
     },
     "execution_count": 1,
     "metadata": {},
     "output_type": "execute_result"
    }
   ],
   "source": [
    "import pandas as pd\n",
    "import matplotlib.pyplot as plt\n",
    "import seaborn as sns\n",
    "from joblib import load\n",
    "\n",
    "in_file = \"data_clean/MFC_ActualizacionNov2022_clean.pkl\"\n",
    "with open(in_file, 'rb') as f:\n",
    "     df = load(f)\n",
    "df.tail()\n"
   ]
  },
  {
   "cell_type": "markdown",
   "metadata": {
    "tags": []
   },
   "source": [
    "# 6 Estadística básica"
   ]
  },
  {
   "cell_type": "markdown",
   "metadata": {
    "tags": []
   },
   "source": [
    "## 6.1 Frecuencia\n",
    "\n",
    "En estadística, la frecuencia de un evento es el número de veces en que dicho evento se repite durante un experimento o muestra estadística.​ Comúnmente, la distribución de la frecuencia suele visualizarse con una tabla de conteo o un histograma.\n",
    "\n",
    "Por ejemplo, para ver la frecuencia de las edades podemos usar la función `.value_counts()` la cual cuenta cuantas veces aparece cada valor. Esta función nos regresa los valores ordenados de más frecuente a menos frecuente. \n",
    "\n",
    "Podemos ordenar esta tabla por las edades, las cuales se encuentran en el indice, para ver las frecuencias de las edades.\n",
    "Sin embargo, esta función no incluye las edades que no aparecen, por ejemplo 2 años."
   ]
  },
  {
   "cell_type": "code",
   "execution_count": 2,
   "metadata": {
    "tags": []
   },
   "outputs": [
    {
     "data": {
      "text/plain": [
       "1.0     1\n",
       "5.0     1\n",
       "6.0     1\n",
       "11.0    2\n",
       "13.0    2\n",
       "       ..\n",
       "93.0    3\n",
       "94.0    2\n",
       "95.0    2\n",
       "96.0    2\n",
       "97.0    1\n",
       "Name: Edad_años, Length: 87, dtype: int64"
      ]
     },
     "execution_count": 2,
     "metadata": {},
     "output_type": "execute_result"
    }
   ],
   "source": [
    "df['Edad_años'].value_counts().sort_index()"
   ]
  },
  {
   "cell_type": "markdown",
   "metadata": {},
   "source": [
    "Una opción si queremos que se cuenten los valores que son cero es usar bins de tamaño uno que vayan de cero a cien.\n",
    "Esto genera \"cajas\" con un formato `(min_value, max_value]`. El parentesis `(` significa que ese valor no se incluye, sino que es el rango menor, el corchete `]` significa que el valor si se incluye y es el rango mayor."
   ]
  },
  {
   "cell_type": "code",
   "execution_count": 3,
   "metadata": {
    "tags": []
   },
   "outputs": [
    {
     "data": {
      "text/plain": [
       "(-0.001, 1.0]    1\n",
       "(1.0, 2.0]       0\n",
       "(2.0, 3.0]       0\n",
       "(3.0, 4.0]       0\n",
       "(4.0, 5.0]       1\n",
       "                ..\n",
       "(91.0, 92.0]     2\n",
       "(92.0, 93.0]     3\n",
       "(93.0, 94.0]     2\n",
       "(94.0, 95.0]     2\n",
       "(95.0, 96.0]     2\n",
       "Name: Edad_años, Length: 96, dtype: int64"
      ]
     },
     "execution_count": 3,
     "metadata": {},
     "output_type": "execute_result"
    }
   ],
   "source": [
    "min_edad = int( df['Edad_años'].min() )\n",
    "max_edad = int( df['Edad_años'].max() )\n",
    "\n",
    "edad_freq = df['Edad_años'].value_counts(bins=range(min_edad-1,max_edad)).sort_index()\n",
    "edad_freq"
   ]
  },
  {
   "cell_type": "markdown",
   "metadata": {},
   "source": [
    "Modifiquemos el indice para que sea más facil de leer."
   ]
  },
  {
   "cell_type": "code",
   "execution_count": 4,
   "metadata": {
    "tags": []
   },
   "outputs": [
    {
     "data": {
      "text/plain": [
       "1     1\n",
       "2     0\n",
       "3     0\n",
       "4     0\n",
       "5     1\n",
       "     ..\n",
       "92    2\n",
       "93    3\n",
       "94    2\n",
       "95    2\n",
       "96    2\n",
       "Name: Edad_años, Length: 96, dtype: int64"
      ]
     },
     "execution_count": 4,
     "metadata": {},
     "output_type": "execute_result"
    }
   ],
   "source": [
    "edad_freq.index = range(min_edad,max_edad)\n",
    "edad_freq"
   ]
  },
  {
   "cell_type": "markdown",
   "metadata": {},
   "source": [
    "Graficando se puede notar varias cosas. \n",
    "Por ejemplo, la edad que se encuentra más veces es 50, tenemos pocos cuerpos de menos de 20 años, además las edades que terminan en cinco son más comunes."
   ]
  },
  {
   "cell_type": "code",
   "execution_count": 5,
   "metadata": {
    "tags": []
   },
   "outputs": [
    {
     "data": {
      "image/png": "[encoded data removed]",
      "text/plain": [
       "<Figure size 640x480 with 1 Axes>"
      ]
     },
     "metadata": {},
     "output_type": "display_data"
    }
   ],
   "source": [
    "edad_freq.plot(style='.-', title=\"Frecuencia de las edades\")\n",
    "plt.show()"
   ]
  },
  {
   "cell_type": "markdown",
   "metadata": {
    "tags": []
   },
   "source": [
    "## 6.2 Promedio, mediana y moda\n",
    "\n",
    "El promedio o media de un conjunto de datos se encuentra al sumar todos los números en el conjunto de datos y luego al dividir entre el número de valores en el conjunto. "
   ]
  },
  {
   "cell_type": "code",
   "execution_count": 6,
   "metadata": {
    "tags": []
   },
   "outputs": [
    {
     "data": {
      "text/plain": [
       "57.6530612244898"
      ]
     },
     "execution_count": 6,
     "metadata": {},
     "output_type": "execute_result"
    }
   ],
   "source": [
    "df['Edad_años'].mean()"
   ]
  },
  {
   "cell_type": "markdown",
   "metadata": {
    "tags": []
   },
   "source": [
    "La mediana es el valor medio cuando un conjunto de datos se ordena de menor a mayor. Se recomienda usar esta medida estadística cuando los datos tienen valores atípicos o outliers, los cuales pueden sesgar el valor del promedio."
   ]
  },
  {
   "cell_type": "code",
   "execution_count": 7,
   "metadata": {
    "tags": []
   },
   "outputs": [
    {
     "data": {
      "text/plain": [
       "60.0"
      ]
     },
     "execution_count": 7,
     "metadata": {},
     "output_type": "execute_result"
    }
   ],
   "source": [
    "df['Edad_años'].median()"
   ]
  },
  {
   "cell_type": "markdown",
   "metadata": {
    "tags": []
   },
   "source": [
    "La moda es el valor más común en el conjunto de datos. Este es el valor que esperariamos encontrar hasta arriba de la función `.value_counts()` ya que su frecuencia es la más alta. Es posible que una misma serie de datos tenga más de una moda cuando la frecuencia de varios valores es la misma."
   ]
  },
  {
   "cell_type": "code",
   "execution_count": 8,
   "metadata": {
    "tags": []
   },
   "outputs": [
    {
     "data": {
      "text/plain": [
       "0    50.0\n",
       "Name: Edad_años, dtype: float64"
      ]
     },
     "execution_count": 8,
     "metadata": {},
     "output_type": "execute_result"
    }
   ],
   "source": [
    "df['Edad_años'].mode()"
   ]
  },
  {
   "cell_type": "markdown",
   "metadata": {},
   "source": [
    "Grafiquemos los tres valores con la frecuencia de las edades."
   ]
  },
  {
   "cell_type": "code",
   "execution_count": 9,
   "metadata": {
    "tags": []
   },
   "outputs": [
    {
     "data": {
      "image/png": "[encoded data removed]",
      "text/plain": [
       "<Figure size 640x480 with 1 Axes>"
      ]
     },
     "metadata": {},
     "output_type": "display_data"
    }
   ],
   "source": [
    "# graficas de las medidas estadísticas\n",
    "plt.axvline(df['Edad_años'].mean(), color=\"red\", label=\"promedio\")\n",
    "plt.axvline(df['Edad_años'].median(), color=\"magenta\", label=\"mediana\")\n",
    "plt.axvline(df['Edad_años'].mode()[0], color=\"green\", label=\"moda\")\n",
    "# grafica de la frecuencia de las edades\n",
    "edad_freq.plot(style='.-', title=\"Frecuencia de las edades\")\n",
    "# Leyenda y mostrar gráfica\n",
    "plt.legend()\n",
    "plt.show()"
   ]
  },
  {
   "cell_type": "markdown",
   "metadata": {
    "tags": []
   },
   "source": [
    "## 6.3 Asimetría\n",
    "\n",
    "\n",
    "\n",
    "El asimetría indica si los datos se concentran en un lado de la curva. Se obtiene usado la funcion .skew().\n",
    "* Una asimetría negativa ($asim<0$) implica que hay más valores distintos a la iquierda del promedio (media). \n",
    "* Una asimetría cero ($asim=0$)  implica que hay la misma cantidad de valores de ambos lados del promedio (media).\n",
    "* Una asimetría positiva ($asim>0$) implica que hay más valores distintos a la derecha del promedio (media). \n",
    "\n",
    "Por ejemplo, viendo las edades podemos notar que hay mas registros de personas de edad avanzada que de niños, por lo que la gráfica tiene un sesgo hacia izquierda. Por lo tanto esperamos que la asimetría sea negativa"
   ]
  },
  {
   "cell_type": "code",
   "execution_count": 10,
   "metadata": {
    "tags": []
   },
   "outputs": [
    {
     "data": {
      "text/plain": [
       "-0.3044617377225089"
      ]
     },
     "execution_count": 10,
     "metadata": {},
     "output_type": "execute_result"
    }
   ],
   "source": [
    "df['Edad_años'].skew()"
   ]
  },
  {
   "cell_type": "markdown",
   "metadata": {},
   "source": [
    "Cuando los datos tienen muchos picos, como es el caso con las edades, puede ayudar verlos con un KDE o histograma."
   ]
  },
  {
   "cell_type": "code",
   "execution_count": 11,
   "metadata": {
    "tags": []
   },
   "outputs": [
    {
     "data": {
      "image/png": "[encoded data removed]",
      "text/plain": [
       "<Figure size 640x480 with 1 Axes>"
      ]
     },
     "metadata": {},
     "output_type": "display_data"
    }
   ],
   "source": [
    "# graficas de las medidas estadísticas\n",
    "plt.axvline(df['Edad_años'].mean(), color=\"red\", label=\"promedio\")\n",
    "# grafica de la frecuencia de las edades\n",
    "df['Edad_años'].plot.hist(title=\"Histograma de las edades\")\n",
    "# Leyenda y mostrar gráfica\n",
    "plt.legend()\n",
    "plt.show()"
   ]
  },
  {
   "cell_type": "markdown",
   "metadata": {},
   "source": [
    "## 6.4 Varianza y desviación estandar\n",
    "\n",
    "La varianza es una medida estadística que representa la dispersión de un conjunto de datos alrededor de su media o valor promedio. La varianza se expresa en unidades al cuadrado, lo que significa que no tiene las mismas unidades que los datos originales. \n",
    "\n",
    "Para obtener una medida más interpretable, se puede tomar la raíz cuadrada de la varianza, lo que resulta en la desviación estándar. La desviación estándar es una medida de dispersión más comúnmente utilizada que la varianza, ya que tiene las mismas unidades que los datos originales y es más fácil de interpretar."
   ]
  },
  {
   "cell_type": "code",
   "execution_count": 12,
   "metadata": {},
   "outputs": [
    {
     "data": {
      "text/plain": [
       "20.469949070794694"
      ]
     },
     "execution_count": 12,
     "metadata": {},
     "output_type": "execute_result"
    }
   ],
   "source": [
    "df['Edad_años'].std()"
   ]
  },
  {
   "cell_type": "markdown",
   "metadata": {},
   "source": [
    "Una desviación estándar alta indica que los datos están más dispersos, mientras que una desviación estándar baja indica que los datos están más agrupados alrededor de la media.\n",
    "\n",
    "Cuando un valor está a más de una desviación estándar de la media, significa que se encuentra en el extremo de la distribución de los datos. En una distribución normal, aproximadamente el 68% de los datos se encuentran dentro de una desviación estándar de la media, mientras que el 32% restante se encuentra fuera de esta zona."
   ]
  },
  {
   "cell_type": "code",
   "execution_count": 13,
   "metadata": {
    "tags": []
   },
   "outputs": [
    {
     "data": {
      "image/png": "[encoded data removed]",
      "text/plain": [
       "<Figure size 640x480 with 1 Axes>"
      ]
     },
     "metadata": {},
     "output_type": "display_data"
    }
   ],
   "source": [
    "# graficas de las medidas estadísticas\n",
    "plt.axvline(df['Edad_años'].mean(), color=\"red\", label=\"promedio\")\n",
    "plt.axvline(df['Edad_años'].mean()+df['Edad_años'].std(), color=\"orange\", label=\"+/- 1 std\")\n",
    "plt.axvline(df['Edad_años'].mean()-df['Edad_años'].std(), color=\"orange\")\n",
    "plt.axvline(df['Edad_años'].mean()+df['Edad_años'].std()*2, color=\"yellow\", label=\"+/- 2 std\")\n",
    "plt.axvline(df['Edad_años'].mean()-df['Edad_años'].std()*2, color=\"yellow\")\n",
    "# grafica de la frecuencia de las edades\n",
    "df['Edad_años'].plot.hist(title=\"Histograma de las edades\")\n",
    "# Leyenda y mostrar gráfica\n",
    "plt.legend()\n",
    "plt.show()"
   ]
  },
  {
   "cell_type": "markdown",
   "metadata": {
    "tags": []
   },
   "source": [
    "## 6.5 Valores atípicos\n",
    "\n",
    "Un valor atípico (en inglés outlier) es una observación que es numéricamente distante del resto de los datos. \n",
    "\n",
    "Una regla comúnmente utilizada para identificar outliers en una distribución normal es la \"regla de las 3 desviaciones estándar\". Según esta regla, cualquier valor que esté a más de 3 desviaciones estándar por encima o por debajo de la media se considera un outlier. Sin embargo, esta regla no siempre es aplicable a otras distribuciones o a situaciones en las que los datos tienen una distribución no normal.\n",
    "\n",
    "\n",
    "\n",
    "Por ejemplo, veamos los años de defunción de los registros del MFC."
   ]
  },
  {
   "cell_type": "code",
   "execution_count": 14,
   "metadata": {
    "tags": []
   },
   "outputs": [
    {
     "data": {
      "text/plain": [
       "2001.0      1\n",
       "2012.0      1\n",
       "2014.0      9\n",
       "2015.0     42\n",
       "2016.0    127\n",
       "2017.0    234\n",
       "2018.0    300\n",
       "2019.0    173\n",
       "Name: Fecha_defunción, dtype: int64"
      ]
     },
     "execution_count": 14,
     "metadata": {},
     "output_type": "execute_result"
    }
   ],
   "source": [
    "df['Fecha_defunción'].dt.year.value_counts().sort_index()"
   ]
  },
  {
   "cell_type": "markdown",
   "metadata": {},
   "source": [
    "En la práctica, es común utilizar técnicas estadísticas más sofisticadas para detectar outliers, como el análisis de boxplots, gráficos de dispersión o métodos basados en modelos estadísticos. En cualquier caso, la detección de outliers debe ser cuidadosa y considerar el contexto del análisis y las posibles causas de la presencia de valores atípicos en los datos.\n",
    "\n",
    "En algunos casos, estos valores pueden ser errores de medición o datos incorrectos. En otros casos, pueden ser valores legítimos que reflejan una situación única o un evento excepcional. En cualquier caso, es importante examinar estos valores con cuidado para determinar su origen y su impacto en los resultados del análisis de los datos."
   ]
  },
  {
   "cell_type": "code",
   "execution_count": 15,
   "metadata": {
    "tags": []
   },
   "outputs": [
    {
     "data": {
      "text/plain": [
       "<AxesSubplot: >"
      ]
     },
     "execution_count": 15,
     "metadata": {},
     "output_type": "execute_result"
    },
    {
     "data": {
      "image/png": "[encoded data removed]",
      "text/plain": [
       "<Figure size 640x480 with 1 Axes>"
      ]
     },
     "metadata": {},
     "output_type": "display_data"
    }
   ],
   "source": [
    "df['Fecha_defunción'].dt.year.plot.box()"
   ]
  },
  {
   "cell_type": "markdown",
   "metadata": {
    "tags": []
   },
   "source": [
    "En el caso de los valores categóricos se puede considerar que los valores atípicos son aquellos que tienen una frecuencia muy baja o muy alta.\n",
    "\n",
    "Este valor se determina dependiendo del tipo de datos, pero generalmente se considera que un valor de baja frecuencia va del 1 al 5% del porcentaje de los datos.  Se recomienda tomar en cuenta los datos faltantes al revisar esto.\n",
    "\n",
    "Por ejemplo veamos la distribución de `Institución_origen`"
   ]
  },
  {
   "cell_type": "code",
   "execution_count": 16,
   "metadata": {
    "tags": []
   },
   "outputs": [
    {
     "data": {
      "text/plain": [
       "Instituto De Ciencias Forenses - Tribunal Superior De Justicia De La Ciudad De Mexico    0.533\n",
       "Universidad Nacional Autonoma De Mexico - Facultad De Medicina                           0.331\n",
       "Instituto Politecnico Nacional - Escuela Nacional De Medicina Y Homeopatia               0.058\n",
       "Centro Cultural Universitario Justo Sierra                                               0.016\n",
       "Universidad Westhill - Facultad De Medicina                                              0.015\n",
       "Universidad Anahuac - Facultad De Ciencias De La Salud                                   0.013\n",
       "The American British Cowdray Medical Center La.P.                                        0.009\n",
       "Secretaria De La Defensa Nacional - Escuela Militar De Medicina                          0.007\n",
       "Universidad Popular Autonoma Del Estado De Puebla                                        0.007\n",
       "Universidad Tominaga Nakamoto S.C. Escuela De Medicina Ciencias Basicas                  0.004\n",
       "Escuela De Medicina Saint Luke                                                           0.004\n",
       "Procuraduria General De La Republica                                                     0.002\n",
       "Institucion De Asistencia Privada - Escuela Libre De Homeopatia De Mexico                0.001\n",
       "Name: Institución_origen, dtype: float64"
      ]
     },
     "execution_count": 16,
     "metadata": {},
     "output_type": "execute_result"
    }
   ],
   "source": [
    "df['Institución_origen'].value_counts(dropna=False, normalize=True)"
   ]
  },
  {
   "cell_type": "markdown",
   "metadata": {},
   "source": [
    "En general, para detectar valores atípicos en variables categóricas es necesario tener un conocimiento profundo del contexto del análisis y de las posibles causas de la presencia de valores atípicos en los datos. También es importante utilizar varias técnicas de detección de outliers y comparar los resultados para tener una mayor confianza en las conclusiones."
   ]
  },
  {
   "cell_type": "markdown",
   "metadata": {
    "tags": []
   },
   "source": [
    "## 6.6 Distribuciones estadísticas\n",
    "\n",
    "La distribución de un conjunto de datos es la forma en que los datos se agrupan y se distribuyen a lo largo de un rango de valores. La distribución puede ser simétrica o asimétrica, y puede tener una o varias modas o picos.\n",
    "\n",
    "Algunas distribuciones comunes incluyen la distribución normal, la distribución uniforme, la distribución de Poisson y la distribución exponencial. Cada una de estas distribuciones tiene una forma característica y se utiliza para modelar diferentes tipos de datos.\n",
    "\n",
    "Es importante comprender la distribución de los datos porque puede afectar cómo se analizan y se interpretan. Por ejemplo, si los datos se distribuyen normalmente, se pueden utilizar pruebas estadísticas específicas para analizarlos, mientras que si los datos tienen una distribución asimétrica, puede ser necesario utilizar diferentes técnicas de análisis.\n",
    "\n",
    "Las distribuciones uniforme, normal, exponencial y Poisson son algunos de los tipos más comunes de distribuciones de probabilidad en estadística.\n",
    "\n",
    "**Distribución uniforme**: Es una distribución de probabilidad en la que todos los valores posibles tienen la misma probabilidad de ocurrir. Es decir, la probabilidad de que un valor se encuentre en cualquier intervalo de la distribución es proporcional al tamaño del intervalo. Por ejemplo, si se lanza un dado justo, la probabilidad de obtener cualquier número del 1 al 6 es igual.  \n",
    "![Distribución uniforme](images/320px-Uniform_distribution_PDF.png)\n",
    "\n",
    "**Distribución normal**: También conocida como distribución Gaussiana, es una distribución de probabilidad en la que los valores se agrupan alrededor de la media y tienen una forma de campana simétrica. Muchas variables en la naturaleza, como la altura o el peso, siguen una distribución normal. En esta distribución, la media y la desviación estándar son los parámetros principales que describen la distribución.  \n",
    "![Distribución normal](images/320px-Normal_distribution_pdf.png)\n",
    "\n",
    "**Distribución exponencial**: Es una distribución de probabilidad que se utiliza para modelar el tiempo que transcurre entre eventos sucesivos e independientes. Por ejemplo, el tiempo que transcurre entre dos terremotos o el tiempo que transcurre entre dos llamadas telefónicas. En esta distribución, el parámetro principal es la tasa de eventos, que es el número promedio de eventos que ocurren por unidad de tiempo.  \n",
    "![Distribución exponencial](images/300px-Exponential_pdf.svg.png)\n",
    "\n",
    "**Distribución Poisson**: Es una distribución de probabilidad que se utiliza para modelar el número de eventos raros que ocurren en un intervalo de tiempo o espacio determinado. Por ejemplo, el número de llamadas de emergencia que recibe una central telefónica en una hora o el número de accidentes de tráfico que ocurren en una intersección durante un mes. En esta distribución, el parámetro principal es la tasa de eventos, que es el número promedio de eventos que ocurren en un intervalo de tiempo o espacio determinado.  \n",
    "![Distribución poisson](images/Poisson_pmf.svg.png)\n",
    "\n",
    "Cada una de estas distribuciones de probabilidad se utiliza para modelar diferentes tipos de datos y situaciones en estadística y tienen sus propias propiedades y características."
   ]
  },
  {
   "cell_type": "markdown",
   "metadata": {},
   "source": [
    "# 7 Data Wrangling\n",
    "\n",
    "## 7.1 Tablas pivote\n",
    "Una tabla pivote (o tabla dinámica) es una herramienta que se utiliza en hojas de cálculo y programas de análisis de datos para resumir grandes cantidades de información en un formato más fácil de entender y analizar.\n",
    "En una tabla pivote, se puede tomar un conjunto de datos y resumirlos en una tabla que muestre las relaciones entre diferentes variables. La tabla pivote permite crear informes de resumen y análisis de datos dinámicos que se pueden actualizar fácilmente en función de los cambios en los datos subyacentes.\n",
    "\n",
    "La tabla pivote se puede utilizar para realizar diferentes operaciones, como la suma, el promedio, el conteo, el máximo y el mínimo, en los datos de origen. También se pueden aplicar filtros y ordenar los datos en función de las necesidades del usuario. La tabla pivote es especialmente útil para analizar grandes cantidades de datos y para visualizar tendencias y patrones.\n",
    "\n",
    "La función `.pivot_table()` se utiliza para crear tablas pivotes en un DataFrame, y permite agregar y resumir datos según uno o varios campos (o columnas) de interés. Esta función toma los siguientes parámetros:\n",
    "\n",
    "* values: es la columna o columna(s) que se quieren resumir\n",
    "* index: es la columna(s) que se utilizan como índice (filas) en la nueva tabla\n",
    "* columns: es la columna(s) que se utilizan como columnas en la nueva tabla\n",
    "* aggfunc: es la función de agregación que se desea aplicar a los valores en la tabla pivote. Por defecto es la función de agregación mean (promedio).\n",
    "* fill_value: es el valor que se utiliza para rellenar los valores faltantes (NaN) en la tabla pivote.\n",
    "* dropna: ignorar o no los valores faltantes\n",
    "\n",
    "Por ejemplo, calculemos el promedio de las edades para el tipos de restos y el sexo\n",
    "\n",
    "**Nota**: Si no especificamos el parametro `values` se aplicará la funcion de agregación `aggfunc` a todas las columnas de la tabla. "
   ]
  },
  {
   "cell_type": "code",
   "execution_count": 17,
   "metadata": {
    "tags": []
   },
   "outputs": [
    {
     "data": {
      "text/html": [
       "<div>\n",
       "<style scoped>\n",
       "    .dataframe tbody tr th:only-of-type {\n",
       "        vertical-align: middle;\n",
       "    }\n",
       "\n",
       "    .dataframe tbody tr th {\n",
       "        vertical-align: top;\n",
       "    }\n",
       "\n",
       "    .dataframe thead th {\n",
       "        text-align: right;\n",
       "    }\n",
       "</style>\n",
       "<table border=\"1\" class=\"dataframe\">\n",
       "  <thead>\n",
       "    <tr style=\"text-align: right;\">\n",
       "      <th>Sexo</th>\n",
       "      <th>Femenino</th>\n",
       "      <th>Masculino</th>\n",
       "    </tr>\n",
       "    <tr>\n",
       "      <th>Restos_tipo</th>\n",
       "      <th></th>\n",
       "      <th></th>\n",
       "    </tr>\n",
       "  </thead>\n",
       "  <tbody>\n",
       "    <tr>\n",
       "      <th>Cadáver</th>\n",
       "      <td>61.027778</td>\n",
       "      <td>54.836449</td>\n",
       "    </tr>\n",
       "    <tr>\n",
       "      <th>Restos humanos</th>\n",
       "      <td>19.200000</td>\n",
       "      <td>31.000000</td>\n",
       "    </tr>\n",
       "    <tr>\n",
       "      <th>Restos cremados</th>\n",
       "      <td>68.140351</td>\n",
       "      <td>68.376712</td>\n",
       "    </tr>\n",
       "    <tr>\n",
       "      <th>Miembros</th>\n",
       "      <td>55.666667</td>\n",
       "      <td>36.537037</td>\n",
       "    </tr>\n",
       "  </tbody>\n",
       "</table>\n",
       "</div>"
      ],
      "text/plain": [
       "Sexo              Femenino  Masculino\n",
       "Restos_tipo                          \n",
       "Cadáver          61.027778  54.836449\n",
       "Restos humanos   19.200000  31.000000\n",
       "Restos cremados  68.140351  68.376712\n",
       "Miembros         55.666667  36.537037"
      ]
     },
     "execution_count": 17,
     "metadata": {},
     "output_type": "execute_result"
    }
   ],
   "source": [
    "pd.pivot_table(df, index='Restos_tipo', columns='Sexo', values='Edad_años', aggfunc='mean')"
   ]
  },
  {
   "cell_type": "markdown",
   "metadata": {},
   "source": [
    "\n",
    "Si se quiere calcular una tabla pivote para una variable derivada de los datos es necesario generarla y agregarla a la tabla. Por ejemplo, supongamos que queremos calcular el número de inhumanciones por año y tipo de restos. En ese caso es necesario usar generar una nueva variable \"Fecha_inhumacion_año\" y calcular el tamaño de cada grupo con `size`.\n",
    "\n",
    "**Nota**: La función  `count` es muy similar pero no incluye los `nan`, por lo que los valores pueden variar."
   ]
  },
  {
   "cell_type": "code",
   "execution_count": 18,
   "metadata": {
    "tags": []
   },
   "outputs": [],
   "source": [
    "df['Fecha_inhumacion_año'] = df['Fecha_inhumación'].dt.year"
   ]
  },
  {
   "cell_type": "code",
   "execution_count": 19,
   "metadata": {
    "tags": []
   },
   "outputs": [
    {
     "data": {
      "text/html": [
       "<div>\n",
       "<style scoped>\n",
       "    .dataframe tbody tr th:only-of-type {\n",
       "        vertical-align: middle;\n",
       "    }\n",
       "\n",
       "    .dataframe tbody tr th {\n",
       "        vertical-align: top;\n",
       "    }\n",
       "\n",
       "    .dataframe thead th {\n",
       "        text-align: right;\n",
       "    }\n",
       "</style>\n",
       "<table border=\"1\" class=\"dataframe\">\n",
       "  <thead>\n",
       "    <tr style=\"text-align: right;\">\n",
       "      <th>Fecha_inhumacion_año</th>\n",
       "      <th>2017</th>\n",
       "      <th>2018</th>\n",
       "      <th>2019</th>\n",
       "      <th>2020</th>\n",
       "    </tr>\n",
       "    <tr>\n",
       "      <th>Restos_tipo</th>\n",
       "      <th></th>\n",
       "      <th></th>\n",
       "      <th></th>\n",
       "      <th></th>\n",
       "    </tr>\n",
       "  </thead>\n",
       "  <tbody>\n",
       "    <tr>\n",
       "      <th>Cadáver</th>\n",
       "      <td>160</td>\n",
       "      <td>191</td>\n",
       "      <td>294</td>\n",
       "      <td>1</td>\n",
       "    </tr>\n",
       "    <tr>\n",
       "      <th>Restos humanos</th>\n",
       "      <td>11</td>\n",
       "      <td>4</td>\n",
       "      <td>5</td>\n",
       "      <td>0</td>\n",
       "    </tr>\n",
       "    <tr>\n",
       "      <th>Restos cremados</th>\n",
       "      <td>0</td>\n",
       "      <td>100</td>\n",
       "      <td>117</td>\n",
       "      <td>0</td>\n",
       "    </tr>\n",
       "    <tr>\n",
       "      <th>Restos óseos</th>\n",
       "      <td>1</td>\n",
       "      <td>0</td>\n",
       "      <td>0</td>\n",
       "      <td>0</td>\n",
       "    </tr>\n",
       "    <tr>\n",
       "      <th>Feto</th>\n",
       "      <td>2</td>\n",
       "      <td>16</td>\n",
       "      <td>22</td>\n",
       "      <td>0</td>\n",
       "    </tr>\n",
       "    <tr>\n",
       "      <th>Miembros</th>\n",
       "      <td>28</td>\n",
       "      <td>24</td>\n",
       "      <td>24</td>\n",
       "      <td>0</td>\n",
       "    </tr>\n",
       "  </tbody>\n",
       "</table>\n",
       "</div>"
      ],
      "text/plain": [
       "Fecha_inhumacion_año  2017  2018  2019  2020\n",
       "Restos_tipo                                 \n",
       "Cadáver                160   191   294     1\n",
       "Restos humanos          11     4     5     0\n",
       "Restos cremados          0   100   117     0\n",
       "Restos óseos             1     0     0     0\n",
       "Feto                     2    16    22     0\n",
       "Miembros                28    24    24     0"
      ]
     },
     "execution_count": 19,
     "metadata": {},
     "output_type": "execute_result"
    }
   ],
   "source": [
    "pd.pivot_table(df, index='Restos_tipo', columns='Fecha_inhumacion_año',\n",
    "               aggfunc='size')"
   ]
  },
  {
   "cell_type": "markdown",
   "metadata": {},
   "source": [
    "Podemos usar varias columnas cualquiera de los ejes de la tabla pivote."
   ]
  },
  {
   "cell_type": "code",
   "execution_count": 20,
   "metadata": {
    "tags": []
   },
   "outputs": [
    {
     "data": {
      "text/html": [
       "<div>\n",
       "<style scoped>\n",
       "    .dataframe tbody tr th:only-of-type {\n",
       "        vertical-align: middle;\n",
       "    }\n",
       "\n",
       "    .dataframe tbody tr th {\n",
       "        vertical-align: top;\n",
       "    }\n",
       "\n",
       "    .dataframe thead th {\n",
       "        text-align: right;\n",
       "    }\n",
       "</style>\n",
       "<table border=\"1\" class=\"dataframe\">\n",
       "  <thead>\n",
       "    <tr style=\"text-align: right;\">\n",
       "      <th></th>\n",
       "      <th>Fecha_inhumacion_año</th>\n",
       "      <th>2017</th>\n",
       "      <th>2018</th>\n",
       "      <th>2019</th>\n",
       "      <th>2020</th>\n",
       "    </tr>\n",
       "    <tr>\n",
       "      <th>Sexo</th>\n",
       "      <th>Restos_tipo</th>\n",
       "      <th></th>\n",
       "      <th></th>\n",
       "      <th></th>\n",
       "      <th></th>\n",
       "    </tr>\n",
       "  </thead>\n",
       "  <tbody>\n",
       "    <tr>\n",
       "      <th rowspan=\"6\" valign=\"top\">Femenino</th>\n",
       "      <th>Cadáver</th>\n",
       "      <td>20</td>\n",
       "      <td>29</td>\n",
       "      <td>30</td>\n",
       "      <td>1</td>\n",
       "    </tr>\n",
       "    <tr>\n",
       "      <th>Restos humanos</th>\n",
       "      <td>2</td>\n",
       "      <td>0</td>\n",
       "      <td>4</td>\n",
       "      <td>0</td>\n",
       "    </tr>\n",
       "    <tr>\n",
       "      <th>Restos cremados</th>\n",
       "      <td>0</td>\n",
       "      <td>25</td>\n",
       "      <td>35</td>\n",
       "      <td>0</td>\n",
       "    </tr>\n",
       "    <tr>\n",
       "      <th>Restos óseos</th>\n",
       "      <td>0</td>\n",
       "      <td>0</td>\n",
       "      <td>0</td>\n",
       "      <td>0</td>\n",
       "    </tr>\n",
       "    <tr>\n",
       "      <th>Feto</th>\n",
       "      <td>0</td>\n",
       "      <td>7</td>\n",
       "      <td>1</td>\n",
       "      <td>0</td>\n",
       "    </tr>\n",
       "    <tr>\n",
       "      <th>Miembros</th>\n",
       "      <td>4</td>\n",
       "      <td>4</td>\n",
       "      <td>7</td>\n",
       "      <td>0</td>\n",
       "    </tr>\n",
       "    <tr>\n",
       "      <th rowspan=\"6\" valign=\"top\">Indeterminado</th>\n",
       "      <th>Cadáver</th>\n",
       "      <td>0</td>\n",
       "      <td>0</td>\n",
       "      <td>1</td>\n",
       "      <td>0</td>\n",
       "    </tr>\n",
       "    <tr>\n",
       "      <th>Restos humanos</th>\n",
       "      <td>0</td>\n",
       "      <td>1</td>\n",
       "      <td>1</td>\n",
       "      <td>0</td>\n",
       "    </tr>\n",
       "    <tr>\n",
       "      <th>Restos cremados</th>\n",
       "      <td>0</td>\n",
       "      <td>0</td>\n",
       "      <td>0</td>\n",
       "      <td>0</td>\n",
       "    </tr>\n",
       "    <tr>\n",
       "      <th>Restos óseos</th>\n",
       "      <td>1</td>\n",
       "      <td>0</td>\n",
       "      <td>0</td>\n",
       "      <td>0</td>\n",
       "    </tr>\n",
       "    <tr>\n",
       "      <th>Feto</th>\n",
       "      <td>1</td>\n",
       "      <td>1</td>\n",
       "      <td>4</td>\n",
       "      <td>0</td>\n",
       "    </tr>\n",
       "    <tr>\n",
       "      <th>Miembros</th>\n",
       "      <td>1</td>\n",
       "      <td>1</td>\n",
       "      <td>1</td>\n",
       "      <td>0</td>\n",
       "    </tr>\n",
       "    <tr>\n",
       "      <th rowspan=\"6\" valign=\"top\">Masculino</th>\n",
       "      <th>Cadáver</th>\n",
       "      <td>140</td>\n",
       "      <td>162</td>\n",
       "      <td>263</td>\n",
       "      <td>0</td>\n",
       "    </tr>\n",
       "    <tr>\n",
       "      <th>Restos humanos</th>\n",
       "      <td>9</td>\n",
       "      <td>3</td>\n",
       "      <td>0</td>\n",
       "      <td>0</td>\n",
       "    </tr>\n",
       "    <tr>\n",
       "      <th>Restos cremados</th>\n",
       "      <td>0</td>\n",
       "      <td>75</td>\n",
       "      <td>82</td>\n",
       "      <td>0</td>\n",
       "    </tr>\n",
       "    <tr>\n",
       "      <th>Restos óseos</th>\n",
       "      <td>0</td>\n",
       "      <td>0</td>\n",
       "      <td>0</td>\n",
       "      <td>0</td>\n",
       "    </tr>\n",
       "    <tr>\n",
       "      <th>Feto</th>\n",
       "      <td>1</td>\n",
       "      <td>8</td>\n",
       "      <td>17</td>\n",
       "      <td>0</td>\n",
       "    </tr>\n",
       "    <tr>\n",
       "      <th>Miembros</th>\n",
       "      <td>23</td>\n",
       "      <td>19</td>\n",
       "      <td>16</td>\n",
       "      <td>0</td>\n",
       "    </tr>\n",
       "  </tbody>\n",
       "</table>\n",
       "</div>"
      ],
      "text/plain": [
       "Fecha_inhumacion_año           2017  2018  2019  2020\n",
       "Sexo          Restos_tipo                            \n",
       "Femenino      Cadáver            20    29    30     1\n",
       "              Restos humanos      2     0     4     0\n",
       "              Restos cremados     0    25    35     0\n",
       "              Restos óseos        0     0     0     0\n",
       "              Feto                0     7     1     0\n",
       "              Miembros            4     4     7     0\n",
       "Indeterminado Cadáver             0     0     1     0\n",
       "              Restos humanos      0     1     1     0\n",
       "              Restos cremados     0     0     0     0\n",
       "              Restos óseos        1     0     0     0\n",
       "              Feto                1     1     4     0\n",
       "              Miembros            1     1     1     0\n",
       "Masculino     Cadáver           140   162   263     0\n",
       "              Restos humanos      9     3     0     0\n",
       "              Restos cremados     0    75    82     0\n",
       "              Restos óseos        0     0     0     0\n",
       "              Feto                1     8    17     0\n",
       "              Miembros           23    19    16     0"
      ]
     },
     "execution_count": 20,
     "metadata": {},
     "output_type": "execute_result"
    }
   ],
   "source": [
    "pd.pivot_table(df, index=['Sexo','Restos_tipo'],\n",
    "               columns=['Fecha_inhumacion_año'], \n",
    "               aggfunc='size')"
   ]
  },
  {
   "cell_type": "markdown",
   "metadata": {},
   "source": [
    "Es posible utilizar otras funciones, por ejemplo usemos `pd.Series.mode` para regresar el valor más común."
   ]
  },
  {
   "cell_type": "code",
   "execution_count": 21,
   "metadata": {
    "tags": []
   },
   "outputs": [
    {
     "data": {
      "text/html": [
       "<div>\n",
       "<style scoped>\n",
       "    .dataframe tbody tr th:only-of-type {\n",
       "        vertical-align: middle;\n",
       "    }\n",
       "\n",
       "    .dataframe tbody tr th {\n",
       "        vertical-align: top;\n",
       "    }\n",
       "\n",
       "    .dataframe thead th {\n",
       "        text-align: right;\n",
       "    }\n",
       "</style>\n",
       "<table border=\"1\" class=\"dataframe\">\n",
       "  <thead>\n",
       "    <tr style=\"text-align: right;\">\n",
       "      <th>Fecha_inhumacion_año</th>\n",
       "      <th>2017</th>\n",
       "      <th>2018</th>\n",
       "      <th>2019</th>\n",
       "      <th>2020</th>\n",
       "    </tr>\n",
       "    <tr>\n",
       "      <th>Restos_tipo</th>\n",
       "      <th></th>\n",
       "      <th></th>\n",
       "      <th></th>\n",
       "      <th></th>\n",
       "    </tr>\n",
       "  </thead>\n",
       "  <tbody>\n",
       "    <tr>\n",
       "      <th>Cadáver</th>\n",
       "      <td>Institución judicial</td>\n",
       "      <td>Institución judicial</td>\n",
       "      <td>Institución judicial</td>\n",
       "      <td>Institución judicial</td>\n",
       "    </tr>\n",
       "    <tr>\n",
       "      <th>Restos humanos</th>\n",
       "      <td>Institución judicial</td>\n",
       "      <td>Institución judicial</td>\n",
       "      <td>Institución judicial</td>\n",
       "      <td>NaN</td>\n",
       "    </tr>\n",
       "    <tr>\n",
       "      <th>Restos cremados</th>\n",
       "      <td>NaN</td>\n",
       "      <td>Escuela pública</td>\n",
       "      <td>Escuela pública</td>\n",
       "      <td>NaN</td>\n",
       "    </tr>\n",
       "    <tr>\n",
       "      <th>Restos óseos</th>\n",
       "      <td>Institución judicial</td>\n",
       "      <td>NaN</td>\n",
       "      <td>NaN</td>\n",
       "      <td>NaN</td>\n",
       "    </tr>\n",
       "    <tr>\n",
       "      <th>Feto</th>\n",
       "      <td>Institución judicial</td>\n",
       "      <td>Institución judicial</td>\n",
       "      <td>Institución judicial</td>\n",
       "      <td>NaN</td>\n",
       "    </tr>\n",
       "    <tr>\n",
       "      <th>Miembros</th>\n",
       "      <td>Institución judicial</td>\n",
       "      <td>Institución judicial</td>\n",
       "      <td>Institución judicial</td>\n",
       "      <td>NaN</td>\n",
       "    </tr>\n",
       "  </tbody>\n",
       "</table>\n",
       "</div>"
      ],
      "text/plain": [
       "Fecha_inhumacion_año                  2017                  2018  \\\n",
       "Restos_tipo                                                        \n",
       "Cadáver               Institución judicial  Institución judicial   \n",
       "Restos humanos        Institución judicial  Institución judicial   \n",
       "Restos cremados                        NaN       Escuela pública   \n",
       "Restos óseos          Institución judicial                   NaN   \n",
       "Feto                  Institución judicial  Institución judicial   \n",
       "Miembros              Institución judicial  Institución judicial   \n",
       "\n",
       "Fecha_inhumacion_año                  2019                  2020  \n",
       "Restos_tipo                                                       \n",
       "Cadáver               Institución judicial  Institución judicial  \n",
       "Restos humanos        Institución judicial                   NaN  \n",
       "Restos cremados            Escuela pública                   NaN  \n",
       "Restos óseos                           NaN                   NaN  \n",
       "Feto                  Institución judicial                   NaN  \n",
       "Miembros              Institución judicial                   NaN  "
      ]
     },
     "execution_count": 21,
     "metadata": {},
     "output_type": "execute_result"
    }
   ],
   "source": [
    "pd.pivot_table(df, values='Tipo_institución_origen', \n",
    "               index='Restos_tipo', columns='Fecha_inhumacion_año', \n",
    "               aggfunc=pd.Series.mode, dropna=False)"
   ]
  },
  {
   "cell_type": "markdown",
   "metadata": {
    "tags": []
   },
   "source": [
    "También se pueden definir funciones propias para procesar los datos."
   ]
  },
  {
   "cell_type": "code",
   "execution_count": 22,
   "metadata": {
    "tags": []
   },
   "outputs": [
    {
     "data": {
      "text/html": [
       "<div>\n",
       "<style scoped>\n",
       "    .dataframe tbody tr th:only-of-type {\n",
       "        vertical-align: middle;\n",
       "    }\n",
       "\n",
       "    .dataframe tbody tr th {\n",
       "        vertical-align: top;\n",
       "    }\n",
       "\n",
       "    .dataframe thead th {\n",
       "        text-align: right;\n",
       "    }\n",
       "</style>\n",
       "<table border=\"1\" class=\"dataframe\">\n",
       "  <thead>\n",
       "    <tr style=\"text-align: right;\">\n",
       "      <th>Fecha_inhumacion_año</th>\n",
       "      <th>2017</th>\n",
       "      <th>2018</th>\n",
       "      <th>2019</th>\n",
       "      <th>2020</th>\n",
       "    </tr>\n",
       "    <tr>\n",
       "      <th>Restos_tipo</th>\n",
       "      <th></th>\n",
       "      <th></th>\n",
       "      <th></th>\n",
       "      <th></th>\n",
       "    </tr>\n",
       "  </thead>\n",
       "  <tbody>\n",
       "    <tr>\n",
       "      <th>Cadáver</th>\n",
       "      <td>Jueves, Viernes, Sábado</td>\n",
       "      <td>Martes, Miercoles, Jueves, Viernes, Sábado, Do...</td>\n",
       "      <td>Lunes, Martes, Miercoles, Jueves, Sábado</td>\n",
       "      <td>Lunes</td>\n",
       "    </tr>\n",
       "    <tr>\n",
       "      <th>Restos humanos</th>\n",
       "      <td>Sábado</td>\n",
       "      <td>Sábado</td>\n",
       "      <td>Miercoles, Sábado</td>\n",
       "      <td>NaN</td>\n",
       "    </tr>\n",
       "    <tr>\n",
       "      <th>Restos cremados</th>\n",
       "      <td>NaN</td>\n",
       "      <td>Sábado</td>\n",
       "      <td>Miercoles, Sábado</td>\n",
       "      <td>NaN</td>\n",
       "    </tr>\n",
       "    <tr>\n",
       "      <th>Restos óseos</th>\n",
       "      <td>Miercoles</td>\n",
       "      <td>NaN</td>\n",
       "      <td>NaN</td>\n",
       "      <td>NaN</td>\n",
       "    </tr>\n",
       "    <tr>\n",
       "      <th>Feto</th>\n",
       "      <td>Sábado</td>\n",
       "      <td>Sábado</td>\n",
       "      <td>Sábado</td>\n",
       "      <td>NaN</td>\n",
       "    </tr>\n",
       "    <tr>\n",
       "      <th>Miembros</th>\n",
       "      <td>Martes, Miercoles, Viernes, Sábado</td>\n",
       "      <td>Sábado</td>\n",
       "      <td>Sábado</td>\n",
       "      <td>NaN</td>\n",
       "    </tr>\n",
       "  </tbody>\n",
       "</table>\n",
       "</div>"
      ],
      "text/plain": [
       "Fecha_inhumacion_año                                2017  \\\n",
       "Restos_tipo                                                \n",
       "Cadáver                          Jueves, Viernes, Sábado   \n",
       "Restos humanos                                    Sábado   \n",
       "Restos cremados                                      NaN   \n",
       "Restos óseos                                   Miercoles   \n",
       "Feto                                              Sábado   \n",
       "Miembros              Martes, Miercoles, Viernes, Sábado   \n",
       "\n",
       "Fecha_inhumacion_año                                               2018  \\\n",
       "Restos_tipo                                                               \n",
       "Cadáver               Martes, Miercoles, Jueves, Viernes, Sábado, Do...   \n",
       "Restos humanos                                                   Sábado   \n",
       "Restos cremados                                                  Sábado   \n",
       "Restos óseos                                                        NaN   \n",
       "Feto                                                             Sábado   \n",
       "Miembros                                                         Sábado   \n",
       "\n",
       "Fecha_inhumacion_año                                      2019   2020  \n",
       "Restos_tipo                                                            \n",
       "Cadáver               Lunes, Martes, Miercoles, Jueves, Sábado  Lunes  \n",
       "Restos humanos                               Miercoles, Sábado    NaN  \n",
       "Restos cremados                              Miercoles, Sábado    NaN  \n",
       "Restos óseos                                               NaN    NaN  \n",
       "Feto                                                    Sábado    NaN  \n",
       "Miembros                                                Sábado    NaN  "
      ]
     },
     "execution_count": 22,
     "metadata": {},
     "output_type": "execute_result"
    }
   ],
   "source": [
    "def unir_textos_unicos_en_serie(series):\n",
    "    textos = series.unique().sort_values()\n",
    "    textos = ', '.join(textos)\n",
    "    return textos\n",
    "\n",
    "pd.pivot_table(df, values='Fecha_inhumación_diasemana', \n",
    "               index='Restos_tipo', columns='Fecha_inhumacion_año', \n",
    "               aggfunc=unir_textos_unicos_en_serie, dropna=False)"
   ]
  },
  {
   "cell_type": "markdown",
   "metadata": {},
   "source": [
    "## 7.2 Melt\n",
    "\n",
    "La función `.melt()` sirve para transformar y reorganizar un conjunto de datos en formato \"ancho\" en un formato \"largo\". La transformación implica tomar columnas de datos y reorganizarlas en filas.\n",
    "La función permite especificar qué columnas de un DataFrame deben mantenerse como identificadores y cuáles deben transformarse en variables. También permite renombrar las columnas resultantes para facilitar el análisis de los datos.\n",
    "\n",
    "Por ejemplo, veamos la siguiente tabla pivote."
   ]
  },
  {
   "cell_type": "code",
   "execution_count": 23,
   "metadata": {
    "tags": []
   },
   "outputs": [
    {
     "data": {
      "text/html": [
       "<div>\n",
       "<style scoped>\n",
       "    .dataframe tbody tr th:only-of-type {\n",
       "        vertical-align: middle;\n",
       "    }\n",
       "\n",
       "    .dataframe tbody tr th {\n",
       "        vertical-align: top;\n",
       "    }\n",
       "\n",
       "    .dataframe thead th {\n",
       "        text-align: right;\n",
       "    }\n",
       "</style>\n",
       "<table border=\"1\" class=\"dataframe\">\n",
       "  <thead>\n",
       "    <tr style=\"text-align: right;\">\n",
       "      <th>Sexo</th>\n",
       "      <th>Femenino</th>\n",
       "      <th>Masculino</th>\n",
       "    </tr>\n",
       "    <tr>\n",
       "      <th>Restos_tipo</th>\n",
       "      <th></th>\n",
       "      <th></th>\n",
       "    </tr>\n",
       "  </thead>\n",
       "  <tbody>\n",
       "    <tr>\n",
       "      <th>Cadáver</th>\n",
       "      <td>61.027778</td>\n",
       "      <td>54.836449</td>\n",
       "    </tr>\n",
       "    <tr>\n",
       "      <th>Restos humanos</th>\n",
       "      <td>19.200000</td>\n",
       "      <td>31.000000</td>\n",
       "    </tr>\n",
       "    <tr>\n",
       "      <th>Restos cremados</th>\n",
       "      <td>68.140351</td>\n",
       "      <td>68.376712</td>\n",
       "    </tr>\n",
       "    <tr>\n",
       "      <th>Miembros</th>\n",
       "      <td>55.666667</td>\n",
       "      <td>36.537037</td>\n",
       "    </tr>\n",
       "  </tbody>\n",
       "</table>\n",
       "</div>"
      ],
      "text/plain": [
       "Sexo              Femenino  Masculino\n",
       "Restos_tipo                          \n",
       "Cadáver          61.027778  54.836449\n",
       "Restos humanos   19.200000  31.000000\n",
       "Restos cremados  68.140351  68.376712\n",
       "Miembros         55.666667  36.537037"
      ]
     },
     "execution_count": 23,
     "metadata": {},
     "output_type": "execute_result"
    }
   ],
   "source": [
    "df_edad_promedio = pd.pivot_table(df, values='Edad_años', \n",
    "                                  index='Restos_tipo', columns='Sexo')\n",
    "df_edad_promedio"
   ]
  },
  {
   "cell_type": "markdown",
   "metadata": {},
   "source": [
    "Supongamos que queremos transformarla a formato de tidy data, en ese caso cada observación debería de estar en una fila.\n",
    "\n",
    "El primer paso es volver el indice en una columna de valores."
   ]
  },
  {
   "cell_type": "code",
   "execution_count": 24,
   "metadata": {
    "tags": []
   },
   "outputs": [
    {
     "data": {
      "text/html": [
       "<div>\n",
       "<style scoped>\n",
       "    .dataframe tbody tr th:only-of-type {\n",
       "        vertical-align: middle;\n",
       "    }\n",
       "\n",
       "    .dataframe tbody tr th {\n",
       "        vertical-align: top;\n",
       "    }\n",
       "\n",
       "    .dataframe thead th {\n",
       "        text-align: right;\n",
       "    }\n",
       "</style>\n",
       "<table border=\"1\" class=\"dataframe\">\n",
       "  <thead>\n",
       "    <tr style=\"text-align: right;\">\n",
       "      <th>Sexo</th>\n",
       "      <th>Restos_tipo</th>\n",
       "      <th>Femenino</th>\n",
       "      <th>Masculino</th>\n",
       "    </tr>\n",
       "  </thead>\n",
       "  <tbody>\n",
       "    <tr>\n",
       "      <th>0</th>\n",
       "      <td>Cadáver</td>\n",
       "      <td>61.027778</td>\n",
       "      <td>54.836449</td>\n",
       "    </tr>\n",
       "    <tr>\n",
       "      <th>1</th>\n",
       "      <td>Restos humanos</td>\n",
       "      <td>19.200000</td>\n",
       "      <td>31.000000</td>\n",
       "    </tr>\n",
       "    <tr>\n",
       "      <th>2</th>\n",
       "      <td>Restos cremados</td>\n",
       "      <td>68.140351</td>\n",
       "      <td>68.376712</td>\n",
       "    </tr>\n",
       "    <tr>\n",
       "      <th>3</th>\n",
       "      <td>Miembros</td>\n",
       "      <td>55.666667</td>\n",
       "      <td>36.537037</td>\n",
       "    </tr>\n",
       "  </tbody>\n",
       "</table>\n",
       "</div>"
      ],
      "text/plain": [
       "Sexo      Restos_tipo   Femenino  Masculino\n",
       "0             Cadáver  61.027778  54.836449\n",
       "1      Restos humanos  19.200000  31.000000\n",
       "2     Restos cremados  68.140351  68.376712\n",
       "3            Miembros  55.666667  36.537037"
      ]
     },
     "execution_count": 24,
     "metadata": {},
     "output_type": "execute_result"
    }
   ],
   "source": [
    "df_edad_promedio = df_edad_promedio.reset_index()\n",
    "df_edad_promedio"
   ]
  },
  {
   "cell_type": "markdown",
   "metadata": {},
   "source": [
    "La función `.melt()` transforma los datos de las columnas a filas.\n",
    "\n",
    "En cierta forma esta función el la inversa de `.pivot_table()`, aunque se puede perder información, como vemos en este caso."
   ]
  },
  {
   "cell_type": "code",
   "execution_count": 25,
   "metadata": {
    "tags": []
   },
   "outputs": [
    {
     "data": {
      "text/html": [
       "<div>\n",
       "<style scoped>\n",
       "    .dataframe tbody tr th:only-of-type {\n",
       "        vertical-align: middle;\n",
       "    }\n",
       "\n",
       "    .dataframe tbody tr th {\n",
       "        vertical-align: top;\n",
       "    }\n",
       "\n",
       "    .dataframe thead th {\n",
       "        text-align: right;\n",
       "    }\n",
       "</style>\n",
       "<table border=\"1\" class=\"dataframe\">\n",
       "  <thead>\n",
       "    <tr style=\"text-align: right;\">\n",
       "      <th></th>\n",
       "      <th>Restos_tipo</th>\n",
       "      <th>Sexo</th>\n",
       "      <th>Edad_promedio</th>\n",
       "    </tr>\n",
       "  </thead>\n",
       "  <tbody>\n",
       "    <tr>\n",
       "      <th>0</th>\n",
       "      <td>Cadáver</td>\n",
       "      <td>Femenino</td>\n",
       "      <td>61.027778</td>\n",
       "    </tr>\n",
       "    <tr>\n",
       "      <th>1</th>\n",
       "      <td>Restos humanos</td>\n",
       "      <td>Femenino</td>\n",
       "      <td>19.200000</td>\n",
       "    </tr>\n",
       "    <tr>\n",
       "      <th>2</th>\n",
       "      <td>Restos cremados</td>\n",
       "      <td>Femenino</td>\n",
       "      <td>68.140351</td>\n",
       "    </tr>\n",
       "    <tr>\n",
       "      <th>3</th>\n",
       "      <td>Miembros</td>\n",
       "      <td>Femenino</td>\n",
       "      <td>55.666667</td>\n",
       "    </tr>\n",
       "    <tr>\n",
       "      <th>4</th>\n",
       "      <td>Cadáver</td>\n",
       "      <td>Masculino</td>\n",
       "      <td>54.836449</td>\n",
       "    </tr>\n",
       "    <tr>\n",
       "      <th>5</th>\n",
       "      <td>Restos humanos</td>\n",
       "      <td>Masculino</td>\n",
       "      <td>31.000000</td>\n",
       "    </tr>\n",
       "    <tr>\n",
       "      <th>6</th>\n",
       "      <td>Restos cremados</td>\n",
       "      <td>Masculino</td>\n",
       "      <td>68.376712</td>\n",
       "    </tr>\n",
       "    <tr>\n",
       "      <th>7</th>\n",
       "      <td>Miembros</td>\n",
       "      <td>Masculino</td>\n",
       "      <td>36.537037</td>\n",
       "    </tr>\n",
       "  </tbody>\n",
       "</table>\n",
       "</div>"
      ],
      "text/plain": [
       "       Restos_tipo       Sexo  Edad_promedio\n",
       "0          Cadáver   Femenino      61.027778\n",
       "1   Restos humanos   Femenino      19.200000\n",
       "2  Restos cremados   Femenino      68.140351\n",
       "3         Miembros   Femenino      55.666667\n",
       "4          Cadáver  Masculino      54.836449\n",
       "5   Restos humanos  Masculino      31.000000\n",
       "6  Restos cremados  Masculino      68.376712\n",
       "7         Miembros  Masculino      36.537037"
      ]
     },
     "execution_count": 25,
     "metadata": {},
     "output_type": "execute_result"
    }
   ],
   "source": [
    "pd.melt(df_edad_promedio, id_vars='Restos_tipo', value_vars=['Femenino','Masculino'], value_name='Edad_promedio')"
   ]
  },
  {
   "cell_type": "markdown",
   "metadata": {},
   "source": [
    "## 7.3 Split-apply-combine\n",
    "\n",
    "El pipeline [split-apply-combine](https://pandas.pydata.org/docs/user_guide/groupby.html) es un enfoque muy común en el análisis de datos y se refiere a un proceso de tres pasos:\n",
    "* Split (división): El conjunto de datos original se divide en grupos basados en una o más columnas. En primer lugar, se divide el conjunto de datos en grupos basados en una o varias columnas utilizando la función groupby(). Esto genera un objeto GroupBy que contiene los grupos y se puede aplicar una función o transformación a cada grupo por separado.\n",
    "* Apply (aplicación): Se aplica alguna función o transformación a cada grupo por separado. Luego, se aplica alguna función o transformación a cada grupo por separado. Esta función puede ser de varios tipos:\n",
    "    * Aggregation (agregación): calcular una estadística resumen (o varias estadísticas) para cada grupo. Por ejemplo calcular la suma o tamaño de los grupos.\n",
    "    * Transform (transformación): realizar algunos cálculos específicos del grupo y devolver un objeto con el mismo índice.  Por ejemplo rellenar los valores perdidos (NA) dentro de un grupo con un valor derivado de ese mismo grupo.\n",
    "    * Filter (filtración): descartar algunos grupos, según un cálculo por grupo que evalúa Verdadero o Falso. Por ejemplo descartar datos que pertenecen a grupos con muy pocos miembros.\n",
    "    * Alguna combinación de lo anterior\n",
    "* Combine (combinación): Los resultados de cada grupo se combinan en un único DataFrame utilizando la función concat(), merge() u otra función de combinación de Pandas.\n",
    "\n",
    "A combinación veremos una introducción a este pipeline, aunque se recomienda ver la documentación de [split-apply-combine](https://pandas.pydata.org/docs/user_guide/groupby.html) y de [merge, join, concatenate and compare]()"
   ]
  },
  {
   "cell_type": "markdown",
   "metadata": {},
   "source": [
    "## 7.4 Groupby y aggregate\n",
    "\n",
    "La función `.groupby()` divide el conjunto de datos de datos de acuerdo a los valores de una o más columnas. Esto genéra un objeto de grupos, a los cuales se les pueden aplicar funciones por separado.\n",
    "\n",
    "Las funcion `.aggregate()` sirve para aplicar una o varias operaciones a cada grupo, las cuales resumen los valores.\n",
    "\n",
    "Existen varias funciones de agregación:\n",
    "* mean(): promedio\n",
    "* sum(): suma de valores\n",
    "* size(): tamaño del grupo\n",
    "* count(): conteo del grupo\n",
    "* std(): desviación estandar\n",
    "* var(): varianza\n",
    "* sem(): error estandar de la media de los grupos\n",
    "* describe(): estadísticas descriptivas\n",
    "* first(): primer valor\n",
    "* last(): último valor\n",
    "* nth(): n-esimo valor\n",
    "* min(): valor mímino\n",
    "* max(): valor máximo\n",
    "\n",
    "Aunque no son las únicas y es posible definir funciones propias.\n",
    "\n",
    "Por ejemplo, agrupemos los datos por sexo y tipo de restos y calculemos el promedio de edad. Se recomienda solo seleccionar los datos que se van a utilizar en el proceso."
   ]
  },
  {
   "cell_type": "code",
   "execution_count": 26,
   "metadata": {
    "tags": []
   },
   "outputs": [
    {
     "data": {
      "text/html": [
       "<div>\n",
       "<style scoped>\n",
       "    .dataframe tbody tr th:only-of-type {\n",
       "        vertical-align: middle;\n",
       "    }\n",
       "\n",
       "    .dataframe tbody tr th {\n",
       "        vertical-align: top;\n",
       "    }\n",
       "\n",
       "    .dataframe thead th {\n",
       "        text-align: right;\n",
       "    }\n",
       "</style>\n",
       "<table border=\"1\" class=\"dataframe\">\n",
       "  <thead>\n",
       "    <tr style=\"text-align: right;\">\n",
       "      <th></th>\n",
       "      <th></th>\n",
       "      <th>Edad_años</th>\n",
       "    </tr>\n",
       "    <tr>\n",
       "      <th>Sexo</th>\n",
       "      <th>Restos_tipo</th>\n",
       "      <th></th>\n",
       "    </tr>\n",
       "  </thead>\n",
       "  <tbody>\n",
       "    <tr>\n",
       "      <th rowspan=\"6\" valign=\"top\">Femenino</th>\n",
       "      <th>Cadáver</th>\n",
       "      <td>61.027778</td>\n",
       "    </tr>\n",
       "    <tr>\n",
       "      <th>Restos humanos</th>\n",
       "      <td>19.200000</td>\n",
       "    </tr>\n",
       "    <tr>\n",
       "      <th>Restos cremados</th>\n",
       "      <td>68.140351</td>\n",
       "    </tr>\n",
       "    <tr>\n",
       "      <th>Restos óseos</th>\n",
       "      <td>NaN</td>\n",
       "    </tr>\n",
       "    <tr>\n",
       "      <th>Feto</th>\n",
       "      <td>NaN</td>\n",
       "    </tr>\n",
       "    <tr>\n",
       "      <th>Miembros</th>\n",
       "      <td>55.666667</td>\n",
       "    </tr>\n",
       "    <tr>\n",
       "      <th rowspan=\"6\" valign=\"top\">Indeterminado</th>\n",
       "      <th>Cadáver</th>\n",
       "      <td>NaN</td>\n",
       "    </tr>\n",
       "    <tr>\n",
       "      <th>Restos humanos</th>\n",
       "      <td>NaN</td>\n",
       "    </tr>\n",
       "    <tr>\n",
       "      <th>Restos cremados</th>\n",
       "      <td>NaN</td>\n",
       "    </tr>\n",
       "    <tr>\n",
       "      <th>Restos óseos</th>\n",
       "      <td>NaN</td>\n",
       "    </tr>\n",
       "    <tr>\n",
       "      <th>Feto</th>\n",
       "      <td>NaN</td>\n",
       "    </tr>\n",
       "    <tr>\n",
       "      <th>Miembros</th>\n",
       "      <td>NaN</td>\n",
       "    </tr>\n",
       "    <tr>\n",
       "      <th rowspan=\"6\" valign=\"top\">Masculino</th>\n",
       "      <th>Cadáver</th>\n",
       "      <td>54.836449</td>\n",
       "    </tr>\n",
       "    <tr>\n",
       "      <th>Restos humanos</th>\n",
       "      <td>31.000000</td>\n",
       "    </tr>\n",
       "    <tr>\n",
       "      <th>Restos cremados</th>\n",
       "      <td>68.376712</td>\n",
       "    </tr>\n",
       "    <tr>\n",
       "      <th>Restos óseos</th>\n",
       "      <td>NaN</td>\n",
       "    </tr>\n",
       "    <tr>\n",
       "      <th>Feto</th>\n",
       "      <td>NaN</td>\n",
       "    </tr>\n",
       "    <tr>\n",
       "      <th>Miembros</th>\n",
       "      <td>36.537037</td>\n",
       "    </tr>\n",
       "  </tbody>\n",
       "</table>\n",
       "</div>"
      ],
      "text/plain": [
       "                               Edad_años\n",
       "Sexo          Restos_tipo               \n",
       "Femenino      Cadáver          61.027778\n",
       "              Restos humanos   19.200000\n",
       "              Restos cremados  68.140351\n",
       "              Restos óseos           NaN\n",
       "              Feto                   NaN\n",
       "              Miembros         55.666667\n",
       "Indeterminado Cadáver                NaN\n",
       "              Restos humanos         NaN\n",
       "              Restos cremados        NaN\n",
       "              Restos óseos           NaN\n",
       "              Feto                   NaN\n",
       "              Miembros               NaN\n",
       "Masculino     Cadáver          54.836449\n",
       "              Restos humanos   31.000000\n",
       "              Restos cremados  68.376712\n",
       "              Restos óseos           NaN\n",
       "              Feto                   NaN\n",
       "              Miembros         36.537037"
      ]
     },
     "execution_count": 26,
     "metadata": {},
     "output_type": "execute_result"
    }
   ],
   "source": [
    "df[['Sexo','Restos_tipo','Edad_años']].groupby(by=['Sexo','Restos_tipo']).mean()"
   ]
  },
  {
   "cell_type": "markdown",
   "metadata": {},
   "source": [
    "Es posible aplicar varias funciones al mismo tiempo.\n",
    "\n",
    "Si queremos podemos renombrar las columnas resultantes con el comando `.rename()`."
   ]
  },
  {
   "cell_type": "code",
   "execution_count": 27,
   "metadata": {
    "tags": []
   },
   "outputs": [
    {
     "data": {
      "text/html": [
       "<div>\n",
       "<style scoped>\n",
       "    .dataframe tbody tr th:only-of-type {\n",
       "        vertical-align: middle;\n",
       "    }\n",
       "\n",
       "    .dataframe tbody tr th {\n",
       "        vertical-align: top;\n",
       "    }\n",
       "\n",
       "    .dataframe thead tr th {\n",
       "        text-align: left;\n",
       "    }\n",
       "\n",
       "    .dataframe thead tr:last-of-type th {\n",
       "        text-align: right;\n",
       "    }\n",
       "</style>\n",
       "<table border=\"1\" class=\"dataframe\">\n",
       "  <thead>\n",
       "    <tr>\n",
       "      <th></th>\n",
       "      <th colspan=\"5\" halign=\"left\">Edad_años</th>\n",
       "    </tr>\n",
       "    <tr>\n",
       "      <th></th>\n",
       "      <th>edad minima</th>\n",
       "      <th>edad maxima</th>\n",
       "      <th>moda edad</th>\n",
       "      <th>promedio edad</th>\n",
       "      <th>desviación estandar</th>\n",
       "    </tr>\n",
       "    <tr>\n",
       "      <th>Restos_tipo</th>\n",
       "      <th></th>\n",
       "      <th></th>\n",
       "      <th></th>\n",
       "      <th></th>\n",
       "      <th></th>\n",
       "    </tr>\n",
       "  </thead>\n",
       "  <tbody>\n",
       "    <tr>\n",
       "      <th>Cadáver</th>\n",
       "      <td>1.0</td>\n",
       "      <td>97.0</td>\n",
       "      <td>40.0</td>\n",
       "      <td>55.728000</td>\n",
       "      <td>19.111752</td>\n",
       "    </tr>\n",
       "    <tr>\n",
       "      <th>Restos humanos</th>\n",
       "      <td>15.0</td>\n",
       "      <td>50.0</td>\n",
       "      <td>[22.0, 23.0, 45.0]</td>\n",
       "      <td>27.529412</td>\n",
       "      <td>11.341945</td>\n",
       "    </tr>\n",
       "    <tr>\n",
       "      <th>Restos cremados</th>\n",
       "      <td>20.0</td>\n",
       "      <td>96.0</td>\n",
       "      <td>78.0</td>\n",
       "      <td>68.310345</td>\n",
       "      <td>14.289345</td>\n",
       "    </tr>\n",
       "    <tr>\n",
       "      <th>Restos óseos</th>\n",
       "      <td>NaN</td>\n",
       "      <td>NaN</td>\n",
       "      <td>[]</td>\n",
       "      <td>NaN</td>\n",
       "      <td>NaN</td>\n",
       "    </tr>\n",
       "    <tr>\n",
       "      <th>Feto</th>\n",
       "      <td>NaN</td>\n",
       "      <td>NaN</td>\n",
       "      <td>[]</td>\n",
       "      <td>NaN</td>\n",
       "      <td>NaN</td>\n",
       "    </tr>\n",
       "    <tr>\n",
       "      <th>Miembros</th>\n",
       "      <td>5.0</td>\n",
       "      <td>95.0</td>\n",
       "      <td>31.0</td>\n",
       "      <td>40.695652</td>\n",
       "      <td>21.668834</td>\n",
       "    </tr>\n",
       "  </tbody>\n",
       "</table>\n",
       "</div>"
      ],
      "text/plain": [
       "                  Edad_años                                                \\\n",
       "                edad minima edad maxima           moda edad promedio edad   \n",
       "Restos_tipo                                                                 \n",
       "Cadáver                 1.0        97.0                40.0     55.728000   \n",
       "Restos humanos         15.0        50.0  [22.0, 23.0, 45.0]     27.529412   \n",
       "Restos cremados        20.0        96.0                78.0     68.310345   \n",
       "Restos óseos            NaN         NaN                  []           NaN   \n",
       "Feto                    NaN         NaN                  []           NaN   \n",
       "Miembros                5.0        95.0                31.0     40.695652   \n",
       "\n",
       "                                     \n",
       "                desviación estandar  \n",
       "Restos_tipo                          \n",
       "Cadáver                   19.111752  \n",
       "Restos humanos            11.341945  \n",
       "Restos cremados           14.289345  \n",
       "Restos óseos                    NaN  \n",
       "Feto                            NaN  \n",
       "Miembros                  21.668834  "
      ]
     },
     "execution_count": 27,
     "metadata": {},
     "output_type": "execute_result"
    }
   ],
   "source": [
    "df[['Restos_tipo','Edad_años']].groupby(by='Restos_tipo') \\\n",
    "                        .agg(['min', 'max', pd.Series.mode, 'mean', 'std']) \\\n",
    "                        .rename(columns={ \n",
    "                                         \"min\": \"edad minima\", \"max\": \"edad maxima\", \n",
    "                                         \"mode\": \"moda edad\", \"mean\": \"promedio edad\",\n",
    "                                         \"std\": \"desviación estandar\",\n",
    "                                         })"
   ]
  },
  {
   "cell_type": "markdown",
   "metadata": {},
   "source": [
    "También se pueden aplicar distintas funciones a cada columna."
   ]
  },
  {
   "cell_type": "code",
   "execution_count": 28,
   "metadata": {
    "tags": []
   },
   "outputs": [
    {
     "data": {
      "text/html": [
       "<div>\n",
       "<style scoped>\n",
       "    .dataframe tbody tr th:only-of-type {\n",
       "        vertical-align: middle;\n",
       "    }\n",
       "\n",
       "    .dataframe tbody tr th {\n",
       "        vertical-align: top;\n",
       "    }\n",
       "\n",
       "    .dataframe thead th {\n",
       "        text-align: right;\n",
       "    }\n",
       "</style>\n",
       "<table border=\"1\" class=\"dataframe\">\n",
       "  <thead>\n",
       "    <tr style=\"text-align: right;\">\n",
       "      <th></th>\n",
       "      <th></th>\n",
       "      <th>Conocido_Desconocido</th>\n",
       "      <th>Restos_tipo</th>\n",
       "      <th>Tipo_institución_origen</th>\n",
       "    </tr>\n",
       "    <tr>\n",
       "      <th>Fecha_inhumacion_año</th>\n",
       "      <th>Fecha_inhumación_semanaaño</th>\n",
       "      <th></th>\n",
       "      <th></th>\n",
       "      <th></th>\n",
       "    </tr>\n",
       "  </thead>\n",
       "  <tbody>\n",
       "    <tr>\n",
       "      <th rowspan=\"10\" valign=\"top\">2017</th>\n",
       "      <th>30</th>\n",
       "      <td>1</td>\n",
       "      <td>Cadáver</td>\n",
       "      <td>Escuela privada</td>\n",
       "    </tr>\n",
       "    <tr>\n",
       "      <th>40</th>\n",
       "      <td>32</td>\n",
       "      <td>Cadáver</td>\n",
       "      <td>Institución judicial</td>\n",
       "    </tr>\n",
       "    <tr>\n",
       "      <th>41</th>\n",
       "      <td>36</td>\n",
       "      <td>Cadáver</td>\n",
       "      <td>Institución judicial</td>\n",
       "    </tr>\n",
       "    <tr>\n",
       "      <th>42</th>\n",
       "      <td>25</td>\n",
       "      <td>Cadáver</td>\n",
       "      <td>Institución judicial</td>\n",
       "    </tr>\n",
       "    <tr>\n",
       "      <th>43</th>\n",
       "      <td>2</td>\n",
       "      <td>['Restos óseos', 'Miembros']\n",
       "Categories (6, ob...</td>\n",
       "      <td>Institución judicial</td>\n",
       "    </tr>\n",
       "    <tr>\n",
       "      <th>44</th>\n",
       "      <td>6</td>\n",
       "      <td>Cadáver</td>\n",
       "      <td>Escuela privada</td>\n",
       "    </tr>\n",
       "    <tr>\n",
       "      <th>45</th>\n",
       "      <td>30</td>\n",
       "      <td>Cadáver</td>\n",
       "      <td>Institución judicial</td>\n",
       "    </tr>\n",
       "    <tr>\n",
       "      <th>47</th>\n",
       "      <td>30</td>\n",
       "      <td>Cadáver</td>\n",
       "      <td>Institución judicial</td>\n",
       "    </tr>\n",
       "    <tr>\n",
       "      <th>49</th>\n",
       "      <td>19</td>\n",
       "      <td>Cadáver</td>\n",
       "      <td>Escuela pública</td>\n",
       "    </tr>\n",
       "    <tr>\n",
       "      <th>50</th>\n",
       "      <td>21</td>\n",
       "      <td>Cadáver</td>\n",
       "      <td>Escuela pública</td>\n",
       "    </tr>\n",
       "    <tr>\n",
       "      <th rowspan=\"14\" valign=\"top\">2018</th>\n",
       "      <th>27</th>\n",
       "      <td>100</td>\n",
       "      <td>Restos cremados</td>\n",
       "      <td>Escuela pública</td>\n",
       "    </tr>\n",
       "    <tr>\n",
       "      <th>28</th>\n",
       "      <td>23</td>\n",
       "      <td>Cadáver</td>\n",
       "      <td>Institución judicial</td>\n",
       "    </tr>\n",
       "    <tr>\n",
       "      <th>29</th>\n",
       "      <td>11</td>\n",
       "      <td>Cadáver</td>\n",
       "      <td>Escuela privada</td>\n",
       "    </tr>\n",
       "    <tr>\n",
       "      <th>35</th>\n",
       "      <td>12</td>\n",
       "      <td>Cadáver</td>\n",
       "      <td>Escuela pública</td>\n",
       "    </tr>\n",
       "    <tr>\n",
       "      <th>38</th>\n",
       "      <td>11</td>\n",
       "      <td>Cadáver</td>\n",
       "      <td>Escuela pública</td>\n",
       "    </tr>\n",
       "    <tr>\n",
       "      <th>39</th>\n",
       "      <td>21</td>\n",
       "      <td>Cadáver</td>\n",
       "      <td>Institución judicial</td>\n",
       "    </tr>\n",
       "    <tr>\n",
       "      <th>41</th>\n",
       "      <td>13</td>\n",
       "      <td>Cadáver</td>\n",
       "      <td>Escuela pública</td>\n",
       "    </tr>\n",
       "    <tr>\n",
       "      <th>42</th>\n",
       "      <td>23</td>\n",
       "      <td>Cadáver</td>\n",
       "      <td>Institución judicial</td>\n",
       "    </tr>\n",
       "    <tr>\n",
       "      <th>43</th>\n",
       "      <td>26</td>\n",
       "      <td>Cadáver</td>\n",
       "      <td>Institución judicial</td>\n",
       "    </tr>\n",
       "    <tr>\n",
       "      <th>46</th>\n",
       "      <td>10</td>\n",
       "      <td>Cadáver</td>\n",
       "      <td>Escuela pública</td>\n",
       "    </tr>\n",
       "    <tr>\n",
       "      <th>47</th>\n",
       "      <td>29</td>\n",
       "      <td>Cadáver</td>\n",
       "      <td>Institución judicial</td>\n",
       "    </tr>\n",
       "    <tr>\n",
       "      <th>48</th>\n",
       "      <td>13</td>\n",
       "      <td>Cadáver</td>\n",
       "      <td>Escuela pública</td>\n",
       "    </tr>\n",
       "    <tr>\n",
       "      <th>49</th>\n",
       "      <td>40</td>\n",
       "      <td>Cadáver</td>\n",
       "      <td>Institución judicial</td>\n",
       "    </tr>\n",
       "    <tr>\n",
       "      <th>50</th>\n",
       "      <td>3</td>\n",
       "      <td>Cadáver</td>\n",
       "      <td>Escuela privada</td>\n",
       "    </tr>\n",
       "    <tr>\n",
       "      <th rowspan=\"19\" valign=\"top\">2019</th>\n",
       "      <th>1</th>\n",
       "      <td>19</td>\n",
       "      <td>Cadáver</td>\n",
       "      <td>Escuela pública</td>\n",
       "    </tr>\n",
       "    <tr>\n",
       "      <th>2</th>\n",
       "      <td>23</td>\n",
       "      <td>Cadáver</td>\n",
       "      <td>Institución judicial</td>\n",
       "    </tr>\n",
       "    <tr>\n",
       "      <th>3</th>\n",
       "      <td>21</td>\n",
       "      <td>Cadáver</td>\n",
       "      <td>Institución judicial</td>\n",
       "    </tr>\n",
       "    <tr>\n",
       "      <th>4</th>\n",
       "      <td>26</td>\n",
       "      <td>Cadáver</td>\n",
       "      <td>Institución judicial</td>\n",
       "    </tr>\n",
       "    <tr>\n",
       "      <th>5</th>\n",
       "      <td>24</td>\n",
       "      <td>Cadáver</td>\n",
       "      <td>Institución judicial</td>\n",
       "    </tr>\n",
       "    <tr>\n",
       "      <th>6</th>\n",
       "      <td>4</td>\n",
       "      <td>Cadáver</td>\n",
       "      <td>Escuela privada</td>\n",
       "    </tr>\n",
       "    <tr>\n",
       "      <th>7</th>\n",
       "      <td>15</td>\n",
       "      <td>Cadáver</td>\n",
       "      <td>Institución judicial</td>\n",
       "    </tr>\n",
       "    <tr>\n",
       "      <th>8</th>\n",
       "      <td>1</td>\n",
       "      <td>Cadáver</td>\n",
       "      <td>Escuela privada</td>\n",
       "    </tr>\n",
       "    <tr>\n",
       "      <th>9</th>\n",
       "      <td>29</td>\n",
       "      <td>Cadáver</td>\n",
       "      <td>Institución judicial</td>\n",
       "    </tr>\n",
       "    <tr>\n",
       "      <th>11</th>\n",
       "      <td>24</td>\n",
       "      <td>Cadáver</td>\n",
       "      <td>Institución judicial</td>\n",
       "    </tr>\n",
       "    <tr>\n",
       "      <th>13</th>\n",
       "      <td>142</td>\n",
       "      <td>Restos cremados</td>\n",
       "      <td>Escuela pública</td>\n",
       "    </tr>\n",
       "    <tr>\n",
       "      <th>14</th>\n",
       "      <td>18</td>\n",
       "      <td>Cadáver</td>\n",
       "      <td>Institución judicial</td>\n",
       "    </tr>\n",
       "    <tr>\n",
       "      <th>15</th>\n",
       "      <td>20</td>\n",
       "      <td>Cadáver</td>\n",
       "      <td>Institución judicial</td>\n",
       "    </tr>\n",
       "    <tr>\n",
       "      <th>16</th>\n",
       "      <td>4</td>\n",
       "      <td>Cadáver</td>\n",
       "      <td>Escuela pública</td>\n",
       "    </tr>\n",
       "    <tr>\n",
       "      <th>18</th>\n",
       "      <td>37</td>\n",
       "      <td>Cadáver</td>\n",
       "      <td>Institución judicial</td>\n",
       "    </tr>\n",
       "    <tr>\n",
       "      <th>19</th>\n",
       "      <td>4</td>\n",
       "      <td>Cadáver</td>\n",
       "      <td>Escuela privada</td>\n",
       "    </tr>\n",
       "    <tr>\n",
       "      <th>20</th>\n",
       "      <td>20</td>\n",
       "      <td>Cadáver</td>\n",
       "      <td>Institución judicial</td>\n",
       "    </tr>\n",
       "    <tr>\n",
       "      <th>21</th>\n",
       "      <td>23</td>\n",
       "      <td>Cadáver</td>\n",
       "      <td>Institución judicial</td>\n",
       "    </tr>\n",
       "    <tr>\n",
       "      <th>22</th>\n",
       "      <td>8</td>\n",
       "      <td>Cadáver</td>\n",
       "      <td>Escuela privada</td>\n",
       "    </tr>\n",
       "    <tr>\n",
       "      <th>2020</th>\n",
       "      <th>15</th>\n",
       "      <td>1</td>\n",
       "      <td>Cadáver</td>\n",
       "      <td>Institución judicial</td>\n",
       "    </tr>\n",
       "  </tbody>\n",
       "</table>\n",
       "</div>"
      ],
      "text/plain": [
       "                                                 Conocido_Desconocido  \\\n",
       "Fecha_inhumacion_año Fecha_inhumación_semanaaño                         \n",
       "2017                 30                                             1   \n",
       "                     40                                            32   \n",
       "                     41                                            36   \n",
       "                     42                                            25   \n",
       "                     43                                             2   \n",
       "                     44                                             6   \n",
       "                     45                                            30   \n",
       "                     47                                            30   \n",
       "                     49                                            19   \n",
       "                     50                                            21   \n",
       "2018                 27                                           100   \n",
       "                     28                                            23   \n",
       "                     29                                            11   \n",
       "                     35                                            12   \n",
       "                     38                                            11   \n",
       "                     39                                            21   \n",
       "                     41                                            13   \n",
       "                     42                                            23   \n",
       "                     43                                            26   \n",
       "                     46                                            10   \n",
       "                     47                                            29   \n",
       "                     48                                            13   \n",
       "                     49                                            40   \n",
       "                     50                                             3   \n",
       "2019                 1                                             19   \n",
       "                     2                                             23   \n",
       "                     3                                             21   \n",
       "                     4                                             26   \n",
       "                     5                                             24   \n",
       "                     6                                              4   \n",
       "                     7                                             15   \n",
       "                     8                                              1   \n",
       "                     9                                             29   \n",
       "                     11                                            24   \n",
       "                     13                                           142   \n",
       "                     14                                            18   \n",
       "                     15                                            20   \n",
       "                     16                                             4   \n",
       "                     18                                            37   \n",
       "                     19                                             4   \n",
       "                     20                                            20   \n",
       "                     21                                            23   \n",
       "                     22                                             8   \n",
       "2020                 15                                             1   \n",
       "\n",
       "                                                                                       Restos_tipo  \\\n",
       "Fecha_inhumacion_año Fecha_inhumación_semanaaño                                                      \n",
       "2017                 30                                                                    Cadáver   \n",
       "                     40                                                                    Cadáver   \n",
       "                     41                                                                    Cadáver   \n",
       "                     42                                                                    Cadáver   \n",
       "                     43                          ['Restos óseos', 'Miembros']\n",
       "Categories (6, ob...   \n",
       "                     44                                                                    Cadáver   \n",
       "                     45                                                                    Cadáver   \n",
       "                     47                                                                    Cadáver   \n",
       "                     49                                                                    Cadáver   \n",
       "                     50                                                                    Cadáver   \n",
       "2018                 27                                                            Restos cremados   \n",
       "                     28                                                                    Cadáver   \n",
       "                     29                                                                    Cadáver   \n",
       "                     35                                                                    Cadáver   \n",
       "                     38                                                                    Cadáver   \n",
       "                     39                                                                    Cadáver   \n",
       "                     41                                                                    Cadáver   \n",
       "                     42                                                                    Cadáver   \n",
       "                     43                                                                    Cadáver   \n",
       "                     46                                                                    Cadáver   \n",
       "                     47                                                                    Cadáver   \n",
       "                     48                                                                    Cadáver   \n",
       "                     49                                                                    Cadáver   \n",
       "                     50                                                                    Cadáver   \n",
       "2019                 1                                                                     Cadáver   \n",
       "                     2                                                                     Cadáver   \n",
       "                     3                                                                     Cadáver   \n",
       "                     4                                                                     Cadáver   \n",
       "                     5                                                                     Cadáver   \n",
       "                     6                                                                     Cadáver   \n",
       "                     7                                                                     Cadáver   \n",
       "                     8                                                                     Cadáver   \n",
       "                     9                                                                     Cadáver   \n",
       "                     11                                                                    Cadáver   \n",
       "                     13                                                            Restos cremados   \n",
       "                     14                                                                    Cadáver   \n",
       "                     15                                                                    Cadáver   \n",
       "                     16                                                                    Cadáver   \n",
       "                     18                                                                    Cadáver   \n",
       "                     19                                                                    Cadáver   \n",
       "                     20                                                                    Cadáver   \n",
       "                     21                                                                    Cadáver   \n",
       "                     22                                                                    Cadáver   \n",
       "2020                 15                                                                    Cadáver   \n",
       "\n",
       "                                                Tipo_institución_origen  \n",
       "Fecha_inhumacion_año Fecha_inhumación_semanaaño                          \n",
       "2017                 30                                 Escuela privada  \n",
       "                     40                            Institución judicial  \n",
       "                     41                            Institución judicial  \n",
       "                     42                            Institución judicial  \n",
       "                     43                            Institución judicial  \n",
       "                     44                                 Escuela privada  \n",
       "                     45                            Institución judicial  \n",
       "                     47                            Institución judicial  \n",
       "                     49                                 Escuela pública  \n",
       "                     50                                 Escuela pública  \n",
       "2018                 27                                 Escuela pública  \n",
       "                     28                            Institución judicial  \n",
       "                     29                                 Escuela privada  \n",
       "                     35                                 Escuela pública  \n",
       "                     38                                 Escuela pública  \n",
       "                     39                            Institución judicial  \n",
       "                     41                                 Escuela pública  \n",
       "                     42                            Institución judicial  \n",
       "                     43                            Institución judicial  \n",
       "                     46                                 Escuela pública  \n",
       "                     47                            Institución judicial  \n",
       "                     48                                 Escuela pública  \n",
       "                     49                            Institución judicial  \n",
       "                     50                                 Escuela privada  \n",
       "2019                 1                                  Escuela pública  \n",
       "                     2                             Institución judicial  \n",
       "                     3                             Institución judicial  \n",
       "                     4                             Institución judicial  \n",
       "                     5                             Institución judicial  \n",
       "                     6                                  Escuela privada  \n",
       "                     7                             Institución judicial  \n",
       "                     8                                  Escuela privada  \n",
       "                     9                             Institución judicial  \n",
       "                     11                            Institución judicial  \n",
       "                     13                                 Escuela pública  \n",
       "                     14                            Institución judicial  \n",
       "                     15                            Institución judicial  \n",
       "                     16                                 Escuela pública  \n",
       "                     18                            Institución judicial  \n",
       "                     19                                 Escuela privada  \n",
       "                     20                            Institución judicial  \n",
       "                     21                            Institución judicial  \n",
       "                     22                                 Escuela privada  \n",
       "2020                 15                            Institución judicial  "
      ]
     },
     "execution_count": 28,
     "metadata": {},
     "output_type": "execute_result"
    }
   ],
   "source": [
    "df.groupby(by=['Fecha_inhumacion_año','Fecha_inhumación_semanaaño']).agg({\n",
    "   'Conocido_Desconocido':'size',\n",
    "   'Restos_tipo':pd.Series.mode, \n",
    "   'Tipo_institución_origen':pd.Series.mode,\n",
    "   })"
   ]
  },
  {
   "cell_type": "markdown",
   "metadata": {},
   "source": [
    "## 7.5 Merge, join, concatenate and compare\n",
    "\n",
    "https://pandas.pydata.org/docs/user_guide/merging.html"
   ]
  },
  {
   "cell_type": "code",
   "execution_count": 39,
   "metadata": {
    "tags": []
   },
   "outputs": [],
   "source": [
    "df1 = pd.DataFrame( {\n",
    "         \"A\": [\"A0\", \"A1\", \"A2\", \"A3\"],\n",
    "         \"B\": [\"B0\", \"B1\", \"B2\", \"B3\"],\n",
    "         \"C\": [\"C0\", \"C1\", \"C2\", \"C3\"],\n",
    "         \"D\": [\"D0\", \"D1\", \"D2\", \"D3\"],\n",
    "         },\n",
    "         index=[0, 1, 2, 3],\n",
    ")\n",
    "\n",
    "df2 = pd.DataFrame({\n",
    "         \"B\": [\"B2\", \"B3\", \"B6\", \"B7\"],\n",
    "         \"D\": [\"D2\", \"D3\", \"D6\", \"D7\"],\n",
    "         \"F\": [\"F2\", \"F3\", \"F6\", \"F7\"],\n",
    "         },\n",
    "         index=[2, 3, 6, 7],\n",
    "      )"
   ]
  },
  {
   "cell_type": "code",
   "execution_count": 40,
   "metadata": {
    "tags": []
   },
   "outputs": [
    {
     "data": {
      "text/html": [
       "<div>\n",
       "<style scoped>\n",
       "    .dataframe tbody tr th:only-of-type {\n",
       "        vertical-align: middle;\n",
       "    }\n",
       "\n",
       "    .dataframe tbody tr th {\n",
       "        vertical-align: top;\n",
       "    }\n",
       "\n",
       "    .dataframe thead th {\n",
       "        text-align: right;\n",
       "    }\n",
       "</style>\n",
       "<table border=\"1\" class=\"dataframe\">\n",
       "  <thead>\n",
       "    <tr style=\"text-align: right;\">\n",
       "      <th></th>\n",
       "      <th>A</th>\n",
       "      <th>B</th>\n",
       "      <th>C</th>\n",
       "      <th>D</th>\n",
       "      <th>F</th>\n",
       "    </tr>\n",
       "  </thead>\n",
       "  <tbody>\n",
       "    <tr>\n",
       "      <th>0</th>\n",
       "      <td>A0</td>\n",
       "      <td>B0</td>\n",
       "      <td>C0</td>\n",
       "      <td>D0</td>\n",
       "      <td>NaN</td>\n",
       "    </tr>\n",
       "    <tr>\n",
       "      <th>1</th>\n",
       "      <td>A1</td>\n",
       "      <td>B1</td>\n",
       "      <td>C1</td>\n",
       "      <td>D1</td>\n",
       "      <td>NaN</td>\n",
       "    </tr>\n",
       "    <tr>\n",
       "      <th>2</th>\n",
       "      <td>A2</td>\n",
       "      <td>B2</td>\n",
       "      <td>C2</td>\n",
       "      <td>D2</td>\n",
       "      <td>NaN</td>\n",
       "    </tr>\n",
       "    <tr>\n",
       "      <th>3</th>\n",
       "      <td>A3</td>\n",
       "      <td>B3</td>\n",
       "      <td>C3</td>\n",
       "      <td>D3</td>\n",
       "      <td>NaN</td>\n",
       "    </tr>\n",
       "    <tr>\n",
       "      <th>2</th>\n",
       "      <td>NaN</td>\n",
       "      <td>B2</td>\n",
       "      <td>NaN</td>\n",
       "      <td>D2</td>\n",
       "      <td>F2</td>\n",
       "    </tr>\n",
       "    <tr>\n",
       "      <th>3</th>\n",
       "      <td>NaN</td>\n",
       "      <td>B3</td>\n",
       "      <td>NaN</td>\n",
       "      <td>D3</td>\n",
       "      <td>F3</td>\n",
       "    </tr>\n",
       "    <tr>\n",
       "      <th>6</th>\n",
       "      <td>NaN</td>\n",
       "      <td>B6</td>\n",
       "      <td>NaN</td>\n",
       "      <td>D6</td>\n",
       "      <td>F6</td>\n",
       "    </tr>\n",
       "    <tr>\n",
       "      <th>7</th>\n",
       "      <td>NaN</td>\n",
       "      <td>B7</td>\n",
       "      <td>NaN</td>\n",
       "      <td>D7</td>\n",
       "      <td>F7</td>\n",
       "    </tr>\n",
       "  </tbody>\n",
       "</table>\n",
       "</div>"
      ],
      "text/plain": [
       "     A   B    C   D    F\n",
       "0   A0  B0   C0  D0  NaN\n",
       "1   A1  B1   C1  D1  NaN\n",
       "2   A2  B2   C2  D2  NaN\n",
       "3   A3  B3   C3  D3  NaN\n",
       "2  NaN  B2  NaN  D2   F2\n",
       "3  NaN  B3  NaN  D3   F3\n",
       "6  NaN  B6  NaN  D6   F6\n",
       "7  NaN  B7  NaN  D7   F7"
      ]
     },
     "execution_count": 40,
     "metadata": {},
     "output_type": "execute_result"
    }
   ],
   "source": [
    "pd.concat([df1,df2])"
   ]
  },
  {
   "cell_type": "code",
   "execution_count": 41,
   "metadata": {
    "tags": []
   },
   "outputs": [
    {
     "data": {
      "text/html": [
       "<div>\n",
       "<style scoped>\n",
       "    .dataframe tbody tr th:only-of-type {\n",
       "        vertical-align: middle;\n",
       "    }\n",
       "\n",
       "    .dataframe tbody tr th {\n",
       "        vertical-align: top;\n",
       "    }\n",
       "\n",
       "    .dataframe thead th {\n",
       "        text-align: right;\n",
       "    }\n",
       "</style>\n",
       "<table border=\"1\" class=\"dataframe\">\n",
       "  <thead>\n",
       "    <tr style=\"text-align: right;\">\n",
       "      <th></th>\n",
       "      <th>A</th>\n",
       "      <th>B</th>\n",
       "      <th>C</th>\n",
       "      <th>D</th>\n",
       "      <th>B</th>\n",
       "      <th>D</th>\n",
       "      <th>F</th>\n",
       "    </tr>\n",
       "  </thead>\n",
       "  <tbody>\n",
       "    <tr>\n",
       "      <th>0</th>\n",
       "      <td>A0</td>\n",
       "      <td>B0</td>\n",
       "      <td>C0</td>\n",
       "      <td>D0</td>\n",
       "      <td>NaN</td>\n",
       "      <td>NaN</td>\n",
       "      <td>NaN</td>\n",
       "    </tr>\n",
       "    <tr>\n",
       "      <th>1</th>\n",
       "      <td>A1</td>\n",
       "      <td>B1</td>\n",
       "      <td>C1</td>\n",
       "      <td>D1</td>\n",
       "      <td>NaN</td>\n",
       "      <td>NaN</td>\n",
       "      <td>NaN</td>\n",
       "    </tr>\n",
       "    <tr>\n",
       "      <th>2</th>\n",
       "      <td>A2</td>\n",
       "      <td>B2</td>\n",
       "      <td>C2</td>\n",
       "      <td>D2</td>\n",
       "      <td>B2</td>\n",
       "      <td>D2</td>\n",
       "      <td>F2</td>\n",
       "    </tr>\n",
       "    <tr>\n",
       "      <th>3</th>\n",
       "      <td>A3</td>\n",
       "      <td>B3</td>\n",
       "      <td>C3</td>\n",
       "      <td>D3</td>\n",
       "      <td>B3</td>\n",
       "      <td>D3</td>\n",
       "      <td>F3</td>\n",
       "    </tr>\n",
       "    <tr>\n",
       "      <th>6</th>\n",
       "      <td>NaN</td>\n",
       "      <td>NaN</td>\n",
       "      <td>NaN</td>\n",
       "      <td>NaN</td>\n",
       "      <td>B6</td>\n",
       "      <td>D6</td>\n",
       "      <td>F6</td>\n",
       "    </tr>\n",
       "    <tr>\n",
       "      <th>7</th>\n",
       "      <td>NaN</td>\n",
       "      <td>NaN</td>\n",
       "      <td>NaN</td>\n",
       "      <td>NaN</td>\n",
       "      <td>B7</td>\n",
       "      <td>D7</td>\n",
       "      <td>F7</td>\n",
       "    </tr>\n",
       "  </tbody>\n",
       "</table>\n",
       "</div>"
      ],
      "text/plain": [
       "     A    B    C    D    B    D    F\n",
       "0   A0   B0   C0   D0  NaN  NaN  NaN\n",
       "1   A1   B1   C1   D1  NaN  NaN  NaN\n",
       "2   A2   B2   C2   D2   B2   D2   F2\n",
       "3   A3   B3   C3   D3   B3   D3   F3\n",
       "6  NaN  NaN  NaN  NaN   B6   D6   F6\n",
       "7  NaN  NaN  NaN  NaN   B7   D7   F7"
      ]
     },
     "execution_count": 41,
     "metadata": {},
     "output_type": "execute_result"
    }
   ],
   "source": [
    "pd.concat([df1,df2], axis=1)"
   ]
  },
  {
   "cell_type": "code",
   "execution_count": null,
   "metadata": {},
   "outputs": [],
   "source": []
  }
 ],
 "metadata": {
  "kernelspec": {
   "display_name": "Python 3 (ipykernel)",
   "language": "python",
   "name": "python3"
  },
  "language_info": {
   "codemirror_mode": {
    "name": "ipython",
    "version": 3
   },
   "file_extension": ".py",
   "mimetype": "text/x-python",
   "name": "python",
   "nbconvert_exporter": "python",
   "pygments_lexer": "ipython3",
   "version": "3.10.9"
  }
 },
 "nbformat": 4,
 "nbformat_minor": 4
}
