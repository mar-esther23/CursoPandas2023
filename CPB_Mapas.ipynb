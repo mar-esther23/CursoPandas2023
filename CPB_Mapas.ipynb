{
 "cells": [
  {
   "cell_type": "markdown",
   "id": "0dbcc5e0-963d-4441-9dcf-917b578b70fe",
   "metadata": {},
   "source": [
    "https://www.inegi.org.mx/temas/mg/#Descargas\n",
    "\n",
    "https://www.inegi.org.mx/app/ageeml/\n",
    "\n",
    "https://geopandas.org/en/stable/getting_started/introduction.html"
   ]
  },
  {
   "cell_type": "code",
   "execution_count": null,
   "id": "fe9942ad-494d-419a-aeee-6109a2557b22",
   "metadata": {},
   "outputs": [],
   "source": []
  }
 ],
 "metadata": {
  "kernelspec": {
   "display_name": "Python 3 (ipykernel)",
   "language": "python",
   "name": "python3"
  },
  "language_info": {
   "codemirror_mode": {
    "name": "ipython",
    "version": 3
   },
   "file_extension": ".py",
   "mimetype": "text/x-python",
   "name": "python",
   "nbconvert_exporter": "python",
   "pygments_lexer": "ipython3",
   "version": "3.10.9"
  }
 },
 "nbformat": 4,
 "nbformat_minor": 5
}
