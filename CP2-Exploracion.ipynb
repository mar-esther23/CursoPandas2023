{
 "cells": [
  {
   "cell_type": "markdown",
   "metadata": {
    "tags": []
   },
   "source": [
    "# Análisis y visualización de datos abiertos con python\n",
    "\n",
    "2. __Exploración de datos__\n",
    "    1. [Obtención de datos](#obtencion)\n",
    "        * Descargar datos abiertos\n",
    "        * ¿Qué es un dato?\n",
    "        * Estructura del proyecto\n",
    "        * Cargar tablas en pandas (read_csv, read_excel)\n",
    "    2. [Exploración básica](#exploracion)\n",
    "        * Pandas profiling\n",
    "    3. [Navegando un dataframe](#navegacion)\n",
    "        * ¿Qué es un dataframe?\n",
    "        * Estructura de una tabla (index, columns, values, shape, dtype)\n",
    "        * Slicing (head, tail, select column(s), row(s), loc, iloc)\n",
    "        * Subsetting  (==, !=, isin, isna, notna, multiple statements)\n",
    "    3. [Operaciones básicas](#operaciones)\n",
    "        * Documentación\n",
    "        * Ordenar (sort_values)\n",
    "        * Únicos y conteo (unique, nunique, value_counts)\n",
    "        * Conteo y suma (count, max, min, sum)\n",
    "    4. [Estadística básica](#estadistica)\n",
    "        * Definiciones de estadística\n",
    "        * Medidas de tendencia central (mean, median, mode)\n",
    "        * Disperción y asimetría (std, skew)\n",
    "        * Distribuciones\n"
   ]
  },
  {
   "cell_type": "markdown",
   "metadata": {},
   "source": [
    "El objetivo de este tutorial es llevar a cabo una exploración básica de un conjunto de datos utilizando la biblioteca de Python. Además de la biblioteca pandas, también se introducirán algunas técnicas básicas de exploración de datos de datos para ayudar a comprender mejor los datos y destacar patrones y tendencias interesantes.\n",
    "\n",
    "Este tutorial es para aquellos que están interesados en el análisis de datos y la visualización y quieren aprender cómo usar Python y pandas para realizar esta tarea. No se requiere experiencia previa en programación o análisis de datos, pero es útil tener algún conocimiento básico de Python.\n",
    "\n",
    "\n",
    "Utilizaremos el Módulo de Fosas Comunes creado por la Comisión Nacional de Búsqueda de Personas. La Comisión Nacional de Búsqueda de Personas creó en 2020 el Módulo de Fosas Comunes, una base de datos que recopila y homologa información sobre cuerpos y restos inhumados en fosas comunes. El MFC se utiliza para comparar regularmente con el Registro Nacional de Personas Desaparecidas y No Localizadas para detectar posibles coincidencias. Los posibles positivos son evaluados en CNB para eliminar falsos positivos, y aquellos que persisten se convierten en indicios que se investigan en coordinación con las autoridades locales. El MFC está en constante integración y actualización, pero su exactitud depende de la información disponible en los panteones. La CNB no asume responsabilidad por la exactitud de la información en el MFC, sino que la responsabilidad recae en las administraciones de los panteones. Sin embargo, debido a la escasez de recursos, las comisiones de búsqueda brindan apoyo técnico a los panteones para extraer y homologar sus datos."
   ]
  },
  {
   "cell_type": "markdown",
   "metadata": {},
   "source": [
    "<a id='obtencion'></a>"
   ]
  },
  {
   "cell_type": "markdown",
   "metadata": {},
   "source": [
    "## 2.1. Obtención de datos\n",
    "\n",
    "### Descargar datos abiertos\n",
    "En este tutorial usaremos el [Módulo de Fosas Comunes](https://comisionacionaldebusqueda.gob.mx/modulo-de-fosas-comunes/) en su actualización del 24 de noviembre 2022.\n",
    "\n",
    "Al final de la página web hay un botón que nos permite descargar el conjunto de datos.\n",
    "![Página web del MFC](./images/MFC_descargar.png)\n",
    "\n",
    "Al acceder al archivo, podemos ver que tiene varias hojas:\n",
    "* Nota jurídica y metodológica: brinda información sobre los aspectos legales y metodológicos relacionados con un tema\n",
    "* Diccionario: describe el conjunto de datos, esta sección es de suma importancia para entender los datos con los que estamos trabajando.\n",
    "* MFC: la tabla con la información del Módulo de Fosas Comunes\n",
    "\n",
    "### Ejercicio 1\n",
    "\n",
    "Lee la página web, nota jurídica y metodológica y el diccionario de datos.\n",
    "En base a esto:\n",
    "1. ¿Qué información esperas encontrar en el conjunto de datos¡\n",
    "2. ¿Cuáles son sus limitaciones?\n",
    "\n",
    "\n"
   ]
  },
  {
   "cell_type": "markdown",
   "metadata": {},
   "source": [
    "### ¿Qué es un dato?\n",
    "\n",
    "Algunas definiciones:\n",
    "\n",
    "* Variable: una medida o un atributo. Pueden ser fecha, lugar, altura, peso, sexo, etc.\n",
    "* Valor: la medida o atributo real. 10 de mayo, México, 152 cm, 80 kg, hembra, etc.\n",
    "* Observación: Todos los valores miden en la misma unidad. Cada persona.\n",
    "* Dato: representación simbólica de un atributo o variable cuantitativa o cualitativa.\n",
    "\n",
    "Existen varios tipos de datos:\n",
    "* Númericos: valores contables discretos o continuos\n",
    "* Binarios: verdadero o falso\n",
    "* Categoricos: número limitado de categorias\n",
    "* Texto\n",
    "* Fecha\n",
    "* Coordenadas\n",
    "\n",
    "Los datos no siempre están completos, es decir, a veces desconocemos el valor de un dato. Esto se puede representar de varias formas. En el caso de pandas se usa _NaN_ para representar los datos faltantes o desconocidos.\n",
    "\n",
    "Las tablas que proporciona el gobierno se consideran conjuntos de [datos ordenados](http://vita.had.co.nz/papers/tidy-data.pdf), esto quiere decir que:\n",
    "* Cada variable forma una columna y contiene valores\n",
    "* Cada observación forma una fila\n",
    "* Cada tipo de unidad de observación forma una tabla\n",
    "\n",
    "### Ejercicio 2\n",
    "\n",
    "Identifica cada una de las definiciones, tipos de datos y características anteriormente descritas en la tabla del MFC."
   ]
  },
  {
   "cell_type": "markdown",
   "metadata": {},
   "source": [
    "### Estructura del proyecto\n",
    "\n",
    "Para organizar la información y nuestro espació de trabajo haremos una carpeta individual para el curso (por ejemplo, en mi computadora esta se llama _CursoPandas2023_). Dentro de esta carpeta organizaremos todos nuestros archivos en subcarpetas. De tal forma que la carpeta __CursoPandas2023__ contendrá las siguientes subcarpetas:\n",
    "* __data_raw__ carpeta donde pondremos los archivos de datos originales como el excel descargado\n",
    "* __data_clean__ carpeta donde colocaremos los archivos de datos que vayamos limpiando y generando\n",
    "* __extras__ carpeta con las imagenes y otros archivos de referencia que queramos guardar\n",
    "* __profiles__ carpeta con las descripciones automáticas de las tablas de datos\n",
    "\n",
    "### Ejercicio 3\n",
    "1. Crea una carpeta para el proyecto\n",
    "2. Crea las carpetas mencionadas anteriormente\n",
    "3. Colocalo el MFC en la carpeta adecuada. "
   ]
  },
  {
   "cell_type": "markdown",
   "metadata": {},
   "source": [
    "### Cargar los datos en python\n",
    "\n",
    "Ahora que los datos ya estan en la computadora podemos abrirlos usando python para empezar a trabajar con ellos.\n",
    "\n",
    "Necesitamos un jupyter notebook en la carpeta de trabajo y que los archivos esten en la carpeta _data-raw_. A continuación cargaremos la biblioteca de pandas para trabajar con la tabla de datos y cargaremos los archivos.\n",
    "\n",
    "En primer lugar nos ubicaremos en la carpeta donde esta nuestro código y archivos. Esto lo podemos hacer con el navegador de archivos en la parte derecha de jupyter o con código."
   ]
  },
  {
   "cell_type": "code",
   "execution_count": 1,
   "metadata": {},
   "outputs": [],
   "source": [
    "from os import chdir, getcwd\n",
    "chdir(getcwd())"
   ]
  },
  {
   "cell_type": "markdown",
   "metadata": {},
   "source": [
    "Despues vamos a abrir la tabla con los datos. \n",
    "\n",
    "Para lograr esto en primer lugar es necesario importar la biblioteca de pandas usando _import_. Como estaremos usando constantemente esta bibliteca la importaremos con la abreviatura _pd_. \n",
    "\n",
    "Despues usaremos el comando _pd.read_excel()_. De esta forma podemos abrir un .csv como si fuera un dataframe de pandas.\n",
    "\n",
    "Para abrir un archivo de excel puedes usar el comando: _pd.read_excel(filename)_.\n",
    "\n",
    "**NOTA:** Puede ser necesario instalar paquetes adicionales para leer un archivo de formato Excel.\n"
   ]
  },
  {
   "cell_type": "code",
   "execution_count": 2,
   "metadata": {},
   "outputs": [],
   "source": [
    "import pandas as pd\n",
    "\n",
    "df = pd.read_excel('data_raw/Modulo-de-Fosas-Comunes_actualizacion24nov2022_VD.xlsx')"
   ]
  },
  {
   "cell_type": "markdown",
   "metadata": {},
   "source": [
    "Ahora podemos acceder en la tabla."
   ]
  },
  {
   "cell_type": "code",
   "execution_count": 3,
   "metadata": {},
   "outputs": [
    {
     "data": {
      "text/html": [
       "<div>\n",
       "<style scoped>\n",
       "    .dataframe tbody tr th:only-of-type {\n",
       "        vertical-align: middle;\n",
       "    }\n",
       "\n",
       "    .dataframe tbody tr th {\n",
       "        vertical-align: top;\n",
       "    }\n",
       "\n",
       "    .dataframe thead th {\n",
       "        text-align: right;\n",
       "    }\n",
       "</style>\n",
       "<table border=\"1\" class=\"dataframe\">\n",
       "  <thead>\n",
       "    <tr style=\"text-align: right;\">\n",
       "      <th></th>\n",
       "      <th>Unnamed: 0</th>\n",
       "      <th>Unnamed: 1</th>\n",
       "    </tr>\n",
       "  </thead>\n",
       "  <tbody>\n",
       "    <tr>\n",
       "      <th>0</th>\n",
       "      <td>NaN</td>\n",
       "      <td>Nota jurídica y metodológica sobre el Módulo d...</td>\n",
       "    </tr>\n",
       "    <tr>\n",
       "      <th>1</th>\n",
       "      <td>NaN</td>\n",
       "      <td>NaN</td>\n",
       "    </tr>\n",
       "    <tr>\n",
       "      <th>2</th>\n",
       "      <td>NaN</td>\n",
       "      <td>La Comisión Nacional de Búsqueda de Personas (...</td>\n",
       "    </tr>\n",
       "  </tbody>\n",
       "</table>\n",
       "</div>"
      ],
      "text/plain": [
       "   Unnamed: 0                                         Unnamed: 1\n",
       "0         NaN  Nota jurídica y metodológica sobre el Módulo d...\n",
       "1         NaN                                                NaN\n",
       "2         NaN  La Comisión Nacional de Búsqueda de Personas (..."
      ]
     },
     "execution_count": 3,
     "metadata": {},
     "output_type": "execute_result"
    }
   ],
   "source": [
    "df"
   ]
  },
  {
   "cell_type": "markdown",
   "metadata": {},
   "source": [
    "Automáticamente read_excel carga la primera hoja del archivo. Sin embargo, nosotros estamos interesados en la tercera hoja, la cuál contiene los datos. Para resolver esto revisaremos la documentación de la función.\n",
    "\n",
    "Busca en google ´pandas read_excel´ y busca el link a la documentación de la función.\n",
    "![Documentación de read_excel](./images/Pandas_documentation.png)\n",
    "\n",
    "Revisando la página web descubrimos que hay una opción que permite configurar la hoja que se lee:\n",
    "´´´\n",
    "sheet_namestr, int, list, or None, default 0\n",
    "\n",
    "    Strings are used for sheet names. Integers are used in zero-indexed sheet positions (chart sheets do not count as a sheet position). Lists of strings/integers are used to request multiple sheets. Specify None to get all worksheets.\n",
    "´´´\n",
    "\n",
    "Otra opción es buscar directamente nuestra pregunta ´como seleccionar la hoja de un excel con pandas´\n",
    "\n",
    "Modifiquemos el código para leer la hoja que nos interesa."
   ]
  },
  {
   "cell_type": "code",
   "execution_count": 4,
   "metadata": {},
   "outputs": [
    {
     "data": {
      "text/html": [
       "<div>\n",
       "<style scoped>\n",
       "    .dataframe tbody tr th:only-of-type {\n",
       "        vertical-align: middle;\n",
       "    }\n",
       "\n",
       "    .dataframe tbody tr th {\n",
       "        vertical-align: top;\n",
       "    }\n",
       "\n",
       "    .dataframe thead th {\n",
       "        text-align: right;\n",
       "    }\n",
       "</style>\n",
       "<table border=\"1\" class=\"dataframe\">\n",
       "  <thead>\n",
       "    <tr style=\"text-align: right;\">\n",
       "      <th></th>\n",
       "      <th>ID</th>\n",
       "      <th>Estado_origen</th>\n",
       "      <th>Municipio_origen</th>\n",
       "      <th>Panteón_origen</th>\n",
       "      <th>Estatus_FC</th>\n",
       "      <th>Fecha_inhumación</th>\n",
       "      <th>Fecha_defunción</th>\n",
       "      <th>Fecha_exhumación</th>\n",
       "      <th>Restos_tipo</th>\n",
       "      <th>Sexo</th>\n",
       "      <th>Edad</th>\n",
       "      <th>Conocido_Desconocido</th>\n",
       "      <th>Primer apellido</th>\n",
       "      <th>Segundo Apellido</th>\n",
       "      <th>Nombre(s)</th>\n",
       "      <th>Nombre completo</th>\n",
       "      <th>Institución_origen</th>\n",
       "      <th>Rdoc</th>\n",
       "      <th>Marca_temporal</th>\n",
       "      <th>Datos alternativos</th>\n",
       "    </tr>\n",
       "  </thead>\n",
       "  <tbody>\n",
       "    <tr>\n",
       "      <th>0</th>\n",
       "      <td>XX-P001</td>\n",
       "      <td>Ciudad de México</td>\n",
       "      <td>Miguel Hidalgo</td>\n",
       "      <td>Panteón Civil de Dolores</td>\n",
       "      <td>Inhumación</td>\n",
       "      <td>2019-01-30 00:00:00</td>\n",
       "      <td>2018-03-04 00:00:00</td>\n",
       "      <td>NaN</td>\n",
       "      <td>Restos cremados</td>\n",
       "      <td>Masculino</td>\n",
       "      <td>55</td>\n",
       "      <td>Desconocido</td>\n",
       "      <td>NaN</td>\n",
       "      <td>NaN</td>\n",
       "      <td>NaN</td>\n",
       "      <td></td>\n",
       "      <td>UNIVERSIDAD WESTHILL - FACULTAD DE MEDICINA</td>\n",
       "      <td>Sí</td>\n",
       "      <td>2020-03-23 00:00:00</td>\n",
       "      <td>NaN</td>\n",
       "    </tr>\n",
       "    <tr>\n",
       "      <th>1</th>\n",
       "      <td>XX-P002</td>\n",
       "      <td>Ciudad de México</td>\n",
       "      <td>Miguel Hidalgo</td>\n",
       "      <td>Panteón Civil de Dolores</td>\n",
       "      <td>Inhumación</td>\n",
       "      <td>2019-01-26 00:00:00</td>\n",
       "      <td>2018-12-12 00:00:00</td>\n",
       "      <td>NaN</td>\n",
       "      <td>Cadáver</td>\n",
       "      <td>Masculino</td>\n",
       "      <td>NaN</td>\n",
       "      <td>Desconocido</td>\n",
       "      <td>NaN</td>\n",
       "      <td>NaN</td>\n",
       "      <td>NaN</td>\n",
       "      <td></td>\n",
       "      <td>INSTITUTO DE CIENCIAS FORENSES - TRIBUNAL SUPE...</td>\n",
       "      <td>Sí</td>\n",
       "      <td>2020-03-23 00:00:00</td>\n",
       "      <td>NaN</td>\n",
       "    </tr>\n",
       "    <tr>\n",
       "      <th>2</th>\n",
       "      <td>XX-P003</td>\n",
       "      <td>Ciudad de México</td>\n",
       "      <td>Miguel Hidalgo</td>\n",
       "      <td>Panteón Civil de Dolores</td>\n",
       "      <td>Inhumación</td>\n",
       "      <td>2019-01-26 00:00:00</td>\n",
       "      <td>2018-12-13 00:00:00</td>\n",
       "      <td>NaN</td>\n",
       "      <td>Cadáver</td>\n",
       "      <td>Masculino</td>\n",
       "      <td>NaN</td>\n",
       "      <td>Conocido</td>\n",
       "      <td>Cruz</td>\n",
       "      <td>Lucero</td>\n",
       "      <td>Alberto</td>\n",
       "      <td>Alberto Cruz Lucero</td>\n",
       "      <td>INSTITUTO DE CIENCIAS FORENSES - TRIBUNAL SUPE...</td>\n",
       "      <td>Sí</td>\n",
       "      <td>2020-03-23 00:00:00</td>\n",
       "      <td>NaN</td>\n",
       "    </tr>\n",
       "    <tr>\n",
       "      <th>3</th>\n",
       "      <td>XX-P004</td>\n",
       "      <td>Ciudad de México</td>\n",
       "      <td>Miguel Hidalgo</td>\n",
       "      <td>Panteón Civil de Dolores</td>\n",
       "      <td>Inhumación</td>\n",
       "      <td>2019-01-26 00:00:00</td>\n",
       "      <td>2018-12-14 00:00:00</td>\n",
       "      <td>NaN</td>\n",
       "      <td>Cadáver</td>\n",
       "      <td>Masculino</td>\n",
       "      <td>NaN</td>\n",
       "      <td>Desconocido</td>\n",
       "      <td>NaN</td>\n",
       "      <td>NaN</td>\n",
       "      <td>NaN</td>\n",
       "      <td></td>\n",
       "      <td>INSTITUTO DE CIENCIAS FORENSES - TRIBUNAL SUPE...</td>\n",
       "      <td>Sí</td>\n",
       "      <td>2020-03-23 00:00:00</td>\n",
       "      <td>NaN</td>\n",
       "    </tr>\n",
       "    <tr>\n",
       "      <th>4</th>\n",
       "      <td>XX-P005</td>\n",
       "      <td>Ciudad de México</td>\n",
       "      <td>Miguel Hidalgo</td>\n",
       "      <td>Panteón Civil de Dolores</td>\n",
       "      <td>Inhumación</td>\n",
       "      <td>2019-01-26 00:00:00</td>\n",
       "      <td>2018-12-18 00:00:00</td>\n",
       "      <td>NaN</td>\n",
       "      <td>Cadáver</td>\n",
       "      <td>Masculino</td>\n",
       "      <td>NaN</td>\n",
       "      <td>Desconocido</td>\n",
       "      <td>NaN</td>\n",
       "      <td>NaN</td>\n",
       "      <td>NaN</td>\n",
       "      <td></td>\n",
       "      <td>INSTITUTO DE CIENCIAS FORENSES - TRIBUNAL SUPE...</td>\n",
       "      <td>Sí</td>\n",
       "      <td>2020-03-23 00:00:00</td>\n",
       "      <td>NaN</td>\n",
       "    </tr>\n",
       "    <tr>\n",
       "      <th>...</th>\n",
       "      <td>...</td>\n",
       "      <td>...</td>\n",
       "      <td>...</td>\n",
       "      <td>...</td>\n",
       "      <td>...</td>\n",
       "      <td>...</td>\n",
       "      <td>...</td>\n",
       "      <td>...</td>\n",
       "      <td>...</td>\n",
       "      <td>...</td>\n",
       "      <td>...</td>\n",
       "      <td>...</td>\n",
       "      <td>...</td>\n",
       "      <td>...</td>\n",
       "      <td>...</td>\n",
       "      <td>...</td>\n",
       "      <td>...</td>\n",
       "      <td>...</td>\n",
       "      <td>...</td>\n",
       "      <td>...</td>\n",
       "    </tr>\n",
       "    <tr>\n",
       "      <th>21014</th>\n",
       "      <td>XXII-P1780</td>\n",
       "      <td>Chiapas</td>\n",
       "      <td>San Cristóbal de las Casas</td>\n",
       "      <td>Panteón Municipal</td>\n",
       "      <td>Inhumación</td>\n",
       "      <td>2021-11-20 00:00:00</td>\n",
       "      <td>S/D</td>\n",
       "      <td>NaN</td>\n",
       "      <td>Cadáver</td>\n",
       "      <td>Masculino</td>\n",
       "      <td>NaN</td>\n",
       "      <td>Desconocido</td>\n",
       "      <td>NaN</td>\n",
       "      <td>NaN</td>\n",
       "      <td>NaN</td>\n",
       "      <td></td>\n",
       "      <td>PROCURADURÍA GENERAL DE JUSTICIA DEL ESTADO</td>\n",
       "      <td>Sí</td>\n",
       "      <td>2022-11-03 00:00:00</td>\n",
       "      <td>NaN</td>\n",
       "    </tr>\n",
       "    <tr>\n",
       "      <th>21015</th>\n",
       "      <td>XXII-P1781</td>\n",
       "      <td>Chiapas</td>\n",
       "      <td>San Cristóbal de las Casas</td>\n",
       "      <td>Panteón Municipal</td>\n",
       "      <td>Inhumación</td>\n",
       "      <td>2021-12-15 00:00:00</td>\n",
       "      <td>S/D</td>\n",
       "      <td>NaN</td>\n",
       "      <td>Cadáver</td>\n",
       "      <td>Masculino</td>\n",
       "      <td>NaN</td>\n",
       "      <td>Desconocido</td>\n",
       "      <td>NaN</td>\n",
       "      <td>NaN</td>\n",
       "      <td>NaN</td>\n",
       "      <td></td>\n",
       "      <td>PROCURADURÍA GENERAL DE JUSTICIA DEL ESTADO</td>\n",
       "      <td>Sí</td>\n",
       "      <td>2022-11-03 00:00:00</td>\n",
       "      <td>NaN</td>\n",
       "    </tr>\n",
       "    <tr>\n",
       "      <th>21016</th>\n",
       "      <td>XXII-P1782</td>\n",
       "      <td>Chiapas</td>\n",
       "      <td>San Cristóbal de las Casas</td>\n",
       "      <td>Panteón Municipal</td>\n",
       "      <td>Inhumación</td>\n",
       "      <td>2022-07-13 00:00:00</td>\n",
       "      <td>S/D</td>\n",
       "      <td>NaN</td>\n",
       "      <td>Cadáver</td>\n",
       "      <td>Masculino</td>\n",
       "      <td>50-55</td>\n",
       "      <td>Desconocido</td>\n",
       "      <td>NaN</td>\n",
       "      <td>NaN</td>\n",
       "      <td>NaN</td>\n",
       "      <td></td>\n",
       "      <td>PROCURADURÍA GENERAL DE JUSTICIA DEL ESTADO</td>\n",
       "      <td>Sí</td>\n",
       "      <td>2022-11-03 00:00:00</td>\n",
       "      <td>NaN</td>\n",
       "    </tr>\n",
       "    <tr>\n",
       "      <th>21017</th>\n",
       "      <td>XXII-P1783</td>\n",
       "      <td>Chiapas</td>\n",
       "      <td>San Cristóbal de las Casas</td>\n",
       "      <td>Panteón Municipal</td>\n",
       "      <td>Inhumación</td>\n",
       "      <td>2022-09-16 00:00:00</td>\n",
       "      <td>S/D</td>\n",
       "      <td>NaN</td>\n",
       "      <td>Cadáver</td>\n",
       "      <td>Masculino</td>\n",
       "      <td>45</td>\n",
       "      <td>Desconocido</td>\n",
       "      <td>NaN</td>\n",
       "      <td>NaN</td>\n",
       "      <td>NaN</td>\n",
       "      <td></td>\n",
       "      <td>PROCURADURÍA GENERAL DE JUSTICIA DEL ESTADO</td>\n",
       "      <td>Sí</td>\n",
       "      <td>2022-11-03 00:00:00</td>\n",
       "      <td>NaN</td>\n",
       "    </tr>\n",
       "    <tr>\n",
       "      <th>21018</th>\n",
       "      <td>XXII-P1784</td>\n",
       "      <td>Chiapas</td>\n",
       "      <td>San Cristóbal de las Casas</td>\n",
       "      <td>Panteón Municipal</td>\n",
       "      <td>Inhumación</td>\n",
       "      <td>2022-09-29 00:00:00</td>\n",
       "      <td>S/D</td>\n",
       "      <td>NaN</td>\n",
       "      <td>Cadáver</td>\n",
       "      <td>Masculino</td>\n",
       "      <td>42</td>\n",
       "      <td>Conocido</td>\n",
       "      <td>Guzman</td>\n",
       "      <td>Hernandez</td>\n",
       "      <td>Juan</td>\n",
       "      <td>Juan Guzman Hernandez</td>\n",
       "      <td>PROCURADURÍA GENERAL DE JUSTICIA DEL ESTADO</td>\n",
       "      <td>Sí</td>\n",
       "      <td>2022-11-03 00:00:00</td>\n",
       "      <td>NaN</td>\n",
       "    </tr>\n",
       "  </tbody>\n",
       "</table>\n",
       "<p>21019 rows × 20 columns</p>\n",
       "</div>"
      ],
      "text/plain": [
       "               ID     Estado_origen            Municipio_origen  \\\n",
       "0         XX-P001  Ciudad de México              Miguel Hidalgo   \n",
       "1         XX-P002  Ciudad de México              Miguel Hidalgo   \n",
       "2         XX-P003  Ciudad de México              Miguel Hidalgo   \n",
       "3         XX-P004  Ciudad de México              Miguel Hidalgo   \n",
       "4         XX-P005  Ciudad de México              Miguel Hidalgo   \n",
       "...           ...               ...                         ...   \n",
       "21014  XXII-P1780           Chiapas  San Cristóbal de las Casas   \n",
       "21015  XXII-P1781           Chiapas  San Cristóbal de las Casas   \n",
       "21016  XXII-P1782           Chiapas  San Cristóbal de las Casas   \n",
       "21017  XXII-P1783           Chiapas  San Cristóbal de las Casas   \n",
       "21018  XXII-P1784           Chiapas  San Cristóbal de las Casas   \n",
       "\n",
       "                 Panteón_origen  Estatus_FC     Fecha_inhumación  \\\n",
       "0      Panteón Civil de Dolores  Inhumación  2019-01-30 00:00:00   \n",
       "1      Panteón Civil de Dolores  Inhumación  2019-01-26 00:00:00   \n",
       "2      Panteón Civil de Dolores  Inhumación  2019-01-26 00:00:00   \n",
       "3      Panteón Civil de Dolores  Inhumación  2019-01-26 00:00:00   \n",
       "4      Panteón Civil de Dolores  Inhumación  2019-01-26 00:00:00   \n",
       "...                         ...         ...                  ...   \n",
       "21014         Panteón Municipal  Inhumación  2021-11-20 00:00:00   \n",
       "21015         Panteón Municipal  Inhumación  2021-12-15 00:00:00   \n",
       "21016         Panteón Municipal  Inhumación  2022-07-13 00:00:00   \n",
       "21017         Panteón Municipal  Inhumación  2022-09-16 00:00:00   \n",
       "21018         Panteón Municipal  Inhumación  2022-09-29 00:00:00   \n",
       "\n",
       "           Fecha_defunción Fecha_exhumación      Restos_tipo       Sexo  \\\n",
       "0      2018-03-04 00:00:00              NaN  Restos cremados  Masculino   \n",
       "1      2018-12-12 00:00:00              NaN          Cadáver  Masculino   \n",
       "2      2018-12-13 00:00:00              NaN          Cadáver  Masculino   \n",
       "3      2018-12-14 00:00:00              NaN          Cadáver  Masculino   \n",
       "4      2018-12-18 00:00:00              NaN          Cadáver  Masculino   \n",
       "...                    ...              ...              ...        ...   \n",
       "21014                  S/D              NaN          Cadáver  Masculino   \n",
       "21015                  S/D              NaN          Cadáver  Masculino   \n",
       "21016                  S/D              NaN          Cadáver  Masculino   \n",
       "21017                  S/D              NaN          Cadáver  Masculino   \n",
       "21018                  S/D              NaN          Cadáver  Masculino   \n",
       "\n",
       "        Edad Conocido_Desconocido Primer apellido Segundo Apellido Nombre(s)  \\\n",
       "0         55          Desconocido             NaN              NaN       NaN   \n",
       "1        NaN          Desconocido             NaN              NaN       NaN   \n",
       "2        NaN             Conocido            Cruz           Lucero   Alberto   \n",
       "3        NaN          Desconocido             NaN              NaN       NaN   \n",
       "4        NaN          Desconocido             NaN              NaN       NaN   \n",
       "...      ...                  ...             ...              ...       ...   \n",
       "21014    NaN          Desconocido             NaN              NaN       NaN   \n",
       "21015    NaN          Desconocido             NaN              NaN       NaN   \n",
       "21016  50-55          Desconocido             NaN              NaN       NaN   \n",
       "21017     45          Desconocido             NaN              NaN       NaN   \n",
       "21018     42             Conocido          Guzman        Hernandez      Juan   \n",
       "\n",
       "             Nombre completo  \\\n",
       "0                              \n",
       "1                              \n",
       "2        Alberto Cruz Lucero   \n",
       "3                              \n",
       "4                              \n",
       "...                      ...   \n",
       "21014                          \n",
       "21015                          \n",
       "21016                          \n",
       "21017                          \n",
       "21018  Juan Guzman Hernandez   \n",
       "\n",
       "                                      Institución_origen Rdoc  \\\n",
       "0            UNIVERSIDAD WESTHILL - FACULTAD DE MEDICINA   Sí   \n",
       "1      INSTITUTO DE CIENCIAS FORENSES - TRIBUNAL SUPE...   Sí   \n",
       "2      INSTITUTO DE CIENCIAS FORENSES - TRIBUNAL SUPE...   Sí   \n",
       "3      INSTITUTO DE CIENCIAS FORENSES - TRIBUNAL SUPE...   Sí   \n",
       "4      INSTITUTO DE CIENCIAS FORENSES - TRIBUNAL SUPE...   Sí   \n",
       "...                                                  ...  ...   \n",
       "21014        PROCURADURÍA GENERAL DE JUSTICIA DEL ESTADO   Sí   \n",
       "21015        PROCURADURÍA GENERAL DE JUSTICIA DEL ESTADO   Sí   \n",
       "21016        PROCURADURÍA GENERAL DE JUSTICIA DEL ESTADO   Sí   \n",
       "21017        PROCURADURÍA GENERAL DE JUSTICIA DEL ESTADO   Sí   \n",
       "21018        PROCURADURÍA GENERAL DE JUSTICIA DEL ESTADO   Sí   \n",
       "\n",
       "            Marca_temporal  Datos alternativos  \n",
       "0      2020-03-23 00:00:00                 NaN  \n",
       "1      2020-03-23 00:00:00                 NaN  \n",
       "2      2020-03-23 00:00:00                 NaN  \n",
       "3      2020-03-23 00:00:00                 NaN  \n",
       "4      2020-03-23 00:00:00                 NaN  \n",
       "...                    ...                 ...  \n",
       "21014  2022-11-03 00:00:00                 NaN  \n",
       "21015  2022-11-03 00:00:00                 NaN  \n",
       "21016  2022-11-03 00:00:00                 NaN  \n",
       "21017  2022-11-03 00:00:00                 NaN  \n",
       "21018  2022-11-03 00:00:00                 NaN  \n",
       "\n",
       "[21019 rows x 20 columns]"
      ]
     },
     "execution_count": 4,
     "metadata": {},
     "output_type": "execute_result"
    }
   ],
   "source": [
    "df = pd.read_excel('data_raw/Modulo-de-Fosas-Comunes_actualizacion24nov2022_VD.xlsx', sheet_name=\"MFC\")\n",
    "df"
   ]
  },
  {
   "cell_type": "markdown",
   "metadata": {},
   "source": [
    "Esto nos muestra la tabla, pero ya que esta es muy grande solo nos muestra las primeras y últimas filas, representando las faltantes con _..._ .\n",
    "\n",
    "Esta tabla es demasiado larga, por lo que solo trabajaremos con las primeras mil filas en este tutorial.\n",
    "\n",
    "\n",
    "### Ejercicio 4\n",
    "\n",
    "Lee la documentación de la función read_excel y carga solo las primeras mil filas de la tabla."
   ]
  },
  {
   "cell_type": "code",
   "execution_count": 5,
   "metadata": {},
   "outputs": [
    {
     "data": {
      "text/html": [
       "<div>\n",
       "<style scoped>\n",
       "    .dataframe tbody tr th:only-of-type {\n",
       "        vertical-align: middle;\n",
       "    }\n",
       "\n",
       "    .dataframe tbody tr th {\n",
       "        vertical-align: top;\n",
       "    }\n",
       "\n",
       "    .dataframe thead th {\n",
       "        text-align: right;\n",
       "    }\n",
       "</style>\n",
       "<table border=\"1\" class=\"dataframe\">\n",
       "  <thead>\n",
       "    <tr style=\"text-align: right;\">\n",
       "      <th></th>\n",
       "      <th>ID</th>\n",
       "      <th>Estado_origen</th>\n",
       "      <th>Municipio_origen</th>\n",
       "      <th>Panteón_origen</th>\n",
       "      <th>Estatus_FC</th>\n",
       "      <th>Fecha_inhumación</th>\n",
       "      <th>Fecha_defunción</th>\n",
       "      <th>Fecha_exhumación</th>\n",
       "      <th>Restos_tipo</th>\n",
       "      <th>Sexo</th>\n",
       "      <th>Edad</th>\n",
       "      <th>Conocido_Desconocido</th>\n",
       "      <th>Primer apellido</th>\n",
       "      <th>Segundo Apellido</th>\n",
       "      <th>Nombre(s)</th>\n",
       "      <th>Nombre completo</th>\n",
       "      <th>Institución_origen</th>\n",
       "      <th>Rdoc</th>\n",
       "      <th>Marca_temporal</th>\n",
       "      <th>Datos alternativos</th>\n",
       "    </tr>\n",
       "  </thead>\n",
       "  <tbody>\n",
       "    <tr>\n",
       "      <th>0</th>\n",
       "      <td>XX-P001</td>\n",
       "      <td>Ciudad de México</td>\n",
       "      <td>Miguel Hidalgo</td>\n",
       "      <td>Panteón Civil de Dolores</td>\n",
       "      <td>Inhumación</td>\n",
       "      <td>2019-01-30</td>\n",
       "      <td>2018-03-04 00:00:00</td>\n",
       "      <td>NaT</td>\n",
       "      <td>Restos cremados</td>\n",
       "      <td>Masculino</td>\n",
       "      <td>55</td>\n",
       "      <td>Desconocido</td>\n",
       "      <td>NaN</td>\n",
       "      <td>NaN</td>\n",
       "      <td>NaN</td>\n",
       "      <td></td>\n",
       "      <td>UNIVERSIDAD WESTHILL - FACULTAD DE MEDICINA</td>\n",
       "      <td>Sí</td>\n",
       "      <td>2020-03-23 00:00:00.000</td>\n",
       "      <td>NaN</td>\n",
       "    </tr>\n",
       "    <tr>\n",
       "      <th>1</th>\n",
       "      <td>XX-P002</td>\n",
       "      <td>Ciudad de México</td>\n",
       "      <td>Miguel Hidalgo</td>\n",
       "      <td>Panteón Civil de Dolores</td>\n",
       "      <td>Inhumación</td>\n",
       "      <td>2019-01-26</td>\n",
       "      <td>2018-12-12 00:00:00</td>\n",
       "      <td>NaT</td>\n",
       "      <td>Cadáver</td>\n",
       "      <td>Masculino</td>\n",
       "      <td>NaN</td>\n",
       "      <td>Desconocido</td>\n",
       "      <td>NaN</td>\n",
       "      <td>NaN</td>\n",
       "      <td>NaN</td>\n",
       "      <td></td>\n",
       "      <td>INSTITUTO DE CIENCIAS FORENSES - TRIBUNAL SUPE...</td>\n",
       "      <td>Sí</td>\n",
       "      <td>2020-03-23 00:00:00.000</td>\n",
       "      <td>NaN</td>\n",
       "    </tr>\n",
       "    <tr>\n",
       "      <th>2</th>\n",
       "      <td>XX-P003</td>\n",
       "      <td>Ciudad de México</td>\n",
       "      <td>Miguel Hidalgo</td>\n",
       "      <td>Panteón Civil de Dolores</td>\n",
       "      <td>Inhumación</td>\n",
       "      <td>2019-01-26</td>\n",
       "      <td>2018-12-13 00:00:00</td>\n",
       "      <td>NaT</td>\n",
       "      <td>Cadáver</td>\n",
       "      <td>Masculino</td>\n",
       "      <td>NaN</td>\n",
       "      <td>Conocido</td>\n",
       "      <td>Cruz</td>\n",
       "      <td>Lucero</td>\n",
       "      <td>Alberto</td>\n",
       "      <td>Alberto Cruz Lucero</td>\n",
       "      <td>INSTITUTO DE CIENCIAS FORENSES - TRIBUNAL SUPE...</td>\n",
       "      <td>Sí</td>\n",
       "      <td>2020-03-23 00:00:00.000</td>\n",
       "      <td>NaN</td>\n",
       "    </tr>\n",
       "    <tr>\n",
       "      <th>3</th>\n",
       "      <td>XX-P004</td>\n",
       "      <td>Ciudad de México</td>\n",
       "      <td>Miguel Hidalgo</td>\n",
       "      <td>Panteón Civil de Dolores</td>\n",
       "      <td>Inhumación</td>\n",
       "      <td>2019-01-26</td>\n",
       "      <td>2018-12-14 00:00:00</td>\n",
       "      <td>NaT</td>\n",
       "      <td>Cadáver</td>\n",
       "      <td>Masculino</td>\n",
       "      <td>NaN</td>\n",
       "      <td>Desconocido</td>\n",
       "      <td>NaN</td>\n",
       "      <td>NaN</td>\n",
       "      <td>NaN</td>\n",
       "      <td></td>\n",
       "      <td>INSTITUTO DE CIENCIAS FORENSES - TRIBUNAL SUPE...</td>\n",
       "      <td>Sí</td>\n",
       "      <td>2020-03-23 00:00:00.000</td>\n",
       "      <td>NaN</td>\n",
       "    </tr>\n",
       "    <tr>\n",
       "      <th>4</th>\n",
       "      <td>XX-P005</td>\n",
       "      <td>Ciudad de México</td>\n",
       "      <td>Miguel Hidalgo</td>\n",
       "      <td>Panteón Civil de Dolores</td>\n",
       "      <td>Inhumación</td>\n",
       "      <td>2019-01-26</td>\n",
       "      <td>2018-12-18 00:00:00</td>\n",
       "      <td>NaT</td>\n",
       "      <td>Cadáver</td>\n",
       "      <td>Masculino</td>\n",
       "      <td>NaN</td>\n",
       "      <td>Desconocido</td>\n",
       "      <td>NaN</td>\n",
       "      <td>NaN</td>\n",
       "      <td>NaN</td>\n",
       "      <td></td>\n",
       "      <td>INSTITUTO DE CIENCIAS FORENSES - TRIBUNAL SUPE...</td>\n",
       "      <td>Sí</td>\n",
       "      <td>2020-03-23 00:00:00.000</td>\n",
       "      <td>NaN</td>\n",
       "    </tr>\n",
       "    <tr>\n",
       "      <th>...</th>\n",
       "      <td>...</td>\n",
       "      <td>...</td>\n",
       "      <td>...</td>\n",
       "      <td>...</td>\n",
       "      <td>...</td>\n",
       "      <td>...</td>\n",
       "      <td>...</td>\n",
       "      <td>...</td>\n",
       "      <td>...</td>\n",
       "      <td>...</td>\n",
       "      <td>...</td>\n",
       "      <td>...</td>\n",
       "      <td>...</td>\n",
       "      <td>...</td>\n",
       "      <td>...</td>\n",
       "      <td>...</td>\n",
       "      <td>...</td>\n",
       "      <td>...</td>\n",
       "      <td>...</td>\n",
       "      <td>...</td>\n",
       "    </tr>\n",
       "    <tr>\n",
       "      <th>995</th>\n",
       "      <td>XX-P996</td>\n",
       "      <td>Ciudad de México</td>\n",
       "      <td>Miguel Hidalgo</td>\n",
       "      <td>Panteón Civil de Dolores</td>\n",
       "      <td>Inhumación</td>\n",
       "      <td>2018-09-01</td>\n",
       "      <td>S/D</td>\n",
       "      <td>NaT</td>\n",
       "      <td>Cadáver</td>\n",
       "      <td>Masculino</td>\n",
       "      <td>42</td>\n",
       "      <td>Conocido</td>\n",
       "      <td>Flores</td>\n",
       "      <td>Rosette</td>\n",
       "      <td>Sergio</td>\n",
       "      <td>Sergio Flores Rosette</td>\n",
       "      <td>UNIVERSIDAD NACIONAL AUTÓNOMA DE MÉXICO - FACU...</td>\n",
       "      <td>Sí</td>\n",
       "      <td>2020-04-06 21:19:52.451</td>\n",
       "      <td>NaN</td>\n",
       "    </tr>\n",
       "    <tr>\n",
       "      <th>996</th>\n",
       "      <td>XX-P997</td>\n",
       "      <td>Ciudad de México</td>\n",
       "      <td>Miguel Hidalgo</td>\n",
       "      <td>Panteón Civil de Dolores</td>\n",
       "      <td>Inhumación</td>\n",
       "      <td>2018-09-01</td>\n",
       "      <td>2017-10-27 00:00:00</td>\n",
       "      <td>NaT</td>\n",
       "      <td>Cadáver</td>\n",
       "      <td>Masculino</td>\n",
       "      <td>64</td>\n",
       "      <td>Conocido</td>\n",
       "      <td>Juárez</td>\n",
       "      <td>Chávez</td>\n",
       "      <td>Juan Carlos</td>\n",
       "      <td>Juan Carlos Juárez Chávez</td>\n",
       "      <td>UNIVERSIDAD NACIONAL AUTÓNOMA DE MÉXICO - FACU...</td>\n",
       "      <td>Sí</td>\n",
       "      <td>2020-04-06 21:22:53.304</td>\n",
       "      <td>NaN</td>\n",
       "    </tr>\n",
       "    <tr>\n",
       "      <th>997</th>\n",
       "      <td>XX-P998</td>\n",
       "      <td>Ciudad de México</td>\n",
       "      <td>Miguel Hidalgo</td>\n",
       "      <td>Panteón Civil de Dolores</td>\n",
       "      <td>Inhumación</td>\n",
       "      <td>2018-09-01</td>\n",
       "      <td>2018-08-18 00:00:00</td>\n",
       "      <td>NaT</td>\n",
       "      <td>Cadáver</td>\n",
       "      <td>Masculino</td>\n",
       "      <td>NaN</td>\n",
       "      <td>Desconocido</td>\n",
       "      <td>NaN</td>\n",
       "      <td>NaN</td>\n",
       "      <td>NaN</td>\n",
       "      <td></td>\n",
       "      <td>INSTITUTO DE CIENCIAS FORENSES - TRIBUNAL SUPE...</td>\n",
       "      <td>Sí</td>\n",
       "      <td>2020-04-06 21:30:12.169</td>\n",
       "      <td>NaN</td>\n",
       "    </tr>\n",
       "    <tr>\n",
       "      <th>998</th>\n",
       "      <td>XX-P999</td>\n",
       "      <td>Ciudad de México</td>\n",
       "      <td>Miguel Hidalgo</td>\n",
       "      <td>Panteón Civil de Dolores</td>\n",
       "      <td>Inhumación</td>\n",
       "      <td>2018-09-01</td>\n",
       "      <td>2018-05-22 00:00:00</td>\n",
       "      <td>NaT</td>\n",
       "      <td>Cadáver</td>\n",
       "      <td>Femenino</td>\n",
       "      <td>1</td>\n",
       "      <td>Desconocido</td>\n",
       "      <td>NaN</td>\n",
       "      <td>NaN</td>\n",
       "      <td>NaN</td>\n",
       "      <td></td>\n",
       "      <td>INSTITUTO DE CIENCIAS FORENSES - TRIBUNAL SUPE...</td>\n",
       "      <td>Sí</td>\n",
       "      <td>2020-04-06 21:32:30.839</td>\n",
       "      <td>NaN</td>\n",
       "    </tr>\n",
       "    <tr>\n",
       "      <th>999</th>\n",
       "      <td>XX-P1000</td>\n",
       "      <td>Ciudad de México</td>\n",
       "      <td>Miguel Hidalgo</td>\n",
       "      <td>Panteón Civil de Dolores</td>\n",
       "      <td>Inhumación</td>\n",
       "      <td>2018-09-01</td>\n",
       "      <td>2018-05-29 00:00:00</td>\n",
       "      <td>NaT</td>\n",
       "      <td>Cadáver</td>\n",
       "      <td>Masculino</td>\n",
       "      <td>NaN</td>\n",
       "      <td>Desconocido</td>\n",
       "      <td>NaN</td>\n",
       "      <td>NaN</td>\n",
       "      <td>NaN</td>\n",
       "      <td></td>\n",
       "      <td>INSTITUTO DE CIENCIAS FORENSES - TRIBUNAL SUPE...</td>\n",
       "      <td>Sí</td>\n",
       "      <td>2020-04-06 21:35:23.157</td>\n",
       "      <td>NaN</td>\n",
       "    </tr>\n",
       "  </tbody>\n",
       "</table>\n",
       "<p>1000 rows × 20 columns</p>\n",
       "</div>"
      ],
      "text/plain": [
       "           ID     Estado_origen Municipio_origen            Panteón_origen  \\\n",
       "0     XX-P001  Ciudad de México   Miguel Hidalgo  Panteón Civil de Dolores   \n",
       "1     XX-P002  Ciudad de México   Miguel Hidalgo  Panteón Civil de Dolores   \n",
       "2     XX-P003  Ciudad de México   Miguel Hidalgo  Panteón Civil de Dolores   \n",
       "3     XX-P004  Ciudad de México   Miguel Hidalgo  Panteón Civil de Dolores   \n",
       "4     XX-P005  Ciudad de México   Miguel Hidalgo  Panteón Civil de Dolores   \n",
       "..        ...               ...              ...                       ...   \n",
       "995   XX-P996  Ciudad de México   Miguel Hidalgo  Panteón Civil de Dolores   \n",
       "996   XX-P997  Ciudad de México   Miguel Hidalgo  Panteón Civil de Dolores   \n",
       "997   XX-P998  Ciudad de México   Miguel Hidalgo  Panteón Civil de Dolores   \n",
       "998   XX-P999  Ciudad de México   Miguel Hidalgo  Panteón Civil de Dolores   \n",
       "999  XX-P1000  Ciudad de México   Miguel Hidalgo  Panteón Civil de Dolores   \n",
       "\n",
       "     Estatus_FC Fecha_inhumación      Fecha_defunción Fecha_exhumación  \\\n",
       "0    Inhumación       2019-01-30  2018-03-04 00:00:00              NaT   \n",
       "1    Inhumación       2019-01-26  2018-12-12 00:00:00              NaT   \n",
       "2    Inhumación       2019-01-26  2018-12-13 00:00:00              NaT   \n",
       "3    Inhumación       2019-01-26  2018-12-14 00:00:00              NaT   \n",
       "4    Inhumación       2019-01-26  2018-12-18 00:00:00              NaT   \n",
       "..          ...              ...                  ...              ...   \n",
       "995  Inhumación       2018-09-01                  S/D              NaT   \n",
       "996  Inhumación       2018-09-01  2017-10-27 00:00:00              NaT   \n",
       "997  Inhumación       2018-09-01  2018-08-18 00:00:00              NaT   \n",
       "998  Inhumación       2018-09-01  2018-05-22 00:00:00              NaT   \n",
       "999  Inhumación       2018-09-01  2018-05-29 00:00:00              NaT   \n",
       "\n",
       "         Restos_tipo       Sexo Edad Conocido_Desconocido Primer apellido  \\\n",
       "0    Restos cremados  Masculino   55          Desconocido             NaN   \n",
       "1            Cadáver  Masculino  NaN          Desconocido             NaN   \n",
       "2            Cadáver  Masculino  NaN             Conocido            Cruz   \n",
       "3            Cadáver  Masculino  NaN          Desconocido             NaN   \n",
       "4            Cadáver  Masculino  NaN          Desconocido             NaN   \n",
       "..               ...        ...  ...                  ...             ...   \n",
       "995          Cadáver  Masculino   42             Conocido          Flores   \n",
       "996          Cadáver  Masculino   64             Conocido          Juárez   \n",
       "997          Cadáver  Masculino  NaN          Desconocido             NaN   \n",
       "998          Cadáver   Femenino    1          Desconocido             NaN   \n",
       "999          Cadáver  Masculino  NaN          Desconocido             NaN   \n",
       "\n",
       "    Segundo Apellido    Nombre(s)            Nombre completo  \\\n",
       "0                NaN          NaN                              \n",
       "1                NaN          NaN                              \n",
       "2             Lucero      Alberto        Alberto Cruz Lucero   \n",
       "3                NaN          NaN                              \n",
       "4                NaN          NaN                              \n",
       "..               ...          ...                        ...   \n",
       "995          Rosette       Sergio      Sergio Flores Rosette   \n",
       "996           Chávez  Juan Carlos  Juan Carlos Juárez Chávez   \n",
       "997              NaN          NaN                              \n",
       "998              NaN          NaN                              \n",
       "999              NaN          NaN                              \n",
       "\n",
       "                                    Institución_origen Rdoc  \\\n",
       "0          UNIVERSIDAD WESTHILL - FACULTAD DE MEDICINA   Sí   \n",
       "1    INSTITUTO DE CIENCIAS FORENSES - TRIBUNAL SUPE...   Sí   \n",
       "2    INSTITUTO DE CIENCIAS FORENSES - TRIBUNAL SUPE...   Sí   \n",
       "3    INSTITUTO DE CIENCIAS FORENSES - TRIBUNAL SUPE...   Sí   \n",
       "4    INSTITUTO DE CIENCIAS FORENSES - TRIBUNAL SUPE...   Sí   \n",
       "..                                                 ...  ...   \n",
       "995  UNIVERSIDAD NACIONAL AUTÓNOMA DE MÉXICO - FACU...   Sí   \n",
       "996  UNIVERSIDAD NACIONAL AUTÓNOMA DE MÉXICO - FACU...   Sí   \n",
       "997  INSTITUTO DE CIENCIAS FORENSES - TRIBUNAL SUPE...   Sí   \n",
       "998  INSTITUTO DE CIENCIAS FORENSES - TRIBUNAL SUPE...   Sí   \n",
       "999  INSTITUTO DE CIENCIAS FORENSES - TRIBUNAL SUPE...   Sí   \n",
       "\n",
       "             Marca_temporal  Datos alternativos  \n",
       "0   2020-03-23 00:00:00.000                 NaN  \n",
       "1   2020-03-23 00:00:00.000                 NaN  \n",
       "2   2020-03-23 00:00:00.000                 NaN  \n",
       "3   2020-03-23 00:00:00.000                 NaN  \n",
       "4   2020-03-23 00:00:00.000                 NaN  \n",
       "..                      ...                 ...  \n",
       "995 2020-04-06 21:19:52.451                 NaN  \n",
       "996 2020-04-06 21:22:53.304                 NaN  \n",
       "997 2020-04-06 21:30:12.169                 NaN  \n",
       "998 2020-04-06 21:32:30.839                 NaN  \n",
       "999 2020-04-06 21:35:23.157                 NaN  \n",
       "\n",
       "[1000 rows x 20 columns]"
      ]
     },
     "execution_count": 5,
     "metadata": {},
     "output_type": "execute_result"
    }
   ],
   "source": [
    "df = pd.read_excel('data_raw/Modulo-de-Fosas-Comunes_actualizacion24nov2022_VD.xlsx', \n",
    "                   sheet_name=\"MFC\", nrows=1000)\n",
    "df"
   ]
  },
  {
   "cell_type": "markdown",
   "metadata": {},
   "source": [
    "<a id='exploracion'></a>"
   ]
  },
  {
   "cell_type": "markdown",
   "metadata": {
    "tags": []
   },
   "source": [
    "## 2.2 Exploración básica\n",
    "\n",
    "Lo primero que debemos hacer es familiarizarnos con los datos. Esto se conoce como Análisis exploratorio de los datos. \n",
    "\n",
    "Existe una serie de herramientas que se especializa en eso, una de las cuales es [ydata-profiling](https://ydata-profiling.ydata.ai/docs/master/index.html)."
   ]
  },
  {
   "cell_type": "code",
   "execution_count": 7,
   "metadata": {},
   "outputs": [],
   "source": [
    "from ydata_profiling import ProfileReport\n",
    "\n",
    "out_file = \"profiles/MFC_profile.html\"\n",
    "prof = ProfileReport(df) "
   ]
  },
  {
   "cell_type": "markdown",
   "metadata": {},
   "source": [
    "Podemos ver el profile como un widget interactivo dentro del notebook."
   ]
  },
  {
   "cell_type": "code",
   "execution_count": 8,
   "metadata": {},
   "outputs": [
    {
     "data": {
      "application/vnd.jupyter.widget-view+json": {
       "model_id": "31f6e6a1cc204fb7a1a780c12448c905",
       "version_major": 2,
       "version_minor": 0
      },
      "text/plain": [
       "Summarize dataset:   0%|          | 0/5 [00:00<?, ?it/s]"
      ]
     },
     "metadata": {},
     "output_type": "display_data"
    },
    {
     "data": {
      "application/vnd.jupyter.widget-view+json": {
       "model_id": "d915552c9d164f258381e03447b8ba72",
       "version_major": 2,
       "version_minor": 0
      },
      "text/plain": [
       "Generate report structure:   0%|          | 0/1 [00:00<?, ?it/s]"
      ]
     },
     "metadata": {},
     "output_type": "display_data"
    },
    {
     "data": {
      "application/vnd.jupyter.widget-view+json": {
       "model_id": "",
       "version_major": 2,
       "version_minor": 0
      },
      "text/plain": [
       "Render widgets:   0%|          | 0/1 [00:00<?, ?it/s]"
      ]
     },
     "metadata": {},
     "output_type": "display_data"
    },
    {
     "data": {
      "application/vnd.jupyter.widget-view+json": {
       "model_id": "c05ddfc7cacf49659c9c467b0e3b2d8d",
       "version_major": 2,
       "version_minor": 0
      },
      "text/plain": [
       "VBox(children=(Tab(children=(Tab(children=(GridBox(children=(VBox(children=(GridspecLayout(children=(HTML(valu…"
      ]
     },
     "metadata": {},
     "output_type": "display_data"
    }
   ],
   "source": [
    "prof.to_widgets()"
   ]
  },
  {
   "cell_type": "markdown",
   "metadata": {},
   "source": [
    "También podemos guardarlo como un archivo html."
   ]
  },
  {
   "cell_type": "code",
   "execution_count": null,
   "metadata": {},
   "outputs": [],
   "source": [
    "prof.to_file(output_file=out_file)"
   ]
  },
  {
   "cell_type": "markdown",
   "metadata": {},
   "source": [
    "## 2.3 Navegando un dataframe\n",
    "\n",
    "### Estructura de una tabla \n",
    "\n",
    "Una tabla de pandas o dataframe consta de varios elementos:\n",
    "* Nombres de columnas, las cuales pueden ser vistas como la primera fila en letras negritas. Para verlas usa _.columns_.\n",
    "* Nombres de filas, las cuales pueden ser vistas como la primera columna, la cual carece de nombre. Para verlas usa _.index_.\n",
    "* Valores, los datos dentro de la tabla. Para verlas usa _.values_.\n",
    "* El número de filas y columnas total. Para verla usa _.shape_.\n",
    "* Tipo de datos de cada columna. Para verla usa _.dtype_.\n",
    "\n",
    "Con el fin de conocer el nombre de las columnas usaremos la opción _.columns_. Es importante notar que esta opción no tiene paréntesis no corchetes, ya que es un elemento del objeto."
   ]
  },
  {
   "cell_type": "code",
   "execution_count": null,
   "metadata": {},
   "outputs": [],
   "source": [
    "df_vic.columns"
   ]
  },
  {
   "cell_type": "markdown",
   "metadata": {},
   "source": [
    "Podemos observar que los datos contienen información sobre:\n",
    "* idCarpeta: folio de la carpeta de investigación\n",
    "* Tipo de delito ('Delito', 'Categoria', 'ClasificacionDelito')\n",
    "* Fecha de ocurrencia del delito ('FechaHecho', 'Año_hecho', 'Mes_hecho')\n",
    "* Características de la víctima ('Sexo', 'Edad', 'TipoPersona', 'CalidadJuridica')\n",
    "* Lugar de ocurrencia del delito ('lon', 'lat', 'Geopoint')\n",
    "\n",
    "### Ejercicio 3\n",
    "\n",
    "Usa cada una de las opciones mencionadas en esta sección y describe que regresa."
   ]
  },
  {
   "cell_type": "markdown",
   "metadata": {},
   "source": [
    "### Slicing\n",
    "\n",
    "Muchas veces no queremos trabajar sobre toda la tabla de datos, en su lugar queremos usar unicamente una fracción de ella. Para ello, existen varias formas de selecionar partes de una tabla.\n",
    "\n",
    "Por ejemplo, la función _.head()_ devuelve las primeras filas de la tabla. Por defecto estos comandos muestran solo cinco filas, pero es posible cambiar el número de filas poniendo un número entre paréntesis.\n",
    "Si queremos ver las últimas filas se puede usar el comando _.tail()_. "
   ]
  },
  {
   "cell_type": "code",
   "execution_count": null,
   "metadata": {},
   "outputs": [],
   "source": [
    "df_vic.head()"
   ]
  },
  {
   "cell_type": "markdown",
   "metadata": {},
   "source": [
    "Para ver una columna específica se pone el nombre del dataframe seguido por corchetes con el nombre de la columna. Una sola columna es del tipo _series_. Por ejemplo, para ver la columna de la categoria de los delitos ponemos su nombre 'Categoria' entre corchetes. Esto es similar a la forma en la que se seleccionan elementos en listas o diccionarios."
   ]
  },
  {
   "cell_type": "code",
   "execution_count": null,
   "metadata": {},
   "outputs": [],
   "source": [
    "df_vic['Categoria']"
   ]
  },
  {
   "cell_type": "markdown",
   "metadata": {},
   "source": [
    "Se pueden seleccionar varias columnas a la vez, poniendo sus nombres en una lista dentro de corchetes. Lo anterior significa que para seleccionar varias columnas hay que usar corchetes dobles."
   ]
  },
  {
   "cell_type": "code",
   "execution_count": null,
   "metadata": {},
   "outputs": [],
   "source": [
    "df_vic[['Categoria','Sexo']]"
   ]
  },
  {
   "cell_type": "markdown",
   "metadata": {},
   "source": [
    "La primera columna que podemos observar en la tabla y carece de nombre, es el índice de las filas. Por default, pandas asigna números de identificación a cada una de las filas, empezando por el cero . Podemos seleccionar filas con el comando _loc_ más el número de posición de la fila, sin olvidar que la numeración empieza en 0. Por ejemplo, seleccionemos la novena fila."
   ]
  },
  {
   "cell_type": "code",
   "execution_count": null,
   "metadata": {},
   "outputs": [],
   "source": [
    "df_vic.loc[9]"
   ]
  },
  {
   "cell_type": "markdown",
   "metadata": {},
   "source": [
    "De la misma manera, se pueden seleccionar varias filas usando una lista."
   ]
  },
  {
   "cell_type": "code",
   "execution_count": null,
   "metadata": {},
   "outputs": [],
   "source": [
    "df_vic.loc[[9, 13, 62,201]]"
   ]
  },
  {
   "cell_type": "markdown",
   "metadata": {},
   "source": [
    "Este comando también se puede usar para seleccionar un conjunto de filas y columnas específico. Para hacerlo se utiliza el formato: _df.loc[filas, columnas]_"
   ]
  },
  {
   "cell_type": "code",
   "execution_count": null,
   "metadata": {},
   "outputs": [],
   "source": [
    "df_vic.loc[[9, 13, 62,201], ['Categoria','Sexo']]"
   ]
  },
  {
   "cell_type": "markdown",
   "metadata": {},
   "source": [
    "### Subsetting\n",
    "\n",
    "Es posible seleccionar los datos de acuerdo a una (o más) condición. \n",
    "\n",
    "Por ejemplo para seleccionar todos los delitos que afectan a mujeres buscamos las filas donde el 'Sexo' es 'Femenino' con la condición:"
   ]
  },
  {
   "cell_type": "code",
   "execution_count": null,
   "metadata": {},
   "outputs": [],
   "source": [
    "df_vic['Sexo']=='Femenino'"
   ]
  },
  {
   "cell_type": "markdown",
   "metadata": {},
   "source": [
    "Esta condicion nos dice para cada fila si el valos es 'Femenino', si ponemos esto dentro de _.loc[]_ podemos usarlo para encontrar las filas de víctimas de mujeres"
   ]
  },
  {
   "cell_type": "code",
   "execution_count": null,
   "metadata": {},
   "outputs": [],
   "source": [
    "df_vic.loc[ df_vic['Sexo']=='Femenino' ]"
   ]
  },
  {
   "cell_type": "markdown",
   "metadata": {},
   "source": [
    "Para seleccionar los delitos que NO afectan a las mujeres buscamos aquellos donde el sexo es diferenente (_!=_) a 'Femenino'"
   ]
  },
  {
   "cell_type": "code",
   "execution_count": null,
   "metadata": {},
   "outputs": [],
   "source": [
    "df_vic[df_vic['Sexo']!='Femenino']"
   ]
  },
  {
   "cell_type": "markdown",
   "metadata": {},
   "source": [
    "En varios casos podemos ver que no hay datos sobre el sexo de la victima, lo cual se representa con _NaN_. Para ver las filas con valor _NaN_ se usa la función _isna()_.\n",
    "\n",
    "Lo anterior puede representar un problema, ya que significa que los datos son incompletos y generalmente es necesario procesarlos como veremos mas adelante."
   ]
  },
  {
   "cell_type": "code",
   "execution_count": null,
   "metadata": {},
   "outputs": [],
   "source": [
    "df_vic[df_vic['Sexo'].isna()]"
   ]
  },
  {
   "cell_type": "markdown",
   "metadata": {},
   "source": [
    "Si los datos son numéricos es posible usar operaciones como mayor, menor o igual para seleccionar con esas condiciones. Por ejemplo para ver los delitos que suceden a gente menor de edad podriamos buscar todos las filas donde el valor de la edad es menor que 18."
   ]
  },
  {
   "cell_type": "code",
   "execution_count": null,
   "metadata": {},
   "outputs": [],
   "source": [
    "df_vic[df_vic['Edad']<18]"
   ]
  },
  {
   "cell_type": "markdown",
   "metadata": {},
   "source": [
    "A veces no queremos seleccionar las columnas que tienen un solo valor, sino varios. Por ejemplo, si queremos ver los delitos de alto impacto esto significa que la categoría es homicidio, violación o secuestro. Como son varios delitos los vamos a guardar en una lista llamada 'delitos_alto_impacto' y despues los buscamos con el comando _.isin()_"
   ]
  },
  {
   "cell_type": "code",
   "execution_count": null,
   "metadata": {},
   "outputs": [],
   "source": [
    "delitos_alto_impacto = ['HOMICIDIO DOLOSO','VIOLACIÓN','SECUESTRO']\n",
    "df_vic[df_vic['Categoria'].isin(delitos_alto_impacto)]"
   ]
  },
  {
   "cell_type": "markdown",
   "metadata": {},
   "source": [
    "Se pueden usar varias condiciones al mismo tiempo.\n",
    "Para combinar varias condiciones es necesario poner cada condición entre parentesis.\n",
    "Las condiciones se unen usando los operadores booleanos:\n",
    "* _&_ se cumplen ambas condiciones\n",
    "* _|_ se cumple al menos una de las condiciones\n",
    "* _~_ negación\n",
    "\n",
    "Por ejemplo, para seleccionar las víctimas de delitos menores de 18 años ponemos cada uno de los selectores de edades antes visto entre paréntesis y los unimos con _&_\n"
   ]
  },
  {
   "cell_type": "code",
   "execution_count": null,
   "metadata": {},
   "outputs": [],
   "source": [
    "# df.loc[ (seleccionar_mujeres) & (seleccionar_menores_de_edad)] \n",
    "df_vic.loc[(df_vic['Sexo']=='Femenino') & (df_vic['Edad']<18)]"
   ]
  },
  {
   "cell_type": "markdown",
   "metadata": {},
   "source": [
    "#### Ejercicio 4\n",
    "\n",
    "1. Escribe tres combinaciones de datos que te interesaria conocer y escribelas. Por ejemplo los delitos cometidos a personas morales durante enero.\n",
    "2. Tratá de resolver estas combinaciones de datos usando pandas. En caso de no poder anota que datos u operaciones hacen falta.\n"
   ]
  },
  {
   "cell_type": "markdown",
   "metadata": {},
   "source": [
    "### Descripcion automática\n",
    "\n",
    "Para explorar rápidamente el conjunto de datos, entender los tipos de datos y la distribución de estos esto usaremos una herramienta llamada _pandas_profiling_, la cual hace una descripción automática de un dataframe. Guardaremos el resultado como un archivo en una carpeta llamada _profiles_. \n",
    "\n",
    "Este análisis puede ser muy tardado, ya que tenemos 145870. Por esto en este tutorial solo sacamos el profile de los últimos mil datos debido a limitaciones de tiempo, pero puedes ver el profile de todos los datos en la carpeta de profiles."
   ]
  },
  {
   "cell_type": "code",
   "execution_count": null,
   "metadata": {},
   "outputs": [],
   "source": [
    "import pandas_profiling\n",
    "\n",
    "df_vic_short = df_vic.tail(1000)\n",
    "\n",
    "profile_short = df_vic_short.profile_report(title='Víctimas de carpetas de investigación')\n",
    "profile_short.to_file(output_file=\"profiles/CP-victimas-short.html\")"
   ]
  },
  {
   "cell_type": "markdown",
   "metadata": {},
   "source": [
    "El archivo resultante se puede ver en [profiles/CP-carpetas-short.html](profiles/CP-carpetas-short.html)\n",
    "\n",
    "#### Ejercicio 5\n",
    "Usando los datos de victimas realiza el pandas_profiling y analiza los resultados."
   ]
  },
  {
   "cell_type": "markdown",
   "metadata": {},
   "source": [
    "<a id='operaciones'></a>"
   ]
  },
  {
   "cell_type": "markdown",
   "metadata": {},
   "source": [
    "## 2.3 Operaciones básicas\n",
    "\n",
    "### Documentación\n",
    "Muchas de las funciones tienen opciones o paramétros que pueden cambiar. Además, es muy común no saber el nombre exacto de la función aunque si tengamos una idea general de como debé de llamarse. O simplemente olvidar cual era el nombre de la función. \n",
    "\n",
    "En ese caso la mejor idea es googlear \"pandas\"o \"python\" y el nombre de la función o descripción de que queremos hacer. Existen dos recursos particularmente útiles:\n",
    "\n",
    "* La documentación oficial de la biblioteca, en este caso la [documentación de pandas](https://pandas.pydata.org/pandas-docs/stable/).\n",
    "* [StackOverflow](stackoverflow.com/), donde generalmente la mejor respuesta tiene la mayor cantidad de votos.\n",
    "\n",
    "Si no puedes encontrar la respuesta recuerda [googlear antes de preguntar](https://xkcd.com/627/) y revisa [como hacer buenas preguntas en los foros ](https://stackoverflow.com/help/how-to-ask).\n",
    "\n",
    "\n",
    "### Ordenar\n",
    "\n",
    "Además de poder seleccionar los datos muchas veces es muy importante poder ordenarlos. Para eso usaremos _.sort_values()_\n",
    "\n",
    "Para ordenar una sola columna:\n",
    "\n"
   ]
  },
  {
   "cell_type": "code",
   "execution_count": null,
   "metadata": {},
   "outputs": [],
   "source": [
    "df_vic['Sexo'].sort_values()"
   ]
  },
  {
   "cell_type": "markdown",
   "metadata": {},
   "source": [
    "Por default _.sort_values()_ ordena en orden alfábetico o de menor a mayor, en caso de datos númericos. Para cambiar esto podemos usar el parámetro _ascending_. Por default los datos con NaN siempre van al final de la tabla."
   ]
  },
  {
   "cell_type": "code",
   "execution_count": null,
   "metadata": {},
   "outputs": [],
   "source": [
    "df_vic['Sexo'].sort_values(ascending=False)"
   ]
  },
  {
   "cell_type": "markdown",
   "metadata": {},
   "source": [
    "Para ordenar todo el dataframe por una columna es necesario decir explicitamente que columna se va a usar."
   ]
  },
  {
   "cell_type": "code",
   "execution_count": null,
   "metadata": {},
   "outputs": [],
   "source": [
    "df_vic.sort_values('Sexo')"
   ]
  },
  {
   "cell_type": "markdown",
   "metadata": {},
   "source": [
    "Es posible ordenar por varias columnas especificando el nombre de las columnas en una lista y la forma de ordenarlas usando _ascending_."
   ]
  },
  {
   "cell_type": "code",
   "execution_count": null,
   "metadata": {},
   "outputs": [],
   "source": [
    "df_vic.sort_values(['Sexo','Edad'],ascending=[True,False])"
   ]
  },
  {
   "cell_type": "markdown",
   "metadata": {},
   "source": [
    "#### Ejercicio 4\n",
    "\n",
    "1. Escribe tres formas en las que te gustaría ordenar los datos.\n",
    "2. Obten las tablas ordenadas, en caso de no poder hacerlo indica que datos te harían falta."
   ]
  },
  {
   "cell_type": "markdown",
   "metadata": {},
   "source": [
    "### Únicos y conteo\n",
    "\n",
    "Se pueden hacer varias cosas con una columna. Por ejemplo, se pueden determinar los valores unicos de la columna. Esto nos permite identificar que las diferentes categorias de delitos."
   ]
  },
  {
   "cell_type": "code",
   "execution_count": null,
   "metadata": {},
   "outputs": [],
   "source": [
    "df_vic['Categoria'].unique()"
   ]
  },
  {
   "cell_type": "markdown",
   "metadata": {},
   "source": [
    "Si lo único que nos interesa saber es cuantos datos únicos hay, y no cuales son, se puede usar la función _.nunique()_.\n",
    "\n",
    "También, se puede contabilizar cuántas veces aparece cada uno de estos valores. Esto permite saber cuantas veces aparece cada valor único. Por ejemplo, podemos usar esto para saber cual es el género que aparece mas como víctima.."
   ]
  },
  {
   "cell_type": "code",
   "execution_count": null,
   "metadata": {},
   "outputs": [],
   "source": [
    "df_vic['Sexo'].value_counts()"
   ]
  },
  {
   "cell_type": "markdown",
   "metadata": {},
   "source": [
    "Cabe destacar que en este caso no se cuentan aquellas filas donde no se conoce el dato. Para incluir los NaN es necesario cambiar los parámetros de la función, de tal forma que no se ignoren los NaN por defecto usando el parámetro _dropna_."
   ]
  },
  {
   "cell_type": "code",
   "execution_count": null,
   "metadata": {},
   "outputs": [],
   "source": [
    "df_vic['Sexo'].value_counts(dropna=False)"
   ]
  },
  {
   "cell_type": "markdown",
   "metadata": {},
   "source": [
    "Para ver estos resultados como porcentaje se puede usar el parámetro _normalize_. \n",
    "\n",
    "Es importante usar este parámetro con cuidado de los NaN, ya que el porcentaje cambiara si estos se toman, o no, en cuenta."
   ]
  },
  {
   "cell_type": "code",
   "execution_count": null,
   "metadata": {},
   "outputs": [],
   "source": [
    "df_vic['Sexo'].value_counts(dropna=False, normalize=True)"
   ]
  },
  {
   "cell_type": "markdown",
   "metadata": {},
   "source": [
    "Para seleccionar las cinco categorias con mas víctimas podemos usar un proceso de selección muy similar al de las listas de python. Por ejemplo, para ver las cinco categorias de delito con mas victimas obtendremos el conteo de valores con _.value_counts()_ y después seleccionaremos los cinco primeros usando un slicing de lista."
   ]
  },
  {
   "cell_type": "code",
   "execution_count": null,
   "metadata": {},
   "outputs": [],
   "source": [
    "df_vic['Categoria'].value_counts()[0:5]"
   ]
  },
  {
   "cell_type": "markdown",
   "metadata": {},
   "source": [
    "#### Ejercicio 7\n",
    "\n",
    "1. Plantea cuatro preguntas que incluyan selección de un subconjunto de datos y luego determinar cuales son los que tienen mayor o menor valor. Por ejemplo, cual es el delito que mas afecta a las mujeres o cuál es el mes en el que se cometieron mas homicidios.\n",
    "2. Usando las operaciones aprendidas responde la pregunta. En caso de no ser posible escribe que dato u operación te haría falta para lograrlo.\n"
   ]
  },
  {
   "cell_type": "markdown",
   "metadata": {},
   "source": [
    "<a id='estadistica'></a>"
   ]
  },
  {
   "cell_type": "markdown",
   "metadata": {},
   "source": [
    "## 2.4 Estadística\n",
    "\n",
    "### Definiciones \n",
    "\n",
    "Definiciones\n",
    "* Población: conjunto de todos los elementos de interés (N).\n",
    "* Parámetros: métricas que obtenemos al trabajar con una población.\n",
    "* Muestra: subgrupo de la población (n).\n",
    "* Estadísticos: métricas que obtenemos al trabajar con poblaciones.\n",
    "\n",
    "Una muestra debe ser\n",
    "* Representativa: un subgrupo de la poblaciòn que refleja exactamente a los miembros de toda la población.\n",
    "* Tomada al azar: recolectada cuando cada miembro de la muestra es elegida de la población estrictamente por casualidad\n",
    "\n",
    "Para saber si la muestra es representativa y calcular el tamaño de la muestra es importante:\n",
    "* Nivel de confianza: garantizar que los resultados no ocurrieron solo por azar. Generalmente debé de ser de 95-99%\n",
    "* Porcentaje de diferencia por detectar: entre más pequeña sea la diferencia que quieres detectar, más grande debe ser la muestra\n",
    "* Valor absoluto de las probabilidades en las que desea detectar diferencias\n",
    "* La distribución de los datos (principalmente del resultado)\n",
    "\n"
   ]
  },
  {
   "cell_type": "markdown",
   "metadata": {},
   "source": [
    "### Operaciones numéricas\n",
    "\n",
    "Para saber cuantos valores tenemos, que no sean NaN, podemos usar la función _.count()_. Esta función puede funcionar sobre todo el dataframe o solo sobre una columna."
   ]
  },
  {
   "cell_type": "code",
   "execution_count": null,
   "metadata": {},
   "outputs": [],
   "source": [
    "df_vic.count()"
   ]
  },
  {
   "cell_type": "markdown",
   "metadata": {},
   "source": [
    "En el caso de las columnas con datos númericos hay varias operaciones que podemos usar. \n",
    "\n",
    "El mínimo y máximo nos dicen respectivamente el valor mas pequeño y grande de un conjunto de datos. Se obtiene usado la funcion _.min()_ y _.max()_."
   ]
  },
  {
   "cell_type": "code",
   "execution_count": null,
   "metadata": {},
   "outputs": [],
   "source": [
    "df_vic['Edad'].max()"
   ]
  },
  {
   "cell_type": "markdown",
   "metadata": {},
   "source": [
    "En este caso podemos ver que la edad máxima es irrealmente alta. Una explicación es que esto se debá a un error de captura de los datos. Hablaremos mas sobre esto en la sección de limpieza."
   ]
  },
  {
   "cell_type": "markdown",
   "metadata": {},
   "source": [
    "La sumatoria es la suma todos los valores númericos de la columna. Como esta es una operación númerica solo se puede usar en columnas con valores numéricos. Se obtiene usado la funcion _.sum()_."
   ]
  },
  {
   "cell_type": "code",
   "execution_count": null,
   "metadata": {},
   "outputs": [],
   "source": [
    "df_vic['Edad'].sum()"
   ]
  },
  {
   "cell_type": "markdown",
   "metadata": {},
   "source": [
    "### Medidas de tendencia central\n",
    "\n",
    "* __Media__: Tambien conocida como promedio, se obtiende sumando todos los elementos de una variable y dividiéndola por el número de ellos. Es afectada por valores extremos. Se obtiene usado la funcion _.mean()_.\n",
    "* __Mediana__: Número de la posición central de las observaciones (en orden ascendente). No es afectada por valores extremos. Se obtiene usado la funcion _.median()_. \n",
    "* __Moda__: El dato más común, puede existir más de una moda. Se obtiene usado la funcion _.mode()_.\n",
    "\n",
    "<img src=\"extras/CP-TendenciaCentral.png\">\n"
   ]
  },
  {
   "cell_type": "code",
   "execution_count": null,
   "metadata": {},
   "outputs": [],
   "source": [
    "df_vic['Edad'].mean()"
   ]
  },
  {
   "cell_type": "markdown",
   "metadata": {},
   "source": [
    "### Disperción y asimetría\n",
    "\n",
    "La distribución de los valores no es siempre igual. En particular podemos ver que alrededor del promedio los datos pueden distribuirse de distintas maneras."
   ]
  },
  {
   "cell_type": "markdown",
   "metadata": {},
   "source": [
    "La varianza es una medida de dispersión de un grupo de datos alrededor de la media, es decir, que tan \"ancha\" es la distribución. \n",
    "\n",
    "Una forma más fácil de “visualizar” la varianza es por medio de la __desviación estandar__, en la mayoría de los casos esta es más significativa. Se obtiene usado la funcion .std(). "
   ]
  },
  {
   "cell_type": "code",
   "execution_count": null,
   "metadata": {},
   "outputs": [],
   "source": [
    "df_vic['Edad'].std()"
   ]
  },
  {
   "cell_type": "markdown",
   "metadata": {},
   "source": [
    "El __sesgo__ indica si los datos se concentran en un lado de la curva. Se obtiene usado la funcion .skew(). \n",
    "* Si sesgo=0 significa que los datos son simétricos, \n",
    "* Si sesgo>0 es que hay mas datos hacia la derecha\n",
    "* Si sesgo<0 es que hay mas datos hacia la izquierda."
   ]
  },
  {
   "cell_type": "code",
   "execution_count": null,
   "metadata": {},
   "outputs": [],
   "source": [
    "df_vic['Edad'].skew()"
   ]
  },
  {
   "cell_type": "markdown",
   "metadata": {},
   "source": [
    "#### Ejercicio 8\n",
    "Calcula máximo, mínimo, las tres medidas de tendencia central, desviación estandar y sesgo y ubica cada una en la gráfica de 'Edad' que se encuentr en el [profile de victimas](./profiles/CP-victimas.html)."
   ]
  }
 ],
 "metadata": {
  "kernelspec": {
   "display_name": "Python 3 (ipykernel)",
   "language": "python",
   "name": "python3"
  },
  "language_info": {
   "codemirror_mode": {
    "name": "ipython",
    "version": 3
   },
   "file_extension": ".py",
   "mimetype": "text/x-python",
   "name": "python",
   "nbconvert_exporter": "python",
   "pygments_lexer": "ipython3",
   "version": "3.10.4"
  }
 },
 "nbformat": 4,
 "nbformat_minor": 4
}
