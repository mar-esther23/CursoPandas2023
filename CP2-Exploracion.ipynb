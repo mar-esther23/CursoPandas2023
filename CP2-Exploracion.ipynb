{
 "cells": [
  {
   "cell_type": "markdown",
   "metadata": {
    "tags": []
   },
   "source": [
    "# Análisis y visualización de datos abiertos con Python\n",
    "\n",
    "En este tutorial, te guiaremos en una exploración profunda de un conjunto de datos utilizando la potente biblioteca de Python, Pandas. Además de Pandas, también aprenderás algunas técnicas avanzadas de análisis de datos para ayudarte a comprender de manera más efectiva los datos y destacar patrones y tendencias interesantes.\n",
    "\n",
    "Este tutorial está diseñado para aquellos interesados en el análisis de datos y la visualización, y que desean aprender cómo utilizar Python y Pandas para realizar esta tarea de manera efectiva. Aunque no se requiere experiencia previa en programación o análisis de datos, se recomienda tener un conocimiento básico de Excel y Python para aprovechar al máximo el tutorial.\n",
    "\n",
    "En este tutorial, trabajaremos con el conjunto de datos actualizado del [Módulo de Fosas Comunes (MFC)](https://comisionacionaldebusqueda.gob.mx/modulo-de-fosas-comunes/) de la Comisión Nacional de Búsqueda, con fecha de actualización del 24 de noviembre de 2022.\n"
   ]
  },
  {
   "cell_type": "markdown",
   "metadata": {},
   "source": [
    "## 2.1 Estructura de un proyecto de datos\n",
    "\n",
    "Para organizar la información y nuestro espació de trabajo haremos una carpeta individual para el curso (por ejemplo, en mi computadora esta se llama _CursoPandas2023_). Dentro de esta carpeta organizaremos todos nuestros archivos en subcarpetas. De tal forma que la carpeta __CursoPandas2023__ contendrá las siguientes subcarpetas:\n",
    "\n",
    "Es importante documentar cada una de las etapas y los procesos realizados en ellas. Esto incluye describir el propósito de cada paso, los métodos utilizados, las decisiones tomadas y los resultados obtenidos. La documentación puede ser en forma de notas en el código, en un archivo de texto o en un cuaderno Jupyter. La documentación es fundamental para garantizar la repetibilidad del proceso y para que otros miembros del equipo o cualquier persona interesada pueda entender y replicar el análisis.\n",
    "\n",
    "Es importante también tener en cuenta los aspectos éticos al trabajar con datos, como la privacidad y seguridad de los datos, la protección de la propiedad intelectual y la responsabilidad legal. Por lo tanto, es necesario tomar medidas para proteger los datos sensibles y garantizar su privacidad, como encriptar archivos y restringir el acceso solo a personas autorizadas.\n",
    "\n",
    "En resumen, una estructura organizada y documentada es fundamental para garantizar la eficiencia, repetibilidad y confiabilidad en el análisis de datos. La documentación y la organización de archivos permiten una mayor transparencia en el proceso de análisis y facilita la revisión y el seguimiento de los resultados.\n",
    "\n",
    "Un análisis de datos se compone de varios pasos, que pueden variar dependiendo del objetivo del proyecto. Sin embargo, todos los proyectos de datos incluyen por lo menos los siguientes pasos:\n",
    "* **Obtención**: En este paso, recopilamos y reunimos los datos que vamos a utilizar. Esto puede ser una hoja de cálculo de pacientes, una base de datos en línea o los resultados de un secuenciador. En este caso, se trata de obtener el archivo de MFC generado por la CNB.\n",
    "* **Exploración** (EDA por sus siglas en inglés): En este paso, nos familiarizamos con el conjunto de datos tal y como viene originalmente. Esto implica descubrir su formato, el número de hojas o tablas que tiene, los campos, etc.\n",
    "* **Limpieza**: En este paso, preparamos los datos para su análisis. La limpieza de datos es el proceso de corregir o eliminar los datos incorrectos, corruptos, con formato incorrecto, duplicados o incompletos que existen dentro de un conjunto de datos.\n",
    "* **Análisis**: En este paso, extraemos información y conocimiento de los datos. Esta etapa puede incluir múltiples análisis y subetapas.\n",
    "\n",
    "Además, en casi todas las etapas se lleva a cabo la **visualización** de los datos, lo cual permite representar los datos de forma gráfica de manera que sea más fácil de comprender.\n",
    "\n",
    "El análisis de datos consiste en una serie de etapas que pueden variar dependiendo del objetivo del proyecto. Sin embargo, en general, todos los proyectos incluyen al menos las siguientes etapas: obtención, exploración, limpieza y análisis. Durante todas estas etapas, es común realizar visualizaciones para representar los datos de manera gráfica y comprensible.\n",
    "\n",
    "Es importante destacar que estas etapas están estrechamente relacionadas y es difícil realizar la limpieza de datos antes de familiarizarse con el conjunto de datos en la etapa de exploración. Por ello, es recomendable separar claramente cada etapa en diferentes carpetas y archivos para evitar la propagación de errores y facilitar la revisión del proceso en el futuro. Además, es útil generar un notebook que pueda llevar a cabo todos los pasos del proceso y permita regenerar los archivos en caso de necesidad.\n",
    "\n",
    "Para este proyecto iniciaremos generando las siguientes carpetas:\n",
    "* __data_raw__ carpeta donde pondremos los archivos de datos originales como el excel descargado.\n",
    "* __profiles__ carpeta con las exploraciones semi-automáticas de los datos.\n",
    "* __data_clean__ carpeta donde colocaremos los archivos de datos que vayamos limpiando y generando.\n",
    "* __extras__ carpeta con las imagenes y otros archivos de referencia que queramos guardar.\n",
    "\n",
    "Es importante documentar cada etapa y las decisiones que se tomaron durante el proceso de análisis de datos. Esto incluye la motivación detrás de la limpieza de los datos y cualquier supuesto o hipótesis que se haya formulado. Esta documentación es útil tanto para el equipo que está trabajando en el proyecto como para futuros revisores o usuarios que deseen comprender el proceso detrás del análisis.\n",
    "\n",
    "Es importante también utilizar versiones controladas de los archivos de datos y el código, como Git, para asegurarse de que se puedan rastrear los cambios y mantener un registro de los cambios que se hayan realizado.\n",
    "\n",
    "En resumen, organizar y documentar el proceso de análisis de datos es esencial para garantizar la reproducibilidad y la transparencia del análisis, y para asegurar que los resultados sean confiables y de calidad.\n"
   ]
  },
  {
   "cell_type": "markdown",
   "metadata": {},
   "source": [
    "<a id='obtencion'></a>"
   ]
  },
  {
   "cell_type": "markdown",
   "metadata": {
    "tags": []
   },
   "source": [
    "## 2.2 Obtención del conjunto de datos\n",
    "\n",
    "Utilizaremos el [Módulo de Fosas Comunes](https://comisionacionaldebusqueda.gob.mx/modulo-de-fosas-comunes/) creado por la Comisión Nacional de Búsqueda de Personas. La Comisión Nacional de Búsqueda de Personas creó en 2020 el Módulo de Fosas Comunes, una base de datos que recopila y homologa información sobre cuerpos y restos inhumados en fosas comunes. El MFC se utiliza para comparar regularmente con el Registro Nacional de Personas Desaparecidas y No Localizadas para detectar posibles coincidencias. Los posibles positivos son evaluados en CNB para eliminar falsos positivos, y aquellos que persisten se convierten en indicios que se investigan en coordinación con las autoridades locales. El MFC está en constante integración y actualización, pero su exactitud depende de la información disponible en los panteones. La CNB no asume responsabilidad por la exactitud de la información en el MFC, sino que la responsabilidad recae en las administraciones de los panteones. Sin embargo, debido a la escasez de recursos, las comisiones de búsqueda brindan apoyo técnico a los panteones para extraer y homologar sus datos.\n",
    "\n",
    "Al final de la página web hay un botón que nos permite descargar el conjunto de datos.\n",
    "![Página web del MFC](./images/MFC_descargar.png)\n",
    "\n",
    "Al acceder al archivo, podemos ver que tiene varias hojas:\n",
    "* Nota jurídica y metodológica: brinda información sobre los aspectos legales y metodológicos relacionados con un tema\n",
    "* Diccionario: describe el conjunto de datos, esta sección es de suma importancia para entender los datos con los que estamos trabajando.\n",
    "* MFC: la tabla con la información del Módulo de Fosas Comunes\n",
    "![Archivo del MFC](./images/MFC_hoja1.png)\n",
    "\n",
    "\n",
    "### Ejercicio 1\n",
    "1. Crea una carpeta para el proyecto (por ejemplo CursoPandas2023).\n",
    "2. Crea las carpetas mencionadas anteriormente. \n",
    "3. Descarga el archivo y colócalo en la carpeta correcta\n",
    "4. Resuelve las siguientes preguntas:\n",
    "    * ¿Qué formato tiene?\n",
    "    * ¿Cuantás hojas o tablas contiene?\n",
    "    * ¿Qué información esperas encontrar en el conjunto de datos?\n",
    "    * ¿Qué información esta contenida en cada hoja o tabla?\n",
    "    * ¿Cuáles son sus limitaciones?\n"
   ]
  },
  {
   "cell_type": "markdown",
   "metadata": {
    "tags": []
   },
   "source": [
    "## 2.2 Cargar los datos en python\n",
    "\n",
    "Ahora que los datos ya estan en la computadora podemos abrirlos usando python para empezar a trabajar con ellos.\n",
    "Necesitamos un jupyter notebook en la carpeta de trabajo y que los archivos esten en la carpeta _data-raw_. En primer lugar verificaremos la carpeta donde esta nuestro código y archivos. Esto lo podemos hacer con el navegador de archivos del sistema operativo o de jupyter.\n",
    "\n",
    "A continuación cargaremos la biblioteca de pandas para trabajar con la tabla de datos y cargaremos los archivos.  Para esto es importante conocer la terminación del archivo.\n",
    "Para lograr esto es necesario importar la biblioteca de pandas usando _import_. Como estaremos usando constantemente esta bibliteca la importaremos con la abreviatura _pd_. \n",
    "\n",
    "Despues usaremos el comando _pd.read_excel()_. De esta forma podemos abrir un excel como si fuera un dataframe de pandas.\n",
    "\n",
    "Para abrir un archivo de _csv_ puedes usar el comando: _pd.read_csv(filename)_. Dependiendo del formato del archivo el comando puede cambiar.\n",
    "\n",
    "**NOTA:** Si vez el siguiente error o similar es necesario instalar paquetes adicionales para leer un archivo de formato Excel.\n",
    "\n",
    "![Error de biblioteca faltante](./images/pandas_openpyxl_error.png)\n",
    "\n",
    "Ahora podemos acceder en la tabla."
   ]
  },
  {
   "cell_type": "code",
   "execution_count": 1,
   "metadata": {},
   "outputs": [
    {
     "data": {
      "text/html": [
       "<div>\n",
       "<style scoped>\n",
       "    .dataframe tbody tr th:only-of-type {\n",
       "        vertical-align: middle;\n",
       "    }\n",
       "\n",
       "    .dataframe tbody tr th {\n",
       "        vertical-align: top;\n",
       "    }\n",
       "\n",
       "    .dataframe thead th {\n",
       "        text-align: right;\n",
       "    }\n",
       "</style>\n",
       "<table border=\"1\" class=\"dataframe\">\n",
       "  <thead>\n",
       "    <tr style=\"text-align: right;\">\n",
       "      <th></th>\n",
       "      <th>Unnamed: 0</th>\n",
       "      <th>Unnamed: 1</th>\n",
       "    </tr>\n",
       "  </thead>\n",
       "  <tbody>\n",
       "    <tr>\n",
       "      <th>0</th>\n",
       "      <td>NaN</td>\n",
       "      <td>Nota jurídica y metodológica sobre el Módulo d...</td>\n",
       "    </tr>\n",
       "    <tr>\n",
       "      <th>1</th>\n",
       "      <td>NaN</td>\n",
       "      <td>NaN</td>\n",
       "    </tr>\n",
       "    <tr>\n",
       "      <th>2</th>\n",
       "      <td>NaN</td>\n",
       "      <td>La Comisión Nacional de Búsqueda de Personas (...</td>\n",
       "    </tr>\n",
       "  </tbody>\n",
       "</table>\n",
       "</div>"
      ],
      "text/plain": [
       "   Unnamed: 0                                         Unnamed: 1\n",
       "0         NaN  Nota jurídica y metodológica sobre el Módulo d...\n",
       "1         NaN                                                NaN\n",
       "2         NaN  La Comisión Nacional de Búsqueda de Personas (..."
      ]
     },
     "execution_count": 1,
     "metadata": {},
     "output_type": "execute_result"
    }
   ],
   "source": [
    "import pandas as pd\n",
    "\n",
    "file_mfc = 'data_raw/Modulo-de-Fosas-Comunes_actualizacion24nov2022_VD.xlsx'\n",
    "df = pd.read_excel(file_mfc)\n",
    "df"
   ]
  },
  {
   "cell_type": "markdown",
   "metadata": {},
   "source": [
    "Automáticamente `read_excel` carga la primera hoja del archivo. Sin embargo, nosotros estamos interesados en la tercera hoja, la cuál contiene la tabla con la información a analizar. Para resolver esto revisaremos la documentación de la función.\n",
    "\n",
    "Busca en google ´pandas read_excel´ y busca el link a la documentación de la función.\n",
    "![Documentación de read_excel](./images/Pandas_documentation.png)\n",
    "Otra opción es buscar directamente nuestra pregunta ´como seleccionar la hoja de un excel con pandas´\n",
    "\n",
    "Revisando la página web descubrimos que hay una opción que permite configurar la hoja que se lee:\n",
    "´´´\n",
    "sheet_name str, int, list, or None, default 0\n",
    "\n",
    "    Strings are used for sheet names. Integers are used in zero-indexed sheet positions (chart sheets do not count as a sheet position). Lists of strings/integers are used to request multiple sheets. Specify None to get all worksheets.\n",
    "´´´\n",
    "\n",
    "Esto significa que por default la función pd.read_excel lee la primera hoja (´sheet_name = 0´), pero podemos escribir explicitamente que hoja queremos leer para modificar el comportamiento.\n",
    "\n",
    "Modifiquemos el código para leer la hoja que nos interesa agregando el parámetro."
   ]
  },
  {
   "cell_type": "code",
   "execution_count": 2,
   "metadata": {},
   "outputs": [
    {
     "data": {
      "text/html": [
       "<div>\n",
       "<style scoped>\n",
       "    .dataframe tbody tr th:only-of-type {\n",
       "        vertical-align: middle;\n",
       "    }\n",
       "\n",
       "    .dataframe tbody tr th {\n",
       "        vertical-align: top;\n",
       "    }\n",
       "\n",
       "    .dataframe thead th {\n",
       "        text-align: right;\n",
       "    }\n",
       "</style>\n",
       "<table border=\"1\" class=\"dataframe\">\n",
       "  <thead>\n",
       "    <tr style=\"text-align: right;\">\n",
       "      <th></th>\n",
       "      <th>ID</th>\n",
       "      <th>Estado_origen</th>\n",
       "      <th>Municipio_origen</th>\n",
       "      <th>Panteón_origen</th>\n",
       "      <th>Estatus_FC</th>\n",
       "      <th>Fecha_inhumación</th>\n",
       "      <th>Fecha_defunción</th>\n",
       "      <th>Fecha_exhumación</th>\n",
       "      <th>Restos_tipo</th>\n",
       "      <th>Sexo</th>\n",
       "      <th>Edad</th>\n",
       "      <th>Conocido_Desconocido</th>\n",
       "      <th>Primer apellido</th>\n",
       "      <th>Segundo Apellido</th>\n",
       "      <th>Nombre(s)</th>\n",
       "      <th>Nombre completo</th>\n",
       "      <th>Institución_origen</th>\n",
       "      <th>Rdoc</th>\n",
       "      <th>Marca_temporal</th>\n",
       "      <th>Datos alternativos</th>\n",
       "    </tr>\n",
       "  </thead>\n",
       "  <tbody>\n",
       "    <tr>\n",
       "      <th>0</th>\n",
       "      <td>XX-P001</td>\n",
       "      <td>Ciudad de México</td>\n",
       "      <td>Miguel Hidalgo</td>\n",
       "      <td>Panteón Civil de Dolores</td>\n",
       "      <td>Inhumación</td>\n",
       "      <td>2019-01-30 00:00:00</td>\n",
       "      <td>2018-03-04 00:00:00</td>\n",
       "      <td>NaN</td>\n",
       "      <td>Restos cremados</td>\n",
       "      <td>Masculino</td>\n",
       "      <td>55</td>\n",
       "      <td>Desconocido</td>\n",
       "      <td>NaN</td>\n",
       "      <td>NaN</td>\n",
       "      <td>NaN</td>\n",
       "      <td></td>\n",
       "      <td>UNIVERSIDAD WESTHILL - FACULTAD DE MEDICINA</td>\n",
       "      <td>Sí</td>\n",
       "      <td>2020-03-23 00:00:00</td>\n",
       "      <td>NaN</td>\n",
       "    </tr>\n",
       "    <tr>\n",
       "      <th>1</th>\n",
       "      <td>XX-P002</td>\n",
       "      <td>Ciudad de México</td>\n",
       "      <td>Miguel Hidalgo</td>\n",
       "      <td>Panteón Civil de Dolores</td>\n",
       "      <td>Inhumación</td>\n",
       "      <td>2019-01-26 00:00:00</td>\n",
       "      <td>2018-12-12 00:00:00</td>\n",
       "      <td>NaN</td>\n",
       "      <td>Cadáver</td>\n",
       "      <td>Masculino</td>\n",
       "      <td>NaN</td>\n",
       "      <td>Desconocido</td>\n",
       "      <td>NaN</td>\n",
       "      <td>NaN</td>\n",
       "      <td>NaN</td>\n",
       "      <td></td>\n",
       "      <td>INSTITUTO DE CIENCIAS FORENSES - TRIBUNAL SUPE...</td>\n",
       "      <td>Sí</td>\n",
       "      <td>2020-03-23 00:00:00</td>\n",
       "      <td>NaN</td>\n",
       "    </tr>\n",
       "    <tr>\n",
       "      <th>2</th>\n",
       "      <td>XX-P003</td>\n",
       "      <td>Ciudad de México</td>\n",
       "      <td>Miguel Hidalgo</td>\n",
       "      <td>Panteón Civil de Dolores</td>\n",
       "      <td>Inhumación</td>\n",
       "      <td>2019-01-26 00:00:00</td>\n",
       "      <td>2018-12-13 00:00:00</td>\n",
       "      <td>NaN</td>\n",
       "      <td>Cadáver</td>\n",
       "      <td>Masculino</td>\n",
       "      <td>NaN</td>\n",
       "      <td>Conocido</td>\n",
       "      <td>Cruz</td>\n",
       "      <td>Lucero</td>\n",
       "      <td>Alberto</td>\n",
       "      <td>Alberto Cruz Lucero</td>\n",
       "      <td>INSTITUTO DE CIENCIAS FORENSES - TRIBUNAL SUPE...</td>\n",
       "      <td>Sí</td>\n",
       "      <td>2020-03-23 00:00:00</td>\n",
       "      <td>NaN</td>\n",
       "    </tr>\n",
       "    <tr>\n",
       "      <th>3</th>\n",
       "      <td>XX-P004</td>\n",
       "      <td>Ciudad de México</td>\n",
       "      <td>Miguel Hidalgo</td>\n",
       "      <td>Panteón Civil de Dolores</td>\n",
       "      <td>Inhumación</td>\n",
       "      <td>2019-01-26 00:00:00</td>\n",
       "      <td>2018-12-14 00:00:00</td>\n",
       "      <td>NaN</td>\n",
       "      <td>Cadáver</td>\n",
       "      <td>Masculino</td>\n",
       "      <td>NaN</td>\n",
       "      <td>Desconocido</td>\n",
       "      <td>NaN</td>\n",
       "      <td>NaN</td>\n",
       "      <td>NaN</td>\n",
       "      <td></td>\n",
       "      <td>INSTITUTO DE CIENCIAS FORENSES - TRIBUNAL SUPE...</td>\n",
       "      <td>Sí</td>\n",
       "      <td>2020-03-23 00:00:00</td>\n",
       "      <td>NaN</td>\n",
       "    </tr>\n",
       "    <tr>\n",
       "      <th>4</th>\n",
       "      <td>XX-P005</td>\n",
       "      <td>Ciudad de México</td>\n",
       "      <td>Miguel Hidalgo</td>\n",
       "      <td>Panteón Civil de Dolores</td>\n",
       "      <td>Inhumación</td>\n",
       "      <td>2019-01-26 00:00:00</td>\n",
       "      <td>2018-12-18 00:00:00</td>\n",
       "      <td>NaN</td>\n",
       "      <td>Cadáver</td>\n",
       "      <td>Masculino</td>\n",
       "      <td>NaN</td>\n",
       "      <td>Desconocido</td>\n",
       "      <td>NaN</td>\n",
       "      <td>NaN</td>\n",
       "      <td>NaN</td>\n",
       "      <td></td>\n",
       "      <td>INSTITUTO DE CIENCIAS FORENSES - TRIBUNAL SUPE...</td>\n",
       "      <td>Sí</td>\n",
       "      <td>2020-03-23 00:00:00</td>\n",
       "      <td>NaN</td>\n",
       "    </tr>\n",
       "    <tr>\n",
       "      <th>...</th>\n",
       "      <td>...</td>\n",
       "      <td>...</td>\n",
       "      <td>...</td>\n",
       "      <td>...</td>\n",
       "      <td>...</td>\n",
       "      <td>...</td>\n",
       "      <td>...</td>\n",
       "      <td>...</td>\n",
       "      <td>...</td>\n",
       "      <td>...</td>\n",
       "      <td>...</td>\n",
       "      <td>...</td>\n",
       "      <td>...</td>\n",
       "      <td>...</td>\n",
       "      <td>...</td>\n",
       "      <td>...</td>\n",
       "      <td>...</td>\n",
       "      <td>...</td>\n",
       "      <td>...</td>\n",
       "      <td>...</td>\n",
       "    </tr>\n",
       "    <tr>\n",
       "      <th>21014</th>\n",
       "      <td>XXII-P1780</td>\n",
       "      <td>Chiapas</td>\n",
       "      <td>San Cristóbal de las Casas</td>\n",
       "      <td>Panteón Municipal</td>\n",
       "      <td>Inhumación</td>\n",
       "      <td>2021-11-20 00:00:00</td>\n",
       "      <td>S/D</td>\n",
       "      <td>NaN</td>\n",
       "      <td>Cadáver</td>\n",
       "      <td>Masculino</td>\n",
       "      <td>NaN</td>\n",
       "      <td>Desconocido</td>\n",
       "      <td>NaN</td>\n",
       "      <td>NaN</td>\n",
       "      <td>NaN</td>\n",
       "      <td></td>\n",
       "      <td>PROCURADURÍA GENERAL DE JUSTICIA DEL ESTADO</td>\n",
       "      <td>Sí</td>\n",
       "      <td>2022-11-03 00:00:00</td>\n",
       "      <td>NaN</td>\n",
       "    </tr>\n",
       "    <tr>\n",
       "      <th>21015</th>\n",
       "      <td>XXII-P1781</td>\n",
       "      <td>Chiapas</td>\n",
       "      <td>San Cristóbal de las Casas</td>\n",
       "      <td>Panteón Municipal</td>\n",
       "      <td>Inhumación</td>\n",
       "      <td>2021-12-15 00:00:00</td>\n",
       "      <td>S/D</td>\n",
       "      <td>NaN</td>\n",
       "      <td>Cadáver</td>\n",
       "      <td>Masculino</td>\n",
       "      <td>NaN</td>\n",
       "      <td>Desconocido</td>\n",
       "      <td>NaN</td>\n",
       "      <td>NaN</td>\n",
       "      <td>NaN</td>\n",
       "      <td></td>\n",
       "      <td>PROCURADURÍA GENERAL DE JUSTICIA DEL ESTADO</td>\n",
       "      <td>Sí</td>\n",
       "      <td>2022-11-03 00:00:00</td>\n",
       "      <td>NaN</td>\n",
       "    </tr>\n",
       "    <tr>\n",
       "      <th>21016</th>\n",
       "      <td>XXII-P1782</td>\n",
       "      <td>Chiapas</td>\n",
       "      <td>San Cristóbal de las Casas</td>\n",
       "      <td>Panteón Municipal</td>\n",
       "      <td>Inhumación</td>\n",
       "      <td>2022-07-13 00:00:00</td>\n",
       "      <td>S/D</td>\n",
       "      <td>NaN</td>\n",
       "      <td>Cadáver</td>\n",
       "      <td>Masculino</td>\n",
       "      <td>50-55</td>\n",
       "      <td>Desconocido</td>\n",
       "      <td>NaN</td>\n",
       "      <td>NaN</td>\n",
       "      <td>NaN</td>\n",
       "      <td></td>\n",
       "      <td>PROCURADURÍA GENERAL DE JUSTICIA DEL ESTADO</td>\n",
       "      <td>Sí</td>\n",
       "      <td>2022-11-03 00:00:00</td>\n",
       "      <td>NaN</td>\n",
       "    </tr>\n",
       "    <tr>\n",
       "      <th>21017</th>\n",
       "      <td>XXII-P1783</td>\n",
       "      <td>Chiapas</td>\n",
       "      <td>San Cristóbal de las Casas</td>\n",
       "      <td>Panteón Municipal</td>\n",
       "      <td>Inhumación</td>\n",
       "      <td>2022-09-16 00:00:00</td>\n",
       "      <td>S/D</td>\n",
       "      <td>NaN</td>\n",
       "      <td>Cadáver</td>\n",
       "      <td>Masculino</td>\n",
       "      <td>45</td>\n",
       "      <td>Desconocido</td>\n",
       "      <td>NaN</td>\n",
       "      <td>NaN</td>\n",
       "      <td>NaN</td>\n",
       "      <td></td>\n",
       "      <td>PROCURADURÍA GENERAL DE JUSTICIA DEL ESTADO</td>\n",
       "      <td>Sí</td>\n",
       "      <td>2022-11-03 00:00:00</td>\n",
       "      <td>NaN</td>\n",
       "    </tr>\n",
       "    <tr>\n",
       "      <th>21018</th>\n",
       "      <td>XXII-P1784</td>\n",
       "      <td>Chiapas</td>\n",
       "      <td>San Cristóbal de las Casas</td>\n",
       "      <td>Panteón Municipal</td>\n",
       "      <td>Inhumación</td>\n",
       "      <td>2022-09-29 00:00:00</td>\n",
       "      <td>S/D</td>\n",
       "      <td>NaN</td>\n",
       "      <td>Cadáver</td>\n",
       "      <td>Masculino</td>\n",
       "      <td>42</td>\n",
       "      <td>Conocido</td>\n",
       "      <td>Guzman</td>\n",
       "      <td>Hernandez</td>\n",
       "      <td>Juan</td>\n",
       "      <td>Juan Guzman Hernandez</td>\n",
       "      <td>PROCURADURÍA GENERAL DE JUSTICIA DEL ESTADO</td>\n",
       "      <td>Sí</td>\n",
       "      <td>2022-11-03 00:00:00</td>\n",
       "      <td>NaN</td>\n",
       "    </tr>\n",
       "  </tbody>\n",
       "</table>\n",
       "<p>21019 rows × 20 columns</p>\n",
       "</div>"
      ],
      "text/plain": [
       "               ID     Estado_origen            Municipio_origen  \\\n",
       "0         XX-P001  Ciudad de México              Miguel Hidalgo   \n",
       "1         XX-P002  Ciudad de México              Miguel Hidalgo   \n",
       "2         XX-P003  Ciudad de México              Miguel Hidalgo   \n",
       "3         XX-P004  Ciudad de México              Miguel Hidalgo   \n",
       "4         XX-P005  Ciudad de México              Miguel Hidalgo   \n",
       "...           ...               ...                         ...   \n",
       "21014  XXII-P1780           Chiapas  San Cristóbal de las Casas   \n",
       "21015  XXII-P1781           Chiapas  San Cristóbal de las Casas   \n",
       "21016  XXII-P1782           Chiapas  San Cristóbal de las Casas   \n",
       "21017  XXII-P1783           Chiapas  San Cristóbal de las Casas   \n",
       "21018  XXII-P1784           Chiapas  San Cristóbal de las Casas   \n",
       "\n",
       "                 Panteón_origen  Estatus_FC     Fecha_inhumación  \\\n",
       "0      Panteón Civil de Dolores  Inhumación  2019-01-30 00:00:00   \n",
       "1      Panteón Civil de Dolores  Inhumación  2019-01-26 00:00:00   \n",
       "2      Panteón Civil de Dolores  Inhumación  2019-01-26 00:00:00   \n",
       "3      Panteón Civil de Dolores  Inhumación  2019-01-26 00:00:00   \n",
       "4      Panteón Civil de Dolores  Inhumación  2019-01-26 00:00:00   \n",
       "...                         ...         ...                  ...   \n",
       "21014         Panteón Municipal  Inhumación  2021-11-20 00:00:00   \n",
       "21015         Panteón Municipal  Inhumación  2021-12-15 00:00:00   \n",
       "21016         Panteón Municipal  Inhumación  2022-07-13 00:00:00   \n",
       "21017         Panteón Municipal  Inhumación  2022-09-16 00:00:00   \n",
       "21018         Panteón Municipal  Inhumación  2022-09-29 00:00:00   \n",
       "\n",
       "           Fecha_defunción Fecha_exhumación      Restos_tipo       Sexo  \\\n",
       "0      2018-03-04 00:00:00              NaN  Restos cremados  Masculino   \n",
       "1      2018-12-12 00:00:00              NaN          Cadáver  Masculino   \n",
       "2      2018-12-13 00:00:00              NaN          Cadáver  Masculino   \n",
       "3      2018-12-14 00:00:00              NaN          Cadáver  Masculino   \n",
       "4      2018-12-18 00:00:00              NaN          Cadáver  Masculino   \n",
       "...                    ...              ...              ...        ...   \n",
       "21014                  S/D              NaN          Cadáver  Masculino   \n",
       "21015                  S/D              NaN          Cadáver  Masculino   \n",
       "21016                  S/D              NaN          Cadáver  Masculino   \n",
       "21017                  S/D              NaN          Cadáver  Masculino   \n",
       "21018                  S/D              NaN          Cadáver  Masculino   \n",
       "\n",
       "        Edad Conocido_Desconocido Primer apellido Segundo Apellido Nombre(s)  \\\n",
       "0         55          Desconocido             NaN              NaN       NaN   \n",
       "1        NaN          Desconocido             NaN              NaN       NaN   \n",
       "2        NaN             Conocido            Cruz           Lucero   Alberto   \n",
       "3        NaN          Desconocido             NaN              NaN       NaN   \n",
       "4        NaN          Desconocido             NaN              NaN       NaN   \n",
       "...      ...                  ...             ...              ...       ...   \n",
       "21014    NaN          Desconocido             NaN              NaN       NaN   \n",
       "21015    NaN          Desconocido             NaN              NaN       NaN   \n",
       "21016  50-55          Desconocido             NaN              NaN       NaN   \n",
       "21017     45          Desconocido             NaN              NaN       NaN   \n",
       "21018     42             Conocido          Guzman        Hernandez      Juan   \n",
       "\n",
       "             Nombre completo  \\\n",
       "0                              \n",
       "1                              \n",
       "2        Alberto Cruz Lucero   \n",
       "3                              \n",
       "4                              \n",
       "...                      ...   \n",
       "21014                          \n",
       "21015                          \n",
       "21016                          \n",
       "21017                          \n",
       "21018  Juan Guzman Hernandez   \n",
       "\n",
       "                                      Institución_origen Rdoc  \\\n",
       "0            UNIVERSIDAD WESTHILL - FACULTAD DE MEDICINA   Sí   \n",
       "1      INSTITUTO DE CIENCIAS FORENSES - TRIBUNAL SUPE...   Sí   \n",
       "2      INSTITUTO DE CIENCIAS FORENSES - TRIBUNAL SUPE...   Sí   \n",
       "3      INSTITUTO DE CIENCIAS FORENSES - TRIBUNAL SUPE...   Sí   \n",
       "4      INSTITUTO DE CIENCIAS FORENSES - TRIBUNAL SUPE...   Sí   \n",
       "...                                                  ...  ...   \n",
       "21014        PROCURADURÍA GENERAL DE JUSTICIA DEL ESTADO   Sí   \n",
       "21015        PROCURADURÍA GENERAL DE JUSTICIA DEL ESTADO   Sí   \n",
       "21016        PROCURADURÍA GENERAL DE JUSTICIA DEL ESTADO   Sí   \n",
       "21017        PROCURADURÍA GENERAL DE JUSTICIA DEL ESTADO   Sí   \n",
       "21018        PROCURADURÍA GENERAL DE JUSTICIA DEL ESTADO   Sí   \n",
       "\n",
       "            Marca_temporal  Datos alternativos  \n",
       "0      2020-03-23 00:00:00                 NaN  \n",
       "1      2020-03-23 00:00:00                 NaN  \n",
       "2      2020-03-23 00:00:00                 NaN  \n",
       "3      2020-03-23 00:00:00                 NaN  \n",
       "4      2020-03-23 00:00:00                 NaN  \n",
       "...                    ...                 ...  \n",
       "21014  2022-11-03 00:00:00                 NaN  \n",
       "21015  2022-11-03 00:00:00                 NaN  \n",
       "21016  2022-11-03 00:00:00                 NaN  \n",
       "21017  2022-11-03 00:00:00                 NaN  \n",
       "21018  2022-11-03 00:00:00                 NaN  \n",
       "\n",
       "[21019 rows x 20 columns]"
      ]
     },
     "execution_count": 2,
     "metadata": {},
     "output_type": "execute_result"
    }
   ],
   "source": [
    "df = pd.read_excel(file_mfc, sheet_name=\"MFC\")\n",
    "df"
   ]
  },
  {
   "cell_type": "markdown",
   "metadata": {},
   "source": [
    "Esto nos muestra la tabla, pero ya que esta es muy grande solo nos muestra las primeras y últimas filas, representando las faltantes con _..._ .\n",
    "\n",
    "En la esquina inferior izquierda se puede ver el número de filas y columnas. Esta tabla tiene `21019 rows × 20 columns`.\n",
    "\n",
    "También podemos ver el nombre de las columnas."
   ]
  },
  {
   "cell_type": "code",
   "execution_count": 3,
   "metadata": {},
   "outputs": [
    {
     "data": {
      "text/plain": [
       "Index(['ID', 'Estado_origen', 'Municipio_origen', 'Panteón_origen',\n",
       "       'Estatus_FC', 'Fecha_inhumación', 'Fecha_defunción', 'Fecha_exhumación',\n",
       "       'Restos_tipo', 'Sexo', 'Edad', 'Conocido_Desconocido',\n",
       "       'Primer apellido', 'Segundo Apellido', 'Nombre(s)', 'Nombre completo',\n",
       "       'Institución_origen', 'Rdoc', 'Marca_temporal', 'Datos alternativos'],\n",
       "      dtype='object')"
      ]
     },
     "execution_count": 3,
     "metadata": {},
     "output_type": "execute_result"
    }
   ],
   "source": [
    "df.columns"
   ]
  },
  {
   "cell_type": "markdown",
   "metadata": {},
   "source": [
    "Esta tabla es demasiado larga para trabajar en este ejempli, por lo que solo trabajaremos con las primeras mil filas.\n",
    "\n",
    "\n",
    "### Ejercicio 2\n",
    "\n",
    "Lee la documentación de la función `pd.read_excel` y modifica el comando para cargar solo las primeras mil filas de la tabla."
   ]
  },
  {
   "cell_type": "code",
   "execution_count": 4,
   "metadata": {},
   "outputs": [
    {
     "data": {
      "text/html": [
       "<div>\n",
       "<style scoped>\n",
       "    .dataframe tbody tr th:only-of-type {\n",
       "        vertical-align: middle;\n",
       "    }\n",
       "\n",
       "    .dataframe tbody tr th {\n",
       "        vertical-align: top;\n",
       "    }\n",
       "\n",
       "    .dataframe thead th {\n",
       "        text-align: right;\n",
       "    }\n",
       "</style>\n",
       "<table border=\"1\" class=\"dataframe\">\n",
       "  <thead>\n",
       "    <tr style=\"text-align: right;\">\n",
       "      <th></th>\n",
       "      <th>ID</th>\n",
       "      <th>Estado_origen</th>\n",
       "      <th>Municipio_origen</th>\n",
       "      <th>Panteón_origen</th>\n",
       "      <th>Estatus_FC</th>\n",
       "      <th>Fecha_inhumación</th>\n",
       "      <th>Fecha_defunción</th>\n",
       "      <th>Fecha_exhumación</th>\n",
       "      <th>Restos_tipo</th>\n",
       "      <th>Sexo</th>\n",
       "      <th>Edad</th>\n",
       "      <th>Conocido_Desconocido</th>\n",
       "      <th>Primer apellido</th>\n",
       "      <th>Segundo Apellido</th>\n",
       "      <th>Nombre(s)</th>\n",
       "      <th>Nombre completo</th>\n",
       "      <th>Institución_origen</th>\n",
       "      <th>Rdoc</th>\n",
       "      <th>Marca_temporal</th>\n",
       "      <th>Datos alternativos</th>\n",
       "    </tr>\n",
       "  </thead>\n",
       "  <tbody>\n",
       "    <tr>\n",
       "      <th>0</th>\n",
       "      <td>XX-P001</td>\n",
       "      <td>Ciudad de México</td>\n",
       "      <td>Miguel Hidalgo</td>\n",
       "      <td>Panteón Civil de Dolores</td>\n",
       "      <td>Inhumación</td>\n",
       "      <td>2019-01-30</td>\n",
       "      <td>2018-03-04 00:00:00</td>\n",
       "      <td>NaT</td>\n",
       "      <td>Restos cremados</td>\n",
       "      <td>Masculino</td>\n",
       "      <td>55</td>\n",
       "      <td>Desconocido</td>\n",
       "      <td>NaN</td>\n",
       "      <td>NaN</td>\n",
       "      <td>NaN</td>\n",
       "      <td></td>\n",
       "      <td>UNIVERSIDAD WESTHILL - FACULTAD DE MEDICINA</td>\n",
       "      <td>Sí</td>\n",
       "      <td>2020-03-23 00:00:00.000</td>\n",
       "      <td>NaN</td>\n",
       "    </tr>\n",
       "    <tr>\n",
       "      <th>1</th>\n",
       "      <td>XX-P002</td>\n",
       "      <td>Ciudad de México</td>\n",
       "      <td>Miguel Hidalgo</td>\n",
       "      <td>Panteón Civil de Dolores</td>\n",
       "      <td>Inhumación</td>\n",
       "      <td>2019-01-26</td>\n",
       "      <td>2018-12-12 00:00:00</td>\n",
       "      <td>NaT</td>\n",
       "      <td>Cadáver</td>\n",
       "      <td>Masculino</td>\n",
       "      <td>NaN</td>\n",
       "      <td>Desconocido</td>\n",
       "      <td>NaN</td>\n",
       "      <td>NaN</td>\n",
       "      <td>NaN</td>\n",
       "      <td></td>\n",
       "      <td>INSTITUTO DE CIENCIAS FORENSES - TRIBUNAL SUPE...</td>\n",
       "      <td>Sí</td>\n",
       "      <td>2020-03-23 00:00:00.000</td>\n",
       "      <td>NaN</td>\n",
       "    </tr>\n",
       "    <tr>\n",
       "      <th>2</th>\n",
       "      <td>XX-P003</td>\n",
       "      <td>Ciudad de México</td>\n",
       "      <td>Miguel Hidalgo</td>\n",
       "      <td>Panteón Civil de Dolores</td>\n",
       "      <td>Inhumación</td>\n",
       "      <td>2019-01-26</td>\n",
       "      <td>2018-12-13 00:00:00</td>\n",
       "      <td>NaT</td>\n",
       "      <td>Cadáver</td>\n",
       "      <td>Masculino</td>\n",
       "      <td>NaN</td>\n",
       "      <td>Conocido</td>\n",
       "      <td>Cruz</td>\n",
       "      <td>Lucero</td>\n",
       "      <td>Alberto</td>\n",
       "      <td>Alberto Cruz Lucero</td>\n",
       "      <td>INSTITUTO DE CIENCIAS FORENSES - TRIBUNAL SUPE...</td>\n",
       "      <td>Sí</td>\n",
       "      <td>2020-03-23 00:00:00.000</td>\n",
       "      <td>NaN</td>\n",
       "    </tr>\n",
       "    <tr>\n",
       "      <th>3</th>\n",
       "      <td>XX-P004</td>\n",
       "      <td>Ciudad de México</td>\n",
       "      <td>Miguel Hidalgo</td>\n",
       "      <td>Panteón Civil de Dolores</td>\n",
       "      <td>Inhumación</td>\n",
       "      <td>2019-01-26</td>\n",
       "      <td>2018-12-14 00:00:00</td>\n",
       "      <td>NaT</td>\n",
       "      <td>Cadáver</td>\n",
       "      <td>Masculino</td>\n",
       "      <td>NaN</td>\n",
       "      <td>Desconocido</td>\n",
       "      <td>NaN</td>\n",
       "      <td>NaN</td>\n",
       "      <td>NaN</td>\n",
       "      <td></td>\n",
       "      <td>INSTITUTO DE CIENCIAS FORENSES - TRIBUNAL SUPE...</td>\n",
       "      <td>Sí</td>\n",
       "      <td>2020-03-23 00:00:00.000</td>\n",
       "      <td>NaN</td>\n",
       "    </tr>\n",
       "    <tr>\n",
       "      <th>4</th>\n",
       "      <td>XX-P005</td>\n",
       "      <td>Ciudad de México</td>\n",
       "      <td>Miguel Hidalgo</td>\n",
       "      <td>Panteón Civil de Dolores</td>\n",
       "      <td>Inhumación</td>\n",
       "      <td>2019-01-26</td>\n",
       "      <td>2018-12-18 00:00:00</td>\n",
       "      <td>NaT</td>\n",
       "      <td>Cadáver</td>\n",
       "      <td>Masculino</td>\n",
       "      <td>NaN</td>\n",
       "      <td>Desconocido</td>\n",
       "      <td>NaN</td>\n",
       "      <td>NaN</td>\n",
       "      <td>NaN</td>\n",
       "      <td></td>\n",
       "      <td>INSTITUTO DE CIENCIAS FORENSES - TRIBUNAL SUPE...</td>\n",
       "      <td>Sí</td>\n",
       "      <td>2020-03-23 00:00:00.000</td>\n",
       "      <td>NaN</td>\n",
       "    </tr>\n",
       "    <tr>\n",
       "      <th>...</th>\n",
       "      <td>...</td>\n",
       "      <td>...</td>\n",
       "      <td>...</td>\n",
       "      <td>...</td>\n",
       "      <td>...</td>\n",
       "      <td>...</td>\n",
       "      <td>...</td>\n",
       "      <td>...</td>\n",
       "      <td>...</td>\n",
       "      <td>...</td>\n",
       "      <td>...</td>\n",
       "      <td>...</td>\n",
       "      <td>...</td>\n",
       "      <td>...</td>\n",
       "      <td>...</td>\n",
       "      <td>...</td>\n",
       "      <td>...</td>\n",
       "      <td>...</td>\n",
       "      <td>...</td>\n",
       "      <td>...</td>\n",
       "    </tr>\n",
       "    <tr>\n",
       "      <th>995</th>\n",
       "      <td>XX-P996</td>\n",
       "      <td>Ciudad de México</td>\n",
       "      <td>Miguel Hidalgo</td>\n",
       "      <td>Panteón Civil de Dolores</td>\n",
       "      <td>Inhumación</td>\n",
       "      <td>2018-09-01</td>\n",
       "      <td>S/D</td>\n",
       "      <td>NaT</td>\n",
       "      <td>Cadáver</td>\n",
       "      <td>Masculino</td>\n",
       "      <td>42</td>\n",
       "      <td>Conocido</td>\n",
       "      <td>Flores</td>\n",
       "      <td>Rosette</td>\n",
       "      <td>Sergio</td>\n",
       "      <td>Sergio Flores Rosette</td>\n",
       "      <td>UNIVERSIDAD NACIONAL AUTÓNOMA DE MÉXICO - FACU...</td>\n",
       "      <td>Sí</td>\n",
       "      <td>2020-04-06 21:19:52.451</td>\n",
       "      <td>NaN</td>\n",
       "    </tr>\n",
       "    <tr>\n",
       "      <th>996</th>\n",
       "      <td>XX-P997</td>\n",
       "      <td>Ciudad de México</td>\n",
       "      <td>Miguel Hidalgo</td>\n",
       "      <td>Panteón Civil de Dolores</td>\n",
       "      <td>Inhumación</td>\n",
       "      <td>2018-09-01</td>\n",
       "      <td>2017-10-27 00:00:00</td>\n",
       "      <td>NaT</td>\n",
       "      <td>Cadáver</td>\n",
       "      <td>Masculino</td>\n",
       "      <td>64</td>\n",
       "      <td>Conocido</td>\n",
       "      <td>Juárez</td>\n",
       "      <td>Chávez</td>\n",
       "      <td>Juan Carlos</td>\n",
       "      <td>Juan Carlos Juárez Chávez</td>\n",
       "      <td>UNIVERSIDAD NACIONAL AUTÓNOMA DE MÉXICO - FACU...</td>\n",
       "      <td>Sí</td>\n",
       "      <td>2020-04-06 21:22:53.304</td>\n",
       "      <td>NaN</td>\n",
       "    </tr>\n",
       "    <tr>\n",
       "      <th>997</th>\n",
       "      <td>XX-P998</td>\n",
       "      <td>Ciudad de México</td>\n",
       "      <td>Miguel Hidalgo</td>\n",
       "      <td>Panteón Civil de Dolores</td>\n",
       "      <td>Inhumación</td>\n",
       "      <td>2018-09-01</td>\n",
       "      <td>2018-08-18 00:00:00</td>\n",
       "      <td>NaT</td>\n",
       "      <td>Cadáver</td>\n",
       "      <td>Masculino</td>\n",
       "      <td>NaN</td>\n",
       "      <td>Desconocido</td>\n",
       "      <td>NaN</td>\n",
       "      <td>NaN</td>\n",
       "      <td>NaN</td>\n",
       "      <td></td>\n",
       "      <td>INSTITUTO DE CIENCIAS FORENSES - TRIBUNAL SUPE...</td>\n",
       "      <td>Sí</td>\n",
       "      <td>2020-04-06 21:30:12.169</td>\n",
       "      <td>NaN</td>\n",
       "    </tr>\n",
       "    <tr>\n",
       "      <th>998</th>\n",
       "      <td>XX-P999</td>\n",
       "      <td>Ciudad de México</td>\n",
       "      <td>Miguel Hidalgo</td>\n",
       "      <td>Panteón Civil de Dolores</td>\n",
       "      <td>Inhumación</td>\n",
       "      <td>2018-09-01</td>\n",
       "      <td>2018-05-22 00:00:00</td>\n",
       "      <td>NaT</td>\n",
       "      <td>Cadáver</td>\n",
       "      <td>Femenino</td>\n",
       "      <td>1</td>\n",
       "      <td>Desconocido</td>\n",
       "      <td>NaN</td>\n",
       "      <td>NaN</td>\n",
       "      <td>NaN</td>\n",
       "      <td></td>\n",
       "      <td>INSTITUTO DE CIENCIAS FORENSES - TRIBUNAL SUPE...</td>\n",
       "      <td>Sí</td>\n",
       "      <td>2020-04-06 21:32:30.839</td>\n",
       "      <td>NaN</td>\n",
       "    </tr>\n",
       "    <tr>\n",
       "      <th>999</th>\n",
       "      <td>XX-P1000</td>\n",
       "      <td>Ciudad de México</td>\n",
       "      <td>Miguel Hidalgo</td>\n",
       "      <td>Panteón Civil de Dolores</td>\n",
       "      <td>Inhumación</td>\n",
       "      <td>2018-09-01</td>\n",
       "      <td>2018-05-29 00:00:00</td>\n",
       "      <td>NaT</td>\n",
       "      <td>Cadáver</td>\n",
       "      <td>Masculino</td>\n",
       "      <td>NaN</td>\n",
       "      <td>Desconocido</td>\n",
       "      <td>NaN</td>\n",
       "      <td>NaN</td>\n",
       "      <td>NaN</td>\n",
       "      <td></td>\n",
       "      <td>INSTITUTO DE CIENCIAS FORENSES - TRIBUNAL SUPE...</td>\n",
       "      <td>Sí</td>\n",
       "      <td>2020-04-06 21:35:23.157</td>\n",
       "      <td>NaN</td>\n",
       "    </tr>\n",
       "  </tbody>\n",
       "</table>\n",
       "<p>1000 rows × 20 columns</p>\n",
       "</div>"
      ],
      "text/plain": [
       "           ID     Estado_origen Municipio_origen            Panteón_origen  \\\n",
       "0     XX-P001  Ciudad de México   Miguel Hidalgo  Panteón Civil de Dolores   \n",
       "1     XX-P002  Ciudad de México   Miguel Hidalgo  Panteón Civil de Dolores   \n",
       "2     XX-P003  Ciudad de México   Miguel Hidalgo  Panteón Civil de Dolores   \n",
       "3     XX-P004  Ciudad de México   Miguel Hidalgo  Panteón Civil de Dolores   \n",
       "4     XX-P005  Ciudad de México   Miguel Hidalgo  Panteón Civil de Dolores   \n",
       "..        ...               ...              ...                       ...   \n",
       "995   XX-P996  Ciudad de México   Miguel Hidalgo  Panteón Civil de Dolores   \n",
       "996   XX-P997  Ciudad de México   Miguel Hidalgo  Panteón Civil de Dolores   \n",
       "997   XX-P998  Ciudad de México   Miguel Hidalgo  Panteón Civil de Dolores   \n",
       "998   XX-P999  Ciudad de México   Miguel Hidalgo  Panteón Civil de Dolores   \n",
       "999  XX-P1000  Ciudad de México   Miguel Hidalgo  Panteón Civil de Dolores   \n",
       "\n",
       "     Estatus_FC Fecha_inhumación      Fecha_defunción Fecha_exhumación  \\\n",
       "0    Inhumación       2019-01-30  2018-03-04 00:00:00              NaT   \n",
       "1    Inhumación       2019-01-26  2018-12-12 00:00:00              NaT   \n",
       "2    Inhumación       2019-01-26  2018-12-13 00:00:00              NaT   \n",
       "3    Inhumación       2019-01-26  2018-12-14 00:00:00              NaT   \n",
       "4    Inhumación       2019-01-26  2018-12-18 00:00:00              NaT   \n",
       "..          ...              ...                  ...              ...   \n",
       "995  Inhumación       2018-09-01                  S/D              NaT   \n",
       "996  Inhumación       2018-09-01  2017-10-27 00:00:00              NaT   \n",
       "997  Inhumación       2018-09-01  2018-08-18 00:00:00              NaT   \n",
       "998  Inhumación       2018-09-01  2018-05-22 00:00:00              NaT   \n",
       "999  Inhumación       2018-09-01  2018-05-29 00:00:00              NaT   \n",
       "\n",
       "         Restos_tipo       Sexo Edad Conocido_Desconocido Primer apellido  \\\n",
       "0    Restos cremados  Masculino   55          Desconocido             NaN   \n",
       "1            Cadáver  Masculino  NaN          Desconocido             NaN   \n",
       "2            Cadáver  Masculino  NaN             Conocido            Cruz   \n",
       "3            Cadáver  Masculino  NaN          Desconocido             NaN   \n",
       "4            Cadáver  Masculino  NaN          Desconocido             NaN   \n",
       "..               ...        ...  ...                  ...             ...   \n",
       "995          Cadáver  Masculino   42             Conocido          Flores   \n",
       "996          Cadáver  Masculino   64             Conocido          Juárez   \n",
       "997          Cadáver  Masculino  NaN          Desconocido             NaN   \n",
       "998          Cadáver   Femenino    1          Desconocido             NaN   \n",
       "999          Cadáver  Masculino  NaN          Desconocido             NaN   \n",
       "\n",
       "    Segundo Apellido    Nombre(s)            Nombre completo  \\\n",
       "0                NaN          NaN                              \n",
       "1                NaN          NaN                              \n",
       "2             Lucero      Alberto        Alberto Cruz Lucero   \n",
       "3                NaN          NaN                              \n",
       "4                NaN          NaN                              \n",
       "..               ...          ...                        ...   \n",
       "995          Rosette       Sergio      Sergio Flores Rosette   \n",
       "996           Chávez  Juan Carlos  Juan Carlos Juárez Chávez   \n",
       "997              NaN          NaN                              \n",
       "998              NaN          NaN                              \n",
       "999              NaN          NaN                              \n",
       "\n",
       "                                    Institución_origen Rdoc  \\\n",
       "0          UNIVERSIDAD WESTHILL - FACULTAD DE MEDICINA   Sí   \n",
       "1    INSTITUTO DE CIENCIAS FORENSES - TRIBUNAL SUPE...   Sí   \n",
       "2    INSTITUTO DE CIENCIAS FORENSES - TRIBUNAL SUPE...   Sí   \n",
       "3    INSTITUTO DE CIENCIAS FORENSES - TRIBUNAL SUPE...   Sí   \n",
       "4    INSTITUTO DE CIENCIAS FORENSES - TRIBUNAL SUPE...   Sí   \n",
       "..                                                 ...  ...   \n",
       "995  UNIVERSIDAD NACIONAL AUTÓNOMA DE MÉXICO - FACU...   Sí   \n",
       "996  UNIVERSIDAD NACIONAL AUTÓNOMA DE MÉXICO - FACU...   Sí   \n",
       "997  INSTITUTO DE CIENCIAS FORENSES - TRIBUNAL SUPE...   Sí   \n",
       "998  INSTITUTO DE CIENCIAS FORENSES - TRIBUNAL SUPE...   Sí   \n",
       "999  INSTITUTO DE CIENCIAS FORENSES - TRIBUNAL SUPE...   Sí   \n",
       "\n",
       "             Marca_temporal  Datos alternativos  \n",
       "0   2020-03-23 00:00:00.000                 NaN  \n",
       "1   2020-03-23 00:00:00.000                 NaN  \n",
       "2   2020-03-23 00:00:00.000                 NaN  \n",
       "3   2020-03-23 00:00:00.000                 NaN  \n",
       "4   2020-03-23 00:00:00.000                 NaN  \n",
       "..                      ...                 ...  \n",
       "995 2020-04-06 21:19:52.451                 NaN  \n",
       "996 2020-04-06 21:22:53.304                 NaN  \n",
       "997 2020-04-06 21:30:12.169                 NaN  \n",
       "998 2020-04-06 21:32:30.839                 NaN  \n",
       "999 2020-04-06 21:35:23.157                 NaN  \n",
       "\n",
       "[1000 rows x 20 columns]"
      ]
     },
     "execution_count": 4,
     "metadata": {},
     "output_type": "execute_result"
    }
   ],
   "source": [
    "df = pd.read_excel(file_mfc, sheet_name=\"MFC\", nrows=1000)\n",
    "df"
   ]
  },
  {
   "cell_type": "markdown",
   "metadata": {},
   "source": [
    "## 2.3 Conjuntos de datos ordenados\n",
    "\n",
    "Para el anális de datos debemos de familiarizarnos con varias definiciones.\n",
    "\n",
    "Una **variable** es una medida o un atributo que puede ser asignado a un objeto o individuo. Por ejemplo, la edad, el peso, la altura, el género, la fecha de nacimiento, etc. son variables que pueden ser asignadas a una persona. Una variable puede ser cuantitativa (en la que los valores pueden ser medidos en una escala numérica) o cualitativa (en la que los valores son categóricos, es decir, no pueden ser medidos en una escala numérica). En ambos casos, la variable se utiliza para describir algo y para analizar datos.\n",
    "\n",
    "Un **valor** es una medida o atributo específico asociado a una variable. Por ejemplo, si una variable es la fecha de nacimiento, un valor podría ser 10 de mayo. Si la variable es el peso, un valor podría ser 80 kg. Los valores son los valores concretos o específicos asociados con una variable en un momento dado.\n",
    "\n",
    "Una **observación** es una serie de medida o registro de una variable o atributo en un momento o en una unidad específica. Por ejemplo, la observación de la altura y peso de una persona en un momento específico. En un estudio o experimento, las observaciones se recopilan y se utilizan para extraer información y conclusión sobre la relación entre variables o para describir una población o un fenómeno.\n",
    "\n",
    "Un **dato** es una unidad de información, ya sea numérica o categórica, que se recolecta para describir o medir un fenómeno o una característica de un objeto o sujeto. Por ejemplo, la edad, el género, la estatura, el peso, la fecha de nacimiento, entre otros, son datos que se pueden recopilar sobre una persona. Los datos se utilizan para analizar patrones y tendencias, tomar decisiones basadas en información y generar conocimientos nuevos a partir de la información existente.\n",
    "\n",
    "Existen varios **tipos de datos**:\n",
    "* Númericos: valores contables discretos o continuos\n",
    "* Binarios: verdadero o falso\n",
    "* Categoricos: número limitado de categorias\n",
    "* Texto\n",
    "* Fecha\n",
    "* Coordenadas\n",
    "\n",
    "Los datos no siempre están completos, es decir, a veces desconocemos el valor de un dato. Esto se puede representar de varias formas. En el caso de pandas se usa _NaN_ para representar los datos faltantes o desconocidos.\n",
    "\n",
    "Los principios de los conjuntos de datos ordenados (Tidy Data) fueron dados por Hadley Wickham. Recomendamos leer el [artículo original](http://vita.had.co.nz/papers/tidy-data.pdf), que traducimos parcialmente.\n",
    "\n",
    "Los principios de los **datos ordenados** proporcionan una forma estándar de organizar los valores de datos dentro de un conjunto de datos. Un estándar hace que la limpieza inicial de datos sea más fácil, ya que no es necesario empezar desde cero y reinventar la rueda cada vez. El estándar de datos ordenados ha sido diseñado para facilitar la exploración inicial y el análisis de los datos, y para simplificar el desarrollo de herramientas de análisis de datos que funcionen bien juntas.\n",
    "\n",
    "Al igual que las familias, los conjuntos de datos ordenados son todos similares, pero cada conjunto de datos desordenado es desordenado de su propia manera. Los conjuntos de datos ordenados proporcionan una forma estandarizada de vincular la estructura de un conjunto de datos (su disposición física) con su semántica (su significado). En esta sección, proporcionaré algunos términos estándar para describir la estructura y la semántica de un conjunto de datos, y luego utilizaré esas definiciones para definir los datos ordenados.\n",
    "\n",
    "La mayoría de los conjuntos de datos estadísticos son tablas rectangulares compuestas por filas y columnas. Las columnas están casi siempre etiquetadas y las filas a veces están etiquetadas. Nuestro vocabulario de filas y columnas simplemente no es lo suficientemente rico como para describir por qué las dos tablas representan los mismos datos. Además de la apariencia, necesitamos una forma de describir la semántica subyacente o el significado de los valores mostrados en la tabla.\n",
    "\n",
    "Un conjunto de datos es una colección de valores, generalmente números (si son cuantitativos) o cadenas (si son cualitativas). Los valores están organizados de dos maneras. Cada valor pertenece a una variable y una observación. Una variable contiene todos los valores que miden el mismo atributo subyacente (como la altura, la temperatura, la duración) a través de las unidades. Una observación contiene todos los valores medidos en la misma unidad (como una persona, un día o una carrera) a través de los atributos.\n",
    "\n",
    "Los datos ordenados son una forma estándar de asignar el significado de un conjunto de datos a su estructura. Un conjunto de datos es\n",
    "desordenado o ordenado dependiendo de cómo las filas, columnas y tablas se combinan con las observaciones,\n",
    "variables y tipos. En datos ordenados:\n",
    "1. Cada variable forma una columna.\n",
    "2. Cada observación forma una fila.\n",
    "3. Cada tipo de unidad de observación forma una tabla.\n",
    "\n",
    "\n",
    "### Ejercicio 3\n",
    "\n",
    "Identifica cada una de las definiciones, tipos de datos y características anteriormente descritas en la tabla del MFC."
   ]
  },
  {
   "cell_type": "markdown",
   "metadata": {},
   "source": [
    "<a id='exploracion'></a>"
   ]
  },
  {
   "cell_type": "markdown",
   "metadata": {
    "tags": []
   },
   "source": [
    "## 2.4 Exploración básica\n",
    "\n",
    "Ya que se han obtenido y abierto los archivos de datos  debemos  familiarizarnos con los datos. Esto se conoce como Análisis Exploratorio de los Datos o EDA por sus siglas en ingles. \n",
    "\n",
    "Existe una serie de herramientas que se especializa en eso, una de las cuales es [ydata-profiling](https://ydata-profiling.ydata.ai/docs/master/index.html).\n",
    "\n",
    "Este tipo de herramienta infiere los tipos de datos, encuentra problemas de datos faltantes y realiza estadística básica.\n",
    "\n",
    "El reporte puede ser guardado cómo archivo html para ser visto en el navegador web o cómo widget interactivo. En este caso lo guardaremos como html para facilitar su posterior consulta sin depender de anaconda."
   ]
  },
  {
   "cell_type": "code",
   "execution_count": 5,
   "metadata": {},
   "outputs": [
    {
     "data": {
      "application/vnd.jupyter.widget-view+json": {
       "model_id": "b220f161e99247acb0fc185f7bd28791",
       "version_major": 2,
       "version_minor": 0
      },
      "text/plain": [
       "Summarize dataset:   0%|          | 0/5 [00:00<?, ?it/s]"
      ]
     },
     "metadata": {},
     "output_type": "display_data"
    },
    {
     "data": {
      "application/vnd.jupyter.widget-view+json": {
       "model_id": "0ff03fbfee8142a98b4470f0dce8973f",
       "version_major": 2,
       "version_minor": 0
      },
      "text/plain": [
       "Generate report structure:   0%|          | 0/1 [00:00<?, ?it/s]"
      ]
     },
     "metadata": {},
     "output_type": "display_data"
    },
    {
     "data": {
      "application/vnd.jupyter.widget-view+json": {
       "model_id": "0ed1febcbe2d463890250af1d312c687",
       "version_major": 2,
       "version_minor": 0
      },
      "text/plain": [
       "Render HTML:   0%|          | 0/1 [00:00<?, ?it/s]"
      ]
     },
     "metadata": {},
     "output_type": "display_data"
    },
    {
     "data": {
      "application/vnd.jupyter.widget-view+json": {
       "model_id": "25d67e1119c64724b1df33dbc57b3cb6",
       "version_major": 2,
       "version_minor": 0
      },
      "text/plain": [
       "Export report to file:   0%|          | 0/1 [00:00<?, ?it/s]"
      ]
     },
     "metadata": {},
     "output_type": "display_data"
    }
   ],
   "source": [
    "from ydata_profiling import ProfileReport\n",
    "\n",
    "file_profile = \"profiles/MFC_profile_short.html\"\n",
    "prof = ProfileReport(df) \n",
    "prof.to_file(output_file=file_profile)"
   ]
  },
  {
   "cell_type": "markdown",
   "metadata": {},
   "source": [
    "El reporte incluye cinco secciones:\n",
    "\n",
    "**Overview**. \n",
    "Da una idea general del conjunto de datos, por ejemplo variables, observaciones, datos faltantes, tipos de datos, etc. Incluye alertas de posibles errores de datos y cuanto tardo el profile.\n",
    "![Profile overview](./images/MFC_profile_overview.png)\n",
    "\n",
    "**Variables** Muestra un resumen de las características de cada variable o columna, incluyendo el tipo de dato, distribución, etc.\n",
    "![Profile variables](./images/MFC_profile_variables.png)\n",
    "\n",
    "**Correlations**\n",
    "Muestra las correlaciones entre variables. Es recomendable no hacer este análisis para conjuntos de datos grandes.\n",
    "![Profile correlations](./images/MFC_profile_correlations.png)\n",
    "\n",
    "**Missing values**\n",
    "Muestra los datos faltantes. Es útil para determinar la calidad de los datos.\n",
    "![Profile missing](./images/MFC_profile_missing.png)\n",
    "\n",
    "**Sample**\n",
    "Muestra un ejemplo de los datos.\n",
    "![Profile sample](./images/MFC_profile_sample.png)\n",
    "\n",
    "\n",
    "\n",
    "Estas herramientas son múy utiles para determinar que información contiene el conjunto de datos, cómo se comportan las variables y que pasos de limpieza y análisis se necesitan.\n",
    "\n",
    "Por ejemplo, podemos ver que las variables `Fecha_defunción`, `Edad` y`Datos alternativos` estan en gris ya que no pudieron ser procesadas. En el caso de `Fecha_defunción` y`Datos alternativos` esto se debé a que no hay datos en el subconjunto seleccionado.\n",
    "\n",
    "Sin embargo, en el caso de `Edad` es necesario revisar más cuidadosamente lo sucedido. Pare ver la columna `Edad` sin valores faltantes usaremos los siguientes comandos."
   ]
  },
  {
   "cell_type": "code",
   "execution_count": 6,
   "metadata": {},
   "outputs": [
    {
     "data": {
      "text/plain": [
       "0              55\n",
       "21     19 semanas\n",
       "22     12 semanas\n",
       "23             31\n",
       "24             18\n",
       "          ...    \n",
       "993            65\n",
       "994            31\n",
       "995            42\n",
       "996            64\n",
       "998             1\n",
       "Name: Edad, Length: 584, dtype: object"
      ]
     },
     "execution_count": 6,
     "metadata": {},
     "output_type": "execute_result"
    }
   ],
   "source": [
    "df['Edad'].dropna()"
   ]
  },
  {
   "cell_type": "markdown",
   "metadata": {},
   "source": [
    "Podemos ver que la edad incluye tanto números (55) como textos (19 semanas), por lo que yprofiler es incapaz de determinar el tipo de dato. Esto requiere una limpieza especializada. Cómo parte del primer análisis sustituiremos por ´nan´ todos los datos que no sean números. Más adelante haremos una limpieza mas completa\n"
   ]
  },
  {
   "cell_type": "code",
   "execution_count": 7,
   "metadata": {},
   "outputs": [
    {
     "data": {
      "text/plain": [
       "0      55.0\n",
       "23     31.0\n",
       "24     18.0\n",
       "25     39.0\n",
       "26     35.0\n",
       "       ... \n",
       "993    65.0\n",
       "994    31.0\n",
       "995    42.0\n",
       "996    64.0\n",
       "998     1.0\n",
       "Name: Edad, Length: 540, dtype: float64"
      ]
     },
     "execution_count": 7,
     "metadata": {},
     "output_type": "execute_result"
    }
   ],
   "source": [
    "df['Edad'] = pd.to_numeric(df['Edad'], errors='coerce')\n",
    "df['Edad'].dropna()"
   ]
  },
  {
   "cell_type": "markdown",
   "metadata": {},
   "source": [
    "Podemos ver que los datos con 'semana' han desaparecido. Realicemos una ves más el profile."
   ]
  },
  {
   "cell_type": "code",
   "execution_count": 8,
   "metadata": {},
   "outputs": [
    {
     "data": {
      "application/vnd.jupyter.widget-view+json": {
       "model_id": "6748f91f2e384e28862a021af8e0740c",
       "version_major": 2,
       "version_minor": 0
      },
      "text/plain": [
       "Summarize dataset:   0%|          | 0/5 [00:00<?, ?it/s]"
      ]
     },
     "metadata": {},
     "output_type": "display_data"
    },
    {
     "data": {
      "application/vnd.jupyter.widget-view+json": {
       "model_id": "e544aea18e0e4f3f9028c2511a01ff3d",
       "version_major": 2,
       "version_minor": 0
      },
      "text/plain": [
       "Generate report structure:   0%|          | 0/1 [00:00<?, ?it/s]"
      ]
     },
     "metadata": {},
     "output_type": "display_data"
    },
    {
     "data": {
      "application/vnd.jupyter.widget-view+json": {
       "model_id": "34b7d297e93e431992c6b56761eb62c4",
       "version_major": 2,
       "version_minor": 0
      },
      "text/plain": [
       "Render HTML:   0%|          | 0/1 [00:00<?, ?it/s]"
      ]
     },
     "metadata": {},
     "output_type": "display_data"
    },
    {
     "data": {
      "application/vnd.jupyter.widget-view+json": {
       "model_id": "3e4eeebb0312474d9605efce6cd5e346",
       "version_major": 2,
       "version_minor": 0
      },
      "text/plain": [
       "Export report to file:   0%|          | 0/1 [00:00<?, ?it/s]"
      ]
     },
     "metadata": {},
     "output_type": "display_data"
    }
   ],
   "source": [
    "prof = ProfileReport(df) \n",
    "prof.to_file(output_file=file_profile)"
   ]
  },
  {
   "cell_type": "markdown",
   "metadata": {},
   "source": [
    "Ahora podemos ver la `Edad` incluyendo medidas estadísticas.\n",
    "\n",
    "![Profile edad](./images/MFC_profile_edad.png)\n"
   ]
  },
  {
   "cell_type": "markdown",
   "metadata": {},
   "source": [
    "Es posible comparar dos conjuntos de datos.\n",
    "\n",
    "En primer lugar separaremos los datos de registros Masculinos y Femeninos. Después realizaremos los profiles por separado y los contrastaremos con la función `compare`."
   ]
  },
  {
   "cell_type": "code",
   "execution_count": 18,
   "metadata": {},
   "outputs": [
    {
     "data": {
      "application/vnd.jupyter.widget-view+json": {
       "model_id": "b8516d8cf74c436791a7b4a7f2c166df",
       "version_major": 2,
       "version_minor": 0
      },
      "text/plain": [
       "Summarize dataset:   0%|          | 0/5 [00:00<?, ?it/s]"
      ]
     },
     "metadata": {},
     "output_type": "display_data"
    },
    {
     "data": {
      "application/vnd.jupyter.widget-view+json": {
       "model_id": "b5173b541fe84d2baccb10fd0ffd345e",
       "version_major": 2,
       "version_minor": 0
      },
      "text/plain": [
       "Summarize dataset:   0%|          | 0/5 [00:00<?, ?it/s]"
      ]
     },
     "metadata": {},
     "output_type": "display_data"
    },
    {
     "data": {
      "application/vnd.jupyter.widget-view+json": {
       "model_id": "00a9331dd38c49ef8d5239f38cf99c94",
       "version_major": 2,
       "version_minor": 0
      },
      "text/plain": [
       "Generate report structure:   0%|          | 0/1 [00:00<?, ?it/s]"
      ]
     },
     "metadata": {},
     "output_type": "display_data"
    },
    {
     "data": {
      "application/vnd.jupyter.widget-view+json": {
       "model_id": "ce8983c0aa444324b32a2cbb6d195d89",
       "version_major": 2,
       "version_minor": 0
      },
      "text/plain": [
       "Render HTML:   0%|          | 0/1 [00:00<?, ?it/s]"
      ]
     },
     "metadata": {},
     "output_type": "display_data"
    },
    {
     "data": {
      "application/vnd.jupyter.widget-view+json": {
       "model_id": "bd3148f9f66d40e1ba807cc3aafce6d8",
       "version_major": 2,
       "version_minor": 0
      },
      "text/plain": [
       "Export report to file:   0%|          | 0/1 [00:00<?, ?it/s]"
      ]
     },
     "metadata": {},
     "output_type": "display_data"
    }
   ],
   "source": [
    "from ydata_profiling import compare\n",
    "\n",
    "df_masculino = df[df['Sexo']=='Masculino'].drop('Fecha_exhumación', axis=1)\n",
    "prof_masculino = ProfileReport( df_masculino, title='Masculino' )\n",
    "\n",
    "df_femenino = df[df['Sexo']=='Femenino'].drop('Fecha_exhumación', axis=1)\n",
    "prof_femenino  = ProfileReport( df_femenino, title='Femenino' )\n",
    "\n",
    "file_compare = \"profiles/MFC_profile_compare.html\"\n",
    "\n",
    "prof_comparison = compare([prof_masculino, prof_femenino])\n",
    "prof_comparison.to_file(file_compare)"
   ]
  },
  {
   "cell_type": "markdown",
   "metadata": {},
   "source": [
    "Además, es posible realizar múltiples mejoras y ajustes al reporte.\n",
    "\n",
    "* **Título** Agregar un título\n",
    "* **Metadata** Agregar información como descripción, autor, etc al reporte\n",
    "* **Variables** Agregar el diccionario de datos para describir las variables\n",
    "* **Correlations** Llevar a cabo solo algunas correlaciones o ninguna. En el caso de grandes conjuntos de datos se recomienda no realizar correlaciones.\n",
    "* **Sensitive** Oculta los datos desagregados para evitar filtrar información de individuos."
   ]
  },
  {
   "cell_type": "code",
   "execution_count": 33,
   "metadata": {},
   "outputs": [
    {
     "data": {
      "application/vnd.jupyter.widget-view+json": {
       "model_id": "20267dbfc6ae4fd0852caffcc997e645",
       "version_major": 2,
       "version_minor": 0
      },
      "text/plain": [
       "Summarize dataset:   0%|          | 0/5 [00:00<?, ?it/s]"
      ]
     },
     "metadata": {},
     "output_type": "display_data"
    },
    {
     "data": {
      "application/vnd.jupyter.widget-view+json": {
       "model_id": "3eb7f9349309439a98e1547e1c735463",
       "version_major": 2,
       "version_minor": 0
      },
      "text/plain": [
       "Generate report structure:   0%|          | 0/1 [00:00<?, ?it/s]"
      ]
     },
     "metadata": {},
     "output_type": "display_data"
    },
    {
     "data": {
      "application/vnd.jupyter.widget-view+json": {
       "model_id": "6db0e7bb2ba04671a7f3f627c7fab367",
       "version_major": 2,
       "version_minor": 0
      },
      "text/plain": [
       "Render HTML:   0%|          | 0/1 [00:00<?, ?it/s]"
      ]
     },
     "metadata": {},
     "output_type": "display_data"
    },
    {
     "data": {
      "application/vnd.jupyter.widget-view+json": {
       "model_id": "40bab7ddd74146998137ea216540f390",
       "version_major": 2,
       "version_minor": 0
      },
      "text/plain": [
       "Export report to file:   0%|          | 0/1 [00:00<?, ?it/s]"
      ]
     },
     "metadata": {},
     "output_type": "display_data"
    }
   ],
   "source": [
    "#Este código toma el diccionario de datos y obtiene el nombre de variable y descripción\n",
    "dic_datos = pd.read_excel(file_mfc, sheet_name=\"Diccionario\", header=3)\n",
    "dic_datos = dic_datos[['Variable','Descripción operativa']].dropna()\n",
    "dic_datos = dict(zip(dic_datos['Variable'], dic_datos['Descripción operativa']))\n",
    "\n",
    "#Este código genera el reporte\n",
    "prof_special = df.profile_report(\n",
    "    title=\"Módulo de fosas comunes\",  #Título\n",
    "    dataset={ #metadatos\n",
    "        \"description\": \"Primeros mil registros del Modulo de Fosas Comunes\",\n",
    "        \"author\": \"Comisión Nacional de Búsqueda\",\n",
    "        \"url\": \"https://comisionacionaldebusqueda.gob.mx/modulo-de-fosas-comunes/\",\n",
    "    },\n",
    "    variables={  \"descriptions\": dic_datos }, #descripcion de las variables\n",
    "    correlations=None, #Quitar correlaciones\n",
    "    sensitive=True, #Ocultar información desagregada\n",
    ")\n",
    "\n",
    "file_special = \"profiles/MFC_profile_special.html\"\n",
    "prof_special.to_file(output_file=file_special)"
   ]
  },
  {
   "cell_type": "markdown",
   "metadata": {},
   "source": [
    "### Ejercicio 4\n",
    "Realiza el primer profile de tu conjunto de datos. No es necesario hacerle ninguna modificación especial.\n",
    "\n",
    "Gracias por su atención!"
   ]
  }
 ],
 "metadata": {
  "kernelspec": {
   "display_name": "Python 3 (ipykernel)",
   "language": "python",
   "name": "python3"
  },
  "language_info": {
   "codemirror_mode": {
    "name": "ipython",
    "version": 3
   },
   "file_extension": ".py",
   "mimetype": "text/x-python",
   "name": "python",
   "nbconvert_exporter": "python",
   "pygments_lexer": "ipython3",
   "version": "3.9.16"
  }
 },
 "nbformat": 4,
 "nbformat_minor": 4
}
